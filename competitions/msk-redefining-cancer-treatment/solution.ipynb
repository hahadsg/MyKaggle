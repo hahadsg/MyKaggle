{
 "cells": [
  {
   "cell_type": "code",
   "execution_count": 1,
   "metadata": {
    "collapsed": true
   },
   "outputs": [],
   "source": [
    "# coding: utf-8\n",
    "import os\n",
    "\n",
    "import pandas as pd\n",
    "import numpy as np\n",
    "import scipy\n",
    "import matplotlib.pyplot as plt\n",
    "import seaborn as sns\n",
    "import lightgbm as lgb\n",
    "from sklearn import metrics\n",
    "from sklearn import model_selection\n",
    "from sklearn.model_selection import train_test_split\n",
    "from sklearn.model_selection import GridSearchCV\n",
    "from sklearn import preprocessing\n",
    "from sklearn.decomposition import PCA, TruncatedSVD\n",
    "from sklearn.feature_extraction.text import TfidfVectorizer\n",
    "\n",
    "from mydatools.features_analyze import get_top_k_corr\n",
    "\n",
    "% matplotlib inline"
   ]
  },
  {
   "cell_type": "code",
   "execution_count": 2,
   "metadata": {
    "collapsed": true
   },
   "outputs": [],
   "source": [
    "# pc memory is small, can't compute svd\n",
    "is_in_pc = False"
   ]
  },
  {
   "cell_type": "code",
   "execution_count": 3,
   "metadata": {
    "scrolled": true
   },
   "outputs": [
    {
     "data": {
      "text/html": [
       "<div>\n",
       "<style>\n",
       "    .dataframe thead tr:only-child th {\n",
       "        text-align: right;\n",
       "    }\n",
       "\n",
       "    .dataframe thead th {\n",
       "        text-align: left;\n",
       "    }\n",
       "\n",
       "    .dataframe tbody tr th {\n",
       "        vertical-align: top;\n",
       "    }\n",
       "</style>\n",
       "<table border=\"1\" class=\"dataframe\">\n",
       "  <thead>\n",
       "    <tr style=\"text-align: right;\">\n",
       "      <th></th>\n",
       "      <th>Class</th>\n",
       "      <th>Gene</th>\n",
       "      <th>ID</th>\n",
       "      <th>Text</th>\n",
       "      <th>Variation</th>\n",
       "      <th>train_or_test</th>\n",
       "    </tr>\n",
       "  </thead>\n",
       "  <tbody>\n",
       "    <tr>\n",
       "      <th>0</th>\n",
       "      <td>1.0</td>\n",
       "      <td>FAM58A</td>\n",
       "      <td>0</td>\n",
       "      <td>Cyclin-dependent kinases (CDKs) regulate a var...</td>\n",
       "      <td>Truncating Mutations</td>\n",
       "      <td>train</td>\n",
       "    </tr>\n",
       "    <tr>\n",
       "      <th>1</th>\n",
       "      <td>2.0</td>\n",
       "      <td>CBL</td>\n",
       "      <td>1</td>\n",
       "      <td>Abstract Background  Non-small cell lung canc...</td>\n",
       "      <td>W802*</td>\n",
       "      <td>train</td>\n",
       "    </tr>\n",
       "    <tr>\n",
       "      <th>2</th>\n",
       "      <td>2.0</td>\n",
       "      <td>CBL</td>\n",
       "      <td>2</td>\n",
       "      <td>Abstract Background  Non-small cell lung canc...</td>\n",
       "      <td>Q249E</td>\n",
       "      <td>train</td>\n",
       "    </tr>\n",
       "    <tr>\n",
       "      <th>3</th>\n",
       "      <td>3.0</td>\n",
       "      <td>CBL</td>\n",
       "      <td>3</td>\n",
       "      <td>Recent evidence has demonstrated that acquired...</td>\n",
       "      <td>N454D</td>\n",
       "      <td>train</td>\n",
       "    </tr>\n",
       "    <tr>\n",
       "      <th>4</th>\n",
       "      <td>4.0</td>\n",
       "      <td>CBL</td>\n",
       "      <td>4</td>\n",
       "      <td>Oncogenic mutations in the monomeric Casitas B...</td>\n",
       "      <td>L399V</td>\n",
       "      <td>train</td>\n",
       "    </tr>\n",
       "  </tbody>\n",
       "</table>\n",
       "</div>"
      ],
      "text/plain": [
       "   Class    Gene  ID                                               Text  \\\n",
       "0    1.0  FAM58A   0  Cyclin-dependent kinases (CDKs) regulate a var...   \n",
       "1    2.0     CBL   1   Abstract Background  Non-small cell lung canc...   \n",
       "2    2.0     CBL   2   Abstract Background  Non-small cell lung canc...   \n",
       "3    3.0     CBL   3  Recent evidence has demonstrated that acquired...   \n",
       "4    4.0     CBL   4  Oncogenic mutations in the monomeric Casitas B...   \n",
       "\n",
       "              Variation train_or_test  \n",
       "0  Truncating Mutations         train  \n",
       "1                 W802*         train  \n",
       "2                 Q249E         train  \n",
       "3                 N454D         train  \n",
       "4                 L399V         train  "
      ]
     },
     "execution_count": 3,
     "metadata": {},
     "output_type": "execute_result"
    }
   ],
   "source": [
    "train_text_df = pd.read_csv('./data/input/training_text', sep=\"\\|\\|\", engine='python', header=None, skiprows=1, names=[\"ID\",\"Text\"])\n",
    "train_variants_df = pd.read_csv('./data/input/training_variants')\n",
    "train_df = train_variants_df.merge(train_text_df, how='left', on='ID')\n",
    "train_df['train_or_test'] = 'train'\n",
    "\n",
    "test_text_df = pd.read_csv('./data/input/test_text', sep=\"\\|\\|\", engine='python', header=None, skiprows=1, names=[\"ID\",\"Text\"])\n",
    "test_variants_df = pd.read_csv('./data/input/test_variants')\n",
    "test_df = test_variants_df.merge(test_text_df, how='left', on='ID')\n",
    "test_df['train_or_test'] = 'test'\n",
    "\n",
    "full_df = pd.concat([train_df, test_df])\n",
    "\n",
    "del(train_text_df)\n",
    "del(train_variants_df)\n",
    "del(train_df)\n",
    "del(test_text_df)\n",
    "del(test_variants_df)\n",
    "del(test_df)\n",
    "\n",
    "full_df.head()"
   ]
  },
  {
   "cell_type": "code",
   "execution_count": 4,
   "metadata": {
    "collapsed": true
   },
   "outputs": [],
   "source": [
    "is_train = full_df['train_or_test'] == 'train'\n",
    "is_test = full_df['train_or_test'] == 'test'"
   ]
  },
  {
   "cell_type": "code",
   "execution_count": 5,
   "metadata": {
    "collapsed": true
   },
   "outputs": [],
   "source": [
    "# replace null\n",
    "full_df.loc[full_df['Text'] == 'null', 'Text'] = ''"
   ]
  },
  {
   "cell_type": "markdown",
   "metadata": {},
   "source": [
    "## feature"
   ]
  },
  {
   "cell_type": "code",
   "execution_count": 6,
   "metadata": {
    "collapsed": true
   },
   "outputs": [],
   "source": [
    "feature_columns = []\n",
    "\n",
    "def add_features(features):\n",
    "    if type(features) != list:\n",
    "        features = [features]\n",
    "    global feature_columns\n",
    "    feature_columns.extend([f for f in features if f not in feature_columns])"
   ]
  },
  {
   "cell_type": "markdown",
   "metadata": {},
   "source": [
    "* Text length"
   ]
  },
  {
   "cell_type": "code",
   "execution_count": 7,
   "metadata": {
    "collapsed": true
   },
   "outputs": [],
   "source": [
    "full_df['text_nb_chars'] = full_df['Text'].str.len()\n",
    "full_df['text_nb_words'] = full_df['Text'].apply(lambda x: len(x.split()))\n",
    "add_features(['text_nb_chars', 'text_nb_words'])"
   ]
  },
  {
   "cell_type": "code",
   "execution_count": 8,
   "metadata": {},
   "outputs": [
    {
     "data": {
      "text/plain": [
       "<matplotlib.text.Text at 0x7f191a531dd0>"
      ]
     },
     "execution_count": 8,
     "metadata": {},
     "output_type": "execute_result"
    },
    {
     "data": {
      "image/png": "[encoded data removed]",
      "text/plain": [
       "<matplotlib.figure.Figure at 0x7f191db7cd10>"
      ]
     },
     "metadata": {},
     "output_type": "display_data"
    }
   ],
   "source": [
    "fig, ax = plt.subplots(1,2,figsize=(12,5))\n",
    "\n",
    "plt.subplot(121)\n",
    "full_df['text_nb_chars'].hist()\n",
    "plt.title('text_nb_chars')\n",
    "\n",
    "plt.subplot(122)\n",
    "full_df['text_nb_words'].hist()\n",
    "plt.title('text_nb_words')"
   ]
  },
  {
   "cell_type": "markdown",
   "metadata": {},
   "source": [
    "* text tfidf"
   ]
  },
  {
   "cell_type": "code",
   "execution_count": 9,
   "metadata": {
    "collapsed": true
   },
   "outputs": [],
   "source": [
    "def save_sparse_csr(filename,array):\n",
    "    np.savez(filename,data = array.data ,indices=array.indices,\n",
    "             indptr =array.indptr, shape=array.shape )\n",
    "\n",
    "def load_sparse_csr(filename):\n",
    "    loader = np.load(filename)\n",
    "    return scipy.sparse.csr_matrix((  loader['data'], loader['indices'], loader['indptr']),\n",
    "                         shape = loader['shape'])"
   ]
  },
  {
   "cell_type": "code",
   "execution_count": 10,
   "metadata": {},
   "outputs": [
    {
     "name": "stdout",
     "output_type": "stream",
     "text": [
      "CPU times: user 208 ms, sys: 68 ms, total: 276 ms\n",
      "Wall time: 275 ms\n"
     ]
    }
   ],
   "source": [
    "%%time\n",
    "file_path = './data/input/tmp_text_tfidf_res.npz'\n",
    "if os.path.isfile(file_path):\n",
    "    text_tfidf_res = load_sparse_csr(file_path)\n",
    "else:\n",
    "    tfidf_solver = TfidfVectorizer(stop_words='english', ngram_range=(1,1))\n",
    "    tfidf_solver.fit(full_df[is_train]['Text'])\n",
    "    text_tfidf_res = tfidf_solver.transform(full_df['Text'])\n",
    "    save_sparse_csr(file_path, text_tfidf_res)"
   ]
  },
  {
   "cell_type": "code",
   "execution_count": 11,
   "metadata": {},
   "outputs": [
    {
     "name": "stdout",
     "output_type": "stream",
     "text": [
      "1\n",
      "CPU times: user 31 s, sys: 920 ms, total: 31.9 s\n",
      "Wall time: 28.5 s\n"
     ]
    }
   ],
   "source": [
    "%%time\n",
    "\n",
    "# dimensionality reduction\n",
    "nb_dr_dim = 100\n",
    "if not is_in_pc:\n",
    "    dr_res = TruncatedSVD(nb_dr_dim).fit_transform(text_tfidf_res)\n",
    "else:\n",
    "    dr_res = TruncatedSVD(nb_dr_dim).fit_transform(text_tfidf_res[:, :(2*nb_dr_dim)])"
   ]
  },
  {
   "cell_type": "code",
   "execution_count": 12,
   "metadata": {
    "collapsed": true
   },
   "outputs": [],
   "source": [
    "feats = ['text_word_%03d'%i for i in range(nb_dr_dim)]\n",
    "for f in feats: full_df[f] = 0\n",
    "full_df[feats] = dr_res\n",
    "add_features(feats)"
   ]
  },
  {
   "cell_type": "markdown",
   "metadata": {},
   "source": [
    "* gene/variation labelencode"
   ]
  },
  {
   "cell_type": "code",
   "execution_count": 13,
   "metadata": {},
   "outputs": [
    {
     "name": "stdout",
     "output_type": "stream",
     "text": [
      "CPU times: user 14.7 s, sys: 2.31 s, total: 17 s\n",
      "Wall time: 9.35 s\n"
     ]
    }
   ],
   "source": [
    "%%time\n",
    "\n",
    "nb_dr_dim = 100\n",
    "for feat in ['Gene', 'Variation']:\n",
    "    # label dummy\n",
    "    encode_res = pd.get_dummies(full_df[feat]).values\n",
    "    \n",
    "    # dimensionality reduction\n",
    "    if not is_in_pc:\n",
    "        dr_res = TruncatedSVD(nb_dr_dim).fit_transform(encode_res)\n",
    "    else:\n",
    "        dr_res = TruncatedSVD(nb_dr_dim).fit_transform(encode_res[:, :(2*nb_dr_dim)])\n",
    "        \n",
    "    # add features\n",
    "    feats = [feat+'_encode_%03d'%i for i in range(nb_dr_dim)]\n",
    "    for f in feats: full_df[f] = 0\n",
    "    full_df[feats] = dr_res\n",
    "    add_features(feats)"
   ]
  },
  {
   "cell_type": "markdown",
   "metadata": {},
   "source": [
    "## LightGBM"
   ]
  },
  {
   "cell_type": "code",
   "execution_count": 14,
   "metadata": {
    "collapsed": true
   },
   "outputs": [],
   "source": [
    "trn_df = full_df[is_train]\n",
    "tst_df = full_df[is_test]\n",
    "\n",
    "X = trn_df[feature_columns]\n",
    "y = trn_df['Class'] - 1 # 1~9 to 0~8\n",
    "X_trn, X_val, y_trn, y_val = train_test_split(X, y, test_size=0.2, random_state=0)\n",
    "\n",
    "X_tst = tst_df[feature_columns]\n",
    "\n",
    "trn_lgb = lgb.Dataset(X_trn, y_trn, free_raw_data=False)\n",
    "val_lgb = lgb.Dataset(X_val, y_val, free_raw_data=False, reference=trn_lgb)"
   ]
  },
  {
   "cell_type": "code",
   "execution_count": 15,
   "metadata": {
    "scrolled": true
   },
   "outputs": [
    {
     "name": "stdout",
     "output_type": "stream",
     "text": [
      "[1]\ttraining's multi_logloss: 2.07689\tvalid_1's multi_logloss: 2.10938\n",
      "Training until validation scores don't improve for 20 rounds.\n",
      "[2]\ttraining's multi_logloss: 1.9728\tvalid_1's multi_logloss: 2.03133\n",
      "[3]\ttraining's multi_logloss: 1.88149\tvalid_1's multi_logloss: 1.96441\n",
      "[4]\ttraining's multi_logloss: 1.79932\tvalid_1's multi_logloss: 1.9036\n",
      "[5]\ttraining's multi_logloss: 1.72425\tvalid_1's multi_logloss: 1.85013\n",
      "[6]\ttraining's multi_logloss: 1.65528\tvalid_1's multi_logloss: 1.80112\n",
      "[7]\ttraining's multi_logloss: 1.59193\tvalid_1's multi_logloss: 1.75599\n",
      "[8]\ttraining's multi_logloss: 1.53321\tvalid_1's multi_logloss: 1.71555\n",
      "[9]\ttraining's multi_logloss: 1.47768\tvalid_1's multi_logloss: 1.67787\n",
      "[10]\ttraining's multi_logloss: 1.42636\tvalid_1's multi_logloss: 1.64339\n",
      "[11]\ttraining's multi_logloss: 1.37817\tvalid_1's multi_logloss: 1.61115\n",
      "[12]\ttraining's multi_logloss: 1.33273\tvalid_1's multi_logloss: 1.58175\n",
      "[13]\ttraining's multi_logloss: 1.28934\tvalid_1's multi_logloss: 1.55311\n",
      "[14]\ttraining's multi_logloss: 1.24905\tvalid_1's multi_logloss: 1.52748\n",
      "[15]\ttraining's multi_logloss: 1.2098\tvalid_1's multi_logloss: 1.50269\n",
      "[16]\ttraining's multi_logloss: 1.17322\tvalid_1's multi_logloss: 1.47932\n",
      "[17]\ttraining's multi_logloss: 1.13835\tvalid_1's multi_logloss: 1.45964\n",
      "[18]\ttraining's multi_logloss: 1.105\tvalid_1's multi_logloss: 1.43804\n",
      "[19]\ttraining's multi_logloss: 1.07275\tvalid_1's multi_logloss: 1.41873\n",
      "[20]\ttraining's multi_logloss: 1.04161\tvalid_1's multi_logloss: 1.39987\n",
      "[21]\ttraining's multi_logloss: 1.01188\tvalid_1's multi_logloss: 1.38222\n",
      "[22]\ttraining's multi_logloss: 0.98358\tvalid_1's multi_logloss: 1.36401\n",
      "[23]\ttraining's multi_logloss: 0.956287\tvalid_1's multi_logloss: 1.34748\n",
      "[24]\ttraining's multi_logloss: 0.929871\tvalid_1's multi_logloss: 1.33159\n",
      "[25]\ttraining's multi_logloss: 0.904615\tvalid_1's multi_logloss: 1.31627\n",
      "[26]\ttraining's multi_logloss: 0.880404\tvalid_1's multi_logloss: 1.30158\n",
      "[27]\ttraining's multi_logloss: 0.856702\tvalid_1's multi_logloss: 1.28836\n",
      "[28]\ttraining's multi_logloss: 0.834142\tvalid_1's multi_logloss: 1.27454\n",
      "[29]\ttraining's multi_logloss: 0.812306\tvalid_1's multi_logloss: 1.26186\n",
      "[30]\ttraining's multi_logloss: 0.791408\tvalid_1's multi_logloss: 1.24988\n",
      "[31]\ttraining's multi_logloss: 0.770659\tvalid_1's multi_logloss: 1.23789\n",
      "[32]\ttraining's multi_logloss: 0.75114\tvalid_1's multi_logloss: 1.22769\n",
      "[33]\ttraining's multi_logloss: 0.73226\tvalid_1's multi_logloss: 1.21664\n",
      "[34]\ttraining's multi_logloss: 0.713693\tvalid_1's multi_logloss: 1.20643\n",
      "[35]\ttraining's multi_logloss: 0.696003\tvalid_1's multi_logloss: 1.19722\n",
      "[36]\ttraining's multi_logloss: 0.6789\tvalid_1's multi_logloss: 1.18848\n",
      "[37]\ttraining's multi_logloss: 0.662138\tvalid_1's multi_logloss: 1.1804\n",
      "[38]\ttraining's multi_logloss: 0.645846\tvalid_1's multi_logloss: 1.17345\n",
      "[39]\ttraining's multi_logloss: 0.63008\tvalid_1's multi_logloss: 1.16531\n",
      "[40]\ttraining's multi_logloss: 0.614771\tvalid_1's multi_logloss: 1.15817\n",
      "[41]\ttraining's multi_logloss: 0.600093\tvalid_1's multi_logloss: 1.15024\n",
      "[42]\ttraining's multi_logloss: 0.585707\tvalid_1's multi_logloss: 1.1433\n",
      "[43]\ttraining's multi_logloss: 0.571538\tvalid_1's multi_logloss: 1.13635\n",
      "[44]\ttraining's multi_logloss: 0.558048\tvalid_1's multi_logloss: 1.12996\n",
      "[45]\ttraining's multi_logloss: 0.544944\tvalid_1's multi_logloss: 1.12428\n",
      "[46]\ttraining's multi_logloss: 0.532246\tvalid_1's multi_logloss: 1.11791\n",
      "[47]\ttraining's multi_logloss: 0.519785\tvalid_1's multi_logloss: 1.1119\n",
      "[48]\ttraining's multi_logloss: 0.507824\tvalid_1's multi_logloss: 1.10693\n",
      "[49]\ttraining's multi_logloss: 0.495873\tvalid_1's multi_logloss: 1.10157\n",
      "[50]\ttraining's multi_logloss: 0.484374\tvalid_1's multi_logloss: 1.09613\n",
      "[51]\ttraining's multi_logloss: 0.473293\tvalid_1's multi_logloss: 1.09086\n",
      "[52]\ttraining's multi_logloss: 0.46239\tvalid_1's multi_logloss: 1.08568\n",
      "[53]\ttraining's multi_logloss: 0.451633\tvalid_1's multi_logloss: 1.08201\n",
      "[54]\ttraining's multi_logloss: 0.441215\tvalid_1's multi_logloss: 1.07819\n",
      "[55]\ttraining's multi_logloss: 0.431041\tvalid_1's multi_logloss: 1.07424\n",
      "[56]\ttraining's multi_logloss: 0.421245\tvalid_1's multi_logloss: 1.07082\n",
      "[57]\ttraining's multi_logloss: 0.411852\tvalid_1's multi_logloss: 1.06679\n",
      "[58]\ttraining's multi_logloss: 0.402465\tvalid_1's multi_logloss: 1.06376\n",
      "[59]\ttraining's multi_logloss: 0.393465\tvalid_1's multi_logloss: 1.05935\n",
      "[60]\ttraining's multi_logloss: 0.384496\tvalid_1's multi_logloss: 1.05613\n",
      "[61]\ttraining's multi_logloss: 0.375794\tvalid_1's multi_logloss: 1.05266\n",
      "[62]\ttraining's multi_logloss: 0.367392\tvalid_1's multi_logloss: 1.04977\n",
      "[63]\ttraining's multi_logloss: 0.359183\tvalid_1's multi_logloss: 1.04676\n",
      "[64]\ttraining's multi_logloss: 0.351302\tvalid_1's multi_logloss: 1.04432\n",
      "[65]\ttraining's multi_logloss: 0.343496\tvalid_1's multi_logloss: 1.04139\n",
      "[66]\ttraining's multi_logloss: 0.335763\tvalid_1's multi_logloss: 1.03955\n",
      "[67]\ttraining's multi_logloss: 0.328337\tvalid_1's multi_logloss: 1.03779\n",
      "[68]\ttraining's multi_logloss: 0.320877\tvalid_1's multi_logloss: 1.0353\n",
      "[69]\ttraining's multi_logloss: 0.313653\tvalid_1's multi_logloss: 1.03476\n",
      "[70]\ttraining's multi_logloss: 0.306639\tvalid_1's multi_logloss: 1.03217\n",
      "[71]\ttraining's multi_logloss: 0.299728\tvalid_1's multi_logloss: 1.03\n",
      "[72]\ttraining's multi_logloss: 0.293095\tvalid_1's multi_logloss: 1.02781\n",
      "[73]\ttraining's multi_logloss: 0.286649\tvalid_1's multi_logloss: 1.02676\n",
      "[74]\ttraining's multi_logloss: 0.280303\tvalid_1's multi_logloss: 1.02493\n",
      "[75]\ttraining's multi_logloss: 0.274089\tvalid_1's multi_logloss: 1.02377\n",
      "[76]\ttraining's multi_logloss: 0.268128\tvalid_1's multi_logloss: 1.02321\n",
      "[77]\ttraining's multi_logloss: 0.262137\tvalid_1's multi_logloss: 1.02125\n",
      "[78]\ttraining's multi_logloss: 0.256311\tvalid_1's multi_logloss: 1.01898\n",
      "[79]\ttraining's multi_logloss: 0.250601\tvalid_1's multi_logloss: 1.01795\n",
      "[80]\ttraining's multi_logloss: 0.245065\tvalid_1's multi_logloss: 1.0164\n",
      "[81]\ttraining's multi_logloss: 0.239622\tvalid_1's multi_logloss: 1.01561\n",
      "[82]\ttraining's multi_logloss: 0.234345\tvalid_1's multi_logloss: 1.01477\n",
      "[83]\ttraining's multi_logloss: 0.229367\tvalid_1's multi_logloss: 1.01375\n",
      "[84]\ttraining's multi_logloss: 0.224279\tvalid_1's multi_logloss: 1.01343\n",
      "[85]\ttraining's multi_logloss: 0.219368\tvalid_1's multi_logloss: 1.01314\n",
      "[86]\ttraining's multi_logloss: 0.21469\tvalid_1's multi_logloss: 1.01295\n",
      "[87]\ttraining's multi_logloss: 0.209991\tvalid_1's multi_logloss: 1.01245\n",
      "[88]\ttraining's multi_logloss: 0.205486\tvalid_1's multi_logloss: 1.01236\n",
      "[89]\ttraining's multi_logloss: 0.201051\tvalid_1's multi_logloss: 1.01219\n",
      "[90]\ttraining's multi_logloss: 0.196776\tvalid_1's multi_logloss: 1.0115\n",
      "[91]\ttraining's multi_logloss: 0.192438\tvalid_1's multi_logloss: 1.01119\n",
      "[92]\ttraining's multi_logloss: 0.188303\tvalid_1's multi_logloss: 1.01161\n",
      "[93]\ttraining's multi_logloss: 0.184358\tvalid_1's multi_logloss: 1.01088\n",
      "[94]\ttraining's multi_logloss: 0.180377\tvalid_1's multi_logloss: 1.01128\n",
      "[95]\ttraining's multi_logloss: 0.176537\tvalid_1's multi_logloss: 1.01107\n",
      "[96]\ttraining's multi_logloss: 0.17277\tvalid_1's multi_logloss: 1.01122\n",
      "[97]\ttraining's multi_logloss: 0.169117\tvalid_1's multi_logloss: 1.01265\n",
      "[98]\ttraining's multi_logloss: 0.165679\tvalid_1's multi_logloss: 1.01216\n",
      "[99]\ttraining's multi_logloss: 0.162125\tvalid_1's multi_logloss: 1.01205\n",
      "[100]\ttraining's multi_logloss: 0.158766\tvalid_1's multi_logloss: 1.01205\n",
      "[101]\ttraining's multi_logloss: 0.155457\tvalid_1's multi_logloss: 1.01295\n",
      "[102]\ttraining's multi_logloss: 0.152178\tvalid_1's multi_logloss: 1.01333\n",
      "[103]\ttraining's multi_logloss: 0.149024\tvalid_1's multi_logloss: 1.01303\n",
      "[104]\ttraining's multi_logloss: 0.145985\tvalid_1's multi_logloss: 1.01383\n",
      "[105]\ttraining's multi_logloss: 0.142932\tvalid_1's multi_logloss: 1.01354\n",
      "[106]\ttraining's multi_logloss: 0.139989\tvalid_1's multi_logloss: 1.01327\n",
      "[107]\ttraining's multi_logloss: 0.137079\tvalid_1's multi_logloss: 1.01342\n",
      "[108]\ttraining's multi_logloss: 0.134243\tvalid_1's multi_logloss: 1.01398\n",
      "[109]\ttraining's multi_logloss: 0.131433\tvalid_1's multi_logloss: 1.01406\n",
      "[110]\ttraining's multi_logloss: 0.128673\tvalid_1's multi_logloss: 1.01418\n",
      "[111]\ttraining's multi_logloss: 0.126041\tvalid_1's multi_logloss: 1.01414\n",
      "[112]\ttraining's multi_logloss: 0.123411\tvalid_1's multi_logloss: 1.01478\n"
     ]
    },
    {
     "name": "stdout",
     "output_type": "stream",
     "text": [
      "[113]\ttraining's multi_logloss: 0.120859\tvalid_1's multi_logloss: 1.0154\n",
      "Early stopping, best iteration is:\n",
      "[93]\ttraining's multi_logloss: 0.184358\tvalid_1's multi_logloss: 1.01088\n"
     ]
    }
   ],
   "source": [
    "params = {\n",
    "    'application': 'multiclass',\n",
    "    'metric': 'multi_logloss',\n",
    "    'num_class': 9,\n",
    "    'learning_rate': 0.05,\n",
    "    'seed': 0,\n",
    "}\n",
    "bst = lgb.train(params, trn_lgb, 1000, valid_sets=[trn_lgb, val_lgb], early_stopping_rounds=20)"
   ]
  },
  {
   "cell_type": "code",
   "execution_count": 16,
   "metadata": {
    "collapsed": true,
    "scrolled": true
   },
   "outputs": [],
   "source": [
    "# bst = lgb.train(params, trn_lgb, 1000, valid_sets=[trn_lgb, val_lgb], early_stopping_rounds=20,\n",
    "#                 init_model=bst, \n",
    "#                 learning_rates=lambda iter: 0.1 * (0.99 ** iter))"
   ]
  },
  {
   "cell_type": "code",
   "execution_count": 17,
   "metadata": {
    "collapsed": true
   },
   "outputs": [],
   "source": [
    "# imp_df = pd.DataFrame([bst.feature_importance()], columns=feature_columns, index=['importance']).T.sort_values(by='importance', ascending=False)\n",
    "# imp_df"
   ]
  },
  {
   "cell_type": "markdown",
   "metadata": {},
   "source": [
    "## predict"
   ]
  },
  {
   "cell_type": "code",
   "execution_count": 20,
   "metadata": {
    "collapsed": true
   },
   "outputs": [],
   "source": [
    "res_df = pd.DataFrame(bst.predict(X_tst), columns=['class%d'%(i+1) for i in range(9)])\n",
    "res_df['ID'] = tst_df['ID']\n",
    "res_df.to_csv('./data/output/submission.csv', index=False)"
   ]
  },
  {
   "cell_type": "code",
   "execution_count": null,
   "metadata": {
    "collapsed": true
   },
   "outputs": [],
   "source": []
  }
 ],
 "metadata": {
  "kernelspec": {
   "display_name": "Python 3",
   "language": "python",
   "name": "python3"
  },
  "language_info": {
   "codemirror_mode": {
    "name": "ipython",
    "version": 3
   },
   "file_extension": ".py",
   "mimetype": "text/x-python",
   "name": "python",
   "nbconvert_exporter": "python",
   "pygments_lexer": "ipython3",
   "version": "3.5.1"
  }
 },
 "nbformat": 4,
 "nbformat_minor": 2
}
