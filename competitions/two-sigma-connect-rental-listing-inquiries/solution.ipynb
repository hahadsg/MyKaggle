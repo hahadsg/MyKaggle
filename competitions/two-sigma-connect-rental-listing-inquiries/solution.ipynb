{
 "cells": [
  {
   "cell_type": "code",
   "execution_count": 1,
   "metadata": {
    "collapsed": true
   },
   "outputs": [],
   "source": [
    "# -*- coding:utf8 -*-\n",
    "import re\n",
    "from collections import Counter\n",
    "\n",
    "import pandas as pd\n",
    "import numpy as np\n",
    "import matplotlib.pyplot as plt\n",
    "import seaborn as sns\n",
    "from nltk.stem.porter import PorterStemmer\n",
    "from bs4 import BeautifulSoup\n",
    "\n",
    "from sklearn.ensemble import RandomForestClassifier\n",
    "from sklearn.linear_model import LogisticRegression\n",
    "from sklearn.svm import SVC\n",
    "from sklearn import metrics\n",
    "from sklearn import model_selection\n",
    "from sklearn.model_selection import train_test_split\n",
    "from sklearn.model_selection import GridSearchCV\n",
    "from sklearn.model_selection import StratifiedKFold\n",
    "from sklearn import preprocessing\n",
    "from sklearn.preprocessing import OneHotEncoder\n",
    "from sklearn.feature_extraction.text import CountVectorizer, TfidfVectorizer\n",
    "from sklearn.decomposition import TruncatedSVD\n",
    "\n",
    "from mydatools.plot import plot_grid_search_result\n",
    "\n",
    "% matplotlib inline"
   ]
  },
  {
   "cell_type": "code",
   "execution_count": 2,
   "metadata": {
    "collapsed": false
   },
   "outputs": [
    {
     "data": {
      "text/html": [
       "<div>\n",
       "<table border=\"1\" class=\"dataframe\">\n",
       "  <thead>\n",
       "    <tr style=\"text-align: right;\">\n",
       "      <th></th>\n",
       "      <th></th>\n",
       "      <th>bathrooms</th>\n",
       "      <th>bedrooms</th>\n",
       "      <th>building_id</th>\n",
       "      <th>created</th>\n",
       "      <th>description</th>\n",
       "      <th>display_address</th>\n",
       "      <th>features</th>\n",
       "      <th>interest_level</th>\n",
       "      <th>latitude</th>\n",
       "      <th>listing_id</th>\n",
       "      <th>longitude</th>\n",
       "      <th>manager_id</th>\n",
       "      <th>photos</th>\n",
       "      <th>price</th>\n",
       "      <th>street_address</th>\n",
       "    </tr>\n",
       "  </thead>\n",
       "  <tbody>\n",
       "    <tr>\n",
       "      <th rowspan=\"5\" valign=\"top\">train</th>\n",
       "      <th>10</th>\n",
       "      <td>1.5</td>\n",
       "      <td>3</td>\n",
       "      <td>53a5b119ba8f7b61d4e010512e0dfc85</td>\n",
       "      <td>2016-06-24 07:54:24</td>\n",
       "      <td>A Brand New 3 Bedroom 1.5 bath ApartmentEnjoy ...</td>\n",
       "      <td>Metropolitan Avenue</td>\n",
       "      <td>[]</td>\n",
       "      <td>medium</td>\n",
       "      <td>40.7145</td>\n",
       "      <td>7211212</td>\n",
       "      <td>-73.9425</td>\n",
       "      <td>5ba989232d0489da1b5f2c45f6688adc</td>\n",
       "      <td>[https://photos.renthop.com/2/7211212_1ed4542e...</td>\n",
       "      <td>3000</td>\n",
       "      <td>792 Metropolitan Avenue</td>\n",
       "    </tr>\n",
       "    <tr>\n",
       "      <th>10000</th>\n",
       "      <td>1.0</td>\n",
       "      <td>2</td>\n",
       "      <td>c5c8a357cba207596b04d1afd1e4f130</td>\n",
       "      <td>2016-06-12 12:19:27</td>\n",
       "      <td></td>\n",
       "      <td>Columbus Avenue</td>\n",
       "      <td>[Doorman, Elevator, Fitness Center, Cats Allow...</td>\n",
       "      <td>low</td>\n",
       "      <td>40.7947</td>\n",
       "      <td>7150865</td>\n",
       "      <td>-73.9667</td>\n",
       "      <td>7533621a882f71e25173b27e3139d83d</td>\n",
       "      <td>[https://photos.renthop.com/2/7150865_be3306c5...</td>\n",
       "      <td>5465</td>\n",
       "      <td>808 Columbus Avenue</td>\n",
       "    </tr>\n",
       "    <tr>\n",
       "      <th>100004</th>\n",
       "      <td>1.0</td>\n",
       "      <td>1</td>\n",
       "      <td>c3ba40552e2120b0acfc3cb5730bb2aa</td>\n",
       "      <td>2016-04-17 03:26:41</td>\n",
       "      <td>Top Top West Village location, beautiful Pre-w...</td>\n",
       "      <td>W 13 Street</td>\n",
       "      <td>[Laundry In Building, Dishwasher, Hardwood Flo...</td>\n",
       "      <td>high</td>\n",
       "      <td>40.7388</td>\n",
       "      <td>6887163</td>\n",
       "      <td>-74.0018</td>\n",
       "      <td>d9039c43983f6e564b1482b273bd7b01</td>\n",
       "      <td>[https://photos.renthop.com/2/6887163_de85c427...</td>\n",
       "      <td>2850</td>\n",
       "      <td>241 W 13 Street</td>\n",
       "    </tr>\n",
       "    <tr>\n",
       "      <th>100007</th>\n",
       "      <td>1.0</td>\n",
       "      <td>1</td>\n",
       "      <td>28d9ad350afeaab8027513a3e52ac8d5</td>\n",
       "      <td>2016-04-18 02:22:02</td>\n",
       "      <td>Building Amenities - Garage - Garden - fitness...</td>\n",
       "      <td>East 49th Street</td>\n",
       "      <td>[Hardwood Floors, No Fee]</td>\n",
       "      <td>low</td>\n",
       "      <td>40.7539</td>\n",
       "      <td>6888711</td>\n",
       "      <td>-73.9677</td>\n",
       "      <td>1067e078446a7897d2da493d2f741316</td>\n",
       "      <td>[https://photos.renthop.com/2/6888711_6e660cee...</td>\n",
       "      <td>3275</td>\n",
       "      <td>333 East 49th Street</td>\n",
       "    </tr>\n",
       "    <tr>\n",
       "      <th>100013</th>\n",
       "      <td>1.0</td>\n",
       "      <td>4</td>\n",
       "      <td>0</td>\n",
       "      <td>2016-04-28 01:32:41</td>\n",
       "      <td>Beautifully renovated 3 bedroom flex 4 bedroom...</td>\n",
       "      <td>West 143rd Street</td>\n",
       "      <td>[Pre-War]</td>\n",
       "      <td>low</td>\n",
       "      <td>40.8241</td>\n",
       "      <td>6934781</td>\n",
       "      <td>-73.9493</td>\n",
       "      <td>98e13ad4b495b9613cef886d79a6291f</td>\n",
       "      <td>[https://photos.renthop.com/2/6934781_1fa4b41a...</td>\n",
       "      <td>3350</td>\n",
       "      <td>500 West 143rd Street</td>\n",
       "    </tr>\n",
       "  </tbody>\n",
       "</table>\n",
       "</div>"
      ],
      "text/plain": [
       "              bathrooms  bedrooms                       building_id  \\\n",
       "train 10            1.5         3  53a5b119ba8f7b61d4e010512e0dfc85   \n",
       "      10000         1.0         2  c5c8a357cba207596b04d1afd1e4f130   \n",
       "      100004        1.0         1  c3ba40552e2120b0acfc3cb5730bb2aa   \n",
       "      100007        1.0         1  28d9ad350afeaab8027513a3e52ac8d5   \n",
       "      100013        1.0         4                                 0   \n",
       "\n",
       "                          created  \\\n",
       "train 10      2016-06-24 07:54:24   \n",
       "      10000   2016-06-12 12:19:27   \n",
       "      100004  2016-04-17 03:26:41   \n",
       "      100007  2016-04-18 02:22:02   \n",
       "      100013  2016-04-28 01:32:41   \n",
       "\n",
       "                                                    description  \\\n",
       "train 10      A Brand New 3 Bedroom 1.5 bath ApartmentEnjoy ...   \n",
       "      10000                                                       \n",
       "      100004  Top Top West Village location, beautiful Pre-w...   \n",
       "      100007  Building Amenities - Garage - Garden - fitness...   \n",
       "      100013  Beautifully renovated 3 bedroom flex 4 bedroom...   \n",
       "\n",
       "                  display_address  \\\n",
       "train 10      Metropolitan Avenue   \n",
       "      10000       Columbus Avenue   \n",
       "      100004          W 13 Street   \n",
       "      100007     East 49th Street   \n",
       "      100013    West 143rd Street   \n",
       "\n",
       "                                                       features  \\\n",
       "train 10                                                     []   \n",
       "      10000   [Doorman, Elevator, Fitness Center, Cats Allow...   \n",
       "      100004  [Laundry In Building, Dishwasher, Hardwood Flo...   \n",
       "      100007                          [Hardwood Floors, No Fee]   \n",
       "      100013                                          [Pre-War]   \n",
       "\n",
       "             interest_level  latitude  listing_id  longitude  \\\n",
       "train 10             medium   40.7145     7211212   -73.9425   \n",
       "      10000             low   40.7947     7150865   -73.9667   \n",
       "      100004           high   40.7388     6887163   -74.0018   \n",
       "      100007            low   40.7539     6888711   -73.9677   \n",
       "      100013            low   40.8241     6934781   -73.9493   \n",
       "\n",
       "                                    manager_id  \\\n",
       "train 10      5ba989232d0489da1b5f2c45f6688adc   \n",
       "      10000   7533621a882f71e25173b27e3139d83d   \n",
       "      100004  d9039c43983f6e564b1482b273bd7b01   \n",
       "      100007  1067e078446a7897d2da493d2f741316   \n",
       "      100013  98e13ad4b495b9613cef886d79a6291f   \n",
       "\n",
       "                                                         photos  price  \\\n",
       "train 10      [https://photos.renthop.com/2/7211212_1ed4542e...   3000   \n",
       "      10000   [https://photos.renthop.com/2/7150865_be3306c5...   5465   \n",
       "      100004  [https://photos.renthop.com/2/6887163_de85c427...   2850   \n",
       "      100007  [https://photos.renthop.com/2/6888711_6e660cee...   3275   \n",
       "      100013  [https://photos.renthop.com/2/6934781_1fa4b41a...   3350   \n",
       "\n",
       "                       street_address  \n",
       "train 10      792 Metropolitan Avenue  \n",
       "      10000       808 Columbus Avenue  \n",
       "      100004          241 W 13 Street  \n",
       "      100007     333 East 49th Street  \n",
       "      100013    500 West 143rd Street  "
      ]
     },
     "execution_count": 2,
     "metadata": {},
     "output_type": "execute_result"
    }
   ],
   "source": [
    "train_df = pd.read_json('./data/input/train.json')\n",
    "test_df = pd.read_json('./data/input/test.json')\n",
    "\n",
    "input_df = pd.concat([train_df, test_df], keys=['train', 'test'])\n",
    "input_df.head()"
   ]
  },
  {
   "cell_type": "code",
   "execution_count": 3,
   "metadata": {
    "collapsed": false
   },
   "outputs": [
    {
     "name": "stdout",
     "output_type": "stream",
     "text": [
      "<class 'pandas.core.frame.DataFrame'>\n",
      "MultiIndex: 124011 entries, (train, 10) to (test, 99999)\n",
      "Data columns (total 15 columns):\n",
      "bathrooms          124011 non-null float64\n",
      "bedrooms           124011 non-null int64\n",
      "building_id        124011 non-null object\n",
      "created            124011 non-null object\n",
      "description        124011 non-null object\n",
      "display_address    124011 non-null object\n",
      "features           124011 non-null object\n",
      "interest_level     49352 non-null object\n",
      "latitude           124011 non-null float64\n",
      "listing_id         124011 non-null int64\n",
      "longitude          124011 non-null float64\n",
      "manager_id         124011 non-null object\n",
      "photos             124011 non-null object\n",
      "price              124011 non-null int64\n",
      "street_address     124011 non-null object\n",
      "dtypes: float64(3), int64(3), object(9)\n",
      "memory usage: 15.7+ MB\n"
     ]
    }
   ],
   "source": [
    "input_df.info()"
   ]
  },
  {
   "cell_type": "markdown",
   "metadata": {},
   "source": [
    "## 特征工程"
   ]
  },
  {
   "cell_type": "code",
   "execution_count": 4,
   "metadata": {
    "collapsed": true
   },
   "outputs": [],
   "source": [
    "full_df = input_df.copy()"
   ]
  },
  {
   "cell_type": "code",
   "execution_count": 5,
   "metadata": {
    "collapsed": true
   },
   "outputs": [],
   "source": [
    "feature_columns = ['bathrooms', 'bedrooms', 'latitude', 'longitude', 'price']\n",
    "id_column = 'listing_id'\n",
    "label_column = 'interest_level'"
   ]
  },
  {
   "cell_type": "code",
   "execution_count": 82,
   "metadata": {
    "collapsed": false
   },
   "outputs": [],
   "source": [
    "def add_features(feats):\n",
    "    if type(feats) != list:\n",
    "        feats = [feats]\n",
    "    for feat in feats:\n",
    "        if feat not in feature_columns:\n",
    "            feature_columns.append(feat)"
   ]
  },
  {
   "cell_type": "markdown",
   "metadata": {},
   "source": [
    "* description, features and photos number"
   ]
  },
  {
   "cell_type": "code",
   "execution_count": 6,
   "metadata": {
    "collapsed": false
   },
   "outputs": [],
   "source": [
    "full_df['description_num'] = full_df['description'].apply(lambda x: len(x.split(\" \")))\n",
    "full_df['description_len'] = full_df['description'].apply(len)\n",
    "full_df['features_num'] = full_df['features'].apply(len)\n",
    "full_df['photos_num'] = full_df['photos'].apply(len)\n",
    "feature_columns += ['description_num', 'features_num', 'photos_num']"
   ]
  },
  {
   "cell_type": "markdown",
   "metadata": {},
   "source": [
    "* created time"
   ]
  },
  {
   "cell_type": "code",
   "execution_count": 7,
   "metadata": {
    "collapsed": false
   },
   "outputs": [],
   "source": [
    "full_df['created'] = pd.to_datetime(full_df['created'])"
   ]
  },
  {
   "cell_type": "code",
   "execution_count": 8,
   "metadata": {
    "collapsed": false
   },
   "outputs": [],
   "source": [
    "full_df['created_year'] = full_df['created'].dt.year\n",
    "full_df['created_month'] = full_df['created'].dt.month\n",
    "full_df['created_day'] = full_df['created'].dt.day\n",
    "full_df['created_hour'] = full_df['created'].dt.hour\n",
    "full_df['created_dayofweek'] = full_df['created'].dt.dayofweek\n",
    "full_df['created_week'] = full_df['created'].dt.week\n",
    "full_df['created_is_weekend'] = np.where(full_df['created_dayofweek'].isin([5,6]), 1, 0)\n",
    "feature_columns += ['created_year', 'created_month', 'created_day', 'created_hour', 'created_dayofweek', 'created_week', 'created_is_weekend']"
   ]
  },
  {
   "cell_type": "markdown",
   "metadata": {},
   "source": [
    "* bathroom, bedroom"
   ]
  },
  {
   "cell_type": "code",
   "execution_count": 9,
   "metadata": {
    "collapsed": true
   },
   "outputs": [],
   "source": [
    "full_df['price_per_bathroom'] = full_df['price'] / (full_df['bathrooms'] + 1)\n",
    "full_df['price_per_bedroom'] = full_df['price'] / (full_df['bedrooms'] + 1)\n",
    "full_df['bedroom_per_bathroom'] = (full_df['bedrooms'] + 1) / (full_df['bathrooms'] + 1)\n",
    "# 发现越高的interest_level都没有.5的bathroom\n",
    "full_df['has_half_bathroom'] = np.where(full_df['bathrooms'] != full_df['bathrooms'].round(0), 1, 0)\n",
    "full_df['rooms_num'] = full_df['bathrooms'] + full_df['bedrooms']\n",
    "feature_columns += ['price_per_bathroom', 'price_per_bedroom', 'bedroom_per_bathroom', 'rooms_num']"
   ]
  },
  {
   "cell_type": "code",
   "execution_count": 10,
   "metadata": {
    "collapsed": false,
    "scrolled": false
   },
   "outputs": [
    {
     "data": {
      "text/plain": [
       "<matplotlib.axes._subplots.AxesSubplot at 0x131eaceb8>"
      ]
     },
     "execution_count": 10,
     "metadata": {},
     "output_type": "execute_result"
    },
    {
     "data": {
      "image/png": "[encoded data removed]",
      "text/plain": [
       "<matplotlib.figure.Figure at 0x12b89e518>"
      ]
     },
     "metadata": {},
     "output_type": "display_data"
    }
   ],
   "source": [
    "fig, ax = plt.subplots(2,2, figsize=(16,12))\n",
    "display_df = full_df[full_df['price'] < 10000] # 去除异常数据\n",
    "sns.violinplot(x='interest_level', y='price_per_bathroom', data=display_df, ax=ax[0][0])\n",
    "sns.violinplot(x='interest_level', y='price_per_bedroom', data=display_df, ax=ax[0][1])\n",
    "sns.violinplot(x='interest_level', y='bedroom_per_bathroom', data=display_df, ax=ax[1][0])\n",
    "sns.violinplot(x='interest_level', y='rooms_num', data=display_df, ax=ax[1][1])"
   ]
  },
  {
   "cell_type": "markdown",
   "metadata": {},
   "source": [
    "* features"
   ]
  },
  {
   "cell_type": "code",
   "execution_count": 11,
   "metadata": {
    "collapsed": false
   },
   "outputs": [],
   "source": [
    "# 对feature的word进行处理\n",
    "stemmer = PorterStemmer()\n",
    "def features_word_transform(s):\n",
    "    s = s.strip().lower() \n",
    "    s = s.replace('-','_').replace(' ','_') # 去掉-和空格\n",
    "    # 将word进行stem\n",
    "    s = '_'.join([stemmer.stem(word) for word in s.split('_')])\n",
    "    return s\n",
    "\n",
    "# 将list修改为空格分隔的str\n",
    "full_df['features_str'] = full_df['features'].apply(lambda x: \" \".join([features_word_transform(i) for i in x]))"
   ]
  },
  {
   "cell_type": "code",
   "execution_count": 12,
   "metadata": {
    "collapsed": false
   },
   "outputs": [],
   "source": [
    "# 对feature的word进行TfidfVectorizer\n",
    "tfidf_vec = TfidfVectorizer(stop_words='english', max_features=50)\n",
    "tfidf_vec.fit(full_df.loc['train']['features_str'])\n",
    "tfidf_df = pd.DataFrame(tfidf_vec.transform(full_df['features_str']).toarray(), index=full_df.index)"
   ]
  },
  {
   "cell_type": "code",
   "execution_count": 13,
   "metadata": {
    "collapsed": true
   },
   "outputs": [],
   "source": [
    "# # 原本是想用svd对word进行降维处理，但电脑内存不足\n",
    "# svd = TruncatedSVD(n_components=25)\n",
    "# svd.fit(tfidf_df.loc['train'].iloc[:10000])"
   ]
  },
  {
   "cell_type": "code",
   "execution_count": 14,
   "metadata": {
    "collapsed": false
   },
   "outputs": [],
   "source": [
    "# 将features出现的word加入到特征\n",
    "add_feature_columns = ['features_word_'+c for c in tfidf_vec.get_feature_names()]\n",
    "add_full_df = pd.DataFrame(tfidf_vec.transform(full_df['features_str']).toarray(), columns=add_feature_columns, index=full_df.index)\n",
    "full_df = full_df.join(add_full_df)\n",
    "feature_columns += add_feature_columns"
   ]
  },
  {
   "cell_type": "markdown",
   "metadata": {},
   "source": [
    "* description"
   ]
  },
  {
   "cell_type": "code",
   "execution_count": 15,
   "metadata": {
    "collapsed": false
   },
   "outputs": [
    {
     "name": "stderr",
     "output_type": "stream",
     "text": [
      "/Library/Frameworks/Python.framework/Versions/3.5/lib/python3.5/site-packages/bs4/__init__.py:219: UserWarning: \"b'.'\" looks like a filename, not markup. You shouldprobably open this file and pass the filehandle intoBeautiful Soup.\n",
      "  'Beautiful Soup.' % markup)\n"
     ]
    }
   ],
   "source": [
    "# 取出description中的词\n",
    "stemmer = PorterStemmer()\n",
    "def description_transform(s):\n",
    "    # 去掉html格式\n",
    "    s = BeautifulSoup(s, 'lxml').get_text(' ')\n",
    "    # 取出word\n",
    "    s = s.lower()\n",
    "    regex = re.compile('[^a-z]')\n",
    "    s = regex.sub(' ', s)\n",
    "    # 进行stem\n",
    "    s = ' '.join([stemmer.stem(w) for w in s.split(' ')])\n",
    "    return s\n",
    "\n",
    "full_df['description_new'] = full_df['description'].apply(description_transform)"
   ]
  },
  {
   "cell_type": "code",
   "execution_count": 16,
   "metadata": {
    "collapsed": false
   },
   "outputs": [
    {
     "data": {
      "text/plain": [
       "TfidfVectorizer(analyzer='word', binary=False, decode_error='strict',\n",
       "        dtype=<class 'numpy.int64'>, encoding='utf-8', input='content',\n",
       "        lowercase=True, max_df=1.0, max_features=50, min_df=1,\n",
       "        ngram_range=(1, 1), norm='l2', preprocessor=None, smooth_idf=True,\n",
       "        stop_words='english', strip_accents=None, sublinear_tf=False,\n",
       "        token_pattern='(?u)\\\\b\\\\w\\\\w+\\\\b', tokenizer=None, use_idf=True,\n",
       "        vocabulary=None)"
      ]
     },
     "execution_count": 16,
     "metadata": {},
     "output_type": "execute_result"
    }
   ],
   "source": [
    "# 对feature的word进行TfidfVectorizer\n",
    "tfidf_vec = TfidfVectorizer(stop_words='english', max_features=50)\n",
    "tfidf_vec.fit(full_df.loc['train']['description'])"
   ]
  },
  {
   "cell_type": "code",
   "execution_count": 17,
   "metadata": {
    "collapsed": true
   },
   "outputs": [],
   "source": [
    "# 将features出现的word加入到特征\n",
    "add_feature_columns = ['description_word_'+w for w in tfidf_vec.get_feature_names()]\n",
    "add_full_df = pd.DataFrame(tfidf_vec.transform(full_df['description']).toarray(), columns=add_feature_columns, index=full_df.index)\n",
    "full_df = full_df.join(add_full_df)\n",
    "feature_columns += add_feature_columns"
   ]
  },
  {
   "cell_type": "markdown",
   "metadata": {},
   "source": [
    "* listing id"
   ]
  },
  {
   "cell_type": "code",
   "execution_count": 18,
   "metadata": {
    "collapsed": false
   },
   "outputs": [
    {
     "data": {
      "text/plain": [
       "<matplotlib.axes._subplots.AxesSubplot at 0x131d56898>"
      ]
     },
     "execution_count": 18,
     "metadata": {},
     "output_type": "execute_result"
    },
    {
     "data": {
      "image/png": "[encoded data removed]",
      "text/plain": [
       "<matplotlib.figure.Figure at 0x132114e48>"
      ]
     },
     "metadata": {},
     "output_type": "display_data"
    }
   ],
   "source": [
    "# 发现low的listing_id特别高，所以这是一个有用的特征\n",
    "# 但是没理解他的现实作用\n",
    "sns.stripplot(full_df['interest_level'], full_df['listing_id'], jitter=True)"
   ]
  },
  {
   "cell_type": "code",
   "execution_count": 19,
   "metadata": {
    "collapsed": false
   },
   "outputs": [],
   "source": [
    "full_df['listing_id'] = full_df['listing_id'] - full_df['listing_id'].min()"
   ]
  },
  {
   "cell_type": "markdown",
   "metadata": {},
   "source": [
    "* 对非数字特征进行labelencode，并获取计数和排序"
   ]
  },
  {
   "cell_type": "code",
   "execution_count": 20,
   "metadata": {
    "collapsed": false
   },
   "outputs": [],
   "source": [
    "feature_to_deal = [\"display_address\", \"manager_id\", \"building_id\", \"street_address\"]\n",
    "for f in feature_to_deal:\n",
    "    # labelencode\n",
    "    lbf = f + '_labelencode'\n",
    "    lbl = preprocessing.LabelEncoder()\n",
    "    lbl.fit(full_df[f].values)\n",
    "    full_df[lbf] = lbl.transform(full_df[f].values)\n",
    "    feature_columns.append(lbf)\n",
    "    \n",
    "    # rank & count\n",
    "    countf = f + '_count'\n",
    "    rankf = f + '_rank'\n",
    "    ct = Counter(full_df[f]) # 统计数量\n",
    "    ct_df = pd.DataFrame({f: list(ct.keys()), countf: list(ct.values())}, index=ct.keys()) \n",
    "    ct_df.sort_values(by=[countf, f], inplace=True) # 按count, feat_id排序\n",
    "    ct_df[rankf] = np.arange(ct_df.shape[0]) # 生成rank\n",
    "    # 插入full_df中\n",
    "    full_df.drop([countf, rankf], axis=1, errors='ignore', inplace=True)\n",
    "    full_df = full_df.join(ct_df[[countf, rankf]], on=f)\n",
    "    feature_columns += [countf, rankf]"
   ]
  },
  {
   "cell_type": "markdown",
   "metadata": {},
   "source": [
    "* 计算每个manager_id对应count，再计算low/medium/high在count的占比，增加三列\n",
    "\n",
    "思想：不同manager_id可能带来的interest_level有差别"
   ]
  },
  {
   "cell_type": "code",
   "execution_count": 23,
   "metadata": {
    "collapsed": false
   },
   "outputs": [],
   "source": [
    "def get_manager_id_to_interest_level(target_df):\n",
    "    temp_df = target_df.groupby(['interest_level', 'manager_id'])[['listing_id']].count()\n",
    "    temp_df = temp_df.reset_index().pivot_table('listing_id', 'manager_id', 'interest_level').fillna(0)\n",
    "    temp_df = temp_df.div(temp_df.sum(axis=1), axis=0)\n",
    "    temp_df = temp_df.rename(columns={x: 'manager_id_%s_ratio'%x for x in ['high', 'low', 'medium']})\n",
    "    return temp_df"
   ]
  },
  {
   "cell_type": "code",
   "execution_count": 24,
   "metadata": {
    "collapsed": false
   },
   "outputs": [],
   "source": [
    "add_feature_columns = ['manager_id_%s_ratio'%x for x in ['high', 'low', 'medium']]\n",
    "for c in add_feature_columns:\n",
    "    full_df[c] = 0"
   ]
  },
  {
   "cell_type": "code",
   "execution_count": 25,
   "metadata": {
    "collapsed": false
   },
   "outputs": [],
   "source": [
    "# 生成训练数据的manager_id_low_ratio...\n",
    "kf = model_selection.KFold(n_splits=5, shuffle=True)\n",
    "for tra_index, val_index in kf.split(full_df.loc['train']):\n",
    "    tra_df = full_df.loc['train'].iloc[tra_index]\n",
    "    val_df = full_df.loc['train'].iloc[val_index]\n",
    "    temp_df = get_manager_id_to_interest_level(tra_df)\n",
    "    val_df = val_df[['manager_id']].join(temp_df, on='manager_id')\n",
    "    full_df.ix[val_index, add_feature_columns] = val_df[add_feature_columns].values"
   ]
  },
  {
   "cell_type": "code",
   "execution_count": 26,
   "metadata": {
    "collapsed": false
   },
   "outputs": [],
   "source": [
    "# 生成测试数据的manager_id_low_ratio...\n",
    "temp_df = get_manager_id_to_interest_level(full_df.loc['train'])\n",
    "add_df = full_df.loc['test'][['manager_id']].join(temp_df, on='manager_id')\n",
    "full_df.loc['test', add_feature_columns] = add_df[add_feature_columns].values"
   ]
  },
  {
   "cell_type": "code",
   "execution_count": 27,
   "metadata": {
    "collapsed": false
   },
   "outputs": [],
   "source": [
    "full_df[add_feature_columns] = full_df[add_feature_columns].fillna(0)\n",
    "feature_columns += add_feature_columns"
   ]
  },
  {
   "cell_type": "markdown",
   "metadata": {},
   "source": [
    "* 房间数对应的price中位数，距离中位数的距离比例\n",
    "\n",
    "思路：不同房间数的price不同，需要分别对待"
   ]
  },
  {
   "cell_type": "code",
   "execution_count": 85,
   "metadata": {
    "collapsed": false
   },
   "outputs": [],
   "source": [
    "def add_price_to_median_ratio(feat):\n",
    "    median_df = full_df.groupby(feat)[['price']].median()\n",
    "    add_feat = '%s_price_to_median_ratio'%feat\n",
    "    full_df[add_feat] = full_df[[feat]].join(median_df, on=feat)['price']\n",
    "    full_df[add_feat] = (full_df['price'] - full_df[add_feat]) / full_df[add_feat]\n",
    "    add_features(add_feat)\n",
    "    \n",
    "add_price_to_median_ratio('bedrooms')"
   ]
  },
  {
   "cell_type": "markdown",
   "metadata": {},
   "source": [
    "* 特征工程最终结果"
   ]
  },
  {
   "cell_type": "code",
   "execution_count": 88,
   "metadata": {
    "collapsed": false
   },
   "outputs": [
    {
     "data": {
      "text/html": [
       "<div>\n",
       "<table border=\"1\" class=\"dataframe\">\n",
       "  <thead>\n",
       "    <tr style=\"text-align: right;\">\n",
       "      <th></th>\n",
       "      <th></th>\n",
       "      <th>bathrooms</th>\n",
       "      <th>bedrooms</th>\n",
       "      <th>building_id</th>\n",
       "      <th>created</th>\n",
       "      <th>description</th>\n",
       "      <th>display_address</th>\n",
       "      <th>features</th>\n",
       "      <th>interest_level</th>\n",
       "      <th>latitude</th>\n",
       "      <th>listing_id</th>\n",
       "      <th>...</th>\n",
       "      <th>building_id_labelencode</th>\n",
       "      <th>building_id_count</th>\n",
       "      <th>building_id_rank</th>\n",
       "      <th>street_address_labelencode</th>\n",
       "      <th>street_address_count</th>\n",
       "      <th>street_address_rank</th>\n",
       "      <th>manager_id_high_ratio</th>\n",
       "      <th>manager_id_low_ratio</th>\n",
       "      <th>manager_id_medium_ratio</th>\n",
       "      <th>bedrooms_price_to_median_ratio</th>\n",
       "    </tr>\n",
       "  </thead>\n",
       "  <tbody>\n",
       "    <tr>\n",
       "      <th rowspan=\"5\" valign=\"top\">train</th>\n",
       "      <th>10</th>\n",
       "      <td>1.5</td>\n",
       "      <td>3</td>\n",
       "      <td>53a5b119ba8f7b61d4e010512e0dfc85</td>\n",
       "      <td>2016-06-24 07:54:24</td>\n",
       "      <td>A Brand New 3 Bedroom 1.5 bath ApartmentEnjoy ...</td>\n",
       "      <td>Metropolitan Avenue</td>\n",
       "      <td>[]</td>\n",
       "      <td>medium</td>\n",
       "      <td>40.7145</td>\n",
       "      <td>399255</td>\n",
       "      <td>...</td>\n",
       "      <td>3797</td>\n",
       "      <td>5</td>\n",
       "      <td>8411</td>\n",
       "      <td>23484</td>\n",
       "      <td>5</td>\n",
       "      <td>21365</td>\n",
       "      <td>0.000000</td>\n",
       "      <td>0.794872</td>\n",
       "      <td>0.205128</td>\n",
       "      <td>-0.333333</td>\n",
       "    </tr>\n",
       "    <tr>\n",
       "      <th>10000</th>\n",
       "      <td>1.0</td>\n",
       "      <td>2</td>\n",
       "      <td>c5c8a357cba207596b04d1afd1e4f130</td>\n",
       "      <td>2016-06-12 12:19:27</td>\n",
       "      <td></td>\n",
       "      <td>Columbus Avenue</td>\n",
       "      <td>[Doorman, Elevator, Fitness Center, Cats Allow...</td>\n",
       "      <td>low</td>\n",
       "      <td>40.7947</td>\n",
       "      <td>338908</td>\n",
       "      <td>...</td>\n",
       "      <td>8986</td>\n",
       "      <td>51</td>\n",
       "      <td>11244</td>\n",
       "      <td>23680</td>\n",
       "      <td>46</td>\n",
       "      <td>25413</td>\n",
       "      <td>0.000000</td>\n",
       "      <td>0.985507</td>\n",
       "      <td>0.014493</td>\n",
       "      <td>0.631343</td>\n",
       "    </tr>\n",
       "    <tr>\n",
       "      <th>100004</th>\n",
       "      <td>1.0</td>\n",
       "      <td>1</td>\n",
       "      <td>c3ba40552e2120b0acfc3cb5730bb2aa</td>\n",
       "      <td>2016-04-17 03:26:41</td>\n",
       "      <td>Top Top West Village location, beautiful Pre-w...</td>\n",
       "      <td>W 13 Street</td>\n",
       "      <td>[Laundry In Building, Dishwasher, Hardwood Flo...</td>\n",
       "      <td>high</td>\n",
       "      <td>40.7388</td>\n",
       "      <td>75206</td>\n",
       "      <td>...</td>\n",
       "      <td>8889</td>\n",
       "      <td>131</td>\n",
       "      <td>11542</td>\n",
       "      <td>9827</td>\n",
       "      <td>66</td>\n",
       "      <td>25569</td>\n",
       "      <td>0.048077</td>\n",
       "      <td>0.538462</td>\n",
       "      <td>0.413462</td>\n",
       "      <td>-0.017241</td>\n",
       "    </tr>\n",
       "    <tr>\n",
       "      <th>100007</th>\n",
       "      <td>1.0</td>\n",
       "      <td>1</td>\n",
       "      <td>28d9ad350afeaab8027513a3e52ac8d5</td>\n",
       "      <td>2016-04-18 02:22:02</td>\n",
       "      <td>Building Amenities - Garage - Garden - fitness...</td>\n",
       "      <td>East 49th Street</td>\n",
       "      <td>[Hardwood Floors, No Fee]</td>\n",
       "      <td>low</td>\n",
       "      <td>40.7539</td>\n",
       "      <td>76754</td>\n",
       "      <td>...</td>\n",
       "      <td>1848</td>\n",
       "      <td>236</td>\n",
       "      <td>11592</td>\n",
       "      <td>14237</td>\n",
       "      <td>130</td>\n",
       "      <td>25715</td>\n",
       "      <td>0.070513</td>\n",
       "      <td>0.788462</td>\n",
       "      <td>0.141026</td>\n",
       "      <td>0.129310</td>\n",
       "    </tr>\n",
       "    <tr>\n",
       "      <th>100013</th>\n",
       "      <td>1.0</td>\n",
       "      <td>4</td>\n",
       "      <td>0</td>\n",
       "      <td>2016-04-28 01:32:41</td>\n",
       "      <td>Beautifully renovated 3 bedroom flex 4 bedroom...</td>\n",
       "      <td>West 143rd Street</td>\n",
       "      <td>[Pre-War]</td>\n",
       "      <td>low</td>\n",
       "      <td>40.8241</td>\n",
       "      <td>122824</td>\n",
       "      <td>...</td>\n",
       "      <td>0</td>\n",
       "      <td>20664</td>\n",
       "      <td>11634</td>\n",
       "      <td>19227</td>\n",
       "      <td>3</td>\n",
       "      <td>18948</td>\n",
       "      <td>0.000000</td>\n",
       "      <td>1.000000</td>\n",
       "      <td>0.000000</td>\n",
       "      <td>-0.432203</td>\n",
       "    </tr>\n",
       "  </tbody>\n",
       "</table>\n",
       "<p>5 rows × 149 columns</p>\n",
       "</div>"
      ],
      "text/plain": [
       "              bathrooms  bedrooms                       building_id  \\\n",
       "train 10            1.5         3  53a5b119ba8f7b61d4e010512e0dfc85   \n",
       "      10000         1.0         2  c5c8a357cba207596b04d1afd1e4f130   \n",
       "      100004        1.0         1  c3ba40552e2120b0acfc3cb5730bb2aa   \n",
       "      100007        1.0         1  28d9ad350afeaab8027513a3e52ac8d5   \n",
       "      100013        1.0         4                                 0   \n",
       "\n",
       "                         created  \\\n",
       "train 10     2016-06-24 07:54:24   \n",
       "      10000  2016-06-12 12:19:27   \n",
       "      100004 2016-04-17 03:26:41   \n",
       "      100007 2016-04-18 02:22:02   \n",
       "      100013 2016-04-28 01:32:41   \n",
       "\n",
       "                                                    description  \\\n",
       "train 10      A Brand New 3 Bedroom 1.5 bath ApartmentEnjoy ...   \n",
       "      10000                                                       \n",
       "      100004  Top Top West Village location, beautiful Pre-w...   \n",
       "      100007  Building Amenities - Garage - Garden - fitness...   \n",
       "      100013  Beautifully renovated 3 bedroom flex 4 bedroom...   \n",
       "\n",
       "                  display_address  \\\n",
       "train 10      Metropolitan Avenue   \n",
       "      10000       Columbus Avenue   \n",
       "      100004          W 13 Street   \n",
       "      100007     East 49th Street   \n",
       "      100013    West 143rd Street   \n",
       "\n",
       "                                                       features  \\\n",
       "train 10                                                     []   \n",
       "      10000   [Doorman, Elevator, Fitness Center, Cats Allow...   \n",
       "      100004  [Laundry In Building, Dishwasher, Hardwood Flo...   \n",
       "      100007                          [Hardwood Floors, No Fee]   \n",
       "      100013                                          [Pre-War]   \n",
       "\n",
       "             interest_level  latitude  listing_id  \\\n",
       "train 10             medium   40.7145      399255   \n",
       "      10000             low   40.7947      338908   \n",
       "      100004           high   40.7388       75206   \n",
       "      100007            low   40.7539       76754   \n",
       "      100013            low   40.8241      122824   \n",
       "\n",
       "                           ...                building_id_labelencode  \\\n",
       "train 10                   ...                                   3797   \n",
       "      10000                ...                                   8986   \n",
       "      100004               ...                                   8889   \n",
       "      100007               ...                                   1848   \n",
       "      100013               ...                                      0   \n",
       "\n",
       "             building_id_count building_id_rank  street_address_labelencode  \\\n",
       "train 10                     5             8411                       23484   \n",
       "      10000                 51            11244                       23680   \n",
       "      100004               131            11542                        9827   \n",
       "      100007               236            11592                       14237   \n",
       "      100013             20664            11634                       19227   \n",
       "\n",
       "             street_address_count  street_address_rank  manager_id_high_ratio  \\\n",
       "train 10                        5                21365               0.000000   \n",
       "      10000                    46                25413               0.000000   \n",
       "      100004                   66                25569               0.048077   \n",
       "      100007                  130                25715               0.070513   \n",
       "      100013                    3                18948               0.000000   \n",
       "\n",
       "              manager_id_low_ratio  manager_id_medium_ratio  \\\n",
       "train 10                  0.794872                 0.205128   \n",
       "      10000               0.985507                 0.014493   \n",
       "      100004              0.538462                 0.413462   \n",
       "      100007              0.788462                 0.141026   \n",
       "      100013              1.000000                 0.000000   \n",
       "\n",
       "              bedrooms_price_to_median_ratio  \n",
       "train 10                           -0.333333  \n",
       "      10000                         0.631343  \n",
       "      100004                       -0.017241  \n",
       "      100007                        0.129310  \n",
       "      100013                       -0.432203  \n",
       "\n",
       "[5 rows x 149 columns]"
      ]
     },
     "execution_count": 88,
     "metadata": {},
     "output_type": "execute_result"
    }
   ],
   "source": [
    "full_df.head()"
   ]
  },
  {
   "cell_type": "markdown",
   "metadata": {},
   "source": [
    "## 数据预处理"
   ]
  },
  {
   "cell_type": "code",
   "execution_count": 89,
   "metadata": {
    "collapsed": true
   },
   "outputs": [],
   "source": [
    "classes_map = {'high': 0, 'medium': 1, 'low': 2}"
   ]
  },
  {
   "cell_type": "code",
   "execution_count": 90,
   "metadata": {
    "collapsed": false
   },
   "outputs": [],
   "source": [
    "X = full_df.loc['train'][feature_columns].values\n",
    "y = full_df.loc['train'][label_column].map(classes_map).values\n",
    "\n",
    "X_train = X\n",
    "y_train = y\n",
    "\n",
    "X_pred = full_df.loc['test'][feature_columns].values"
   ]
  },
  {
   "cell_type": "code",
   "execution_count": null,
   "metadata": {
    "collapsed": false
   },
   "outputs": [],
   "source": []
  },
  {
   "cell_type": "code",
   "execution_count": 91,
   "metadata": {
    "collapsed": true
   },
   "outputs": [],
   "source": [
    "scoring = 'neg_log_loss'"
   ]
  },
  {
   "cell_type": "markdown",
   "metadata": {},
   "source": [
    "## Random Forest"
   ]
  },
  {
   "cell_type": "code",
   "execution_count": 92,
   "metadata": {
    "collapsed": false
   },
   "outputs": [],
   "source": [
    "# # 对树的数量、最大深度进行调参\n",
    "# search_paras = {'n_estimators': [200,500,1000], 'max_depth': [10,20,30]}\n",
    "# rf_gs = GridSearchCV(RandomForestClassifier(), search_paras, scoring=scoring)\n",
    "# rf_gs.fit(X_train, y_train)"
   ]
  },
  {
   "cell_type": "code",
   "execution_count": 93,
   "metadata": {
    "collapsed": false
   },
   "outputs": [],
   "source": [
    "# plot_grid_search_result(rf_gs)"
   ]
  },
  {
   "cell_type": "markdown",
   "metadata": {},
   "source": [
    "## XGBoost"
   ]
  },
  {
   "cell_type": "code",
   "execution_count": 94,
   "metadata": {
    "collapsed": true
   },
   "outputs": [],
   "source": [
    "import xgboost as xgb"
   ]
  },
  {
   "cell_type": "code",
   "execution_count": 95,
   "metadata": {
    "collapsed": true
   },
   "outputs": [],
   "source": [
    "xg_train = xgb.DMatrix(X_train, y_train)\n",
    "xg_pred = xgb.DMatrix(X_pred)"
   ]
  },
  {
   "cell_type": "code",
   "execution_count": 96,
   "metadata": {
    "collapsed": false
   },
   "outputs": [],
   "source": [
    "# class NewXGBClassifier(xgb.XGBClassifier):\n",
    "#     def __init__(self, max_depth=3, learning_rate=0.1, n_estimators=100,\n",
    "#                  silent=True, objective=\"reg:linear\",\n",
    "#                  nthread=-1, gamma=0, min_child_weight=1, max_delta_step=0,\n",
    "#                  subsample=1, colsample_bytree=1, colsample_bylevel=1,\n",
    "#                  reg_alpha=0, reg_lambda=1, scale_pos_weight=1,\n",
    "#                  base_score=0.5, seed=0, missing=None, eval_metric=None):\n",
    "        \n",
    "#         self.max_depth = max_depth\n",
    "#         self.learning_rate = learning_rate\n",
    "#         self.n_estimators = n_estimators\n",
    "#         self.silent = silent\n",
    "#         self.objective = objective\n",
    "\n",
    "#         self.nthread = nthread\n",
    "#         self.gamma = gamma\n",
    "#         self.min_child_weight = min_child_weight\n",
    "#         self.max_delta_step = max_delta_step\n",
    "#         self.subsample = subsample\n",
    "#         self.colsample_bytree = colsample_bytree\n",
    "#         self.colsample_bylevel = colsample_bylevel\n",
    "#         self.reg_alpha = reg_alpha\n",
    "#         self.reg_lambda = reg_lambda\n",
    "#         self.scale_pos_weight = scale_pos_weight\n",
    "\n",
    "#         self.base_score = base_score\n",
    "#         self.seed = seed\n",
    "#         self.missing = missing if missing is not None else np.nan\n",
    "#         self._Booster = None\n",
    "        \n",
    "#         self.eval_metric = eval_metric\n",
    "        \n",
    "#     def fit(self, X, y):\n",
    "#         return super(NewXGBClassifier, self).fit(X, y, eval_metric=self.eval_metric)\n"
   ]
  },
  {
   "cell_type": "code",
   "execution_count": 97,
   "metadata": {
    "collapsed": true
   },
   "outputs": [],
   "source": [
    "bst_paras = {\n",
    "    'objective': 'multi:softprob',\n",
    "    'eval_metric': 'mlogloss',\n",
    "    'num_class': 3,\n",
    "#     'n_estimators': 1000,\n",
    "    'eta': 0.1,\n",
    "    'colsample_bytree': 0.7,\n",
    "    'subsample': 0.7,\n",
    "    'max_depth': 6,\n",
    "    'missing': 0,\n",
    "    'seed': 1,\n",
    "}\n",
    "num_boost_round = 1000"
   ]
  },
  {
   "cell_type": "code",
   "execution_count": 98,
   "metadata": {
    "collapsed": false,
    "scrolled": true
   },
   "outputs": [],
   "source": [
    "# best_model = None\n",
    "# best_score = 1\n",
    "# kf = model_selection.KFold(n_splits=10, shuffle=True)\n",
    "# for tra_index, val_index in kf.split(X_train):\n",
    "#     X_tra, X_val = X_train[tra_index], X_train[val_index]\n",
    "#     y_tra, y_val = y_train[tra_index], y_train[val_index]\n",
    "#     xg_tra = xgb.DMatrix(X_tra, label=y_tra)\n",
    "#     xg_val = xgb.DMatrix(X_val, label=y_val)\n",
    "#     watchlist = [(xg_tra, 'train'), (xg_val, 'test')]\n",
    "#     model = xgb.train(bst_paras, xg_tra, num_boost_round, watchlist, early_stopping_rounds=10, verbose_eval=False)\n",
    "# #     model = xgb.train(bst_paras, xg_tra, num_boost_round, watchlist)\n",
    "#     score = metrics.log_loss(y_val, model.predict(xg_val))\n",
    "#     if score <= best_score:\n",
    "#         best_model = model\n",
    "#     print(score)\n",
    "# bst = best_model"
   ]
  },
  {
   "cell_type": "code",
   "execution_count": 99,
   "metadata": {
    "collapsed": false,
    "scrolled": true
   },
   "outputs": [
    {
     "name": "stdout",
     "output_type": "stream",
     "text": [
      "[0]\ttrain-mlogloss:1.0311+0.00018801\ttest-mlogloss:1.03254+0.000201913\n",
      "[25]\ttrain-mlogloss:0.570516+0.000761385\ttest-mlogloss:0.602563+0.00128296\n",
      "[50]\ttrain-mlogloss:0.505248+0.000877581\ttest-mlogloss:0.562208+0.00225435\n",
      "[75]\ttrain-mlogloss:0.470407+0.00125024\ttest-mlogloss:0.549768+0.00235877\n",
      "[100]\ttrain-mlogloss:0.44353+0.00109973\ttest-mlogloss:0.543992+0.00240362\n",
      "[125]\ttrain-mlogloss:0.421216+0.000877987\ttest-mlogloss:0.541097+0.00243011\n",
      "[150]\ttrain-mlogloss:0.402693+0.00117267\ttest-mlogloss:0.539367+0.00261187\n",
      "[175]\ttrain-mlogloss:0.385849+0.00135562\ttest-mlogloss:0.53845+0.00234903\n",
      "[200]\ttrain-mlogloss:0.369788+0.00144897\ttest-mlogloss:0.538048+0.00240018\n",
      "[225]\ttrain-mlogloss:0.354743+0.00119622\ttest-mlogloss:0.537681+0.0025744\n",
      "[250]\ttrain-mlogloss:0.340913+0.000869956\ttest-mlogloss:0.537752+0.00272944\n",
      "best_model: test-mlogloss-mean     0.537665\n",
      "test-mlogloss-std      0.002689\n",
      "train-mlogloss-mean    0.346805\n",
      "train-mlogloss-std     0.000973\n",
      "Name: 239, dtype: float64\n",
      "train_loss: 0.369985725719\n"
     ]
    }
   ],
   "source": [
    "xgb_cv_res = xgb.cv(bst_paras, xg_train, num_boost_round, nfold=5, stratified=True, early_stopping_rounds=20, verbose_eval=25)\n",
    "best_round = np.argmin(xgb_cv_res['test-mlogloss-mean'])\n",
    "print('best_model:', xgb_cv_res.iloc[best_round])\n",
    "bst = xgb.train(bst_paras, xg_train, best_round)\n",
    "print('train_loss:', metrics.log_loss(y_train, bst.predict(xg_train)))"
   ]
  },
  {
   "cell_type": "code",
   "execution_count": 100,
   "metadata": {
    "collapsed": false
   },
   "outputs": [
    {
     "data": {
      "text/plain": [
       "train-mlogloss-mean    0.346805\n",
       "test-mlogloss-mean     0.537665\n",
       "Name: 239, dtype: float64"
      ]
     },
     "execution_count": 100,
     "metadata": {},
     "output_type": "execute_result"
    }
   ],
   "source": [
    "xgb_cv_res.iloc[best_round][['train-mlogloss-mean', 'test-mlogloss-mean']]"
   ]
  },
  {
   "cell_type": "markdown",
   "metadata": {},
   "source": [
    "## learning curve"
   ]
  },
  {
   "cell_type": "code",
   "execution_count": 101,
   "metadata": {
    "collapsed": false
   },
   "outputs": [],
   "source": [
    "def xgb_cv(bst_paras, x_tra, num_boost_round):\n",
    "    xgb_cv_res = xgb.cv(bst_paras, x_tra, num_boost_round, nfold=5, stratified=True, early_stopping_rounds=20, verbose_eval=25)\n",
    "    best_round = np.argmin(xgb_cv_res['test-mlogloss-mean'])\n",
    "    best_ser = xgb_cv_res.iloc[best_round]\n",
    "    return best_ser['train-mlogloss-mean'], best_ser['test-mlogloss-mean']"
   ]
  },
  {
   "cell_type": "code",
   "execution_count": 102,
   "metadata": {
    "collapsed": false
   },
   "outputs": [],
   "source": [
    "# learning curve\n",
    "def get_learning_curve(X_train, y_train, train_size_list):\n",
    "    train_score_list = []\n",
    "    test_score_list = []\n",
    "    for tra_size in train_size_list:\n",
    "        print('train size:', tra_size)\n",
    "        X_tra = X_train[:tra_size]\n",
    "        y_tra = y_train[:tra_size]\n",
    "        xg_tra = xgb.DMatrix(X_tra, y_tra)\n",
    "        train_score, test_score = xgb_cv(bst_paras, xg_tra, 1000)\n",
    "        print(train_score, test_score)\n",
    "        train_score_list.append(train_score)\n",
    "        test_score_list.append(test_score)\n",
    "    return train_score_list, test_score_list"
   ]
  },
  {
   "cell_type": "code",
   "execution_count": 103,
   "metadata": {
    "collapsed": false
   },
   "outputs": [],
   "source": [
    "# train_size_list = (np.linspace(0.1, 1, 10) * len(X_train)).astype(np.int)\n",
    "# train_score_list, test_score_list = get_learning_curve(X_train, y_train, train_size_list)\n",
    "# plt.plot(train_size_list, train_score_list)\n",
    "# plt.plot(train_size_list, test_score_list)"
   ]
  },
  {
   "cell_type": "markdown",
   "metadata": {},
   "source": [
    "## 预测"
   ]
  },
  {
   "cell_type": "code",
   "execution_count": 104,
   "metadata": {
    "collapsed": false
   },
   "outputs": [],
   "source": [
    "# 选择模型 并预测\n",
    "# model = bst_gs.best_estimator_\n",
    "# pred_proba = model.predict_proba(X_pred)\n",
    "\n",
    "model = bst\n",
    "pred_proba = model.predict(xgb.DMatrix(X_pred))\n",
    "\n",
    "# 结果df\n",
    "res_df = pd.DataFrame({\n",
    "    'listing_id': input_df.loc['test']['listing_id'],\n",
    "    'high': pred_proba[:, 0],\n",
    "    'medium': pred_proba[:, 1],\n",
    "    'low': pred_proba[:, 2],\n",
    "})\n",
    "res_df = res_df[['listing_id', 'high', 'medium', 'low']]\n",
    "\n",
    "# save as csv\n",
    "res_df.to_csv('./data/output/result.csv', index=False)\n",
    "\n",
    "# zip\n",
    "# import zipfile\n",
    "# with zipfile.ZipFile('./data/output/result.zip', 'w') as f:\n",
    "#     f.write('./data/output/result.csv')"
   ]
  },
  {
   "cell_type": "code",
   "execution_count": 105,
   "metadata": {
    "collapsed": false
   },
   "outputs": [],
   "source": [
    "# pd.Series(model.feature_importances_, index=feature_columns).sort_values()"
   ]
  },
  {
   "cell_type": "code",
   "execution_count": null,
   "metadata": {
    "collapsed": true
   },
   "outputs": [],
   "source": []
  },
  {
   "cell_type": "code",
   "execution_count": null,
   "metadata": {
    "collapsed": true
   },
   "outputs": [],
   "source": []
  }
 ],
 "metadata": {
  "kernelspec": {
   "display_name": "Python 3",
   "language": "python",
   "name": "python3"
  },
  "language_info": {
   "codemirror_mode": {
    "name": "ipython",
    "version": 3
   },
   "file_extension": ".py",
   "mimetype": "text/x-python",
   "name": "python",
   "nbconvert_exporter": "python",
   "pygments_lexer": "ipython3",
   "version": "3.5.1"
  }
 },
 "nbformat": 4,
 "nbformat_minor": 1
}
