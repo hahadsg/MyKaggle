{
 "cells": [
  {
   "cell_type": "code",
   "execution_count": 1,
   "metadata": {
    "collapsed": true
   },
   "outputs": [],
   "source": [
    "# coding: utf-8\n",
    "import os\n",
    "\n",
    "import pandas as pd\n",
    "import numpy as np\n",
    "import scipy\n",
    "import matplotlib.pyplot as plt\n",
    "import seaborn as sns\n",
    "import lightgbm as lgb\n",
    "from sklearn import metrics\n",
    "from sklearn import model_selection\n",
    "from sklearn.model_selection import train_test_split\n",
    "from sklearn.model_selection import GridSearchCV\n",
    "from sklearn import preprocessing\n",
    "from sklearn.decomposition import PCA, TruncatedSVD\n",
    "from sklearn.feature_extraction.text import TfidfVectorizer\n",
    "\n",
    "from mydatools.features_analyze import get_top_k_corr\n",
    "\n",
    "% matplotlib inline"
   ]
  },
  {
   "cell_type": "markdown",
   "metadata": {},
   "source": [
    "## Config"
   ]
  },
  {
   "cell_type": "code",
   "execution_count": 2,
   "metadata": {
    "collapsed": true
   },
   "outputs": [],
   "source": [
    "trn_path = './data/input/train.csv'\n",
    "tst_path = './data/input/test.csv'\n",
    "id_col = 'id'\n",
    "label_col = 'target'\n",
    "\n",
    "submission_path = './data/output/submission.csv'\n",
    "output_id_col = id_col\n",
    "output_label_col = label_col"
   ]
  },
  {
   "cell_type": "markdown",
   "metadata": {},
   "source": [
    "## Load Data"
   ]
  },
  {
   "cell_type": "code",
   "execution_count": 3,
   "metadata": {
    "scrolled": true
   },
   "outputs": [
    {
     "data": {
      "text/html": [
       "<div>\n",
       "<style>\n",
       "    .dataframe thead tr:only-child th {\n",
       "        text-align: right;\n",
       "    }\n",
       "\n",
       "    .dataframe thead th {\n",
       "        text-align: left;\n",
       "    }\n",
       "\n",
       "    .dataframe tbody tr th {\n",
       "        vertical-align: top;\n",
       "    }\n",
       "</style>\n",
       "<table border=\"1\" class=\"dataframe\">\n",
       "  <thead>\n",
       "    <tr style=\"text-align: right;\">\n",
       "      <th></th>\n",
       "      <th>ds_type</th>\n",
       "      <th>id</th>\n",
       "      <th>ps_calc_01</th>\n",
       "      <th>ps_calc_02</th>\n",
       "      <th>ps_calc_03</th>\n",
       "      <th>ps_calc_04</th>\n",
       "      <th>ps_calc_05</th>\n",
       "      <th>ps_calc_06</th>\n",
       "      <th>ps_calc_07</th>\n",
       "      <th>ps_calc_08</th>\n",
       "      <th>...</th>\n",
       "      <th>ps_ind_13_bin</th>\n",
       "      <th>ps_ind_14</th>\n",
       "      <th>ps_ind_15</th>\n",
       "      <th>ps_ind_16_bin</th>\n",
       "      <th>ps_ind_17_bin</th>\n",
       "      <th>ps_ind_18_bin</th>\n",
       "      <th>ps_reg_01</th>\n",
       "      <th>ps_reg_02</th>\n",
       "      <th>ps_reg_03</th>\n",
       "      <th>target</th>\n",
       "    </tr>\n",
       "  </thead>\n",
       "  <tbody>\n",
       "    <tr>\n",
       "      <th>0</th>\n",
       "      <td>train</td>\n",
       "      <td>7</td>\n",
       "      <td>0.6</td>\n",
       "      <td>0.5</td>\n",
       "      <td>0.2</td>\n",
       "      <td>3</td>\n",
       "      <td>1</td>\n",
       "      <td>10</td>\n",
       "      <td>1</td>\n",
       "      <td>10</td>\n",
       "      <td>...</td>\n",
       "      <td>0</td>\n",
       "      <td>0</td>\n",
       "      <td>11</td>\n",
       "      <td>0</td>\n",
       "      <td>1</td>\n",
       "      <td>0</td>\n",
       "      <td>0.7</td>\n",
       "      <td>0.2</td>\n",
       "      <td>0.718070</td>\n",
       "      <td>0.0</td>\n",
       "    </tr>\n",
       "    <tr>\n",
       "      <th>1</th>\n",
       "      <td>train</td>\n",
       "      <td>9</td>\n",
       "      <td>0.3</td>\n",
       "      <td>0.1</td>\n",
       "      <td>0.3</td>\n",
       "      <td>2</td>\n",
       "      <td>1</td>\n",
       "      <td>9</td>\n",
       "      <td>5</td>\n",
       "      <td>8</td>\n",
       "      <td>...</td>\n",
       "      <td>0</td>\n",
       "      <td>0</td>\n",
       "      <td>3</td>\n",
       "      <td>0</td>\n",
       "      <td>0</td>\n",
       "      <td>1</td>\n",
       "      <td>0.8</td>\n",
       "      <td>0.4</td>\n",
       "      <td>0.766078</td>\n",
       "      <td>0.0</td>\n",
       "    </tr>\n",
       "    <tr>\n",
       "      <th>2</th>\n",
       "      <td>train</td>\n",
       "      <td>13</td>\n",
       "      <td>0.5</td>\n",
       "      <td>0.7</td>\n",
       "      <td>0.1</td>\n",
       "      <td>2</td>\n",
       "      <td>2</td>\n",
       "      <td>9</td>\n",
       "      <td>1</td>\n",
       "      <td>8</td>\n",
       "      <td>...</td>\n",
       "      <td>0</td>\n",
       "      <td>0</td>\n",
       "      <td>12</td>\n",
       "      <td>1</td>\n",
       "      <td>0</td>\n",
       "      <td>0</td>\n",
       "      <td>0.0</td>\n",
       "      <td>0.0</td>\n",
       "      <td>-1.000000</td>\n",
       "      <td>0.0</td>\n",
       "    </tr>\n",
       "    <tr>\n",
       "      <th>3</th>\n",
       "      <td>train</td>\n",
       "      <td>16</td>\n",
       "      <td>0.6</td>\n",
       "      <td>0.9</td>\n",
       "      <td>0.1</td>\n",
       "      <td>2</td>\n",
       "      <td>4</td>\n",
       "      <td>7</td>\n",
       "      <td>1</td>\n",
       "      <td>8</td>\n",
       "      <td>...</td>\n",
       "      <td>0</td>\n",
       "      <td>0</td>\n",
       "      <td>8</td>\n",
       "      <td>1</td>\n",
       "      <td>0</td>\n",
       "      <td>0</td>\n",
       "      <td>0.9</td>\n",
       "      <td>0.2</td>\n",
       "      <td>0.580948</td>\n",
       "      <td>0.0</td>\n",
       "    </tr>\n",
       "    <tr>\n",
       "      <th>4</th>\n",
       "      <td>train</td>\n",
       "      <td>17</td>\n",
       "      <td>0.4</td>\n",
       "      <td>0.6</td>\n",
       "      <td>0.0</td>\n",
       "      <td>2</td>\n",
       "      <td>2</td>\n",
       "      <td>6</td>\n",
       "      <td>3</td>\n",
       "      <td>10</td>\n",
       "      <td>...</td>\n",
       "      <td>0</td>\n",
       "      <td>0</td>\n",
       "      <td>9</td>\n",
       "      <td>1</td>\n",
       "      <td>0</td>\n",
       "      <td>0</td>\n",
       "      <td>0.7</td>\n",
       "      <td>0.6</td>\n",
       "      <td>0.840759</td>\n",
       "      <td>0.0</td>\n",
       "    </tr>\n",
       "  </tbody>\n",
       "</table>\n",
       "<p>5 rows × 60 columns</p>\n",
       "</div>"
      ],
      "text/plain": [
       "  ds_type  id  ps_calc_01  ps_calc_02  ps_calc_03  ps_calc_04  ps_calc_05  \\\n",
       "0   train   7         0.6         0.5         0.2           3           1   \n",
       "1   train   9         0.3         0.1         0.3           2           1   \n",
       "2   train  13         0.5         0.7         0.1           2           2   \n",
       "3   train  16         0.6         0.9         0.1           2           4   \n",
       "4   train  17         0.4         0.6         0.0           2           2   \n",
       "\n",
       "   ps_calc_06  ps_calc_07  ps_calc_08   ...    ps_ind_13_bin  ps_ind_14  \\\n",
       "0          10           1          10   ...                0          0   \n",
       "1           9           5           8   ...                0          0   \n",
       "2           9           1           8   ...                0          0   \n",
       "3           7           1           8   ...                0          0   \n",
       "4           6           3          10   ...                0          0   \n",
       "\n",
       "   ps_ind_15  ps_ind_16_bin  ps_ind_17_bin  ps_ind_18_bin  ps_reg_01  \\\n",
       "0         11              0              1              0        0.7   \n",
       "1          3              0              0              1        0.8   \n",
       "2         12              1              0              0        0.0   \n",
       "3          8              1              0              0        0.9   \n",
       "4          9              1              0              0        0.7   \n",
       "\n",
       "   ps_reg_02  ps_reg_03  target  \n",
       "0        0.2   0.718070     0.0  \n",
       "1        0.4   0.766078     0.0  \n",
       "2        0.0  -1.000000     0.0  \n",
       "3        0.2   0.580948     0.0  \n",
       "4        0.6   0.840759     0.0  \n",
       "\n",
       "[5 rows x 60 columns]"
      ]
     },
     "execution_count": 3,
     "metadata": {},
     "output_type": "execute_result"
    }
   ],
   "source": [
    "trn_df = pd.read_csv(trn_path)\n",
    "trn_df['ds_type'] = 'train'\n",
    "\n",
    "tst_df = pd.read_csv(tst_path)\n",
    "tst_df['ds_type'] = 'test'\n",
    "\n",
    "full_df = pd.concat([trn_df, tst_df])\n",
    "\n",
    "del(trn_df)\n",
    "del(tst_df)\n",
    "\n",
    "full_df.head()"
   ]
  },
  {
   "cell_type": "code",
   "execution_count": 4,
   "metadata": {
    "collapsed": true
   },
   "outputs": [],
   "source": [
    "# dataset type\n",
    "is_train = full_df['ds_type'] == 'train'\n",
    "is_test = full_df['ds_type'] == 'test'"
   ]
  },
  {
   "cell_type": "markdown",
   "metadata": {},
   "source": [
    "## Features"
   ]
  },
  {
   "cell_type": "code",
   "execution_count": 5,
   "metadata": {},
   "outputs": [
    {
     "data": {
      "text/plain": [
       "False"
      ]
     },
     "execution_count": 5,
     "metadata": {},
     "output_type": "execute_result"
    }
   ],
   "source": [
    "a = [11,22,33,44]\n",
    "a.remove(33)\n",
    "33 in a"
   ]
  },
  {
   "cell_type": "code",
   "execution_count": 6,
   "metadata": {
    "collapsed": true
   },
   "outputs": [],
   "source": [
    "feature_columns = []\n",
    "\n",
    "def add_features(features):\n",
    "    if not isinstance(features, list):\n",
    "        features = [features]\n",
    "    global feature_columns\n",
    "    feature_columns.extend([f for f in features if f not in feature_columns])\n",
    "    \n",
    "def remove_features(features):\n",
    "    if not isinstance(features, list):\n",
    "        features = [features]\n",
    "    global feature_columns\n",
    "    feature_columns = [f for f in feature_columns if f not in features]"
   ]
  },
  {
   "cell_type": "code",
   "execution_count": 7,
   "metadata": {
    "collapsed": true
   },
   "outputs": [],
   "source": [
    "numerical_features = full_df.dtypes[full_df.dtypes != 'object'].index.tolist()\n",
    "numerical_features = [c for c in numerical_features if c not in [id_col, label_col, 'ds_type']]\n",
    "add_features(numerical_features)"
   ]
  },
  {
   "cell_type": "markdown",
   "metadata": {},
   "source": [
    "* 空值处理"
   ]
  },
  {
   "cell_type": "code",
   "execution_count": 8,
   "metadata": {
    "collapsed": true
   },
   "outputs": [],
   "source": [
    "full_df.replace(-1, np.nan, inplace=True)"
   ]
  },
  {
   "cell_type": "code",
   "execution_count": 9,
   "metadata": {},
   "outputs": [
    {
     "data": {
      "image/png": "[encoded data removed]",
      "text/plain": [
       "<matplotlib.figure.Figure at 0x10bdc1400>"
      ]
     },
     "metadata": {},
     "output_type": "display_data"
    }
   ],
   "source": [
    "import missingno as msno\n",
    "msno.matrix(full_df[feature_columns], labels=True)"
   ]
  },
  {
   "cell_type": "markdown",
   "metadata": {},
   "source": [
    "* 处理categorical类型特征"
   ]
  },
  {
   "cell_type": "code",
   "execution_count": 10,
   "metadata": {
    "collapsed": true
   },
   "outputs": [],
   "source": [
    "categorical_features = [c for c in feature_columns if c.endswith('cat')]"
   ]
  },
  {
   "cell_type": "code",
   "execution_count": 11,
   "metadata": {
    "collapsed": true
   },
   "outputs": [],
   "source": [
    "dummy_df = pd.get_dummies(full_df[categorical_features], columns=categorical_features)\n",
    "remove_features(categorical_features)\n",
    "add_features(dummy_df.columns.tolist())\n",
    "full_df[dummy_df.columns] = dummy_df"
   ]
  },
  {
   "cell_type": "markdown",
   "metadata": {},
   "source": [
    "## LightGBM"
   ]
  },
  {
   "cell_type": "code",
   "execution_count": 12,
   "metadata": {
    "collapsed": true
   },
   "outputs": [],
   "source": [
    "trn_df = full_df[is_train]\n",
    "tst_df = full_df[is_test]\n",
    "\n",
    "X = trn_df[feature_columns]\n",
    "y = trn_df[label_col]\n",
    "X_trn, X_val, y_trn, y_val = train_test_split(X, y, test_size=0.2, random_state=0, stratify=y)\n",
    "\n",
    "X_tst = tst_df[feature_columns]\n",
    "\n",
    "trn_lgb = lgb.Dataset(X_trn.values, y_trn, free_raw_data=False)\n",
    "val_lgb = lgb.Dataset(X_val.values, y_val, free_raw_data=False, reference=trn_lgb)"
   ]
  },
  {
   "cell_type": "markdown",
   "metadata": {},
   "source": [
    "* gini coef"
   ]
  },
  {
   "cell_type": "code",
   "execution_count": 13,
   "metadata": {
    "collapsed": true
   },
   "outputs": [],
   "source": [
    "def gini(y, pred):\n",
    "    g = np.asarray(np.c_[y, pred, np.arange(len(y)) ], dtype=np.float)\n",
    "    g = g[np.lexsort((g[:,2], -1*g[:,1]))]\n",
    "    gs = g[:,0].cumsum().sum() / g[:,0].sum()\n",
    "    gs -= (len(y) + 1) / 2.\n",
    "    return gs / len(y)\n",
    "\n",
    "def gini_lgb(preds, dtrain):\n",
    "    y = list(dtrain.get_label())\n",
    "    score = gini(y, preds) / gini(y, y)\n",
    "    return 'gini', score, True"
   ]
  },
  {
   "cell_type": "markdown",
   "metadata": {},
   "source": [
    "* train"
   ]
  },
  {
   "cell_type": "code",
   "execution_count": 14,
   "metadata": {
    "scrolled": true
   },
   "outputs": [
    {
     "name": "stdout",
     "output_type": "stream",
     "text": [
      "[1]\ttraining's binary_logloss: 0.692434\ttraining's gini: 0.215012\tvalid_1's binary_logloss: 0.69247\tvalid_1's gini: 0.164838\n",
      "Training until validation scores don't improve for 20 rounds.\n",
      "[2]\ttraining's binary_logloss: 0.691682\ttraining's gini: 0.248777\tvalid_1's binary_logloss: 0.69173\tvalid_1's gini: 0.198452\n",
      "[3]\ttraining's binary_logloss: 0.691033\ttraining's gini: 0.258356\tvalid_1's binary_logloss: 0.691107\tvalid_1's gini: 0.203015\n",
      "[4]\ttraining's binary_logloss: 0.690286\ttraining's gini: 0.264013\tvalid_1's binary_logloss: 0.69039\tvalid_1's gini: 0.208449\n",
      "[5]\ttraining's binary_logloss: 0.68962\ttraining's gini: 0.269968\tvalid_1's binary_logloss: 0.689731\tvalid_1's gini: 0.219577\n",
      "[6]\ttraining's binary_logloss: 0.688863\ttraining's gini: 0.274517\tvalid_1's binary_logloss: 0.688988\tvalid_1's gini: 0.223376\n",
      "[7]\ttraining's binary_logloss: 0.688139\ttraining's gini: 0.276355\tvalid_1's binary_logloss: 0.68829\tvalid_1's gini: 0.22366\n",
      "[8]\ttraining's binary_logloss: 0.687528\ttraining's gini: 0.279744\tvalid_1's binary_logloss: 0.687691\tvalid_1's gini: 0.226764\n",
      "[9]\ttraining's binary_logloss: 0.687021\ttraining's gini: 0.280707\tvalid_1's binary_logloss: 0.687191\tvalid_1's gini: 0.228619\n",
      "[10]\ttraining's binary_logloss: 0.68652\ttraining's gini: 0.282337\tvalid_1's binary_logloss: 0.6867\tvalid_1's gini: 0.23051\n",
      "[11]\ttraining's binary_logloss: 0.685913\ttraining's gini: 0.283992\tvalid_1's binary_logloss: 0.686114\tvalid_1's gini: 0.231999\n",
      "[12]\ttraining's binary_logloss: 0.685378\ttraining's gini: 0.284027\tvalid_1's binary_logloss: 0.685591\tvalid_1's gini: 0.232861\n",
      "[13]\ttraining's binary_logloss: 0.684718\ttraining's gini: 0.284135\tvalid_1's binary_logloss: 0.684963\tvalid_1's gini: 0.231933\n",
      "[14]\ttraining's binary_logloss: 0.684136\ttraining's gini: 0.284167\tvalid_1's binary_logloss: 0.684402\tvalid_1's gini: 0.231899\n",
      "[15]\ttraining's binary_logloss: 0.683578\ttraining's gini: 0.284109\tvalid_1's binary_logloss: 0.683869\tvalid_1's gini: 0.231361\n",
      "[16]\ttraining's binary_logloss: 0.683041\ttraining's gini: 0.285202\tvalid_1's binary_logloss: 0.683344\tvalid_1's gini: 0.23221\n",
      "[17]\ttraining's binary_logloss: 0.682469\ttraining's gini: 0.285393\tvalid_1's binary_logloss: 0.682788\tvalid_1's gini: 0.232752\n",
      "[18]\ttraining's binary_logloss: 0.681882\ttraining's gini: 0.285715\tvalid_1's binary_logloss: 0.682207\tvalid_1's gini: 0.233345\n",
      "[19]\ttraining's binary_logloss: 0.681392\ttraining's gini: 0.287225\tvalid_1's binary_logloss: 0.681728\tvalid_1's gini: 0.234986\n",
      "[20]\ttraining's binary_logloss: 0.680859\ttraining's gini: 0.287485\tvalid_1's binary_logloss: 0.681215\tvalid_1's gini: 0.234701\n",
      "[21]\ttraining's binary_logloss: 0.680375\ttraining's gini: 0.286901\tvalid_1's binary_logloss: 0.680754\tvalid_1's gini: 0.234231\n",
      "[22]\ttraining's binary_logloss: 0.679892\ttraining's gini: 0.287727\tvalid_1's binary_logloss: 0.680285\tvalid_1's gini: 0.235459\n",
      "[23]\ttraining's binary_logloss: 0.679367\ttraining's gini: 0.287586\tvalid_1's binary_logloss: 0.679783\tvalid_1's gini: 0.235194\n",
      "[24]\ttraining's binary_logloss: 0.678864\ttraining's gini: 0.28793\tvalid_1's binary_logloss: 0.679309\tvalid_1's gini: 0.235196\n",
      "[25]\ttraining's binary_logloss: 0.678389\ttraining's gini: 0.287873\tvalid_1's binary_logloss: 0.678845\tvalid_1's gini: 0.235075\n",
      "[26]\ttraining's binary_logloss: 0.67793\ttraining's gini: 0.288003\tvalid_1's binary_logloss: 0.678388\tvalid_1's gini: 0.235451\n",
      "[27]\ttraining's binary_logloss: 0.67756\ttraining's gini: 0.28823\tvalid_1's binary_logloss: 0.678042\tvalid_1's gini: 0.235046\n",
      "[28]\ttraining's binary_logloss: 0.677199\ttraining's gini: 0.288752\tvalid_1's binary_logloss: 0.677702\tvalid_1's gini: 0.235345\n",
      "[29]\ttraining's binary_logloss: 0.676778\ttraining's gini: 0.28891\tvalid_1's binary_logloss: 0.677293\tvalid_1's gini: 0.235298\n",
      "[30]\ttraining's binary_logloss: 0.67639\ttraining's gini: 0.288867\tvalid_1's binary_logloss: 0.676916\tvalid_1's gini: 0.235009\n",
      "[31]\ttraining's binary_logloss: 0.676014\ttraining's gini: 0.289115\tvalid_1's binary_logloss: 0.676565\tvalid_1's gini: 0.235031\n",
      "[32]\ttraining's binary_logloss: 0.675579\ttraining's gini: 0.288899\tvalid_1's binary_logloss: 0.676139\tvalid_1's gini: 0.234913\n",
      "[33]\ttraining's binary_logloss: 0.675172\ttraining's gini: 0.289374\tvalid_1's binary_logloss: 0.675751\tvalid_1's gini: 0.235196\n",
      "[34]\ttraining's binary_logloss: 0.674799\ttraining's gini: 0.290039\tvalid_1's binary_logloss: 0.675392\tvalid_1's gini: 0.236166\n",
      "[35]\ttraining's binary_logloss: 0.674484\ttraining's gini: 0.290503\tvalid_1's binary_logloss: 0.67509\tvalid_1's gini: 0.236439\n",
      "[36]\ttraining's binary_logloss: 0.674162\ttraining's gini: 0.291026\tvalid_1's binary_logloss: 0.674781\tvalid_1's gini: 0.236816\n",
      "[37]\ttraining's binary_logloss: 0.67383\ttraining's gini: 0.291864\tvalid_1's binary_logloss: 0.674458\tvalid_1's gini: 0.237623\n",
      "[38]\ttraining's binary_logloss: 0.673487\ttraining's gini: 0.292091\tvalid_1's binary_logloss: 0.674137\tvalid_1's gini: 0.237665\n",
      "[39]\ttraining's binary_logloss: 0.673187\ttraining's gini: 0.292849\tvalid_1's binary_logloss: 0.673844\tvalid_1's gini: 0.238565\n",
      "[40]\ttraining's binary_logloss: 0.672918\ttraining's gini: 0.293089\tvalid_1's binary_logloss: 0.673595\tvalid_1's gini: 0.238256\n",
      "[41]\ttraining's binary_logloss: 0.672561\ttraining's gini: 0.293859\tvalid_1's binary_logloss: 0.673248\tvalid_1's gini: 0.239227\n",
      "[42]\ttraining's binary_logloss: 0.672238\ttraining's gini: 0.294148\tvalid_1's binary_logloss: 0.672939\tvalid_1's gini: 0.239472\n",
      "[43]\ttraining's binary_logloss: 0.67196\ttraining's gini: 0.294336\tvalid_1's binary_logloss: 0.672669\tvalid_1's gini: 0.239804\n",
      "[44]\ttraining's binary_logloss: 0.671686\ttraining's gini: 0.294891\tvalid_1's binary_logloss: 0.672417\tvalid_1's gini: 0.240039\n",
      "[45]\ttraining's binary_logloss: 0.671427\ttraining's gini: 0.295211\tvalid_1's binary_logloss: 0.672162\tvalid_1's gini: 0.240279\n",
      "[46]\ttraining's binary_logloss: 0.671099\ttraining's gini: 0.295191\tvalid_1's binary_logloss: 0.671852\tvalid_1's gini: 0.240204\n",
      "[47]\ttraining's binary_logloss: 0.670822\ttraining's gini: 0.295267\tvalid_1's binary_logloss: 0.671597\tvalid_1's gini: 0.23972\n",
      "[48]\ttraining's binary_logloss: 0.670549\ttraining's gini: 0.29532\tvalid_1's binary_logloss: 0.671336\tvalid_1's gini: 0.239622\n",
      "[49]\ttraining's binary_logloss: 0.670271\ttraining's gini: 0.295468\tvalid_1's binary_logloss: 0.671069\tvalid_1's gini: 0.239735\n",
      "[50]\ttraining's binary_logloss: 0.669962\ttraining's gini: 0.295594\tvalid_1's binary_logloss: 0.670768\tvalid_1's gini: 0.239821\n",
      "[51]\ttraining's binary_logloss: 0.669665\ttraining's gini: 0.295984\tvalid_1's binary_logloss: 0.670473\tvalid_1's gini: 0.240127\n",
      "[52]\ttraining's binary_logloss: 0.669403\ttraining's gini: 0.296452\tvalid_1's binary_logloss: 0.670228\tvalid_1's gini: 0.240466\n",
      "[53]\ttraining's binary_logloss: 0.669123\ttraining's gini: 0.296479\tvalid_1's binary_logloss: 0.669968\tvalid_1's gini: 0.240263\n",
      "[54]\ttraining's binary_logloss: 0.668874\ttraining's gini: 0.296938\tvalid_1's binary_logloss: 0.669734\tvalid_1's gini: 0.240652\n",
      "[55]\ttraining's binary_logloss: 0.66859\ttraining's gini: 0.2973\tvalid_1's binary_logloss: 0.669464\tvalid_1's gini: 0.240658\n",
      "[56]\ttraining's binary_logloss: 0.668345\ttraining's gini: 0.297598\tvalid_1's binary_logloss: 0.669235\tvalid_1's gini: 0.241086\n",
      "[57]\ttraining's binary_logloss: 0.66807\ttraining's gini: 0.297788\tvalid_1's binary_logloss: 0.668977\tvalid_1's gini: 0.240983\n",
      "[58]\ttraining's binary_logloss: 0.66783\ttraining's gini: 0.298423\tvalid_1's binary_logloss: 0.668752\tvalid_1's gini: 0.241414\n",
      "[59]\ttraining's binary_logloss: 0.667581\ttraining's gini: 0.298912\tvalid_1's binary_logloss: 0.66851\tvalid_1's gini: 0.241743\n",
      "[60]\ttraining's binary_logloss: 0.667392\ttraining's gini: 0.29927\tvalid_1's binary_logloss: 0.668328\tvalid_1's gini: 0.242117\n",
      "[61]\ttraining's binary_logloss: 0.667173\ttraining's gini: 0.299467\tvalid_1's binary_logloss: 0.668115\tvalid_1's gini: 0.242261\n",
      "[62]\ttraining's binary_logloss: 0.666922\ttraining's gini: 0.299685\tvalid_1's binary_logloss: 0.66788\tvalid_1's gini: 0.242349\n",
      "[63]\ttraining's binary_logloss: 0.66667\ttraining's gini: 0.300117\tvalid_1's binary_logloss: 0.667636\tvalid_1's gini: 0.242661\n",
      "[64]\ttraining's binary_logloss: 0.666448\ttraining's gini: 0.300311\tvalid_1's binary_logloss: 0.667424\tvalid_1's gini: 0.242881\n",
      "[65]\ttraining's binary_logloss: 0.66623\ttraining's gini: 0.300492\tvalid_1's binary_logloss: 0.667221\tvalid_1's gini: 0.242818\n"
     ]
    },
    {
     "name": "stdout",
     "output_type": "stream",
     "text": [
      "[66]\ttraining's binary_logloss: 0.666022\ttraining's gini: 0.300818\tvalid_1's binary_logloss: 0.667019\tvalid_1's gini: 0.24286\n",
      "[67]\ttraining's binary_logloss: 0.665829\ttraining's gini: 0.301217\tvalid_1's binary_logloss: 0.666841\tvalid_1's gini: 0.243071\n",
      "[68]\ttraining's binary_logloss: 0.665629\ttraining's gini: 0.30149\tvalid_1's binary_logloss: 0.666662\tvalid_1's gini: 0.242967\n",
      "[69]\ttraining's binary_logloss: 0.665416\ttraining's gini: 0.302026\tvalid_1's binary_logloss: 0.666459\tvalid_1's gini: 0.243467\n",
      "[70]\ttraining's binary_logloss: 0.665198\ttraining's gini: 0.302257\tvalid_1's binary_logloss: 0.666253\tvalid_1's gini: 0.24357\n",
      "[71]\ttraining's binary_logloss: 0.665012\ttraining's gini: 0.302536\tvalid_1's binary_logloss: 0.666074\tvalid_1's gini: 0.243807\n",
      "[72]\ttraining's binary_logloss: 0.664806\ttraining's gini: 0.302959\tvalid_1's binary_logloss: 0.665884\tvalid_1's gini: 0.244208\n",
      "[73]\ttraining's binary_logloss: 0.66464\ttraining's gini: 0.303092\tvalid_1's binary_logloss: 0.665734\tvalid_1's gini: 0.244201\n",
      "[74]\ttraining's binary_logloss: 0.664465\ttraining's gini: 0.303278\tvalid_1's binary_logloss: 0.665575\tvalid_1's gini: 0.244102\n",
      "[75]\ttraining's binary_logloss: 0.664263\ttraining's gini: 0.303549\tvalid_1's binary_logloss: 0.665385\tvalid_1's gini: 0.244022\n",
      "[76]\ttraining's binary_logloss: 0.664089\ttraining's gini: 0.303719\tvalid_1's binary_logloss: 0.665227\tvalid_1's gini: 0.244027\n",
      "[77]\ttraining's binary_logloss: 0.663948\ttraining's gini: 0.304003\tvalid_1's binary_logloss: 0.665101\tvalid_1's gini: 0.244163\n",
      "[78]\ttraining's binary_logloss: 0.663782\ttraining's gini: 0.304218\tvalid_1's binary_logloss: 0.664953\tvalid_1's gini: 0.24424\n",
      "[79]\ttraining's binary_logloss: 0.663612\ttraining's gini: 0.304562\tvalid_1's binary_logloss: 0.664798\tvalid_1's gini: 0.244449\n",
      "[80]\ttraining's binary_logloss: 0.663423\ttraining's gini: 0.304966\tvalid_1's binary_logloss: 0.664619\tvalid_1's gini: 0.244589\n",
      "[81]\ttraining's binary_logloss: 0.663233\ttraining's gini: 0.305524\tvalid_1's binary_logloss: 0.66444\tvalid_1's gini: 0.244962\n",
      "[82]\ttraining's binary_logloss: 0.663049\ttraining's gini: 0.305701\tvalid_1's binary_logloss: 0.664274\tvalid_1's gini: 0.244696\n",
      "[83]\ttraining's binary_logloss: 0.662868\ttraining's gini: 0.306201\tvalid_1's binary_logloss: 0.6641\tvalid_1's gini: 0.24512\n",
      "[84]\ttraining's binary_logloss: 0.662681\ttraining's gini: 0.306653\tvalid_1's binary_logloss: 0.663926\tvalid_1's gini: 0.245531\n",
      "[85]\ttraining's binary_logloss: 0.662513\ttraining's gini: 0.306984\tvalid_1's binary_logloss: 0.663763\tvalid_1's gini: 0.24564\n",
      "[86]\ttraining's binary_logloss: 0.662358\ttraining's gini: 0.307227\tvalid_1's binary_logloss: 0.663629\tvalid_1's gini: 0.245546\n",
      "[87]\ttraining's binary_logloss: 0.662198\ttraining's gini: 0.307456\tvalid_1's binary_logloss: 0.663484\tvalid_1's gini: 0.245605\n",
      "[88]\ttraining's binary_logloss: 0.662031\ttraining's gini: 0.30786\tvalid_1's binary_logloss: 0.663319\tvalid_1's gini: 0.245849\n",
      "[89]\ttraining's binary_logloss: 0.661856\ttraining's gini: 0.308213\tvalid_1's binary_logloss: 0.663152\tvalid_1's gini: 0.246082\n",
      "[90]\ttraining's binary_logloss: 0.661692\ttraining's gini: 0.30881\tvalid_1's binary_logloss: 0.663002\tvalid_1's gini: 0.246381\n",
      "[91]\ttraining's binary_logloss: 0.661543\ttraining's gini: 0.308904\tvalid_1's binary_logloss: 0.66286\tvalid_1's gini: 0.246476\n",
      "[92]\ttraining's binary_logloss: 0.661392\ttraining's gini: 0.309189\tvalid_1's binary_logloss: 0.662727\tvalid_1's gini: 0.246318\n",
      "[93]\ttraining's binary_logloss: 0.661267\ttraining's gini: 0.309397\tvalid_1's binary_logloss: 0.662622\tvalid_1's gini: 0.246286\n",
      "[94]\ttraining's binary_logloss: 0.661103\ttraining's gini: 0.309787\tvalid_1's binary_logloss: 0.662474\tvalid_1's gini: 0.246498\n",
      "[95]\ttraining's binary_logloss: 0.660961\ttraining's gini: 0.310058\tvalid_1's binary_logloss: 0.662345\tvalid_1's gini: 0.246541\n",
      "[96]\ttraining's binary_logloss: 0.660808\ttraining's gini: 0.310278\tvalid_1's binary_logloss: 0.662198\tvalid_1's gini: 0.246558\n",
      "[97]\ttraining's binary_logloss: 0.660665\ttraining's gini: 0.31057\tvalid_1's binary_logloss: 0.66206\tvalid_1's gini: 0.246751\n",
      "[98]\ttraining's binary_logloss: 0.66052\ttraining's gini: 0.310945\tvalid_1's binary_logloss: 0.661919\tvalid_1's gini: 0.247095\n",
      "[99]\ttraining's binary_logloss: 0.660393\ttraining's gini: 0.311282\tvalid_1's binary_logloss: 0.661805\tvalid_1's gini: 0.247186\n",
      "[100]\ttraining's binary_logloss: 0.660244\ttraining's gini: 0.311587\tvalid_1's binary_logloss: 0.661673\tvalid_1's gini: 0.247391\n",
      "[101]\ttraining's binary_logloss: 0.660103\ttraining's gini: 0.312015\tvalid_1's binary_logloss: 0.661549\tvalid_1's gini: 0.247692\n",
      "[102]\ttraining's binary_logloss: 0.659984\ttraining's gini: 0.312375\tvalid_1's binary_logloss: 0.66144\tvalid_1's gini: 0.247809\n",
      "[103]\ttraining's binary_logloss: 0.659853\ttraining's gini: 0.312652\tvalid_1's binary_logloss: 0.661323\tvalid_1's gini: 0.247839\n",
      "[104]\ttraining's binary_logloss: 0.659712\ttraining's gini: 0.312992\tvalid_1's binary_logloss: 0.66118\tvalid_1's gini: 0.247994\n",
      "[105]\ttraining's binary_logloss: 0.659586\ttraining's gini: 0.313227\tvalid_1's binary_logloss: 0.661063\tvalid_1's gini: 0.247907\n",
      "[106]\ttraining's binary_logloss: 0.659461\ttraining's gini: 0.313449\tvalid_1's binary_logloss: 0.660944\tvalid_1's gini: 0.247985\n",
      "[107]\ttraining's binary_logloss: 0.659326\ttraining's gini: 0.313814\tvalid_1's binary_logloss: 0.660812\tvalid_1's gini: 0.248107\n",
      "[108]\ttraining's binary_logloss: 0.659194\ttraining's gini: 0.314116\tvalid_1's binary_logloss: 0.660688\tvalid_1's gini: 0.24823\n",
      "[109]\ttraining's binary_logloss: 0.659072\ttraining's gini: 0.314321\tvalid_1's binary_logloss: 0.660579\tvalid_1's gini: 0.248278\n",
      "[110]\ttraining's binary_logloss: 0.658958\ttraining's gini: 0.314497\tvalid_1's binary_logloss: 0.660475\tvalid_1's gini: 0.248205\n",
      "[111]\ttraining's binary_logloss: 0.658834\ttraining's gini: 0.314749\tvalid_1's binary_logloss: 0.660364\tvalid_1's gini: 0.248274\n",
      "[112]\ttraining's binary_logloss: 0.65871\ttraining's gini: 0.315064\tvalid_1's binary_logloss: 0.660254\tvalid_1's gini: 0.248428\n",
      "[113]\ttraining's binary_logloss: 0.658595\ttraining's gini: 0.315302\tvalid_1's binary_logloss: 0.660149\tvalid_1's gini: 0.248492\n",
      "[114]\ttraining's binary_logloss: 0.658441\ttraining's gini: 0.315851\tvalid_1's binary_logloss: 0.659998\tvalid_1's gini: 0.248962\n",
      "[115]\ttraining's binary_logloss: 0.658328\ttraining's gini: 0.316162\tvalid_1's binary_logloss: 0.659896\tvalid_1's gini: 0.248959\n",
      "[116]\ttraining's binary_logloss: 0.65822\ttraining's gini: 0.316371\tvalid_1's binary_logloss: 0.659799\tvalid_1's gini: 0.248957\n",
      "[117]\ttraining's binary_logloss: 0.658105\ttraining's gini: 0.31663\tvalid_1's binary_logloss: 0.659691\tvalid_1's gini: 0.249064\n",
      "[118]\ttraining's binary_logloss: 0.658005\ttraining's gini: 0.316881\tvalid_1's binary_logloss: 0.659606\tvalid_1's gini: 0.249078\n",
      "[119]\ttraining's binary_logloss: 0.657876\ttraining's gini: 0.317264\tvalid_1's binary_logloss: 0.659485\tvalid_1's gini: 0.249307\n",
      "[120]\ttraining's binary_logloss: 0.657743\ttraining's gini: 0.317758\tvalid_1's binary_logloss: 0.659361\tvalid_1's gini: 0.249564\n",
      "[121]\ttraining's binary_logloss: 0.657614\ttraining's gini: 0.318088\tvalid_1's binary_logloss: 0.659239\tvalid_1's gini: 0.249737\n",
      "[122]\ttraining's binary_logloss: 0.657502\ttraining's gini: 0.318364\tvalid_1's binary_logloss: 0.659136\tvalid_1's gini: 0.249715\n",
      "[123]\ttraining's binary_logloss: 0.65738\ttraining's gini: 0.318759\tvalid_1's binary_logloss: 0.65903\tvalid_1's gini: 0.249893\n",
      "[124]\ttraining's binary_logloss: 0.657256\ttraining's gini: 0.319097\tvalid_1's binary_logloss: 0.658916\tvalid_1's gini: 0.250261\n",
      "[125]\ttraining's binary_logloss: 0.657145\ttraining's gini: 0.31949\tvalid_1's binary_logloss: 0.658816\tvalid_1's gini: 0.250302\n",
      "[126]\ttraining's binary_logloss: 0.657013\ttraining's gini: 0.319967\tvalid_1's binary_logloss: 0.658691\tvalid_1's gini: 0.25054\n",
      "[127]\ttraining's binary_logloss: 0.656906\ttraining's gini: 0.320236\tvalid_1's binary_logloss: 0.658589\tvalid_1's gini: 0.250648\n",
      "[128]\ttraining's binary_logloss: 0.656792\ttraining's gini: 0.320578\tvalid_1's binary_logloss: 0.658486\tvalid_1's gini: 0.250796\n",
      "[129]\ttraining's binary_logloss: 0.656702\ttraining's gini: 0.320864\tvalid_1's binary_logloss: 0.658404\tvalid_1's gini: 0.250753\n",
      "[130]\ttraining's binary_logloss: 0.656586\ttraining's gini: 0.321259\tvalid_1's binary_logloss: 0.658295\tvalid_1's gini: 0.250984\n"
     ]
    },
    {
     "name": "stdout",
     "output_type": "stream",
     "text": [
      "[131]\ttraining's binary_logloss: 0.656472\ttraining's gini: 0.321614\tvalid_1's binary_logloss: 0.658189\tvalid_1's gini: 0.25122\n",
      "[132]\ttraining's binary_logloss: 0.656344\ttraining's gini: 0.322043\tvalid_1's binary_logloss: 0.658064\tvalid_1's gini: 0.2515\n",
      "[133]\ttraining's binary_logloss: 0.65623\ttraining's gini: 0.322415\tvalid_1's binary_logloss: 0.657957\tvalid_1's gini: 0.251689\n",
      "[134]\ttraining's binary_logloss: 0.656126\ttraining's gini: 0.322735\tvalid_1's binary_logloss: 0.657863\tvalid_1's gini: 0.251746\n",
      "[135]\ttraining's binary_logloss: 0.656035\ttraining's gini: 0.32293\tvalid_1's binary_logloss: 0.657784\tvalid_1's gini: 0.251734\n",
      "[136]\ttraining's binary_logloss: 0.655942\ttraining's gini: 0.323181\tvalid_1's binary_logloss: 0.657703\tvalid_1's gini: 0.251739\n",
      "[137]\ttraining's binary_logloss: 0.655821\ttraining's gini: 0.323554\tvalid_1's binary_logloss: 0.657588\tvalid_1's gini: 0.251973\n",
      "[138]\ttraining's binary_logloss: 0.655715\ttraining's gini: 0.323864\tvalid_1's binary_logloss: 0.657489\tvalid_1's gini: 0.252256\n",
      "[139]\ttraining's binary_logloss: 0.655616\ttraining's gini: 0.324147\tvalid_1's binary_logloss: 0.657402\tvalid_1's gini: 0.252181\n",
      "[140]\ttraining's binary_logloss: 0.65552\ttraining's gini: 0.324407\tvalid_1's binary_logloss: 0.657315\tvalid_1's gini: 0.25221\n",
      "[141]\ttraining's binary_logloss: 0.655421\ttraining's gini: 0.324709\tvalid_1's binary_logloss: 0.657227\tvalid_1's gini: 0.252261\n",
      "[142]\ttraining's binary_logloss: 0.655329\ttraining's gini: 0.325004\tvalid_1's binary_logloss: 0.657152\tvalid_1's gini: 0.252215\n",
      "[143]\ttraining's binary_logloss: 0.655246\ttraining's gini: 0.325183\tvalid_1's binary_logloss: 0.657083\tvalid_1's gini: 0.252148\n",
      "[144]\ttraining's binary_logloss: 0.655137\ttraining's gini: 0.325495\tvalid_1's binary_logloss: 0.65698\tvalid_1's gini: 0.252366\n",
      "[145]\ttraining's binary_logloss: 0.655032\ttraining's gini: 0.32589\tvalid_1's binary_logloss: 0.656878\tvalid_1's gini: 0.252647\n",
      "[146]\ttraining's binary_logloss: 0.654943\ttraining's gini: 0.326107\tvalid_1's binary_logloss: 0.656797\tvalid_1's gini: 0.252699\n",
      "[147]\ttraining's binary_logloss: 0.654848\ttraining's gini: 0.326413\tvalid_1's binary_logloss: 0.656696\tvalid_1's gini: 0.252966\n",
      "[148]\ttraining's binary_logloss: 0.654748\ttraining's gini: 0.326694\tvalid_1's binary_logloss: 0.656601\tvalid_1's gini: 0.253201\n",
      "[149]\ttraining's binary_logloss: 0.654649\ttraining's gini: 0.327071\tvalid_1's binary_logloss: 0.656513\tvalid_1's gini: 0.253387\n",
      "[150]\ttraining's binary_logloss: 0.654557\ttraining's gini: 0.327299\tvalid_1's binary_logloss: 0.656432\tvalid_1's gini: 0.253409\n",
      "[151]\ttraining's binary_logloss: 0.65447\ttraining's gini: 0.327577\tvalid_1's binary_logloss: 0.656352\tvalid_1's gini: 0.253462\n",
      "[152]\ttraining's binary_logloss: 0.654387\ttraining's gini: 0.327914\tvalid_1's binary_logloss: 0.656274\tvalid_1's gini: 0.25355\n",
      "[153]\ttraining's binary_logloss: 0.654293\ttraining's gini: 0.328224\tvalid_1's binary_logloss: 0.656195\tvalid_1's gini: 0.253611\n",
      "[154]\ttraining's binary_logloss: 0.654203\ttraining's gini: 0.328468\tvalid_1's binary_logloss: 0.656114\tvalid_1's gini: 0.253585\n",
      "[155]\ttraining's binary_logloss: 0.654105\ttraining's gini: 0.328741\tvalid_1's binary_logloss: 0.65603\tvalid_1's gini: 0.253593\n",
      "[156]\ttraining's binary_logloss: 0.654007\ttraining's gini: 0.329053\tvalid_1's binary_logloss: 0.655935\tvalid_1's gini: 0.253647\n",
      "[157]\ttraining's binary_logloss: 0.653913\ttraining's gini: 0.329312\tvalid_1's binary_logloss: 0.655854\tvalid_1's gini: 0.253679\n",
      "[158]\ttraining's binary_logloss: 0.653834\ttraining's gini: 0.329478\tvalid_1's binary_logloss: 0.655779\tvalid_1's gini: 0.253625\n",
      "[159]\ttraining's binary_logloss: 0.653737\ttraining's gini: 0.329862\tvalid_1's binary_logloss: 0.655694\tvalid_1's gini: 0.253642\n",
      "[160]\ttraining's binary_logloss: 0.653645\ttraining's gini: 0.330181\tvalid_1's binary_logloss: 0.655605\tvalid_1's gini: 0.253842\n",
      "[161]\ttraining's binary_logloss: 0.653557\ttraining's gini: 0.330538\tvalid_1's binary_logloss: 0.65553\tvalid_1's gini: 0.253976\n",
      "[162]\ttraining's binary_logloss: 0.653468\ttraining's gini: 0.33083\tvalid_1's binary_logloss: 0.655451\tvalid_1's gini: 0.254039\n",
      "[163]\ttraining's binary_logloss: 0.653383\ttraining's gini: 0.331099\tvalid_1's binary_logloss: 0.655378\tvalid_1's gini: 0.254156\n",
      "[164]\ttraining's binary_logloss: 0.653294\ttraining's gini: 0.331401\tvalid_1's binary_logloss: 0.655295\tvalid_1's gini: 0.254207\n",
      "[165]\ttraining's binary_logloss: 0.653193\ttraining's gini: 0.331752\tvalid_1's binary_logloss: 0.655204\tvalid_1's gini: 0.254355\n",
      "[166]\ttraining's binary_logloss: 0.653094\ttraining's gini: 0.332064\tvalid_1's binary_logloss: 0.655109\tvalid_1's gini: 0.25448\n",
      "[167]\ttraining's binary_logloss: 0.653011\ttraining's gini: 0.332375\tvalid_1's binary_logloss: 0.655037\tvalid_1's gini: 0.254451\n",
      "[168]\ttraining's binary_logloss: 0.65292\ttraining's gini: 0.332622\tvalid_1's binary_logloss: 0.654954\tvalid_1's gini: 0.254618\n",
      "[169]\ttraining's binary_logloss: 0.652837\ttraining's gini: 0.332901\tvalid_1's binary_logloss: 0.654881\tvalid_1's gini: 0.254593\n",
      "[170]\ttraining's binary_logloss: 0.65275\ttraining's gini: 0.333197\tvalid_1's binary_logloss: 0.654803\tvalid_1's gini: 0.254712\n",
      "[171]\ttraining's binary_logloss: 0.652667\ttraining's gini: 0.333477\tvalid_1's binary_logloss: 0.654733\tvalid_1's gini: 0.254778\n",
      "[172]\ttraining's binary_logloss: 0.652577\ttraining's gini: 0.333788\tvalid_1's binary_logloss: 0.654653\tvalid_1's gini: 0.254856\n",
      "[173]\ttraining's binary_logloss: 0.652475\ttraining's gini: 0.334131\tvalid_1's binary_logloss: 0.65456\tvalid_1's gini: 0.255088\n",
      "[174]\ttraining's binary_logloss: 0.652396\ttraining's gini: 0.334404\tvalid_1's binary_logloss: 0.65449\tvalid_1's gini: 0.25505\n",
      "[175]\ttraining's binary_logloss: 0.652312\ttraining's gini: 0.33469\tvalid_1's binary_logloss: 0.654422\tvalid_1's gini: 0.255093\n",
      "[176]\ttraining's binary_logloss: 0.652237\ttraining's gini: 0.334934\tvalid_1's binary_logloss: 0.654352\tvalid_1's gini: 0.255106\n",
      "[177]\ttraining's binary_logloss: 0.652149\ttraining's gini: 0.335268\tvalid_1's binary_logloss: 0.654277\tvalid_1's gini: 0.255193\n",
      "[178]\ttraining's binary_logloss: 0.652065\ttraining's gini: 0.335573\tvalid_1's binary_logloss: 0.654205\tvalid_1's gini: 0.255287\n",
      "[179]\ttraining's binary_logloss: 0.651987\ttraining's gini: 0.335899\tvalid_1's binary_logloss: 0.65413\tvalid_1's gini: 0.25538\n",
      "[180]\ttraining's binary_logloss: 0.65191\ttraining's gini: 0.336181\tvalid_1's binary_logloss: 0.654068\tvalid_1's gini: 0.255467\n",
      "[181]\ttraining's binary_logloss: 0.651816\ttraining's gini: 0.336522\tvalid_1's binary_logloss: 0.653982\tvalid_1's gini: 0.255645\n",
      "[182]\ttraining's binary_logloss: 0.651722\ttraining's gini: 0.336865\tvalid_1's binary_logloss: 0.653909\tvalid_1's gini: 0.255817\n",
      "[183]\ttraining's binary_logloss: 0.651631\ttraining's gini: 0.337189\tvalid_1's binary_logloss: 0.653824\tvalid_1's gini: 0.256009\n",
      "[184]\ttraining's binary_logloss: 0.651548\ttraining's gini: 0.337469\tvalid_1's binary_logloss: 0.653751\tvalid_1's gini: 0.256202\n",
      "[185]\ttraining's binary_logloss: 0.651459\ttraining's gini: 0.337781\tvalid_1's binary_logloss: 0.653664\tvalid_1's gini: 0.2563\n",
      "[186]\ttraining's binary_logloss: 0.651371\ttraining's gini: 0.338097\tvalid_1's binary_logloss: 0.653587\tvalid_1's gini: 0.256418\n",
      "[187]\ttraining's binary_logloss: 0.651304\ttraining's gini: 0.33829\tvalid_1's binary_logloss: 0.653527\tvalid_1's gini: 0.256479\n",
      "[188]\ttraining's binary_logloss: 0.651228\ttraining's gini: 0.338553\tvalid_1's binary_logloss: 0.653465\tvalid_1's gini: 0.256508\n",
      "[189]\ttraining's binary_logloss: 0.651148\ttraining's gini: 0.338842\tvalid_1's binary_logloss: 0.653399\tvalid_1's gini: 0.256415\n",
      "[190]\ttraining's binary_logloss: 0.651069\ttraining's gini: 0.339116\tvalid_1's binary_logloss: 0.653325\tvalid_1's gini: 0.256406\n",
      "[191]\ttraining's binary_logloss: 0.650987\ttraining's gini: 0.339447\tvalid_1's binary_logloss: 0.65325\tvalid_1's gini: 0.256435\n",
      "[192]\ttraining's binary_logloss: 0.650909\ttraining's gini: 0.339704\tvalid_1's binary_logloss: 0.653189\tvalid_1's gini: 0.256392\n",
      "[193]\ttraining's binary_logloss: 0.65083\ttraining's gini: 0.339981\tvalid_1's binary_logloss: 0.653126\tvalid_1's gini: 0.256351\n",
      "[194]\ttraining's binary_logloss: 0.650743\ttraining's gini: 0.340338\tvalid_1's binary_logloss: 0.653049\tvalid_1's gini: 0.256478\n",
      "[195]\ttraining's binary_logloss: 0.650677\ttraining's gini: 0.340515\tvalid_1's binary_logloss: 0.652995\tvalid_1's gini: 0.256516\n"
     ]
    },
    {
     "name": "stdout",
     "output_type": "stream",
     "text": [
      "[196]\ttraining's binary_logloss: 0.650588\ttraining's gini: 0.340847\tvalid_1's binary_logloss: 0.652908\tvalid_1's gini: 0.256769\n",
      "[197]\ttraining's binary_logloss: 0.650507\ttraining's gini: 0.34114\tvalid_1's binary_logloss: 0.652846\tvalid_1's gini: 0.256761\n",
      "[198]\ttraining's binary_logloss: 0.650429\ttraining's gini: 0.341401\tvalid_1's binary_logloss: 0.652771\tvalid_1's gini: 0.256981\n",
      "[199]\ttraining's binary_logloss: 0.650366\ttraining's gini: 0.341638\tvalid_1's binary_logloss: 0.652713\tvalid_1's gini: 0.257012\n",
      "[200]\ttraining's binary_logloss: 0.650283\ttraining's gini: 0.34196\tvalid_1's binary_logloss: 0.652638\tvalid_1's gini: 0.257065\n",
      "[201]\ttraining's binary_logloss: 0.650208\ttraining's gini: 0.342208\tvalid_1's binary_logloss: 0.652569\tvalid_1's gini: 0.257155\n",
      "[202]\ttraining's binary_logloss: 0.650132\ttraining's gini: 0.342457\tvalid_1's binary_logloss: 0.652502\tvalid_1's gini: 0.257169\n",
      "[203]\ttraining's binary_logloss: 0.650054\ttraining's gini: 0.342788\tvalid_1's binary_logloss: 0.652431\tvalid_1's gini: 0.25718\n",
      "[204]\ttraining's binary_logloss: 0.649972\ttraining's gini: 0.34309\tvalid_1's binary_logloss: 0.652353\tvalid_1's gini: 0.257226\n",
      "[205]\ttraining's binary_logloss: 0.649895\ttraining's gini: 0.343361\tvalid_1's binary_logloss: 0.652289\tvalid_1's gini: 0.2573\n",
      "[206]\ttraining's binary_logloss: 0.649804\ttraining's gini: 0.343689\tvalid_1's binary_logloss: 0.65221\tvalid_1's gini: 0.257451\n",
      "[207]\ttraining's binary_logloss: 0.64972\ttraining's gini: 0.34399\tvalid_1's binary_logloss: 0.652126\tvalid_1's gini: 0.257584\n",
      "[208]\ttraining's binary_logloss: 0.649653\ttraining's gini: 0.344227\tvalid_1's binary_logloss: 0.652073\tvalid_1's gini: 0.257616\n",
      "[209]\ttraining's binary_logloss: 0.649578\ttraining's gini: 0.344481\tvalid_1's binary_logloss: 0.652017\tvalid_1's gini: 0.257652\n",
      "[210]\ttraining's binary_logloss: 0.649497\ttraining's gini: 0.344794\tvalid_1's binary_logloss: 0.651951\tvalid_1's gini: 0.257708\n",
      "[211]\ttraining's binary_logloss: 0.64943\ttraining's gini: 0.345028\tvalid_1's binary_logloss: 0.651895\tvalid_1's gini: 0.257686\n",
      "[212]\ttraining's binary_logloss: 0.649359\ttraining's gini: 0.345283\tvalid_1's binary_logloss: 0.651827\tvalid_1's gini: 0.257818\n",
      "[213]\ttraining's binary_logloss: 0.649301\ttraining's gini: 0.345471\tvalid_1's binary_logloss: 0.651775\tvalid_1's gini: 0.2579\n",
      "[214]\ttraining's binary_logloss: 0.649228\ttraining's gini: 0.345717\tvalid_1's binary_logloss: 0.651705\tvalid_1's gini: 0.258004\n",
      "[215]\ttraining's binary_logloss: 0.649163\ttraining's gini: 0.345954\tvalid_1's binary_logloss: 0.651647\tvalid_1's gini: 0.258036\n",
      "[216]\ttraining's binary_logloss: 0.649103\ttraining's gini: 0.346201\tvalid_1's binary_logloss: 0.651591\tvalid_1's gini: 0.258029\n",
      "[217]\ttraining's binary_logloss: 0.649039\ttraining's gini: 0.346453\tvalid_1's binary_logloss: 0.651536\tvalid_1's gini: 0.257973\n",
      "[218]\ttraining's binary_logloss: 0.648972\ttraining's gini: 0.346665\tvalid_1's binary_logloss: 0.651488\tvalid_1's gini: 0.258012\n",
      "[219]\ttraining's binary_logloss: 0.648903\ttraining's gini: 0.346873\tvalid_1's binary_logloss: 0.65143\tvalid_1's gini: 0.257975\n",
      "[220]\ttraining's binary_logloss: 0.648831\ttraining's gini: 0.34716\tvalid_1's binary_logloss: 0.651367\tvalid_1's gini: 0.258055\n",
      "[221]\ttraining's binary_logloss: 0.648765\ttraining's gini: 0.34739\tvalid_1's binary_logloss: 0.651308\tvalid_1's gini: 0.258122\n",
      "[222]\ttraining's binary_logloss: 0.648699\ttraining's gini: 0.347622\tvalid_1's binary_logloss: 0.651248\tvalid_1's gini: 0.258046\n",
      "[223]\ttraining's binary_logloss: 0.648619\ttraining's gini: 0.347938\tvalid_1's binary_logloss: 0.651176\tvalid_1's gini: 0.258237\n",
      "[224]\ttraining's binary_logloss: 0.648553\ttraining's gini: 0.348192\tvalid_1's binary_logloss: 0.651117\tvalid_1's gini: 0.258253\n",
      "[225]\ttraining's binary_logloss: 0.64847\ttraining's gini: 0.348566\tvalid_1's binary_logloss: 0.651043\tvalid_1's gini: 0.258307\n",
      "[226]\ttraining's binary_logloss: 0.648391\ttraining's gini: 0.34887\tvalid_1's binary_logloss: 0.650982\tvalid_1's gini: 0.258323\n",
      "[227]\ttraining's binary_logloss: 0.648305\ttraining's gini: 0.349167\tvalid_1's binary_logloss: 0.6509\tvalid_1's gini: 0.258493\n",
      "[228]\ttraining's binary_logloss: 0.648242\ttraining's gini: 0.349378\tvalid_1's binary_logloss: 0.650841\tvalid_1's gini: 0.258536\n",
      "[229]\ttraining's binary_logloss: 0.648168\ttraining's gini: 0.349689\tvalid_1's binary_logloss: 0.650771\tvalid_1's gini: 0.25848\n",
      "[230]\ttraining's binary_logloss: 0.648096\ttraining's gini: 0.349964\tvalid_1's binary_logloss: 0.650714\tvalid_1's gini: 0.258476\n",
      "[231]\ttraining's binary_logloss: 0.64802\ttraining's gini: 0.350269\tvalid_1's binary_logloss: 0.650641\tvalid_1's gini: 0.258628\n",
      "[232]\ttraining's binary_logloss: 0.647939\ttraining's gini: 0.350578\tvalid_1's binary_logloss: 0.650572\tvalid_1's gini: 0.258779\n",
      "[233]\ttraining's binary_logloss: 0.647885\ttraining's gini: 0.350757\tvalid_1's binary_logloss: 0.65052\tvalid_1's gini: 0.258769\n",
      "[234]\ttraining's binary_logloss: 0.647813\ttraining's gini: 0.35102\tvalid_1's binary_logloss: 0.65046\tvalid_1's gini: 0.25876\n",
      "[235]\ttraining's binary_logloss: 0.647734\ttraining's gini: 0.351323\tvalid_1's binary_logloss: 0.650391\tvalid_1's gini: 0.258739\n",
      "[236]\ttraining's binary_logloss: 0.647662\ttraining's gini: 0.351599\tvalid_1's binary_logloss: 0.650328\tvalid_1's gini: 0.258695\n",
      "[237]\ttraining's binary_logloss: 0.647596\ttraining's gini: 0.351862\tvalid_1's binary_logloss: 0.650276\tvalid_1's gini: 0.258637\n",
      "[238]\ttraining's binary_logloss: 0.647518\ttraining's gini: 0.352146\tvalid_1's binary_logloss: 0.650206\tvalid_1's gini: 0.258828\n",
      "[239]\ttraining's binary_logloss: 0.647447\ttraining's gini: 0.352393\tvalid_1's binary_logloss: 0.650145\tvalid_1's gini: 0.258886\n",
      "[240]\ttraining's binary_logloss: 0.64739\ttraining's gini: 0.352598\tvalid_1's binary_logloss: 0.650098\tvalid_1's gini: 0.258849\n",
      "[241]\ttraining's binary_logloss: 0.647321\ttraining's gini: 0.352854\tvalid_1's binary_logloss: 0.650036\tvalid_1's gini: 0.258884\n",
      "[242]\ttraining's binary_logloss: 0.647243\ttraining's gini: 0.353136\tvalid_1's binary_logloss: 0.649968\tvalid_1's gini: 0.258901\n",
      "[243]\ttraining's binary_logloss: 0.647162\ttraining's gini: 0.353458\tvalid_1's binary_logloss: 0.649897\tvalid_1's gini: 0.259001\n",
      "[244]\ttraining's binary_logloss: 0.647098\ttraining's gini: 0.353735\tvalid_1's binary_logloss: 0.649847\tvalid_1's gini: 0.25898\n",
      "[245]\ttraining's binary_logloss: 0.647028\ttraining's gini: 0.354008\tvalid_1's binary_logloss: 0.64978\tvalid_1's gini: 0.259152\n",
      "[246]\ttraining's binary_logloss: 0.646962\ttraining's gini: 0.354254\tvalid_1's binary_logloss: 0.649727\tvalid_1's gini: 0.259221\n",
      "[247]\ttraining's binary_logloss: 0.646902\ttraining's gini: 0.354539\tvalid_1's binary_logloss: 0.649678\tvalid_1's gini: 0.259289\n",
      "[248]\ttraining's binary_logloss: 0.646834\ttraining's gini: 0.354836\tvalid_1's binary_logloss: 0.649621\tvalid_1's gini: 0.259294\n",
      "[249]\ttraining's binary_logloss: 0.646769\ttraining's gini: 0.355035\tvalid_1's binary_logloss: 0.649574\tvalid_1's gini: 0.259224\n",
      "[250]\ttraining's binary_logloss: 0.64671\ttraining's gini: 0.355244\tvalid_1's binary_logloss: 0.649521\tvalid_1's gini: 0.259214\n",
      "[251]\ttraining's binary_logloss: 0.646651\ttraining's gini: 0.355474\tvalid_1's binary_logloss: 0.649471\tvalid_1's gini: 0.259271\n",
      "[252]\ttraining's binary_logloss: 0.646586\ttraining's gini: 0.355762\tvalid_1's binary_logloss: 0.64942\tvalid_1's gini: 0.259286\n",
      "[253]\ttraining's binary_logloss: 0.646522\ttraining's gini: 0.356015\tvalid_1's binary_logloss: 0.649369\tvalid_1's gini: 0.259285\n",
      "[254]\ttraining's binary_logloss: 0.646464\ttraining's gini: 0.356264\tvalid_1's binary_logloss: 0.64932\tvalid_1's gini: 0.259178\n",
      "[255]\ttraining's binary_logloss: 0.646388\ttraining's gini: 0.356564\tvalid_1's binary_logloss: 0.649255\tvalid_1's gini: 0.259261\n",
      "[256]\ttraining's binary_logloss: 0.646325\ttraining's gini: 0.356799\tvalid_1's binary_logloss: 0.649204\tvalid_1's gini: 0.259272\n",
      "[257]\ttraining's binary_logloss: 0.64627\ttraining's gini: 0.35703\tvalid_1's binary_logloss: 0.649158\tvalid_1's gini: 0.259338\n",
      "[258]\ttraining's binary_logloss: 0.646208\ttraining's gini: 0.35728\tvalid_1's binary_logloss: 0.649106\tvalid_1's gini: 0.259389\n",
      "[259]\ttraining's binary_logloss: 0.646149\ttraining's gini: 0.357501\tvalid_1's binary_logloss: 0.649052\tvalid_1's gini: 0.259409\n",
      "[260]\ttraining's binary_logloss: 0.646088\ttraining's gini: 0.357757\tvalid_1's binary_logloss: 0.649003\tvalid_1's gini: 0.25935\n"
     ]
    },
    {
     "name": "stdout",
     "output_type": "stream",
     "text": [
      "[261]\ttraining's binary_logloss: 0.646015\ttraining's gini: 0.358043\tvalid_1's binary_logloss: 0.648942\tvalid_1's gini: 0.259414\n",
      "[262]\ttraining's binary_logloss: 0.645941\ttraining's gini: 0.358357\tvalid_1's binary_logloss: 0.648878\tvalid_1's gini: 0.259443\n",
      "[263]\ttraining's binary_logloss: 0.645876\ttraining's gini: 0.35862\tvalid_1's binary_logloss: 0.648819\tvalid_1's gini: 0.259534\n",
      "[264]\ttraining's binary_logloss: 0.645817\ttraining's gini: 0.35887\tvalid_1's binary_logloss: 0.648769\tvalid_1's gini: 0.259539\n",
      "[265]\ttraining's binary_logloss: 0.645737\ttraining's gini: 0.359192\tvalid_1's binary_logloss: 0.648697\tvalid_1's gini: 0.259561\n",
      "[266]\ttraining's binary_logloss: 0.645682\ttraining's gini: 0.359396\tvalid_1's binary_logloss: 0.648652\tvalid_1's gini: 0.2596\n",
      "[267]\ttraining's binary_logloss: 0.645622\ttraining's gini: 0.359638\tvalid_1's binary_logloss: 0.648603\tvalid_1's gini: 0.259522\n",
      "[268]\ttraining's binary_logloss: 0.645568\ttraining's gini: 0.359846\tvalid_1's binary_logloss: 0.648558\tvalid_1's gini: 0.259528\n",
      "[269]\ttraining's binary_logloss: 0.645508\ttraining's gini: 0.360085\tvalid_1's binary_logloss: 0.648504\tvalid_1's gini: 0.259472\n",
      "[270]\ttraining's binary_logloss: 0.645438\ttraining's gini: 0.360396\tvalid_1's binary_logloss: 0.648443\tvalid_1's gini: 0.259458\n",
      "[271]\ttraining's binary_logloss: 0.645369\ttraining's gini: 0.360702\tvalid_1's binary_logloss: 0.648381\tvalid_1's gini: 0.259564\n",
      "[272]\ttraining's binary_logloss: 0.645308\ttraining's gini: 0.360984\tvalid_1's binary_logloss: 0.648328\tvalid_1's gini: 0.259605\n",
      "[273]\ttraining's binary_logloss: 0.645242\ttraining's gini: 0.361259\tvalid_1's binary_logloss: 0.648255\tvalid_1's gini: 0.259603\n",
      "[274]\ttraining's binary_logloss: 0.645184\ttraining's gini: 0.361475\tvalid_1's binary_logloss: 0.648201\tvalid_1's gini: 0.259684\n",
      "[275]\ttraining's binary_logloss: 0.645123\ttraining's gini: 0.361725\tvalid_1's binary_logloss: 0.648149\tvalid_1's gini: 0.259625\n",
      "[276]\ttraining's binary_logloss: 0.645065\ttraining's gini: 0.361989\tvalid_1's binary_logloss: 0.648101\tvalid_1's gini: 0.259662\n",
      "[277]\ttraining's binary_logloss: 0.645009\ttraining's gini: 0.362265\tvalid_1's binary_logloss: 0.648057\tvalid_1's gini: 0.259642\n",
      "[278]\ttraining's binary_logloss: 0.644953\ttraining's gini: 0.362439\tvalid_1's binary_logloss: 0.648009\tvalid_1's gini: 0.259619\n",
      "[279]\ttraining's binary_logloss: 0.644895\ttraining's gini: 0.362656\tvalid_1's binary_logloss: 0.647958\tvalid_1's gini: 0.259655\n",
      "[280]\ttraining's binary_logloss: 0.644834\ttraining's gini: 0.362912\tvalid_1's binary_logloss: 0.647901\tvalid_1's gini: 0.259753\n",
      "[281]\ttraining's binary_logloss: 0.644776\ttraining's gini: 0.363175\tvalid_1's binary_logloss: 0.647851\tvalid_1's gini: 0.259696\n",
      "[282]\ttraining's binary_logloss: 0.644715\ttraining's gini: 0.36345\tvalid_1's binary_logloss: 0.647802\tvalid_1's gini: 0.259629\n",
      "[283]\ttraining's binary_logloss: 0.64466\ttraining's gini: 0.363677\tvalid_1's binary_logloss: 0.647752\tvalid_1's gini: 0.259581\n",
      "[284]\ttraining's binary_logloss: 0.644599\ttraining's gini: 0.363954\tvalid_1's binary_logloss: 0.647709\tvalid_1's gini: 0.259573\n",
      "[285]\ttraining's binary_logloss: 0.64453\ttraining's gini: 0.364255\tvalid_1's binary_logloss: 0.647651\tvalid_1's gini: 0.259588\n",
      "[286]\ttraining's binary_logloss: 0.644467\ttraining's gini: 0.364484\tvalid_1's binary_logloss: 0.647595\tvalid_1's gini: 0.259622\n",
      "[287]\ttraining's binary_logloss: 0.644413\ttraining's gini: 0.364668\tvalid_1's binary_logloss: 0.647554\tvalid_1's gini: 0.259569\n",
      "[288]\ttraining's binary_logloss: 0.64436\ttraining's gini: 0.364909\tvalid_1's binary_logloss: 0.647508\tvalid_1's gini: 0.259531\n",
      "[289]\ttraining's binary_logloss: 0.644312\ttraining's gini: 0.365139\tvalid_1's binary_logloss: 0.647474\tvalid_1's gini: 0.259478\n",
      "[290]\ttraining's binary_logloss: 0.644243\ttraining's gini: 0.365403\tvalid_1's binary_logloss: 0.64741\tvalid_1's gini: 0.259497\n",
      "[291]\ttraining's binary_logloss: 0.644181\ttraining's gini: 0.365671\tvalid_1's binary_logloss: 0.647356\tvalid_1's gini: 0.259464\n",
      "[292]\ttraining's binary_logloss: 0.644126\ttraining's gini: 0.365896\tvalid_1's binary_logloss: 0.647307\tvalid_1's gini: 0.259503\n",
      "[293]\ttraining's binary_logloss: 0.644078\ttraining's gini: 0.366099\tvalid_1's binary_logloss: 0.647265\tvalid_1's gini: 0.259465\n",
      "[294]\ttraining's binary_logloss: 0.644026\ttraining's gini: 0.366289\tvalid_1's binary_logloss: 0.647228\tvalid_1's gini: 0.259504\n",
      "[295]\ttraining's binary_logloss: 0.643969\ttraining's gini: 0.366479\tvalid_1's binary_logloss: 0.647176\tvalid_1's gini: 0.2595\n",
      "[296]\ttraining's binary_logloss: 0.643911\ttraining's gini: 0.366738\tvalid_1's binary_logloss: 0.647129\tvalid_1's gini: 0.259576\n",
      "[297]\ttraining's binary_logloss: 0.643842\ttraining's gini: 0.367068\tvalid_1's binary_logloss: 0.647067\tvalid_1's gini: 0.259575\n",
      "[298]\ttraining's binary_logloss: 0.643783\ttraining's gini: 0.36737\tvalid_1's binary_logloss: 0.64701\tvalid_1's gini: 0.259655\n",
      "[299]\ttraining's binary_logloss: 0.643728\ttraining's gini: 0.36761\tvalid_1's binary_logloss: 0.646962\tvalid_1's gini: 0.259643\n",
      "[300]\ttraining's binary_logloss: 0.643671\ttraining's gini: 0.367842\tvalid_1's binary_logloss: 0.646909\tvalid_1's gini: 0.259694\n",
      "Early stopping, best iteration is:\n",
      "[280]\ttraining's binary_logloss: 0.644834\ttraining's gini: 0.362912\tvalid_1's binary_logloss: 0.647901\tvalid_1's gini: 0.259753\n"
     ]
    }
   ],
   "source": [
    "params = {\n",
    "    'application': 'binary',\n",
    "    'metric': 'binary_logloss',\n",
    "    'learning_rate': 0.02,\n",
    "    'is_unbalance': True,\n",
    "#     'max_depth': 5,\n",
    "#     'num_leaves': 25,\n",
    "    'subsample': 0.8,\n",
    "    'colsample_bytree': 0.5,\n",
    "#     'reg_alpha': 0.1,\n",
    "    'seed': 0,\n",
    "}\n",
    "bst = lgb.train(params, trn_lgb, 1000, \n",
    "                valid_sets=[trn_lgb, val_lgb], \n",
    "                early_stopping_rounds=20, \n",
    "                feval=gini_lgb)"
   ]
  },
  {
   "cell_type": "code",
   "execution_count": 15,
   "metadata": {
    "collapsed": true,
    "scrolled": true
   },
   "outputs": [],
   "source": [
    "# bst = lgb.train(params, trn_lgb, 1000, valid_sets=[trn_lgb, val_lgb], early_stopping_rounds=20,\n",
    "#                 init_model=bst, \n",
    "#                 learning_rates=lambda iter: 0.1 * (0.99 ** iter))"
   ]
  },
  {
   "cell_type": "code",
   "execution_count": 16,
   "metadata": {
    "collapsed": true
   },
   "outputs": [],
   "source": [
    "# imp_df = pd.DataFrame([bst.feature_importance()], columns=feature_columns, index=['importance']).T.sort_values(by='importance', ascending=False)\n",
    "# imp_df"
   ]
  },
  {
   "cell_type": "markdown",
   "metadata": {},
   "source": [
    "## predict"
   ]
  },
  {
   "cell_type": "code",
   "execution_count": 18,
   "metadata": {
    "collapsed": true
   },
   "outputs": [],
   "source": [
    "res_df = pd.DataFrame(bst.predict(X_tst), columns=[output_label_col])\n",
    "res_df[output_id_col] = tst_df[output_id_col]\n",
    "res_df[[output_id_col, output_label_col]].to_csv(submission_path, index=False)"
   ]
  },
  {
   "cell_type": "code",
   "execution_count": null,
   "metadata": {
    "collapsed": true
   },
   "outputs": [],
   "source": []
  }
 ],
 "metadata": {
  "kernelspec": {
   "display_name": "Python 3",
   "language": "python",
   "name": "python3"
  },
  "language_info": {
   "codemirror_mode": {
    "name": "ipython",
    "version": 3
   },
   "file_extension": ".py",
   "mimetype": "text/x-python",
   "name": "python",
   "nbconvert_exporter": "python",
   "pygments_lexer": "ipython3",
   "version": "3.5.1"
  }
 },
 "nbformat": 4,
 "nbformat_minor": 2
}
