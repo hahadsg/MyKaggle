{
 "cells": [
  {
   "cell_type": "code",
   "execution_count": 1,
   "metadata": {
    "collapsed": true
   },
   "outputs": [],
   "source": [
    "# coding:utf-8\n",
    "import os\n",
    "import datetime\n",
    "\n",
    "import numpy as np\n",
    "import pandas as pd\n",
    "import matplotlib.pyplot as plt\n",
    "import seaborn as sns\n",
    "from scipy.stats import skew\n",
    "from sklearn import preprocessing\n",
    "from sklearn.model_selection import train_test_split, GridSearchCV\n",
    "from sklearn.linear_model import Lasso, LassoCV\n",
    "from sklearn import metrics\n",
    "\n",
    "os.chdir('/Users/hahadsg/MyProjects/MyKaggle/house-prices-advanced-regression-techniques')\n",
    "%matplotlib inline"
   ]
  },
  {
   "cell_type": "markdown",
   "metadata": {},
   "source": [
    "## 参数"
   ]
  },
  {
   "cell_type": "code",
   "execution_count": 2,
   "metadata": {
    "collapsed": false
   },
   "outputs": [],
   "source": [
    "debug = False"
   ]
  },
  {
   "cell_type": "markdown",
   "metadata": {},
   "source": [
    "## 函数"
   ]
  },
  {
   "cell_type": "code",
   "execution_count": 3,
   "metadata": {
    "collapsed": false
   },
   "outputs": [],
   "source": [
    "# 获取存在空的字段 以及 空值数量\n",
    "def get_null_info(df):\n",
    "    null_count_df = df.isnull().sum()\n",
    "    return null_count_df[null_count_df > 0]"
   ]
  },
  {
   "cell_type": "markdown",
   "metadata": {},
   "source": [
    "## 获取数据"
   ]
  },
  {
   "cell_type": "code",
   "execution_count": 4,
   "metadata": {
    "collapsed": false
   },
   "outputs": [
    {
     "data": {
      "text/html": [
       "<div>\n",
       "<table border=\"1\" class=\"dataframe\">\n",
       "  <thead>\n",
       "    <tr style=\"text-align: right;\">\n",
       "      <th></th>\n",
       "      <th></th>\n",
       "      <th>MSSubClass</th>\n",
       "      <th>MSZoning</th>\n",
       "      <th>LotFrontage</th>\n",
       "      <th>LotArea</th>\n",
       "      <th>Street</th>\n",
       "      <th>Alley</th>\n",
       "      <th>LotShape</th>\n",
       "      <th>LandContour</th>\n",
       "      <th>Utilities</th>\n",
       "      <th>LotConfig</th>\n",
       "      <th>...</th>\n",
       "      <th>ScreenPorch</th>\n",
       "      <th>PoolArea</th>\n",
       "      <th>PoolQC</th>\n",
       "      <th>Fence</th>\n",
       "      <th>MiscFeature</th>\n",
       "      <th>MiscVal</th>\n",
       "      <th>MoSold</th>\n",
       "      <th>YrSold</th>\n",
       "      <th>SaleType</th>\n",
       "      <th>SaleCondition</th>\n",
       "    </tr>\n",
       "  </thead>\n",
       "  <tbody>\n",
       "    <tr>\n",
       "      <th rowspan=\"5\" valign=\"top\">train</th>\n",
       "      <th>0</th>\n",
       "      <td>60</td>\n",
       "      <td>RL</td>\n",
       "      <td>65.0</td>\n",
       "      <td>8450</td>\n",
       "      <td>Pave</td>\n",
       "      <td>NaN</td>\n",
       "      <td>Reg</td>\n",
       "      <td>Lvl</td>\n",
       "      <td>AllPub</td>\n",
       "      <td>Inside</td>\n",
       "      <td>...</td>\n",
       "      <td>0</td>\n",
       "      <td>0</td>\n",
       "      <td>NaN</td>\n",
       "      <td>NaN</td>\n",
       "      <td>NaN</td>\n",
       "      <td>0</td>\n",
       "      <td>2</td>\n",
       "      <td>2008</td>\n",
       "      <td>WD</td>\n",
       "      <td>Normal</td>\n",
       "    </tr>\n",
       "    <tr>\n",
       "      <th>1</th>\n",
       "      <td>20</td>\n",
       "      <td>RL</td>\n",
       "      <td>80.0</td>\n",
       "      <td>9600</td>\n",
       "      <td>Pave</td>\n",
       "      <td>NaN</td>\n",
       "      <td>Reg</td>\n",
       "      <td>Lvl</td>\n",
       "      <td>AllPub</td>\n",
       "      <td>FR2</td>\n",
       "      <td>...</td>\n",
       "      <td>0</td>\n",
       "      <td>0</td>\n",
       "      <td>NaN</td>\n",
       "      <td>NaN</td>\n",
       "      <td>NaN</td>\n",
       "      <td>0</td>\n",
       "      <td>5</td>\n",
       "      <td>2007</td>\n",
       "      <td>WD</td>\n",
       "      <td>Normal</td>\n",
       "    </tr>\n",
       "    <tr>\n",
       "      <th>2</th>\n",
       "      <td>60</td>\n",
       "      <td>RL</td>\n",
       "      <td>68.0</td>\n",
       "      <td>11250</td>\n",
       "      <td>Pave</td>\n",
       "      <td>NaN</td>\n",
       "      <td>IR1</td>\n",
       "      <td>Lvl</td>\n",
       "      <td>AllPub</td>\n",
       "      <td>Inside</td>\n",
       "      <td>...</td>\n",
       "      <td>0</td>\n",
       "      <td>0</td>\n",
       "      <td>NaN</td>\n",
       "      <td>NaN</td>\n",
       "      <td>NaN</td>\n",
       "      <td>0</td>\n",
       "      <td>9</td>\n",
       "      <td>2008</td>\n",
       "      <td>WD</td>\n",
       "      <td>Normal</td>\n",
       "    </tr>\n",
       "    <tr>\n",
       "      <th>3</th>\n",
       "      <td>70</td>\n",
       "      <td>RL</td>\n",
       "      <td>60.0</td>\n",
       "      <td>9550</td>\n",
       "      <td>Pave</td>\n",
       "      <td>NaN</td>\n",
       "      <td>IR1</td>\n",
       "      <td>Lvl</td>\n",
       "      <td>AllPub</td>\n",
       "      <td>Corner</td>\n",
       "      <td>...</td>\n",
       "      <td>0</td>\n",
       "      <td>0</td>\n",
       "      <td>NaN</td>\n",
       "      <td>NaN</td>\n",
       "      <td>NaN</td>\n",
       "      <td>0</td>\n",
       "      <td>2</td>\n",
       "      <td>2006</td>\n",
       "      <td>WD</td>\n",
       "      <td>Abnorml</td>\n",
       "    </tr>\n",
       "    <tr>\n",
       "      <th>4</th>\n",
       "      <td>60</td>\n",
       "      <td>RL</td>\n",
       "      <td>84.0</td>\n",
       "      <td>14260</td>\n",
       "      <td>Pave</td>\n",
       "      <td>NaN</td>\n",
       "      <td>IR1</td>\n",
       "      <td>Lvl</td>\n",
       "      <td>AllPub</td>\n",
       "      <td>FR2</td>\n",
       "      <td>...</td>\n",
       "      <td>0</td>\n",
       "      <td>0</td>\n",
       "      <td>NaN</td>\n",
       "      <td>NaN</td>\n",
       "      <td>NaN</td>\n",
       "      <td>0</td>\n",
       "      <td>12</td>\n",
       "      <td>2008</td>\n",
       "      <td>WD</td>\n",
       "      <td>Normal</td>\n",
       "    </tr>\n",
       "  </tbody>\n",
       "</table>\n",
       "<p>5 rows × 79 columns</p>\n",
       "</div>"
      ],
      "text/plain": [
       "         MSSubClass MSZoning  LotFrontage  LotArea Street Alley LotShape  \\\n",
       "train 0          60       RL         65.0     8450   Pave   NaN      Reg   \n",
       "      1          20       RL         80.0     9600   Pave   NaN      Reg   \n",
       "      2          60       RL         68.0    11250   Pave   NaN      IR1   \n",
       "      3          70       RL         60.0     9550   Pave   NaN      IR1   \n",
       "      4          60       RL         84.0    14260   Pave   NaN      IR1   \n",
       "\n",
       "        LandContour Utilities LotConfig      ...       ScreenPorch PoolArea  \\\n",
       "train 0         Lvl    AllPub    Inside      ...                 0        0   \n",
       "      1         Lvl    AllPub       FR2      ...                 0        0   \n",
       "      2         Lvl    AllPub    Inside      ...                 0        0   \n",
       "      3         Lvl    AllPub    Corner      ...                 0        0   \n",
       "      4         Lvl    AllPub       FR2      ...                 0        0   \n",
       "\n",
       "        PoolQC Fence MiscFeature MiscVal  MoSold  YrSold  SaleType  \\\n",
       "train 0    NaN   NaN         NaN       0       2    2008        WD   \n",
       "      1    NaN   NaN         NaN       0       5    2007        WD   \n",
       "      2    NaN   NaN         NaN       0       9    2008        WD   \n",
       "      3    NaN   NaN         NaN       0       2    2006        WD   \n",
       "      4    NaN   NaN         NaN       0      12    2008        WD   \n",
       "\n",
       "         SaleCondition  \n",
       "train 0         Normal  \n",
       "      1         Normal  \n",
       "      2         Normal  \n",
       "      3        Abnorml  \n",
       "      4         Normal  \n",
       "\n",
       "[5 rows x 79 columns]"
      ]
     },
     "execution_count": 4,
     "metadata": {},
     "output_type": "execute_result"
    }
   ],
   "source": [
    "train_df = pd.read_csv('data/train.csv')\n",
    "test_df = pd.read_csv('data/test.csv')\n",
    "\n",
    "full_df = pd.concat([train_df, test_df], keys=['train', 'test'])\n",
    "full_df = full_df.reindex_axis(train_df.columns, axis=1) # 将columns改为原顺序\n",
    "full_df = full_df.loc[:, 'MSSubClass':'SaleCondition']\n",
    "full_df.head()"
   ]
  },
  {
   "cell_type": "markdown",
   "metadata": {},
   "source": [
    "## 对房价进行log(x+1)处理\n",
    "* 使分布更normal（不偏）（TODO : 但是为什么这么做呢？）\n",
    "* 避免房价出现负数"
   ]
  },
  {
   "cell_type": "code",
   "execution_count": 5,
   "metadata": {
    "collapsed": false,
    "scrolled": true
   },
   "outputs": [
    {
     "data": {
      "image/png": "[encoded data removed]",
      "text/plain": [
       "<matplotlib.figure.Figure at 0x1090fbd30>"
      ]
     },
     "metadata": {},
     "output_type": "display_data"
    }
   ],
   "source": [
    "# 展示转换前和转换后的区别\n",
    "fig, ax = plt.subplots(1, 2, figsize=(15,6))\n",
    "train_df['SalePrice'].hist(bins=10, ax=ax[0])\n",
    "np.log1p(train_df['SalePrice']).hist(bins=10, ax=ax[1])\n",
    "\n",
    "# 转换\n",
    "train_df['SalePrice'] = np.log1p(train_df['SalePrice'])"
   ]
  },
  {
   "cell_type": "markdown",
   "metadata": {},
   "source": [
    "## 特征处理"
   ]
  },
  {
   "cell_type": "markdown",
   "metadata": {},
   "source": [
    "* 连续变量"
   ]
  },
  {
   "cell_type": "code",
   "execution_count": 6,
   "metadata": {
    "collapsed": false
   },
   "outputs": [],
   "source": [
    "# 将有偏度的特征 也进行log1p操作 更normal 方便用mean填补空值 （TODO : 这个问题同上 还需要研究）\n",
    "continuous_feats = full_df.dtypes[full_df.dtypes != 'object'].index\n",
    "categorical_feats = full_df.dtypes[full_df.dtypes == 'object'].index\n",
    "\n",
    "skewed_feats = train_df[continuous_feats].apply(lambda x: skew(x.dropna())) # compute skewness\n",
    "skewed_feats = skewed_feats[skewed_feats > 0.75]\n",
    "skewed_feats = skewed_feats.index\n",
    "\n",
    "full_df[skewed_feats] = np.log1p(full_df[skewed_feats])"
   ]
  },
  {
   "cell_type": "code",
   "execution_count": 7,
   "metadata": {
    "collapsed": false
   },
   "outputs": [],
   "source": [
    "# 缺失值用平均值填充\n",
    "for feat in continuous_feats:\n",
    "    full_df[feat].fillna(full_df[feat].mean(), inplace=True)"
   ]
  },
  {
   "cell_type": "markdown",
   "metadata": {},
   "source": [
    "* 分类变量"
   ]
  },
  {
   "cell_type": "code",
   "execution_count": 8,
   "metadata": {
    "collapsed": false
   },
   "outputs": [],
   "source": [
    "# 将object类型做哑变量\n",
    "full_df = pd.get_dummies(full_df) # get_dummies会跳过int或float类型\n",
    "\n",
    "# for column in categorical_variable:\n",
    "#     dummies_df = pd.get_dummies(full_df[column], prefix=column)\n",
    "#     # 如果没有空值 哑变量就去掉一个\n",
    "#     if full_df[full_df[column].isnull()][column].sum() == 0: \n",
    "#         dummies_df.drop(dummies_df.columns[-1], axis=1, inplace=True)\n",
    "#     # 将哑变量放到full_df中\n",
    "#     full_df = full_df.join(dummies_df) \n",
    "#     # 删掉原变量\n",
    "#     full_df.drop(column, axis=1, inplace=True) \n",
    "        "
   ]
  },
  {
   "cell_type": "markdown",
   "metadata": {},
   "source": [
    "## 预处理"
   ]
  },
  {
   "cell_type": "code",
   "execution_count": 9,
   "metadata": {
    "collapsed": false
   },
   "outputs": [
    {
     "data": {
      "text/html": [
       "<div>\n",
       "<table border=\"1\" class=\"dataframe\">\n",
       "  <thead>\n",
       "    <tr style=\"text-align: right;\">\n",
       "      <th></th>\n",
       "      <th></th>\n",
       "      <th>MSSubClass</th>\n",
       "      <th>LotFrontage</th>\n",
       "      <th>LotArea</th>\n",
       "      <th>OverallQual</th>\n",
       "      <th>OverallCond</th>\n",
       "      <th>YearBuilt</th>\n",
       "      <th>YearRemodAdd</th>\n",
       "      <th>MasVnrArea</th>\n",
       "      <th>BsmtFinSF1</th>\n",
       "      <th>BsmtFinSF2</th>\n",
       "      <th>...</th>\n",
       "      <th>SaleType_ConLw</th>\n",
       "      <th>SaleType_New</th>\n",
       "      <th>SaleType_Oth</th>\n",
       "      <th>SaleType_WD</th>\n",
       "      <th>SaleCondition_Abnorml</th>\n",
       "      <th>SaleCondition_AdjLand</th>\n",
       "      <th>SaleCondition_Alloca</th>\n",
       "      <th>SaleCondition_Family</th>\n",
       "      <th>SaleCondition_Normal</th>\n",
       "      <th>SaleCondition_Partial</th>\n",
       "    </tr>\n",
       "  </thead>\n",
       "  <tbody>\n",
       "    <tr>\n",
       "      <th rowspan=\"5\" valign=\"top\">train</th>\n",
       "      <th>0</th>\n",
       "      <td>4.110874</td>\n",
       "      <td>4.189655</td>\n",
       "      <td>9.042040</td>\n",
       "      <td>7</td>\n",
       "      <td>5</td>\n",
       "      <td>2003</td>\n",
       "      <td>2003</td>\n",
       "      <td>5.283204</td>\n",
       "      <td>6.561031</td>\n",
       "      <td>0.0</td>\n",
       "      <td>...</td>\n",
       "      <td>0</td>\n",
       "      <td>0</td>\n",
       "      <td>0</td>\n",
       "      <td>1</td>\n",
       "      <td>0</td>\n",
       "      <td>0</td>\n",
       "      <td>0</td>\n",
       "      <td>0</td>\n",
       "      <td>1</td>\n",
       "      <td>0</td>\n",
       "    </tr>\n",
       "    <tr>\n",
       "      <th>1</th>\n",
       "      <td>3.044522</td>\n",
       "      <td>4.394449</td>\n",
       "      <td>9.169623</td>\n",
       "      <td>6</td>\n",
       "      <td>8</td>\n",
       "      <td>1976</td>\n",
       "      <td>1976</td>\n",
       "      <td>0.000000</td>\n",
       "      <td>6.886532</td>\n",
       "      <td>0.0</td>\n",
       "      <td>...</td>\n",
       "      <td>0</td>\n",
       "      <td>0</td>\n",
       "      <td>0</td>\n",
       "      <td>1</td>\n",
       "      <td>0</td>\n",
       "      <td>0</td>\n",
       "      <td>0</td>\n",
       "      <td>0</td>\n",
       "      <td>1</td>\n",
       "      <td>0</td>\n",
       "    </tr>\n",
       "    <tr>\n",
       "      <th>2</th>\n",
       "      <td>4.110874</td>\n",
       "      <td>4.234107</td>\n",
       "      <td>9.328212</td>\n",
       "      <td>7</td>\n",
       "      <td>5</td>\n",
       "      <td>2001</td>\n",
       "      <td>2002</td>\n",
       "      <td>5.093750</td>\n",
       "      <td>6.188264</td>\n",
       "      <td>0.0</td>\n",
       "      <td>...</td>\n",
       "      <td>0</td>\n",
       "      <td>0</td>\n",
       "      <td>0</td>\n",
       "      <td>1</td>\n",
       "      <td>0</td>\n",
       "      <td>0</td>\n",
       "      <td>0</td>\n",
       "      <td>0</td>\n",
       "      <td>1</td>\n",
       "      <td>0</td>\n",
       "    </tr>\n",
       "    <tr>\n",
       "      <th>3</th>\n",
       "      <td>4.262680</td>\n",
       "      <td>4.110874</td>\n",
       "      <td>9.164401</td>\n",
       "      <td>7</td>\n",
       "      <td>5</td>\n",
       "      <td>1915</td>\n",
       "      <td>1970</td>\n",
       "      <td>0.000000</td>\n",
       "      <td>5.379897</td>\n",
       "      <td>0.0</td>\n",
       "      <td>...</td>\n",
       "      <td>0</td>\n",
       "      <td>0</td>\n",
       "      <td>0</td>\n",
       "      <td>1</td>\n",
       "      <td>1</td>\n",
       "      <td>0</td>\n",
       "      <td>0</td>\n",
       "      <td>0</td>\n",
       "      <td>0</td>\n",
       "      <td>0</td>\n",
       "    </tr>\n",
       "    <tr>\n",
       "      <th>4</th>\n",
       "      <td>4.110874</td>\n",
       "      <td>4.442651</td>\n",
       "      <td>9.565284</td>\n",
       "      <td>8</td>\n",
       "      <td>5</td>\n",
       "      <td>2000</td>\n",
       "      <td>2000</td>\n",
       "      <td>5.860786</td>\n",
       "      <td>6.486161</td>\n",
       "      <td>0.0</td>\n",
       "      <td>...</td>\n",
       "      <td>0</td>\n",
       "      <td>0</td>\n",
       "      <td>0</td>\n",
       "      <td>1</td>\n",
       "      <td>0</td>\n",
       "      <td>0</td>\n",
       "      <td>0</td>\n",
       "      <td>0</td>\n",
       "      <td>1</td>\n",
       "      <td>0</td>\n",
       "    </tr>\n",
       "  </tbody>\n",
       "</table>\n",
       "<p>5 rows × 288 columns</p>\n",
       "</div>"
      ],
      "text/plain": [
       "         MSSubClass  LotFrontage   LotArea  OverallQual  OverallCond  \\\n",
       "train 0    4.110874     4.189655  9.042040            7            5   \n",
       "      1    3.044522     4.394449  9.169623            6            8   \n",
       "      2    4.110874     4.234107  9.328212            7            5   \n",
       "      3    4.262680     4.110874  9.164401            7            5   \n",
       "      4    4.110874     4.442651  9.565284            8            5   \n",
       "\n",
       "         YearBuilt  YearRemodAdd  MasVnrArea  BsmtFinSF1  BsmtFinSF2  \\\n",
       "train 0       2003          2003    5.283204    6.561031         0.0   \n",
       "      1       1976          1976    0.000000    6.886532         0.0   \n",
       "      2       2001          2002    5.093750    6.188264         0.0   \n",
       "      3       1915          1970    0.000000    5.379897         0.0   \n",
       "      4       2000          2000    5.860786    6.486161         0.0   \n",
       "\n",
       "                 ...            SaleType_ConLw  SaleType_New  SaleType_Oth  \\\n",
       "train 0          ...                         0             0             0   \n",
       "      1          ...                         0             0             0   \n",
       "      2          ...                         0             0             0   \n",
       "      3          ...                         0             0             0   \n",
       "      4          ...                         0             0             0   \n",
       "\n",
       "         SaleType_WD  SaleCondition_Abnorml  SaleCondition_AdjLand  \\\n",
       "train 0            1                      0                      0   \n",
       "      1            1                      0                      0   \n",
       "      2            1                      0                      0   \n",
       "      3            1                      1                      0   \n",
       "      4            1                      0                      0   \n",
       "\n",
       "         SaleCondition_Alloca  SaleCondition_Family  SaleCondition_Normal  \\\n",
       "train 0                     0                     0                     1   \n",
       "      1                     0                     0                     1   \n",
       "      2                     0                     0                     1   \n",
       "      3                     0                     0                     0   \n",
       "      4                     0                     0                     1   \n",
       "\n",
       "         SaleCondition_Partial  \n",
       "train 0                      0  \n",
       "      1                      0  \n",
       "      2                      0  \n",
       "      3                      0  \n",
       "      4                      0  \n",
       "\n",
       "[5 rows x 288 columns]"
      ]
     },
     "execution_count": 9,
     "metadata": {},
     "output_type": "execute_result"
    }
   ],
   "source": [
    "full_df.head()"
   ]
  },
  {
   "cell_type": "code",
   "execution_count": 10,
   "metadata": {
    "collapsed": false
   },
   "outputs": [],
   "source": [
    "# 分开features和label\n",
    "X = full_df\n",
    "y = train_df['SalePrice']\n",
    "\n",
    "# 标准化\n",
    "# X = pd.DataFrame(preprocessing.scale(X), columns=X.columns, index=X.index)\n",
    "# X.head()\n",
    "\n",
    "# train/test\n",
    "if debug:\n",
    "    X_train, X_test, y_train, y_test = train_test_split(X.loc['train'], y, random_state=1)\n",
    "else:\n",
    "    X_train = X.loc['train']\n",
    "    X_test = X.loc['test']\n",
    "    y_train = y\n",
    "X_pred = X.loc['test']"
   ]
  },
  {
   "cell_type": "markdown",
   "metadata": {},
   "source": [
    "## Lasso"
   ]
  },
  {
   "cell_type": "code",
   "execution_count": 11,
   "metadata": {
    "collapsed": false
   },
   "outputs": [],
   "source": [
    "# 对Lasso做网格化搜索\n",
    "lasso_cv = GridSearchCV(Lasso(), {'alpha': np.logspace(-4,0,5)}, scoring='r2').fit(X_train, y_train)"
   ]
  },
  {
   "cell_type": "code",
   "execution_count": 12,
   "metadata": {
    "collapsed": false
   },
   "outputs": [
    {
     "data": {
      "text/plain": [
       "<matplotlib.axes._subplots.AxesSubplot at 0x10a1b8518>"
      ]
     },
     "execution_count": 12,
     "metadata": {},
     "output_type": "execute_result"
    },
    {
     "data": {
      "image/png": "[encoded data removed]",
      "text/plain": [
       "<matplotlib.figure.Figure at 0x109cf4898>"
      ]
     },
     "metadata": {},
     "output_type": "display_data"
    }
   ],
   "source": [
    "cv_score = [\n",
    "    [\n",
    "        np.log10(lasso_cv.cv_results_['params'][i]['alpha']), \n",
    "        lasso_cv.cv_results_['mean_test_score'][i],\n",
    "    ] for i in range(len(lasso_cv.cv_results_['params']))\n",
    "]\n",
    "cv_score_df = pd.DataFrame(cv_score, columns=['log(alpha)', 'score'])\n",
    "cv_score_df.set_index(['log(alpha)'], inplace=True)\n",
    "cv_score_df.plot()"
   ]
  },
  {
   "cell_type": "code",
   "execution_count": 13,
   "metadata": {
    "collapsed": true
   },
   "outputs": [],
   "source": [
    "lasso = lasso_cv.best_estimator_"
   ]
  },
  {
   "cell_type": "code",
   "execution_count": 14,
   "metadata": {
    "collapsed": false,
    "scrolled": false
   },
   "outputs": [
    {
     "data": {
      "text/plain": [
       "<matplotlib.axes._subplots.AxesSubplot at 0x10a623908>"
      ]
     },
     "execution_count": 14,
     "metadata": {},
     "output_type": "execute_result"
    },
    {
     "data": {
      "image/png": "[encoded data removed]",
      "text/plain": [
       "<matplotlib.figure.Figure at 0x10a1264a8>"
      ]
     },
     "metadata": {},
     "output_type": "display_data"
    }
   ],
   "source": [
    "# 查看权重最高的系数\n",
    "lasso_coef = pd.Series(lasso.coef_, index=X_train.columns)\n",
    "lasso_imp_coef = pd.concat([lasso_coef.sort_values().head(10), lasso_coef.sort_values().tail(10)])\n",
    "fig, ax = plt.subplots(1,1,figsize=(10,10))\n",
    "lasso_imp_coef.plot(kind='barh')"
   ]
  },
  {
   "cell_type": "code",
   "execution_count": 15,
   "metadata": {
    "collapsed": false
   },
   "outputs": [
    {
     "data": {
      "text/plain": [
       "<matplotlib.axes._subplots.AxesSubplot at 0x109d35908>"
      ]
     },
     "execution_count": 15,
     "metadata": {},
     "output_type": "execute_result"
    },
    {
     "data": {
      "image/png": "[encoded data removed]",
      "text/plain": [
       "<matplotlib.figure.Figure at 0x10a6b8f60>"
      ]
     },
     "metadata": {},
     "output_type": "display_data"
    }
   ],
   "source": [
    "# 查看残差\n",
    "preds = pd.DataFrame({\"preds\":lasso.predict(X_train), \"true\":y_train})\n",
    "preds[\"residuals\"] = preds[\"true\"] - preds[\"preds\"]\n",
    "preds.plot(x = \"preds\", y = \"residuals\",kind = \"scatter\")"
   ]
  },
  {
   "cell_type": "code",
   "execution_count": 16,
   "metadata": {
    "collapsed": false
   },
   "outputs": [
    {
     "name": "stdout",
     "output_type": "stream",
     "text": [
      "Train Data, Lasso MSE: 0.0132812370463\n"
     ]
    }
   ],
   "source": [
    "# 查看测试mse\n",
    "if debug:\n",
    "    print('Test Data, Lasso MSE:', metrics.mean_squared_error(lasso.predict(X_test), y_test))\n",
    "print('Train Data, Lasso MSE:', metrics.mean_squared_error(lasso.predict(X_train), y_train))"
   ]
  },
  {
   "cell_type": "markdown",
   "metadata": {},
   "source": [
    "## Lasso LARS"
   ]
  },
  {
   "cell_type": "code",
   "execution_count": 31,
   "metadata": {
    "collapsed": true
   },
   "outputs": [],
   "source": [
    "from sklearn.linear_model import LassoLars"
   ]
  },
  {
   "cell_type": "code",
   "execution_count": 35,
   "metadata": {
    "collapsed": false,
    "scrolled": true
   },
   "outputs": [
    {
     "name": "stderr",
     "output_type": "stream",
     "text": [
      "/Library/Frameworks/Python.framework/Versions/3.5/lib/python3.5/site-packages/sklearn/linear_model/least_angle.py:309: ConvergenceWarning: Regressors in active set degenerate. Dropping a regressor, after 27 iterations, i.e. alpha=7.785e-04, with an active set of 25 regressors, and the smallest cholesky pivot element being 2.220e-16\n",
      "  ConvergenceWarning)\n",
      "/Library/Frameworks/Python.framework/Versions/3.5/lib/python3.5/site-packages/sklearn/linear_model/least_angle.py:309: ConvergenceWarning: Regressors in active set degenerate. Dropping a regressor, after 83 iterations, i.e. alpha=1.878e-04, with an active set of 79 regressors, and the smallest cholesky pivot element being 2.220e-16\n",
      "  ConvergenceWarning)\n",
      "/Library/Frameworks/Python.framework/Versions/3.5/lib/python3.5/site-packages/sklearn/linear_model/least_angle.py:309: ConvergenceWarning: Regressors in active set degenerate. Dropping a regressor, after 89 iterations, i.e. alpha=1.775e-04, with an active set of 85 regressors, and the smallest cholesky pivot element being 2.220e-16\n",
      "  ConvergenceWarning)\n",
      "/Library/Frameworks/Python.framework/Versions/3.5/lib/python3.5/site-packages/sklearn/linear_model/least_angle.py:309: ConvergenceWarning: Regressors in active set degenerate. Dropping a regressor, after 120 iterations, i.e. alpha=1.055e-04, with an active set of 116 regressors, and the smallest cholesky pivot element being 2.220e-16\n",
      "  ConvergenceWarning)\n",
      "/Library/Frameworks/Python.framework/Versions/3.5/lib/python3.5/site-packages/sklearn/linear_model/least_angle.py:309: ConvergenceWarning: Regressors in active set degenerate. Dropping a regressor, after 120 iterations, i.e. alpha=1.055e-04, with an active set of 116 regressors, and the smallest cholesky pivot element being 1.054e-08\n",
      "  ConvergenceWarning)\n",
      "/Library/Frameworks/Python.framework/Versions/3.5/lib/python3.5/site-packages/sklearn/linear_model/least_angle.py:309: ConvergenceWarning: Regressors in active set degenerate. Dropping a regressor, after 168 iterations, i.e. alpha=5.360e-05, with an active set of 154 regressors, and the smallest cholesky pivot element being 2.220e-16\n",
      "  ConvergenceWarning)\n",
      "/Library/Frameworks/Python.framework/Versions/3.5/lib/python3.5/site-packages/sklearn/linear_model/least_angle.py:309: ConvergenceWarning: Regressors in active set degenerate. Dropping a regressor, after 170 iterations, i.e. alpha=4.995e-05, with an active set of 156 regressors, and the smallest cholesky pivot element being 2.107e-08\n",
      "  ConvergenceWarning)\n",
      "/Library/Frameworks/Python.framework/Versions/3.5/lib/python3.5/site-packages/sklearn/linear_model/least_angle.py:309: ConvergenceWarning: Regressors in active set degenerate. Dropping a regressor, after 183 iterations, i.e. alpha=4.411e-05, with an active set of 167 regressors, and the smallest cholesky pivot element being 1.054e-08\n",
      "  ConvergenceWarning)\n",
      "/Library/Frameworks/Python.framework/Versions/3.5/lib/python3.5/site-packages/sklearn/linear_model/least_angle.py:309: ConvergenceWarning: Regressors in active set degenerate. Dropping a regressor, after 183 iterations, i.e. alpha=4.411e-05, with an active set of 167 regressors, and the smallest cholesky pivot element being 2.107e-08\n",
      "  ConvergenceWarning)\n",
      "/Library/Frameworks/Python.framework/Versions/3.5/lib/python3.5/site-packages/sklearn/linear_model/least_angle.py:309: ConvergenceWarning: Regressors in active set degenerate. Dropping a regressor, after 188 iterations, i.e. alpha=4.149e-05, with an active set of 170 regressors, and the smallest cholesky pivot element being 1.825e-08\n",
      "  ConvergenceWarning)\n",
      "/Library/Frameworks/Python.framework/Versions/3.5/lib/python3.5/site-packages/sklearn/linear_model/least_angle.py:309: ConvergenceWarning: Regressors in active set degenerate. Dropping a regressor, after 199 iterations, i.e. alpha=3.617e-05, with an active set of 177 regressors, and the smallest cholesky pivot element being 2.107e-08\n",
      "  ConvergenceWarning)\n",
      "/Library/Frameworks/Python.framework/Versions/3.5/lib/python3.5/site-packages/sklearn/linear_model/least_angle.py:309: ConvergenceWarning: Regressors in active set degenerate. Dropping a regressor, after 200 iterations, i.e. alpha=3.559e-05, with an active set of 178 regressors, and the smallest cholesky pivot element being 1.054e-08\n",
      "  ConvergenceWarning)\n",
      "/Library/Frameworks/Python.framework/Versions/3.5/lib/python3.5/site-packages/sklearn/linear_model/least_angle.py:309: ConvergenceWarning: Regressors in active set degenerate. Dropping a regressor, after 207 iterations, i.e. alpha=3.172e-05, with an active set of 185 regressors, and the smallest cholesky pivot element being 1.490e-08\n",
      "  ConvergenceWarning)\n",
      "/Library/Frameworks/Python.framework/Versions/3.5/lib/python3.5/site-packages/sklearn/linear_model/least_angle.py:309: ConvergenceWarning: Regressors in active set degenerate. Dropping a regressor, after 216 iterations, i.e. alpha=2.594e-05, with an active set of 190 regressors, and the smallest cholesky pivot element being 2.220e-16\n",
      "  ConvergenceWarning)\n",
      "/Library/Frameworks/Python.framework/Versions/3.5/lib/python3.5/site-packages/sklearn/linear_model/least_angle.py:309: ConvergenceWarning: Regressors in active set degenerate. Dropping a regressor, after 227 iterations, i.e. alpha=2.139e-05, with an active set of 199 regressors, and the smallest cholesky pivot element being 1.054e-08\n",
      "  ConvergenceWarning)\n",
      "/Library/Frameworks/Python.framework/Versions/3.5/lib/python3.5/site-packages/sklearn/linear_model/least_angle.py:309: ConvergenceWarning: Regressors in active set degenerate. Dropping a regressor, after 227 iterations, i.e. alpha=2.095e-05, with an active set of 199 regressors, and the smallest cholesky pivot element being 1.490e-08\n",
      "  ConvergenceWarning)\n",
      "/Library/Frameworks/Python.framework/Versions/3.5/lib/python3.5/site-packages/sklearn/linear_model/least_angle.py:334: ConvergenceWarning: Early stopping the lars path, as the residues are small and the current value of alpha is no longer well controlled. 232 iterations, alpha=2.255e-05, previous alpha=2.006e-05, with an active set of 201 regressors.\n",
      "  ConvergenceWarning)\n",
      "/Library/Frameworks/Python.framework/Versions/3.5/lib/python3.5/site-packages/sklearn/linear_model/least_angle.py:309: ConvergenceWarning: Regressors in active set degenerate. Dropping a regressor, after 91 iterations, i.e. alpha=1.317e-04, with an active set of 91 regressors, and the smallest cholesky pivot element being 2.220e-16\n",
      "  ConvergenceWarning)\n",
      "/Library/Frameworks/Python.framework/Versions/3.5/lib/python3.5/site-packages/sklearn/linear_model/least_angle.py:309: ConvergenceWarning: Regressors in active set degenerate. Dropping a regressor, after 113 iterations, i.e. alpha=9.408e-05, with an active set of 111 regressors, and the smallest cholesky pivot element being 2.220e-16\n",
      "  ConvergenceWarning)\n",
      "/Library/Frameworks/Python.framework/Versions/3.5/lib/python3.5/site-packages/sklearn/linear_model/least_angle.py:309: ConvergenceWarning: Regressors in active set degenerate. Dropping a regressor, after 139 iterations, i.e. alpha=6.342e-05, with an active set of 137 regressors, and the smallest cholesky pivot element being 1.490e-08\n",
      "  ConvergenceWarning)\n",
      "/Library/Frameworks/Python.framework/Versions/3.5/lib/python3.5/site-packages/sklearn/linear_model/least_angle.py:309: ConvergenceWarning: Regressors in active set degenerate. Dropping a regressor, after 154 iterations, i.e. alpha=5.407e-05, with an active set of 152 regressors, and the smallest cholesky pivot element being 1.490e-08\n",
      "  ConvergenceWarning)\n",
      "/Library/Frameworks/Python.framework/Versions/3.5/lib/python3.5/site-packages/sklearn/linear_model/least_angle.py:309: ConvergenceWarning: Regressors in active set degenerate. Dropping a regressor, after 154 iterations, i.e. alpha=5.407e-05, with an active set of 152 regressors, and the smallest cholesky pivot element being 2.356e-08\n",
      "  ConvergenceWarning)\n",
      "/Library/Frameworks/Python.framework/Versions/3.5/lib/python3.5/site-packages/sklearn/linear_model/least_angle.py:334: ConvergenceWarning: Early stopping the lars path, as the residues are small and the current value of alpha is no longer well controlled. 162 iterations, alpha=4.874e-05, previous alpha=4.714e-05, with an active set of 159 regressors.\n",
      "  ConvergenceWarning)\n",
      "/Library/Frameworks/Python.framework/Versions/3.5/lib/python3.5/site-packages/sklearn/linear_model/least_angle.py:309: ConvergenceWarning: Regressors in active set degenerate. Dropping a regressor, after 203 iterations, i.e. alpha=2.684e-05, with an active set of 187 regressors, and the smallest cholesky pivot element being 1.054e-08\n",
      "  ConvergenceWarning)\n",
      "/Library/Frameworks/Python.framework/Versions/3.5/lib/python3.5/site-packages/sklearn/linear_model/least_angle.py:334: ConvergenceWarning: Early stopping the lars path, as the residues are small and the current value of alpha is no longer well controlled. 265 iterations, alpha=6.036e-06, previous alpha=6.036e-06, with an active set of 226 regressors.\n",
      "  ConvergenceWarning)\n",
      "/Library/Frameworks/Python.framework/Versions/3.5/lib/python3.5/site-packages/sklearn/linear_model/least_angle.py:309: ConvergenceWarning: Regressors in active set degenerate. Dropping a regressor, after 27 iterations, i.e. alpha=7.785e-04, with an active set of 25 regressors, and the smallest cholesky pivot element being 2.220e-16\n",
      "  ConvergenceWarning)\n",
      "/Library/Frameworks/Python.framework/Versions/3.5/lib/python3.5/site-packages/sklearn/linear_model/least_angle.py:309: ConvergenceWarning: Regressors in active set degenerate. Dropping a regressor, after 83 iterations, i.e. alpha=1.878e-04, with an active set of 79 regressors, and the smallest cholesky pivot element being 2.220e-16\n",
      "  ConvergenceWarning)\n",
      "/Library/Frameworks/Python.framework/Versions/3.5/lib/python3.5/site-packages/sklearn/linear_model/least_angle.py:309: ConvergenceWarning: Regressors in active set degenerate. Dropping a regressor, after 89 iterations, i.e. alpha=1.775e-04, with an active set of 85 regressors, and the smallest cholesky pivot element being 2.220e-16\n",
      "  ConvergenceWarning)\n",
      "/Library/Frameworks/Python.framework/Versions/3.5/lib/python3.5/site-packages/sklearn/linear_model/least_angle.py:309: ConvergenceWarning: Regressors in active set degenerate. Dropping a regressor, after 120 iterations, i.e. alpha=1.055e-04, with an active set of 116 regressors, and the smallest cholesky pivot element being 2.220e-16\n",
      "  ConvergenceWarning)\n",
      "/Library/Frameworks/Python.framework/Versions/3.5/lib/python3.5/site-packages/sklearn/linear_model/least_angle.py:309: ConvergenceWarning: Regressors in active set degenerate. Dropping a regressor, after 120 iterations, i.e. alpha=1.055e-04, with an active set of 116 regressors, and the smallest cholesky pivot element being 1.054e-08\n",
      "  ConvergenceWarning)\n",
      "/Library/Frameworks/Python.framework/Versions/3.5/lib/python3.5/site-packages/sklearn/linear_model/least_angle.py:309: ConvergenceWarning: Regressors in active set degenerate. Dropping a regressor, after 168 iterations, i.e. alpha=5.360e-05, with an active set of 154 regressors, and the smallest cholesky pivot element being 2.220e-16\n",
      "  ConvergenceWarning)\n",
      "/Library/Frameworks/Python.framework/Versions/3.5/lib/python3.5/site-packages/sklearn/linear_model/least_angle.py:309: ConvergenceWarning: Regressors in active set degenerate. Dropping a regressor, after 170 iterations, i.e. alpha=4.995e-05, with an active set of 156 regressors, and the smallest cholesky pivot element being 2.107e-08\n",
      "  ConvergenceWarning)\n",
      "/Library/Frameworks/Python.framework/Versions/3.5/lib/python3.5/site-packages/sklearn/linear_model/least_angle.py:309: ConvergenceWarning: Regressors in active set degenerate. Dropping a regressor, after 183 iterations, i.e. alpha=4.411e-05, with an active set of 167 regressors, and the smallest cholesky pivot element being 1.054e-08\n",
      "  ConvergenceWarning)\n",
      "/Library/Frameworks/Python.framework/Versions/3.5/lib/python3.5/site-packages/sklearn/linear_model/least_angle.py:309: ConvergenceWarning: Regressors in active set degenerate. Dropping a regressor, after 183 iterations, i.e. alpha=4.411e-05, with an active set of 167 regressors, and the smallest cholesky pivot element being 2.107e-08\n",
      "  ConvergenceWarning)\n",
      "/Library/Frameworks/Python.framework/Versions/3.5/lib/python3.5/site-packages/sklearn/linear_model/least_angle.py:309: ConvergenceWarning: Regressors in active set degenerate. Dropping a regressor, after 188 iterations, i.e. alpha=4.149e-05, with an active set of 170 regressors, and the smallest cholesky pivot element being 1.825e-08\n",
      "  ConvergenceWarning)\n",
      "/Library/Frameworks/Python.framework/Versions/3.5/lib/python3.5/site-packages/sklearn/linear_model/least_angle.py:309: ConvergenceWarning: Regressors in active set degenerate. Dropping a regressor, after 199 iterations, i.e. alpha=3.617e-05, with an active set of 177 regressors, and the smallest cholesky pivot element being 2.107e-08\n",
      "  ConvergenceWarning)\n",
      "/Library/Frameworks/Python.framework/Versions/3.5/lib/python3.5/site-packages/sklearn/linear_model/least_angle.py:309: ConvergenceWarning: Regressors in active set degenerate. Dropping a regressor, after 200 iterations, i.e. alpha=3.559e-05, with an active set of 178 regressors, and the smallest cholesky pivot element being 1.054e-08\n",
      "  ConvergenceWarning)\n",
      "/Library/Frameworks/Python.framework/Versions/3.5/lib/python3.5/site-packages/sklearn/linear_model/least_angle.py:309: ConvergenceWarning: Regressors in active set degenerate. Dropping a regressor, after 207 iterations, i.e. alpha=3.172e-05, with an active set of 185 regressors, and the smallest cholesky pivot element being 1.490e-08\n",
      "  ConvergenceWarning)\n",
      "/Library/Frameworks/Python.framework/Versions/3.5/lib/python3.5/site-packages/sklearn/linear_model/least_angle.py:309: ConvergenceWarning: Regressors in active set degenerate. Dropping a regressor, after 216 iterations, i.e. alpha=2.594e-05, with an active set of 190 regressors, and the smallest cholesky pivot element being 2.220e-16\n",
      "  ConvergenceWarning)\n",
      "/Library/Frameworks/Python.framework/Versions/3.5/lib/python3.5/site-packages/sklearn/linear_model/least_angle.py:309: ConvergenceWarning: Regressors in active set degenerate. Dropping a regressor, after 227 iterations, i.e. alpha=2.139e-05, with an active set of 199 regressors, and the smallest cholesky pivot element being 1.054e-08\n",
      "  ConvergenceWarning)\n",
      "/Library/Frameworks/Python.framework/Versions/3.5/lib/python3.5/site-packages/sklearn/linear_model/least_angle.py:309: ConvergenceWarning: Regressors in active set degenerate. Dropping a regressor, after 227 iterations, i.e. alpha=2.095e-05, with an active set of 199 regressors, and the smallest cholesky pivot element being 1.490e-08\n",
      "  ConvergenceWarning)\n",
      "/Library/Frameworks/Python.framework/Versions/3.5/lib/python3.5/site-packages/sklearn/linear_model/least_angle.py:334: ConvergenceWarning: Early stopping the lars path, as the residues are small and the current value of alpha is no longer well controlled. 232 iterations, alpha=2.255e-05, previous alpha=2.006e-05, with an active set of 201 regressors.\n",
      "  ConvergenceWarning)\n",
      "/Library/Frameworks/Python.framework/Versions/3.5/lib/python3.5/site-packages/sklearn/linear_model/least_angle.py:309: ConvergenceWarning: Regressors in active set degenerate. Dropping a regressor, after 91 iterations, i.e. alpha=1.317e-04, with an active set of 91 regressors, and the smallest cholesky pivot element being 2.220e-16\n",
      "  ConvergenceWarning)\n",
      "/Library/Frameworks/Python.framework/Versions/3.5/lib/python3.5/site-packages/sklearn/linear_model/least_angle.py:309: ConvergenceWarning: Regressors in active set degenerate. Dropping a regressor, after 113 iterations, i.e. alpha=9.408e-05, with an active set of 111 regressors, and the smallest cholesky pivot element being 2.220e-16\n",
      "  ConvergenceWarning)\n",
      "/Library/Frameworks/Python.framework/Versions/3.5/lib/python3.5/site-packages/sklearn/linear_model/least_angle.py:309: ConvergenceWarning: Regressors in active set degenerate. Dropping a regressor, after 139 iterations, i.e. alpha=6.342e-05, with an active set of 137 regressors, and the smallest cholesky pivot element being 1.490e-08\n",
      "  ConvergenceWarning)\n",
      "/Library/Frameworks/Python.framework/Versions/3.5/lib/python3.5/site-packages/sklearn/linear_model/least_angle.py:309: ConvergenceWarning: Regressors in active set degenerate. Dropping a regressor, after 154 iterations, i.e. alpha=5.407e-05, with an active set of 152 regressors, and the smallest cholesky pivot element being 1.490e-08\n",
      "  ConvergenceWarning)\n",
      "/Library/Frameworks/Python.framework/Versions/3.5/lib/python3.5/site-packages/sklearn/linear_model/least_angle.py:309: ConvergenceWarning: Regressors in active set degenerate. Dropping a regressor, after 154 iterations, i.e. alpha=5.407e-05, with an active set of 152 regressors, and the smallest cholesky pivot element being 2.356e-08\n",
      "  ConvergenceWarning)\n",
      "/Library/Frameworks/Python.framework/Versions/3.5/lib/python3.5/site-packages/sklearn/linear_model/least_angle.py:334: ConvergenceWarning: Early stopping the lars path, as the residues are small and the current value of alpha is no longer well controlled. 162 iterations, alpha=4.874e-05, previous alpha=4.714e-05, with an active set of 159 regressors.\n",
      "  ConvergenceWarning)\n",
      "/Library/Frameworks/Python.framework/Versions/3.5/lib/python3.5/site-packages/sklearn/linear_model/least_angle.py:309: ConvergenceWarning: Regressors in active set degenerate. Dropping a regressor, after 203 iterations, i.e. alpha=2.684e-05, with an active set of 187 regressors, and the smallest cholesky pivot element being 1.054e-08\n",
      "  ConvergenceWarning)\n",
      "/Library/Frameworks/Python.framework/Versions/3.5/lib/python3.5/site-packages/sklearn/linear_model/least_angle.py:309: ConvergenceWarning: Regressors in active set degenerate. Dropping a regressor, after 27 iterations, i.e. alpha=7.785e-04, with an active set of 25 regressors, and the smallest cholesky pivot element being 2.220e-16\n",
      "  ConvergenceWarning)\n",
      "/Library/Frameworks/Python.framework/Versions/3.5/lib/python3.5/site-packages/sklearn/linear_model/least_angle.py:309: ConvergenceWarning: Regressors in active set degenerate. Dropping a regressor, after 83 iterations, i.e. alpha=1.878e-04, with an active set of 79 regressors, and the smallest cholesky pivot element being 2.220e-16\n",
      "  ConvergenceWarning)\n",
      "/Library/Frameworks/Python.framework/Versions/3.5/lib/python3.5/site-packages/sklearn/linear_model/least_angle.py:309: ConvergenceWarning: Regressors in active set degenerate. Dropping a regressor, after 89 iterations, i.e. alpha=1.775e-04, with an active set of 85 regressors, and the smallest cholesky pivot element being 2.220e-16\n",
      "  ConvergenceWarning)\n",
      "/Library/Frameworks/Python.framework/Versions/3.5/lib/python3.5/site-packages/sklearn/linear_model/least_angle.py:309: ConvergenceWarning: Regressors in active set degenerate. Dropping a regressor, after 120 iterations, i.e. alpha=1.055e-04, with an active set of 116 regressors, and the smallest cholesky pivot element being 2.220e-16\n",
      "  ConvergenceWarning)\n",
      "/Library/Frameworks/Python.framework/Versions/3.5/lib/python3.5/site-packages/sklearn/linear_model/least_angle.py:309: ConvergenceWarning: Regressors in active set degenerate. Dropping a regressor, after 120 iterations, i.e. alpha=1.055e-04, with an active set of 116 regressors, and the smallest cholesky pivot element being 1.054e-08\n",
      "  ConvergenceWarning)\n",
      "/Library/Frameworks/Python.framework/Versions/3.5/lib/python3.5/site-packages/sklearn/linear_model/least_angle.py:309: ConvergenceWarning: Regressors in active set degenerate. Dropping a regressor, after 91 iterations, i.e. alpha=1.317e-04, with an active set of 91 regressors, and the smallest cholesky pivot element being 2.220e-16\n",
      "  ConvergenceWarning)\n",
      "/Library/Frameworks/Python.framework/Versions/3.5/lib/python3.5/site-packages/sklearn/linear_model/least_angle.py:309: ConvergenceWarning: Regressors in active set degenerate. Dropping a regressor, after 87 iterations, i.e. alpha=1.325e-04, with an active set of 87 regressors, and the smallest cholesky pivot element being 1.490e-08\n",
      "  ConvergenceWarning)\n"
     ]
    }
   ],
   "source": [
    "lasso_lars_cv = GridSearchCV(LassoLars(), {'alpha': np.logspace(-6,0,7)}, scoring='r2').fit(X_train, y_train)"
   ]
  },
  {
   "cell_type": "code",
   "execution_count": 36,
   "metadata": {
    "collapsed": false
   },
   "outputs": [
    {
     "data": {
      "text/plain": [
       "<matplotlib.axes._subplots.AxesSubplot at 0x1147691d0>"
      ]
     },
     "execution_count": 36,
     "metadata": {},
     "output_type": "execute_result"
    },
    {
     "data": {
      "image/png": "[encoded data removed]",
      "text/plain": [
       "<matplotlib.figure.Figure at 0x1147227f0>"
      ]
     },
     "metadata": {},
     "output_type": "display_data"
    }
   ],
   "source": [
    "cv_score = [\n",
    "    [\n",
    "        np.log10(lasso_lars_cv.cv_results_['params'][i]['alpha']), \n",
    "        lasso_lars_cv.cv_results_['mean_test_score'][i],\n",
    "    ] for i in range(len(lasso_lars_cv.cv_results_['params']))\n",
    "]\n",
    "cv_score_df = pd.DataFrame(cv_score, columns=['log(alpha)', 'score'])\n",
    "cv_score_df.set_index(['log(alpha)'], inplace=True)\n",
    "cv_score_df.plot()"
   ]
  },
  {
   "cell_type": "code",
   "execution_count": 37,
   "metadata": {
    "collapsed": true
   },
   "outputs": [],
   "source": [
    "lasso_lars = lasso_lars_cv.best_estimator_"
   ]
  },
  {
   "cell_type": "code",
   "execution_count": 38,
   "metadata": {
    "collapsed": false
   },
   "outputs": [
    {
     "name": "stdout",
     "output_type": "stream",
     "text": [
      "Train Data, Lasso LARS MSE: 0.0103364429614\n"
     ]
    }
   ],
   "source": [
    "# 查看测试mse\n",
    "if debug:\n",
    "    print('Test Data, Lasso LARS MSE:', metrics.mean_squared_error(lasso_lars.predict(X_test), y_test))\n",
    "print('Train Data, Lasso LARS MSE:', metrics.mean_squared_error(lasso_lars.predict(X_train), y_train))"
   ]
  },
  {
   "cell_type": "markdown",
   "metadata": {},
   "source": [
    "## Gradient Boosting Regressor"
   ]
  },
  {
   "cell_type": "code",
   "execution_count": 17,
   "metadata": {
    "collapsed": true
   },
   "outputs": [],
   "source": [
    "from sklearn.ensemble import GradientBoostingRegressor"
   ]
  },
  {
   "cell_type": "code",
   "execution_count": 18,
   "metadata": {
    "collapsed": true
   },
   "outputs": [],
   "source": [
    "model_cv_paras = {\n",
    "    'n_estimators': [50, 100, 200],\n",
    "    'max_depth': [2, 3, 5, 7],\n",
    "}\n",
    "gbr_cv = GridSearchCV(GradientBoostingRegressor(), model_cv_paras).fit(X_train, y_train)"
   ]
  },
  {
   "cell_type": "code",
   "execution_count": 19,
   "metadata": {
    "collapsed": false
   },
   "outputs": [
    {
     "data": {
      "text/plain": [
       "<matplotlib.axes._subplots.AxesSubplot at 0x1044ac7f0>"
      ]
     },
     "execution_count": 19,
     "metadata": {},
     "output_type": "execute_result"
    },
    {
     "data": {
      "image/png": "[encoded data removed]",
      "text/plain": [
       "<matplotlib.figure.Figure at 0x109d41940>"
      ]
     },
     "metadata": {},
     "output_type": "display_data"
    }
   ],
   "source": [
    "cv_score = [\n",
    "    [\n",
    "        gbr_cv.cv_results_['params'][i]['max_depth'], \n",
    "        gbr_cv.cv_results_['params'][i]['n_estimators'], \n",
    "        gbr_cv.cv_results_['mean_test_score'][i],\n",
    "    ] for i in range(len(gbr_cv.cv_results_['params']))\n",
    "]\n",
    "cv_score_df = pd.DataFrame(cv_score, columns=['max_depth', 'n_estimators', 'score'])\n",
    "cv_score_df = cv_score_df.pivot('max_depth', 'n_estimators', 'score')\n",
    "sns.heatmap(cv_score_df, annot=True)"
   ]
  },
  {
   "cell_type": "code",
   "execution_count": 20,
   "metadata": {
    "collapsed": true
   },
   "outputs": [],
   "source": [
    "gbr = gbr_cv.best_estimator_"
   ]
  },
  {
   "cell_type": "code",
   "execution_count": 21,
   "metadata": {
    "collapsed": false
   },
   "outputs": [
    {
     "name": "stdout",
     "output_type": "stream",
     "text": [
      "Train Data, Gradient Boosting Regressor MSE: 0.0040406185634\n"
     ]
    }
   ],
   "source": [
    "# 查看测试mse\n",
    "if debug:\n",
    "    print('Test Data, Gradient Boosting Regressor MSE:', metrics.mean_squared_error(gbr.predict(X_test), y_test))\n",
    "print('Train Data, Gradient Boosting Regressor MSE:', metrics.mean_squared_error(gbr.predict(X_train), y_train))"
   ]
  },
  {
   "cell_type": "markdown",
   "metadata": {},
   "source": [
    "## 预测 神经网络"
   ]
  },
  {
   "cell_type": "code",
   "execution_count": 22,
   "metadata": {
    "collapsed": false
   },
   "outputs": [
    {
     "name": "stderr",
     "output_type": "stream",
     "text": [
      "Using TensorFlow backend.\n"
     ]
    }
   ],
   "source": [
    "# import keras\n",
    "from keras.models import Sequential\n",
    "from keras.layers import Dense, Activation, Dropout\n",
    "from keras.optimizers import SGD, RMSprop"
   ]
  },
  {
   "cell_type": "code",
   "execution_count": 23,
   "metadata": {
    "collapsed": false
   },
   "outputs": [
    {
     "data": {
      "text/plain": [
       "[288, 192, 96, 1]"
      ]
     },
     "execution_count": 23,
     "metadata": {},
     "output_type": "execute_result"
    }
   ],
   "source": [
    "# 每层节点数\n",
    "layer_num = 4 # 层数 加上输入输出层\n",
    "feature_num = len(X_train.columns)\n",
    "layer_node_num = [int(x) for x in np.linspace(feature_num, 1, layer_num)]\n",
    "layer_node_num"
   ]
  },
  {
   "cell_type": "code",
   "execution_count": 24,
   "metadata": {
    "collapsed": false
   },
   "outputs": [],
   "source": [
    "# 构建模型\n",
    "nn_model = Sequential()\n",
    "\n",
    "nn_model.add(Dense(layer_node_num[0], input_dim=layer_node_num[0]))\n",
    "nn_model.add(Activation('relu'))\n",
    "nn_model.add(Dropout(0.6))\n",
    "\n",
    "nn_model.add(Dense(layer_node_num[1]))\n",
    "nn_model.add(Activation('relu'))\n",
    "nn_model.add(Dropout(0.6))\n",
    "\n",
    "nn_model.add(Dense(layer_node_num[2]))\n",
    "nn_model.add(Activation('relu'))\n",
    "nn_model.add(Dropout(0.6))\n",
    "\n",
    "nn_model.add(Dense(layer_node_num[-1]))\n",
    "nn_model.add(Activation('linear'))\n",
    "\n",
    "nn_model.compile(loss='mse', \n",
    "#               optimizer=RMSprop(lr=0.001, rho=0.9, epsilon=1e-08, decay=0.0),\n",
    "#               optimizer=SGD(lr=0.0001),\n",
    "              optimizer='adam',\n",
    ")"
   ]
  },
  {
   "cell_type": "code",
   "execution_count": 25,
   "metadata": {
    "collapsed": false,
    "scrolled": true
   },
   "outputs": [
    {
     "name": "stdout",
     "output_type": "stream",
     "text": [
      "Epoch 1/100\n",
      "1460/1460 [==============================] - 0s - loss: 89527.9723     \n",
      "Epoch 2/100\n",
      "1460/1460 [==============================] - 0s - loss: 13992.1254     \n",
      "Epoch 3/100\n",
      "1460/1460 [==============================] - 0s - loss: 6270.6246     \n",
      "Epoch 4/100\n",
      "1460/1460 [==============================] - 0s - loss: 4274.5947     \n",
      "Epoch 5/100\n",
      "1460/1460 [==============================] - 0s - loss: 2935.3701     \n",
      "Epoch 6/100\n",
      "1460/1460 [==============================] - 0s - loss: 1960.6938     \n",
      "Epoch 7/100\n",
      "1460/1460 [==============================] - 0s - loss: 1571.3432     \n",
      "Epoch 8/100\n",
      "1460/1460 [==============================] - 0s - loss: 1155.0141     \n",
      "Epoch 9/100\n",
      "1460/1460 [==============================] - 0s - loss: 905.1762     \n",
      "Epoch 10/100\n",
      "1460/1460 [==============================] - 0s - loss: 764.5591     \n",
      "Epoch 11/100\n",
      "1460/1460 [==============================] - 0s - loss: 616.7054     \n",
      "Epoch 12/100\n",
      "1460/1460 [==============================] - 0s - loss: 519.1393     \n",
      "Epoch 13/100\n",
      "1460/1460 [==============================] - 0s - loss: 484.8801     \n",
      "Epoch 14/100\n",
      "1460/1460 [==============================] - 0s - loss: 420.5196     \n",
      "Epoch 15/100\n",
      "1460/1460 [==============================] - 0s - loss: 361.4992     \n",
      "Epoch 16/100\n",
      "1460/1460 [==============================] - 0s - loss: 313.1676     \n",
      "Epoch 17/100\n",
      "1460/1460 [==============================] - 0s - loss: 269.0302     \n",
      "Epoch 18/100\n",
      "1460/1460 [==============================] - 0s - loss: 233.7812     \n",
      "Epoch 19/100\n",
      "1460/1460 [==============================] - 0s - loss: 246.5225     \n",
      "Epoch 20/100\n",
      "1460/1460 [==============================] - 0s - loss: 216.8330     \n",
      "Epoch 21/100\n",
      "1460/1460 [==============================] - 0s - loss: 180.8580     \n",
      "Epoch 22/100\n",
      "1460/1460 [==============================] - 0s - loss: 167.9021     \n",
      "Epoch 23/100\n",
      "1460/1460 [==============================] - 0s - loss: 159.7821     \n",
      "Epoch 24/100\n",
      "1460/1460 [==============================] - 0s - loss: 156.0437     \n",
      "Epoch 25/100\n",
      "1460/1460 [==============================] - 0s - loss: 145.6341     \n",
      "Epoch 26/100\n",
      "1460/1460 [==============================] - 0s - loss: 133.1163     \n",
      "Epoch 27/100\n",
      "1460/1460 [==============================] - 0s - loss: 134.4316     \n",
      "Epoch 28/100\n",
      "1460/1460 [==============================] - 0s - loss: 116.6493     \n",
      "Epoch 29/100\n",
      "1460/1460 [==============================] - 0s - loss: 105.7314     \n",
      "Epoch 30/100\n",
      "1460/1460 [==============================] - 0s - loss: 103.8140     \n",
      "Epoch 31/100\n",
      "1460/1460 [==============================] - 0s - loss: 100.8967    \n",
      "Epoch 32/100\n",
      "1460/1460 [==============================] - 0s - loss: 95.7033     \n",
      "Epoch 33/100\n",
      "1460/1460 [==============================] - 0s - loss: 85.0996     \n",
      "Epoch 34/100\n",
      "1460/1460 [==============================] - 0s - loss: 84.7159     \n",
      "Epoch 35/100\n",
      "1460/1460 [==============================] - 0s - loss: 83.7321     \n",
      "Epoch 36/100\n",
      "1460/1460 [==============================] - 0s - loss: 72.7159     \n",
      "Epoch 37/100\n",
      "1460/1460 [==============================] - 0s - loss: 69.8135     \n",
      "Epoch 38/100\n",
      "1460/1460 [==============================] - 0s - loss: 65.4124     \n",
      "Epoch 39/100\n",
      "1460/1460 [==============================] - 0s - loss: 54.4657     \n",
      "Epoch 40/100\n",
      "1460/1460 [==============================] - 0s - loss: 56.0187     \n",
      "Epoch 41/100\n",
      "1460/1460 [==============================] - 0s - loss: 54.0482     \n",
      "Epoch 42/100\n",
      "1460/1460 [==============================] - 0s - loss: 50.6503     \n",
      "Epoch 43/100\n",
      "1460/1460 [==============================] - 0s - loss: 49.4220     \n",
      "Epoch 44/100\n",
      "1460/1460 [==============================] - 0s - loss: 45.0052     \n",
      "Epoch 45/100\n",
      "1460/1460 [==============================] - 0s - loss: 49.0380     \n",
      "Epoch 46/100\n",
      "1460/1460 [==============================] - 0s - loss: 46.5510     \n",
      "Epoch 47/100\n",
      "1460/1460 [==============================] - 0s - loss: 47.3957     \n",
      "Epoch 48/100\n",
      "1460/1460 [==============================] - 0s - loss: 44.7471     \n",
      "Epoch 49/100\n",
      "1460/1460 [==============================] - 0s - loss: 43.2091     \n",
      "Epoch 50/100\n",
      "1460/1460 [==============================] - 0s - loss: 42.0558     \n",
      "Epoch 51/100\n",
      "1460/1460 [==============================] - 0s - loss: 38.5097     \n",
      "Epoch 52/100\n",
      "1460/1460 [==============================] - 0s - loss: 38.7049     \n",
      "Epoch 53/100\n",
      "1460/1460 [==============================] - 0s - loss: 36.4455     \n",
      "Epoch 54/100\n",
      "1460/1460 [==============================] - 0s - loss: 40.4054     \n",
      "Epoch 55/100\n",
      "1460/1460 [==============================] - 0s - loss: 34.8622     \n",
      "Epoch 56/100\n",
      "1460/1460 [==============================] - 0s - loss: 38.6370     \n",
      "Epoch 57/100\n",
      "1460/1460 [==============================] - 0s - loss: 34.5097     \n",
      "Epoch 58/100\n",
      "1460/1460 [==============================] - 0s - loss: 33.8793     \n",
      "Epoch 59/100\n",
      "1460/1460 [==============================] - 0s - loss: 33.6750     \n",
      "Epoch 60/100\n",
      "1460/1460 [==============================] - 0s - loss: 33.4086     \n",
      "Epoch 61/100\n",
      "1460/1460 [==============================] - 0s - loss: 32.7860     \n",
      "Epoch 62/100\n",
      "1460/1460 [==============================] - 0s - loss: 31.1834     \n",
      "Epoch 63/100\n",
      "1460/1460 [==============================] - 0s - loss: 33.5806     \n",
      "Epoch 64/100\n",
      "1460/1460 [==============================] - 0s - loss: 31.3963     \n",
      "Epoch 65/100\n",
      "1460/1460 [==============================] - 0s - loss: 30.7052     \n",
      "Epoch 66/100\n",
      "1460/1460 [==============================] - 0s - loss: 29.7871     \n",
      "Epoch 67/100\n",
      "1460/1460 [==============================] - 0s - loss: 30.8645     \n",
      "Epoch 68/100\n",
      "1460/1460 [==============================] - 0s - loss: 27.8997     \n",
      "Epoch 69/100\n",
      "1460/1460 [==============================] - 0s - loss: 32.0779     \n",
      "Epoch 70/100\n",
      "1460/1460 [==============================] - 0s - loss: 28.8075     \n",
      "Epoch 71/100\n",
      "1460/1460 [==============================] - 0s - loss: 29.0829     \n",
      "Epoch 72/100\n",
      "1460/1460 [==============================] - 0s - loss: 27.8650     \n",
      "Epoch 73/100\n",
      "1460/1460 [==============================] - 0s - loss: 28.2083     \n",
      "Epoch 74/100\n",
      "1460/1460 [==============================] - 0s - loss: 30.0295     \n",
      "Epoch 75/100\n",
      "1460/1460 [==============================] - 0s - loss: 27.5564     \n",
      "Epoch 76/100\n",
      "1460/1460 [==============================] - 0s - loss: 27.0865     \n",
      "Epoch 77/100\n",
      "1460/1460 [==============================] - 0s - loss: 29.2751     \n",
      "Epoch 78/100\n",
      "1460/1460 [==============================] - 0s - loss: 26.6407     \n",
      "Epoch 79/100\n",
      "1460/1460 [==============================] - 0s - loss: 25.8317     \n",
      "Epoch 80/100\n",
      "1460/1460 [==============================] - 0s - loss: 25.8904     \n",
      "Epoch 81/100\n",
      "1460/1460 [==============================] - 0s - loss: 26.4280     \n",
      "Epoch 82/100\n",
      "1460/1460 [==============================] - 0s - loss: 24.0568     \n",
      "Epoch 83/100\n",
      "1460/1460 [==============================] - 0s - loss: 25.3467     \n",
      "Epoch 84/100\n",
      "1460/1460 [==============================] - 0s - loss: 24.2378     \n",
      "Epoch 85/100\n",
      "1460/1460 [==============================] - 0s - loss: 24.6903     \n",
      "Epoch 86/100\n",
      "1460/1460 [==============================] - 0s - loss: 23.5590     \n",
      "Epoch 87/100\n",
      "1460/1460 [==============================] - 0s - loss: 23.6994     \n",
      "Epoch 88/100\n",
      "1460/1460 [==============================] - 0s - loss: 24.6774     \n",
      "Epoch 89/100\n",
      "1460/1460 [==============================] - 0s - loss: 24.1228     \n",
      "Epoch 90/100\n",
      "1460/1460 [==============================] - 0s - loss: 24.1243     \n",
      "Epoch 91/100\n",
      "1460/1460 [==============================] - 0s - loss: 24.1365     \n",
      "Epoch 92/100\n",
      "1460/1460 [==============================] - 0s - loss: 22.8549     \n",
      "Epoch 93/100\n",
      "1460/1460 [==============================] - 0s - loss: 22.0699     \n",
      "Epoch 94/100\n",
      "1460/1460 [==============================] - 0s - loss: 22.1687     \n",
      "Epoch 95/100\n",
      "1460/1460 [==============================] - 0s - loss: 23.5072     \n",
      "Epoch 96/100\n",
      "1460/1460 [==============================] - 0s - loss: 22.9009     \n",
      "Epoch 97/100\n",
      "1460/1460 [==============================] - 0s - loss: 22.2319     \n",
      "Epoch 98/100\n",
      "1460/1460 [==============================] - 0s - loss: 20.7938     \n",
      "Epoch 99/100\n",
      "1460/1460 [==============================] - 0s - loss: 22.4959     \n",
      "Epoch 100/100\n",
      "1460/1460 [==============================] - 0s - loss: 21.6275     \n"
     ]
    },
    {
     "data": {
      "text/plain": [
       "<keras.callbacks.History at 0x11436a9b0>"
      ]
     },
     "execution_count": 25,
     "metadata": {},
     "output_type": "execute_result"
    }
   ],
   "source": [
    "nn_model.fit(X_train.values, y_train.values, nb_epoch=100, batch_size=50)"
   ]
  },
  {
   "cell_type": "code",
   "execution_count": 26,
   "metadata": {
    "collapsed": false
   },
   "outputs": [],
   "source": [
    "# 查看测试mse\n",
    "if debug:\n",
    "    print('NNmodel MSE:', metrics.mean_squared_error(nn_model.predict(X_test.values), y_test))"
   ]
  },
  {
   "cell_type": "code",
   "execution_count": 27,
   "metadata": {
    "collapsed": false,
    "scrolled": true
   },
   "outputs": [],
   "source": [
    "# np.array([nn_model.predict(X_test.values).reshape(-1), y_test.values.reshape(-1)]).T"
   ]
  },
  {
   "cell_type": "markdown",
   "metadata": {
    "collapsed": true
   },
   "source": [
    "## 结果"
   ]
  },
  {
   "cell_type": "code",
   "execution_count": 40,
   "metadata": {
    "collapsed": true
   },
   "outputs": [],
   "source": [
    "# 使用的模型\n",
    "res_model = lasso_lars\n",
    "\n",
    "# 预测\n",
    "y_pred = res_model.predict(X_pred.values)\n",
    "y_pred = np.expm1(y_pred)\n",
    "\n",
    "# 导出数据\n",
    "res_df = pd.DataFrame({'Id': test_df['Id'], 'SalePrice': y_pred})\n",
    "res_df.to_csv('./data/result.csv', index=False)"
   ]
  },
  {
   "cell_type": "code",
   "execution_count": null,
   "metadata": {
    "collapsed": true
   },
   "outputs": [],
   "source": []
  }
 ],
 "metadata": {
  "kernelspec": {
   "display_name": "Python 3",
   "language": "python",
   "name": "python3"
  },
  "language_info": {
   "codemirror_mode": {
    "name": "ipython",
    "version": 3
   },
   "file_extension": ".py",
   "mimetype": "text/x-python",
   "name": "python",
   "nbconvert_exporter": "python",
   "pygments_lexer": "ipython3",
   "version": "3.5.1"
  }
 },
 "nbformat": 4,
 "nbformat_minor": 1
}
