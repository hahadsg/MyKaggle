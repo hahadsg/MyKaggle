{
 "cells": [
  {
   "cell_type": "code",
   "execution_count": 1,
   "metadata": {
    "collapsed": true
   },
   "outputs": [],
   "source": [
    "# -*- coding:utf8 -*-\n",
    "import re\n",
    "from collections import Counter\n",
    "\n",
    "import pandas as pd\n",
    "import numpy as np\n",
    "import matplotlib.pyplot as plt\n",
    "import seaborn as sns\n",
    "from nltk.stem.porter import PorterStemmer\n",
    "from bs4 import BeautifulSoup\n",
    "\n",
    "from sklearn import metrics\n",
    "from sklearn import model_selection\n",
    "from sklearn.model_selection import train_test_split\n",
    "from sklearn.model_selection import GridSearchCV\n",
    "from sklearn.model_selection import StratifiedKFold\n",
    "from sklearn import preprocessing\n",
    "from sklearn.feature_extraction.text import CountVectorizer, TfidfVectorizer\n",
    "\n",
    "from mydatools.plot import plot_grid_search_result\n",
    "\n",
    "% matplotlib inline"
   ]
  },
  {
   "cell_type": "markdown",
   "metadata": {},
   "source": [
    "## 获取数据"
   ]
  },
  {
   "cell_type": "code",
   "execution_count": 2,
   "metadata": {
    "collapsed": false
   },
   "outputs": [
    {
     "data": {
      "text/html": [
       "<div>\n",
       "<table border=\"1\" class=\"dataframe\">\n",
       "  <thead>\n",
       "    <tr style=\"text-align: right;\">\n",
       "      <th></th>\n",
       "      <th></th>\n",
       "      <th>id</th>\n",
       "      <th>is_duplicate</th>\n",
       "      <th>qid1</th>\n",
       "      <th>qid2</th>\n",
       "      <th>question1</th>\n",
       "      <th>question2</th>\n",
       "      <th>test_id</th>\n",
       "    </tr>\n",
       "  </thead>\n",
       "  <tbody>\n",
       "    <tr>\n",
       "      <th rowspan=\"5\" valign=\"top\">train</th>\n",
       "      <th>0</th>\n",
       "      <td>0.0</td>\n",
       "      <td>0.0</td>\n",
       "      <td>1.0</td>\n",
       "      <td>2.0</td>\n",
       "      <td>What is the step by step guide to invest in sh...</td>\n",
       "      <td>What is the step by step guide to invest in sh...</td>\n",
       "      <td>NaN</td>\n",
       "    </tr>\n",
       "    <tr>\n",
       "      <th>1</th>\n",
       "      <td>1.0</td>\n",
       "      <td>0.0</td>\n",
       "      <td>3.0</td>\n",
       "      <td>4.0</td>\n",
       "      <td>What is the story of Kohinoor (Koh-i-Noor) Dia...</td>\n",
       "      <td>What would happen if the Indian government sto...</td>\n",
       "      <td>NaN</td>\n",
       "    </tr>\n",
       "    <tr>\n",
       "      <th>2</th>\n",
       "      <td>2.0</td>\n",
       "      <td>0.0</td>\n",
       "      <td>5.0</td>\n",
       "      <td>6.0</td>\n",
       "      <td>How can I increase the speed of my internet co...</td>\n",
       "      <td>How can Internet speed be increased by hacking...</td>\n",
       "      <td>NaN</td>\n",
       "    </tr>\n",
       "    <tr>\n",
       "      <th>3</th>\n",
       "      <td>3.0</td>\n",
       "      <td>0.0</td>\n",
       "      <td>7.0</td>\n",
       "      <td>8.0</td>\n",
       "      <td>Why am I mentally very lonely? How can I solve...</td>\n",
       "      <td>Find the remainder when [math]23^{24}[/math] i...</td>\n",
       "      <td>NaN</td>\n",
       "    </tr>\n",
       "    <tr>\n",
       "      <th>4</th>\n",
       "      <td>4.0</td>\n",
       "      <td>0.0</td>\n",
       "      <td>9.0</td>\n",
       "      <td>10.0</td>\n",
       "      <td>Which one dissolve in water quikly sugar, salt...</td>\n",
       "      <td>Which fish would survive in salt water?</td>\n",
       "      <td>NaN</td>\n",
       "    </tr>\n",
       "  </tbody>\n",
       "</table>\n",
       "</div>"
      ],
      "text/plain": [
       "          id  is_duplicate  qid1  qid2  \\\n",
       "train 0  0.0           0.0   1.0   2.0   \n",
       "      1  1.0           0.0   3.0   4.0   \n",
       "      2  2.0           0.0   5.0   6.0   \n",
       "      3  3.0           0.0   7.0   8.0   \n",
       "      4  4.0           0.0   9.0  10.0   \n",
       "\n",
       "                                                 question1  \\\n",
       "train 0  What is the step by step guide to invest in sh...   \n",
       "      1  What is the story of Kohinoor (Koh-i-Noor) Dia...   \n",
       "      2  How can I increase the speed of my internet co...   \n",
       "      3  Why am I mentally very lonely? How can I solve...   \n",
       "      4  Which one dissolve in water quikly sugar, salt...   \n",
       "\n",
       "                                                 question2  test_id  \n",
       "train 0  What is the step by step guide to invest in sh...      NaN  \n",
       "      1  What would happen if the Indian government sto...      NaN  \n",
       "      2  How can Internet speed be increased by hacking...      NaN  \n",
       "      3  Find the remainder when [math]23^{24}[/math] i...      NaN  \n",
       "      4            Which fish would survive in salt water?      NaN  "
      ]
     },
     "execution_count": 2,
     "metadata": {},
     "output_type": "execute_result"
    }
   ],
   "source": [
    "train_df = pd.read_csv('./data/input/train.csv')\n",
    "test_df = pd.read_csv('./data/input/test.csv')\n",
    "full_df = pd.concat([train_df, test_df], keys=['train', 'test'])\n",
    "del(train_df)\n",
    "del(test_df)\n",
    "full_df.head()"
   ]
  },
  {
   "cell_type": "code",
   "execution_count": 39,
   "metadata": {
    "collapsed": true
   },
   "outputs": [],
   "source": [
    "feature_set = set()"
   ]
  },
  {
   "cell_type": "markdown",
   "metadata": {},
   "source": [
    "## 相同words的占比 \n",
    "\n",
    "两个问题所含有的相同单词占比越多，它们之间就越相似\n",
    "即question1有的单词为qs1_words，question2有的单词为qs2_words，共有的单词为share_words\n",
    "qs1_words[k][i]代表第k条数据是否有第i个单词\n",
    "\n",
    "$similarity = \\frac{\\sum\\limits_{i} share\\_words[i]}{\\sum\\limits_{i} qs1\\_words[i] + \\sum\\limits_{i} qs2\\_words[i]}$\n",
    "\n",
    "上式没有对单词赋权，实际上不同的单词相同会有不同效果，比如like这种经常出现的单词，权值应该较低\n",
    "所以，对上式进行修改，weight由tfidf得出\n",
    "\n",
    "$similarity = \\frac{\\sum\\limits_{i} share\\_words[i] * weight[i]}{\\sum\\limits_{i} qs1\\_words[i] * weight[i] + \\sum\\limits_{i} qs2\\_words[i] * weight[i]}$"
   ]
  },
  {
   "cell_type": "code",
   "execution_count": 3,
   "metadata": {
    "collapsed": false
   },
   "outputs": [],
   "source": [
    "# 获取所有question\n",
    "qs1 = full_df['question1'].values.astype('U').tolist()\n",
    "qs2 = full_df['question2'].values.astype('U').tolist()"
   ]
  },
  {
   "cell_type": "code",
   "execution_count": 4,
   "metadata": {
    "collapsed": false
   },
   "outputs": [
    {
     "data": {
      "text/html": [
       "<div>\n",
       "<table border=\"1\" class=\"dataframe\">\n",
       "  <thead>\n",
       "    <tr style=\"text-align: right;\">\n",
       "      <th></th>\n",
       "      <th>00</th>\n",
       "      <th>000</th>\n",
       "      <th>0000</th>\n",
       "      <th>000000</th>\n",
       "      <th>0000000</th>\n",
       "      <th>00000000</th>\n",
       "      <th>0000000000</th>\n",
       "      <th>00000000000000000000</th>\n",
       "      <th>0000001</th>\n",
       "      <th>00000074</th>\n",
       "      <th>...</th>\n",
       "      <th>이정현</th>\n",
       "      <th>이주일이</th>\n",
       "      <th>충만해서</th>\n",
       "      <th>친구해도</th>\n",
       "      <th>쾌지나칭칭나네</th>\n",
       "      <th>하지만</th>\n",
       "      <th>한글</th>\n",
       "      <th>황경지</th>\n",
       "      <th>ﬁnd</th>\n",
       "      <th>ｦb</th>\n",
       "    </tr>\n",
       "  </thead>\n",
       "  <tbody>\n",
       "    <tr>\n",
       "      <th>0</th>\n",
       "      <td>9.74721</td>\n",
       "      <td>7.313857</td>\n",
       "      <td>13.301414</td>\n",
       "      <td>14.57438</td>\n",
       "      <td>14.728531</td>\n",
       "      <td>15.827143</td>\n",
       "      <td>15.421678</td>\n",
       "      <td>14.57438</td>\n",
       "      <td>15.827143</td>\n",
       "      <td>15.827143</td>\n",
       "      <td>...</td>\n",
       "      <td>15.421678</td>\n",
       "      <td>13.955341</td>\n",
       "      <td>14.57438</td>\n",
       "      <td>15.827143</td>\n",
       "      <td>14.323066</td>\n",
       "      <td>15.421678</td>\n",
       "      <td>15.421678</td>\n",
       "      <td>14.57438</td>\n",
       "      <td>15.421678</td>\n",
       "      <td>13.881233</td>\n",
       "    </tr>\n",
       "  </tbody>\n",
       "</table>\n",
       "<p>1 rows × 121139 columns</p>\n",
       "</div>"
      ],
      "text/plain": [
       "        00       000       0000    000000    0000000   00000000  0000000000  \\\n",
       "0  9.74721  7.313857  13.301414  14.57438  14.728531  15.827143   15.421678   \n",
       "\n",
       "   00000000000000000000    0000001   00000074    ...            이정현  \\\n",
       "0              14.57438  15.827143  15.827143    ...      15.421678   \n",
       "\n",
       "        이주일이      충만해서       친구해도    쾌지나칭칭나네        하지만         한글       황경지  \\\n",
       "0  13.955341  14.57438  15.827143  14.323066  15.421678  15.421678  14.57438   \n",
       "\n",
       "         ﬁnd         ｦb  \n",
       "0  15.421678  13.881233  \n",
       "\n",
       "[1 rows x 121139 columns]"
      ]
     },
     "execution_count": 4,
     "metadata": {},
     "output_type": "execute_result"
    }
   ],
   "source": [
    "# 对所有question进行tfidf\n",
    "tfidf = TfidfVectorizer(stop_words='english')\n",
    "tfidf.fit(qs1 + qs2)\n",
    "pd.DataFrame([tfidf.idf_], columns=tfidf.get_feature_names())"
   ]
  },
  {
   "cell_type": "code",
   "execution_count": 5,
   "metadata": {
    "collapsed": false,
    "scrolled": true
   },
   "outputs": [],
   "source": [
    "# question1 question2 存在的words\n",
    "qs1_words = (tfidf.transform(qs1) > 0).astype('int')\n",
    "qs2_words = (tfidf.transform(qs2) > 0).astype('int')"
   ]
  },
  {
   "cell_type": "code",
   "execution_count": 6,
   "metadata": {
    "collapsed": false
   },
   "outputs": [],
   "source": [
    "# question1 question2 共有的words\n",
    "share_words = ((qs1_words + qs2_words) == 2).astype('int')"
   ]
  },
  {
   "cell_type": "code",
   "execution_count": 7,
   "metadata": {
    "collapsed": false
   },
   "outputs": [],
   "source": [
    "# 共有单词权值和\n",
    "share_weight = share_words.multiply(tfidf.idf_).sum(axis=1)"
   ]
  },
  {
   "cell_type": "code",
   "execution_count": 8,
   "metadata": {
    "collapsed": true
   },
   "outputs": [],
   "source": [
    "# 总体单词权值和\n",
    "total_weight = (qs1_words + qs2_words).multiply(tfidf.idf_).sum(axis=1)"
   ]
  },
  {
   "cell_type": "code",
   "execution_count": 30,
   "metadata": {
    "collapsed": false
   },
   "outputs": [
    {
     "name": "stderr",
     "output_type": "stream",
     "text": [
      "/Library/Frameworks/Python.framework/Versions/3.5/lib/python3.5/site-packages/ipykernel/__main__.py:1: RuntimeWarning: invalid value encountered in true_divide\n",
      "  if __name__ == '__main__':\n"
     ]
    }
   ],
   "source": [
    "# 没有权重的相似度\n",
    "full_df['question_word_similarity'] = share_words.sum(axis=1) / (qs1_words + qs2_words).sum(axis=1)"
   ]
  },
  {
   "cell_type": "code",
   "execution_count": 9,
   "metadata": {
    "collapsed": false,
    "scrolled": true
   },
   "outputs": [
    {
     "name": "stderr",
     "output_type": "stream",
     "text": [
      "/Library/Frameworks/Python.framework/Versions/3.5/lib/python3.5/site-packages/ipykernel/__main__.py:1: RuntimeWarning: invalid value encountered in true_divide\n",
      "  if __name__ == '__main__':\n"
     ]
    }
   ],
   "source": [
    "# 带tfidf权重的相似度\n",
    "full_df['question_tfidf_similarity'] = share_weight / total_weight"
   ]
  },
  {
   "cell_type": "code",
   "execution_count": 31,
   "metadata": {
    "collapsed": false
   },
   "outputs": [
    {
     "data": {
      "text/plain": [
       "<matplotlib.legend.Legend at 0x10e5ac860>"
      ]
     },
     "execution_count": 31,
     "metadata": {},
     "output_type": "execute_result"
    },
    {
     "data": {
      "image/png": "[encoded data removed]",
      "text/plain": [
       "<matplotlib.figure.Figure at 0x10e110668>"
      ]
     },
     "metadata": {},
     "output_type": "display_data"
    }
   ],
   "source": [
    "plt.subplots(1,1,figsize=(10,6))\n",
    "plt.hist(full_df[full_df['is_duplicate'] == 0]['question_word_similarity'].fillna(0), bins=20, alpha=0.7, label='Not Duplicate')\n",
    "plt.hist(full_df[full_df['is_duplicate'] == 1]['question_word_similarity'].fillna(0), bins=20, alpha=0.7, label='Duplicate')\n",
    "plt.legend()"
   ]
  },
  {
   "cell_type": "code",
   "execution_count": 29,
   "metadata": {
    "collapsed": false
   },
   "outputs": [
    {
     "data": {
      "text/plain": [
       "<matplotlib.legend.Legend at 0x116df3780>"
      ]
     },
     "execution_count": 29,
     "metadata": {},
     "output_type": "execute_result"
    },
    {
     "data": {
      "image/png": "[encoded data removed]",
      "text/plain": [
       "<matplotlib.figure.Figure at 0x10ed0deb8>"
      ]
     },
     "metadata": {},
     "output_type": "display_data"
    }
   ],
   "source": [
    "plt.subplots(1,1,figsize=(10,6))\n",
    "plt.hist(full_df[full_df['is_duplicate'] == 0]['question_tfidf_similarity'].fillna(0), bins=20, alpha=0.7, label='Not Duplicate')\n",
    "plt.hist(full_df[full_df['is_duplicate'] == 1]['question_tfidf_similarity'].fillna(0), bins=20, alpha=0.7, label='Duplicate')\n",
    "plt.legend()"
   ]
  },
  {
   "cell_type": "code",
   "execution_count": 40,
   "metadata": {
    "collapsed": false
   },
   "outputs": [],
   "source": [
    "feature_set.update(['question_word_similarity', 'question_tfidf_similarity'])"
   ]
  },
  {
   "cell_type": "markdown",
   "metadata": {},
   "source": [
    "## 预处理"
   ]
  },
  {
   "cell_type": "code",
   "execution_count": 42,
   "metadata": {
    "collapsed": true
   },
   "outputs": [],
   "source": [
    "feature_columns = list(feature_set)\n",
    "label_column = 'is_duplicate'"
   ]
  },
  {
   "cell_type": "code",
   "execution_count": 43,
   "metadata": {
    "collapsed": true
   },
   "outputs": [],
   "source": [
    "X_train = full_df.loc['train'][feature_columns].values\n",
    "y_train = full_df.loc['train'][label_column].values\n",
    "\n",
    "X_pred = full_df.loc['test'][feature_columns].values"
   ]
  },
  {
   "cell_type": "markdown",
   "metadata": {},
   "source": [
    "## XGBoost"
   ]
  },
  {
   "cell_type": "code",
   "execution_count": 44,
   "metadata": {
    "collapsed": true
   },
   "outputs": [],
   "source": [
    "import xgboost as xgb"
   ]
  },
  {
   "cell_type": "code",
   "execution_count": 45,
   "metadata": {
    "collapsed": true
   },
   "outputs": [],
   "source": [
    "xg_train = xgb.DMatrix(X_train, y_train)\n",
    "xg_pred = xgb.DMatrix(X_pred)"
   ]
  },
  {
   "cell_type": "code",
   "execution_count": 49,
   "metadata": {
    "collapsed": true
   },
   "outputs": [],
   "source": [
    "bst_paras = {\n",
    "    'objective': 'binary:logistic',\n",
    "    'eval_metric': 'logloss',\n",
    "#     'n_estimators': 1000,\n",
    "#     'eta': 0.1,\n",
    "    'eta': 0.05,\n",
    "    'colsample_bytree': 0.7,\n",
    "    'subsample': 0.7,\n",
    "    'max_depth': 5,\n",
    "}\n",
    "num_boost_round = 1000"
   ]
  },
  {
   "cell_type": "code",
   "execution_count": 50,
   "metadata": {
    "collapsed": false
   },
   "outputs": [
    {
     "name": "stdout",
     "output_type": "stream",
     "text": [
      "[0]\ttrain-logloss:0.687904+1.36294e-05\ttest-logloss:0.687908+2.73101e-05\n",
      "[25]\ttrain-logloss:0.60325+0.000172096\ttest-logloss:0.603317+0.000432499\n",
      "[50]\ttrain-logloss:0.564309+0.000248485\ttest-logloss:0.56441+0.000690687\n",
      "[75]\ttrain-logloss:0.544616+0.000332805\ttest-logloss:0.544761+0.000833918\n",
      "[100]\ttrain-logloss:0.534233+0.000362751\ttest-logloss:0.534439+0.000952675\n",
      "[125]\ttrain-logloss:0.528685+0.00034661\ttest-logloss:0.528925+0.00105918\n",
      "[150]\ttrain-logloss:0.525536+0.000338384\ttest-logloss:0.525811+0.00113107\n",
      "[175]\ttrain-logloss:0.523652+0.000303976\ttest-logloss:0.523968+0.00119116\n",
      "[200]\ttrain-logloss:0.522481+0.000296368\ttest-logloss:0.522832+0.00122087\n",
      "[225]\ttrain-logloss:0.521674+0.000293734\ttest-logloss:0.522063+0.00124848\n",
      "[250]\ttrain-logloss:0.521142+0.000285952\ttest-logloss:0.521566+0.00126901\n",
      "[275]\ttrain-logloss:0.520706+0.000264153\ttest-logloss:0.521174+0.00129285\n",
      "[300]\ttrain-logloss:0.520202+0.000273261\ttest-logloss:0.520718+0.00127438\n",
      "[325]\ttrain-logloss:0.519752+0.000282727\ttest-logloss:0.520318+0.00125975\n",
      "[350]\ttrain-logloss:0.519425+0.000272437\ttest-logloss:0.52005+0.00126686\n",
      "[375]\ttrain-logloss:0.519118+0.000253732\ttest-logloss:0.519797+0.00128155\n",
      "[400]\ttrain-logloss:0.518834+0.000262855\ttest-logloss:0.519566+0.00126254\n",
      "[425]\ttrain-logloss:0.518551+0.000267847\ttest-logloss:0.519338+0.00125647\n",
      "[450]\ttrain-logloss:0.518324+0.000267027\ttest-logloss:0.519162+0.00125546\n",
      "[475]\ttrain-logloss:0.518119+0.000277521\ttest-logloss:0.519007+0.00124216\n",
      "[500]\ttrain-logloss:0.517915+0.000286753\ttest-logloss:0.518858+0.00122962\n",
      "[525]\ttrain-logloss:0.517723+0.000276142\ttest-logloss:0.518717+0.00123358\n",
      "[550]\ttrain-logloss:0.517557+0.000261887\ttest-logloss:0.5186+0.00124319\n",
      "[575]\ttrain-logloss:0.517401+0.000264212\ttest-logloss:0.518497+0.00123389\n",
      "[600]\ttrain-logloss:0.517245+0.000272728\ttest-logloss:0.518388+0.00122192\n",
      "[625]\ttrain-logloss:0.517092+0.000284468\ttest-logloss:0.518289+0.00120469\n",
      "[650]\ttrain-logloss:0.516943+0.000295528\ttest-logloss:0.518191+0.00118898\n",
      "[675]\ttrain-logloss:0.51682+0.000302429\ttest-logloss:0.518123+0.00117746\n",
      "[700]\ttrain-logloss:0.516704+0.000303558\ttest-logloss:0.518064+0.00117808\n",
      "[725]\ttrain-logloss:0.516591+0.000300357\ttest-logloss:0.518012+0.00117781\n",
      "[750]\ttrain-logloss:0.516483+0.000298813\ttest-logloss:0.517956+0.00117496\n",
      "[775]\ttrain-logloss:0.516377+0.000300732\ttest-logloss:0.517907+0.00117154\n",
      "[800]\ttrain-logloss:0.516266+0.000305239\ttest-logloss:0.517854+0.00116648\n",
      "[825]\ttrain-logloss:0.516159+0.000305447\ttest-logloss:0.517805+0.00115971\n",
      "[850]\ttrain-logloss:0.516054+0.000299091\ttest-logloss:0.517756+0.00116393\n",
      "[875]\ttrain-logloss:0.515957+0.000297841\ttest-logloss:0.517719+0.00116215\n",
      "[900]\ttrain-logloss:0.515866+0.00029934\ttest-logloss:0.517685+0.00115974\n",
      "[925]\ttrain-logloss:0.515777+0.000298835\ttest-logloss:0.517652+0.00115876\n",
      "[950]\ttrain-logloss:0.515692+0.000292011\ttest-logloss:0.517619+0.00116163\n",
      "[975]\ttrain-logloss:0.515611+0.000289122\ttest-logloss:0.517593+0.00116248\n",
      "[999]\ttrain-logloss:0.515535+0.000288564\ttest-logloss:0.51757+0.00116684\n",
      "best_model: test-logloss-mean     0.517570\n",
      "test-logloss-std      0.001167\n",
      "train-logloss-mean    0.515535\n",
      "train-logloss-std     0.000289\n",
      "Name: 999, dtype: float64\n"
     ]
    }
   ],
   "source": [
    "xgb_cv_res = xgb.cv(bst_paras, xg_train, num_boost_round, nfold=5, stratified=True, early_stopping_rounds=20, verbose_eval=25)\n",
    "best_round = np.argmin(xgb_cv_res['test-logloss-mean'])\n",
    "print('best_model:', xgb_cv_res.iloc[best_round])"
   ]
  },
  {
   "cell_type": "code",
   "execution_count": 51,
   "metadata": {
    "collapsed": false
   },
   "outputs": [
    {
     "name": "stdout",
     "output_type": "stream",
     "text": [
      "train_loss: 0.51586448311\n"
     ]
    }
   ],
   "source": [
    "bst = xgb.train(bst_paras, xg_train, best_round)\n",
    "print('train_loss:', metrics.log_loss(y_train, bst.predict(xg_train)))"
   ]
  },
  {
   "cell_type": "markdown",
   "metadata": {},
   "source": [
    "## 预测"
   ]
  },
  {
   "cell_type": "code",
   "execution_count": 64,
   "metadata": {
    "collapsed": false
   },
   "outputs": [],
   "source": [
    "res_df.to_csv('./data/output/result.csv', index=False)"
   ]
  },
  {
   "cell_type": "code",
   "execution_count": null,
   "metadata": {
    "collapsed": true
   },
   "outputs": [],
   "source": [
    "# 选择模型 并预测\n",
    "model = bst\n",
    "pred_proba = model.predict(xgb.DMatrix(X_pred))\n",
    "\n",
    "# 结果df\n",
    "res_df = pd.DataFrame({\n",
    "    'test_id': full_df.loc['test']['test_id'].astype('int'),\n",
    "    'is_duplicate': pred_proba,\n",
    "}, columns=['test_id', 'is_duplicate'])\n",
    "\n",
    "# save as csv\n",
    "res_df.to_csv('./data/output/result.csv', index=False)\n",
    "\n",
    "# zip\n",
    "# import zipfile\n",
    "# with zipfile.ZipFile('./data/output/result.zip', 'w') as f:\n",
    "#     f.write('./data/output/result.csv')"
   ]
  }
 ],
 "metadata": {
  "kernelspec": {
   "display_name": "Python 3",
   "language": "python",
   "name": "python3"
  },
  "language_info": {
   "codemirror_mode": {
    "name": "ipython",
    "version": 3
   },
   "file_extension": ".py",
   "mimetype": "text/x-python",
   "name": "python",
   "nbconvert_exporter": "python",
   "pygments_lexer": "ipython3",
   "version": "3.5.1"
  }
 },
 "nbformat": 4,
 "nbformat_minor": 1
}
