{
 "cells": [
  {
   "cell_type": "code",
   "execution_count": 1,
   "metadata": {
    "collapsed": true
   },
   "outputs": [],
   "source": [
    "# -*- coding:utf8 -*-\n",
    "import re\n",
    "from collections import Counter\n",
    "\n",
    "import pandas as pd\n",
    "import numpy as np\n",
    "import matplotlib.pyplot as plt\n",
    "import seaborn as sns\n",
    "from nltk.stem.porter import PorterStemmer\n",
    "from bs4 import BeautifulSoup\n",
    "\n",
    "from sklearn import metrics\n",
    "from sklearn import model_selection\n",
    "from sklearn.model_selection import train_test_split\n",
    "from sklearn.model_selection import GridSearchCV\n",
    "from sklearn.model_selection import StratifiedKFold\n",
    "from sklearn import preprocessing\n",
    "from sklearn.feature_extraction.text import CountVectorizer, TfidfVectorizer\n",
    "\n",
    "from mydatools.plot import plot_grid_search_result\n",
    "\n",
    "% matplotlib inline"
   ]
  },
  {
   "cell_type": "markdown",
   "metadata": {},
   "source": [
    "## 获取数据"
   ]
  },
  {
   "cell_type": "code",
   "execution_count": 2,
   "metadata": {
    "collapsed": false
   },
   "outputs": [
    {
     "data": {
      "text/html": [
       "<div>\n",
       "<table border=\"1\" class=\"dataframe\">\n",
       "  <thead>\n",
       "    <tr style=\"text-align: right;\">\n",
       "      <th></th>\n",
       "      <th></th>\n",
       "      <th>id</th>\n",
       "      <th>is_duplicate</th>\n",
       "      <th>qid1</th>\n",
       "      <th>qid2</th>\n",
       "      <th>question1</th>\n",
       "      <th>question2</th>\n",
       "      <th>test_id</th>\n",
       "    </tr>\n",
       "  </thead>\n",
       "  <tbody>\n",
       "    <tr>\n",
       "      <th rowspan=\"5\" valign=\"top\">train</th>\n",
       "      <th>0</th>\n",
       "      <td>0.0</td>\n",
       "      <td>0.0</td>\n",
       "      <td>1.0</td>\n",
       "      <td>2.0</td>\n",
       "      <td>What is the step by step guide to invest in sh...</td>\n",
       "      <td>What is the step by step guide to invest in sh...</td>\n",
       "      <td>NaN</td>\n",
       "    </tr>\n",
       "    <tr>\n",
       "      <th>1</th>\n",
       "      <td>1.0</td>\n",
       "      <td>0.0</td>\n",
       "      <td>3.0</td>\n",
       "      <td>4.0</td>\n",
       "      <td>What is the story of Kohinoor (Koh-i-Noor) Dia...</td>\n",
       "      <td>What would happen if the Indian government sto...</td>\n",
       "      <td>NaN</td>\n",
       "    </tr>\n",
       "    <tr>\n",
       "      <th>2</th>\n",
       "      <td>2.0</td>\n",
       "      <td>0.0</td>\n",
       "      <td>5.0</td>\n",
       "      <td>6.0</td>\n",
       "      <td>How can I increase the speed of my internet co...</td>\n",
       "      <td>How can Internet speed be increased by hacking...</td>\n",
       "      <td>NaN</td>\n",
       "    </tr>\n",
       "    <tr>\n",
       "      <th>3</th>\n",
       "      <td>3.0</td>\n",
       "      <td>0.0</td>\n",
       "      <td>7.0</td>\n",
       "      <td>8.0</td>\n",
       "      <td>Why am I mentally very lonely? How can I solve...</td>\n",
       "      <td>Find the remainder when [math]23^{24}[/math] i...</td>\n",
       "      <td>NaN</td>\n",
       "    </tr>\n",
       "    <tr>\n",
       "      <th>4</th>\n",
       "      <td>4.0</td>\n",
       "      <td>0.0</td>\n",
       "      <td>9.0</td>\n",
       "      <td>10.0</td>\n",
       "      <td>Which one dissolve in water quikly sugar, salt...</td>\n",
       "      <td>Which fish would survive in salt water?</td>\n",
       "      <td>NaN</td>\n",
       "    </tr>\n",
       "  </tbody>\n",
       "</table>\n",
       "</div>"
      ],
      "text/plain": [
       "          id  is_duplicate  qid1  qid2  \\\n",
       "train 0  0.0           0.0   1.0   2.0   \n",
       "      1  1.0           0.0   3.0   4.0   \n",
       "      2  2.0           0.0   5.0   6.0   \n",
       "      3  3.0           0.0   7.0   8.0   \n",
       "      4  4.0           0.0   9.0  10.0   \n",
       "\n",
       "                                                 question1  \\\n",
       "train 0  What is the step by step guide to invest in sh...   \n",
       "      1  What is the story of Kohinoor (Koh-i-Noor) Dia...   \n",
       "      2  How can I increase the speed of my internet co...   \n",
       "      3  Why am I mentally very lonely? How can I solve...   \n",
       "      4  Which one dissolve in water quikly sugar, salt...   \n",
       "\n",
       "                                                 question2  test_id  \n",
       "train 0  What is the step by step guide to invest in sh...      NaN  \n",
       "      1  What would happen if the Indian government sto...      NaN  \n",
       "      2  How can Internet speed be increased by hacking...      NaN  \n",
       "      3  Find the remainder when [math]23^{24}[/math] i...      NaN  \n",
       "      4            Which fish would survive in salt water?      NaN  "
      ]
     },
     "execution_count": 2,
     "metadata": {},
     "output_type": "execute_result"
    }
   ],
   "source": [
    "train_df = pd.read_csv('./data/input/train.csv')\n",
    "test_df = pd.read_csv('./data/input/test.csv')\n",
    "full_df = pd.concat([train_df, test_df], keys=['train', 'test'])\n",
    "del(train_df)\n",
    "del(test_df)\n",
    "full_df.head()"
   ]
  },
  {
   "cell_type": "code",
   "execution_count": 3,
   "metadata": {
    "collapsed": true
   },
   "outputs": [],
   "source": [
    "feature_set = set()"
   ]
  },
  {
   "cell_type": "markdown",
   "metadata": {},
   "source": [
    "## func"
   ]
  },
  {
   "cell_type": "code",
   "execution_count": 4,
   "metadata": {
    "collapsed": false
   },
   "outputs": [],
   "source": [
    "def plot_feature_compare(df, feat):\n",
    "    plt.subplots(1,1,figsize=(10,6))\n",
    "    plt.title(feat)\n",
    "    plt.hist(full_df[full_df['is_duplicate'] == 0][feat].fillna(0), bins=20, alpha=0.7, normed=True, label='Not Duplicate')\n",
    "    plt.hist(full_df[full_df['is_duplicate'] == 1][feat].fillna(0), bins=20, alpha=0.7, normed=True, label='Duplicate')\n",
    "    plt.legend()"
   ]
  },
  {
   "cell_type": "markdown",
   "metadata": {},
   "source": [
    "## words相似度\n",
    "\n",
    "两个问题所含有的相同单词占比越多，它们之间就越相似\n",
    "即question1有的单词为qs1_words，question2有的单词为qs2_words，共有的单词为share_words\n",
    "qs1_words[k][i]代表第k条数据是否有第i个单词\n",
    "\n",
    "$similarity = \\frac{\\sum\\limits_{i} share\\_words[i]}{\\sum\\limits_{i} qs1\\_words[i] + \\sum\\limits_{i} qs2\\_words[i]}$\n",
    "\n",
    "上式没有对单词赋权，实际上不同的单词相同会有不同效果，比如like这种经常出现的单词，权值应该较低\n",
    "所以，对上式进行修改，weight由tfidf得出\n",
    "\n",
    "$similarity = \\frac{\\sum\\limits_{i} share\\_words[i] * weight[i]}{\\sum\\limits_{i} qs1\\_words[i] * weight[i] + \\sum\\limits_{i} qs2\\_words[i] * weight[i]}$"
   ]
  },
  {
   "cell_type": "code",
   "execution_count": 5,
   "metadata": {
    "collapsed": false
   },
   "outputs": [],
   "source": [
    "# 获取所有question\n",
    "qs1 = full_df['question1'].values.astype('U').tolist()\n",
    "qs2 = full_df['question2'].values.astype('U').tolist()"
   ]
  },
  {
   "cell_type": "code",
   "execution_count": 6,
   "metadata": {
    "collapsed": false
   },
   "outputs": [
    {
     "data": {
      "text/html": [
       "<div>\n",
       "<table border=\"1\" class=\"dataframe\">\n",
       "  <thead>\n",
       "    <tr style=\"text-align: right;\">\n",
       "      <th></th>\n",
       "      <th>00</th>\n",
       "      <th>000</th>\n",
       "      <th>0000</th>\n",
       "      <th>000000</th>\n",
       "      <th>0000000</th>\n",
       "      <th>00000000</th>\n",
       "      <th>0000000000</th>\n",
       "      <th>00000000000000000000</th>\n",
       "      <th>0000001</th>\n",
       "      <th>00000074</th>\n",
       "      <th>...</th>\n",
       "      <th>이정현</th>\n",
       "      <th>이주일이</th>\n",
       "      <th>충만해서</th>\n",
       "      <th>친구해도</th>\n",
       "      <th>쾌지나칭칭나네</th>\n",
       "      <th>하지만</th>\n",
       "      <th>한글</th>\n",
       "      <th>황경지</th>\n",
       "      <th>ﬁnd</th>\n",
       "      <th>ｦb</th>\n",
       "    </tr>\n",
       "  </thead>\n",
       "  <tbody>\n",
       "    <tr>\n",
       "      <th>0</th>\n",
       "      <td>9.74721</td>\n",
       "      <td>7.313857</td>\n",
       "      <td>13.301414</td>\n",
       "      <td>14.57438</td>\n",
       "      <td>14.728531</td>\n",
       "      <td>15.827143</td>\n",
       "      <td>15.421678</td>\n",
       "      <td>14.57438</td>\n",
       "      <td>15.827143</td>\n",
       "      <td>15.827143</td>\n",
       "      <td>...</td>\n",
       "      <td>15.421678</td>\n",
       "      <td>13.955341</td>\n",
       "      <td>14.57438</td>\n",
       "      <td>15.827143</td>\n",
       "      <td>14.323066</td>\n",
       "      <td>15.421678</td>\n",
       "      <td>15.421678</td>\n",
       "      <td>14.57438</td>\n",
       "      <td>15.421678</td>\n",
       "      <td>13.881233</td>\n",
       "    </tr>\n",
       "  </tbody>\n",
       "</table>\n",
       "<p>1 rows × 121139 columns</p>\n",
       "</div>"
      ],
      "text/plain": [
       "        00       000       0000    000000    0000000   00000000  0000000000  \\\n",
       "0  9.74721  7.313857  13.301414  14.57438  14.728531  15.827143   15.421678   \n",
       "\n",
       "   00000000000000000000    0000001   00000074    ...            이정현  \\\n",
       "0              14.57438  15.827143  15.827143    ...      15.421678   \n",
       "\n",
       "        이주일이      충만해서       친구해도    쾌지나칭칭나네        하지만         한글       황경지  \\\n",
       "0  13.955341  14.57438  15.827143  14.323066  15.421678  15.421678  14.57438   \n",
       "\n",
       "         ﬁnd         ｦb  \n",
       "0  15.421678  13.881233  \n",
       "\n",
       "[1 rows x 121139 columns]"
      ]
     },
     "execution_count": 6,
     "metadata": {},
     "output_type": "execute_result"
    }
   ],
   "source": [
    "# 对所有question进行tfidf\n",
    "tfidf = TfidfVectorizer(stop_words='english')\n",
    "tfidf.fit(qs1 + qs2)\n",
    "pd.DataFrame([tfidf.idf_], columns=tfidf.get_feature_names())"
   ]
  },
  {
   "cell_type": "code",
   "execution_count": 7,
   "metadata": {
    "collapsed": false,
    "scrolled": true
   },
   "outputs": [],
   "source": [
    "# question1 question2 存在的words\n",
    "qs1_words = (tfidf.transform(qs1) > 0).astype('int')\n",
    "qs2_words = (tfidf.transform(qs2) > 0).astype('int')"
   ]
  },
  {
   "cell_type": "code",
   "execution_count": 8,
   "metadata": {
    "collapsed": false
   },
   "outputs": [],
   "source": [
    "# question1 question2 共有的words\n",
    "share_words = ((qs1_words + qs2_words) == 2).astype('int')"
   ]
  },
  {
   "cell_type": "code",
   "execution_count": 9,
   "metadata": {
    "collapsed": false
   },
   "outputs": [],
   "source": [
    "# 共有单词权值和\n",
    "share_weight = share_words.multiply(tfidf.idf_).sum(axis=1)"
   ]
  },
  {
   "cell_type": "code",
   "execution_count": 10,
   "metadata": {
    "collapsed": true
   },
   "outputs": [],
   "source": [
    "# 总体单词权值和\n",
    "total_weight = (qs1_words + qs2_words).multiply(tfidf.idf_).sum(axis=1)"
   ]
  },
  {
   "cell_type": "code",
   "execution_count": 11,
   "metadata": {
    "collapsed": false
   },
   "outputs": [
    {
     "name": "stderr",
     "output_type": "stream",
     "text": [
      "/Library/Frameworks/Python.framework/Versions/3.5/lib/python3.5/site-packages/ipykernel/__main__.py:2: RuntimeWarning: invalid value encountered in true_divide\n",
      "  from ipykernel import kernelapp as app\n"
     ]
    }
   ],
   "source": [
    "# 没有权重的相似度\n",
    "full_df['question_word_similarity'] = share_words.sum(axis=1) / (qs1_words + qs2_words).sum(axis=1)"
   ]
  },
  {
   "cell_type": "code",
   "execution_count": 12,
   "metadata": {
    "collapsed": false,
    "scrolled": true
   },
   "outputs": [
    {
     "name": "stderr",
     "output_type": "stream",
     "text": [
      "/Library/Frameworks/Python.framework/Versions/3.5/lib/python3.5/site-packages/ipykernel/__main__.py:2: RuntimeWarning: invalid value encountered in true_divide\n",
      "  from ipykernel import kernelapp as app\n"
     ]
    }
   ],
   "source": [
    "# 带tfidf权重的相似度\n",
    "full_df['question_tfidf_similarity'] = share_weight / total_weight"
   ]
  },
  {
   "cell_type": "code",
   "execution_count": 13,
   "metadata": {
    "collapsed": false
   },
   "outputs": [
    {
     "data": {
      "image/png": "[encoded data removed]",
      "text/plain": [
       "<matplotlib.figure.Figure at 0x10b0ecb00>"
      ]
     },
     "metadata": {},
     "output_type": "display_data"
    }
   ],
   "source": [
    "plot_feature_compare(full_df, 'question_word_similarity')"
   ]
  },
  {
   "cell_type": "code",
   "execution_count": 14,
   "metadata": {
    "collapsed": false
   },
   "outputs": [
    {
     "data": {
      "image/png": "[encoded data removed]",
      "text/plain": [
       "<matplotlib.figure.Figure at 0x10e1e5c50>"
      ]
     },
     "metadata": {},
     "output_type": "display_data"
    }
   ],
   "source": [
    "plot_feature_compare(full_df, 'question_tfidf_similarity')"
   ]
  },
  {
   "cell_type": "code",
   "execution_count": 15,
   "metadata": {
    "collapsed": false
   },
   "outputs": [],
   "source": [
    "feature_set.update(['question_word_similarity', 'question_tfidf_similarity'])"
   ]
  },
  {
   "cell_type": "markdown",
   "metadata": {},
   "source": [
    "## 问题长度 单词数"
   ]
  },
  {
   "cell_type": "code",
   "execution_count": 16,
   "metadata": {
    "collapsed": false
   },
   "outputs": [],
   "source": [
    "full_df['q1_len'] = full_df['question1'].str.len()\n",
    "full_df['q2_len'] = full_df['question2'].str.len()\n",
    "\n",
    "full_df['q1_words_num'] = full_df['question1'].apply(lambda s: len(str(s).split(' ')))\n",
    "full_df['q2_words_num'] = full_df['question2'].apply(lambda s: len(str(s).split(' ')))\n",
    "\n",
    "feature_set.update(['q1_len', 'q2_len', 'q1_words_num', 'q2_words_num'])"
   ]
  },
  {
   "cell_type": "code",
   "execution_count": 17,
   "metadata": {
    "collapsed": true
   },
   "outputs": [],
   "source": [
    "func_get_diff = lambda a, b: (a - b).abs() / (a + b)\n",
    "\n",
    "full_df['q_len_diff'] = func_get_diff(full_df['q1_len'], full_df['q2_len'])\n",
    "full_df['q_words_num_diff'] = func_get_diff(full_df['q1_words_num'], full_df['q2_words_num'])\n",
    "\n",
    "feature_set.update(['q_len_diff', 'q_words_num_diff'])"
   ]
  },
  {
   "cell_type": "code",
   "execution_count": 18,
   "metadata": {
    "collapsed": false
   },
   "outputs": [
    {
     "data": {
      "image/png": "[encoded data removed]",
      "text/plain": [
       "<matplotlib.figure.Figure at 0x10e8e0400>"
      ]
     },
     "metadata": {},
     "output_type": "display_data"
    }
   ],
   "source": [
    "plot_feature_compare(full_df, 'q_len_diff')"
   ]
  },
  {
   "cell_type": "code",
   "execution_count": 19,
   "metadata": {
    "collapsed": false
   },
   "outputs": [
    {
     "data": {
      "image/png": "[encoded data removed]",
      "text/plain": [
       "<matplotlib.figure.Figure at 0x10e206d68>"
      ]
     },
     "metadata": {},
     "output_type": "display_data"
    }
   ],
   "source": [
    "plot_feature_compare(full_df, 'q_words_num_diff')"
   ]
  },
  {
   "cell_type": "markdown",
   "metadata": {},
   "source": [
    "## 预处理"
   ]
  },
  {
   "cell_type": "code",
   "execution_count": 20,
   "metadata": {
    "collapsed": true
   },
   "outputs": [],
   "source": [
    "feature_columns = list(feature_set)\n",
    "label_column = 'is_duplicate'"
   ]
  },
  {
   "cell_type": "code",
   "execution_count": 21,
   "metadata": {
    "collapsed": true
   },
   "outputs": [],
   "source": [
    "X_train = full_df.loc['train'][feature_columns].values\n",
    "y_train = full_df.loc['train'][label_column].values\n",
    "\n",
    "X_pred = full_df.loc['test'][feature_columns].values"
   ]
  },
  {
   "cell_type": "markdown",
   "metadata": {},
   "source": [
    "## XGBoost"
   ]
  },
  {
   "cell_type": "code",
   "execution_count": 22,
   "metadata": {
    "collapsed": true
   },
   "outputs": [],
   "source": [
    "import xgboost as xgb"
   ]
  },
  {
   "cell_type": "markdown",
   "metadata": {},
   "source": [
    "理论上需要调整01样本的比例\n",
    "\n",
    "原本想使用xgboost自带的平衡数据的参数scale_pos_weight，但效果不理想（设置为0.336，用下面的公式求出）\n",
    "\n",
    "pos_weight = (old_neg_rate / old_pos_rate) / (new_neg_rate / new_pos_rate)"
   ]
  },
  {
   "cell_type": "code",
   "execution_count": 23,
   "metadata": {
    "collapsed": true
   },
   "outputs": [],
   "source": [
    "old_pos_rate = 0.37\n",
    "new_pos_rate = 0.165\n",
    "old_neg_rate = 1 - old_pos_rate\n",
    "new_neg_rate = 1 - new_pos_rate\n",
    "pos_weight = (old_neg_rate / old_pos_rate) / (new_neg_rate / new_pos_rate)\n",
    "# print(pos_weight)"
   ]
  },
  {
   "cell_type": "code",
   "execution_count": 24,
   "metadata": {
    "collapsed": false
   },
   "outputs": [],
   "source": [
    "sample_weight = np.where(y_train == 1, pos_weight, 1)\n",
    "xg_train = xgb.DMatrix(X_train, y_train, weight=sample_weight)\n",
    "# xg_train = xgb.DMatrix(X_train, y_train)\n",
    "xg_pred = xgb.DMatrix(X_pred)"
   ]
  },
  {
   "cell_type": "code",
   "execution_count": 25,
   "metadata": {
    "collapsed": false
   },
   "outputs": [],
   "source": [
    "bst_paras = {\n",
    "    'objective': 'binary:logistic',\n",
    "    'eval_metric': 'logloss',\n",
    "#     'n_estimators': 1000,\n",
    "    'eta': 0.02,\n",
    "    'colsample_bytree': 0.7,\n",
    "    'subsample': 0.7,\n",
    "    'max_depth': 5,\n",
    "#     'scale_pos_weight': pos_weight, # 这个参数效果很不理想\n",
    "}\n",
    "num_boost_round = 1000"
   ]
  },
  {
   "cell_type": "code",
   "execution_count": 26,
   "metadata": {
    "collapsed": false
   },
   "outputs": [
    {
     "name": "stdout",
     "output_type": "stream",
     "text": [
      "[0]\ttrain-logloss:0.682832+2.39616e-05\ttest-logloss:0.68284+4.57882e-05\n",
      "[25]\ttrain-logloss:0.518851+0.00107394\ttest-logloss:0.51899+0.000938376\n",
      "[50]\ttrain-logloss:0.444617+0.000682156\ttest-logloss:0.444836+0.000695825\n",
      "[75]\ttrain-logloss:0.407928+0.000531517\ttest-logloss:0.408231+0.000400039\n",
      "[100]\ttrain-logloss:0.387905+0.000664612\ttest-logloss:0.388287+0.000534656\n",
      "[125]\ttrain-logloss:0.376793+0.000472889\ttest-logloss:0.377243+0.000460245\n",
      "[150]\ttrain-logloss:0.370552+0.000334918\ttest-logloss:0.371082+0.000421995\n",
      "[175]\ttrain-logloss:0.36668+0.000256678\ttest-logloss:0.367277+0.000461945\n",
      "[200]\ttrain-logloss:0.364257+0.000247203\ttest-logloss:0.364923+0.000517939\n",
      "[225]\ttrain-logloss:0.362642+0.000165387\ttest-logloss:0.363367+0.000569667\n",
      "[250]\ttrain-logloss:0.361486+0.000139366\ttest-logloss:0.362285+0.000604098\n",
      "[275]\ttrain-logloss:0.360626+0.000114653\ttest-logloss:0.361489+0.000640221\n",
      "[300]\ttrain-logloss:0.359915+0.000126341\ttest-logloss:0.360848+0.000628935\n",
      "[325]\ttrain-logloss:0.359374+0.000138865\ttest-logloss:0.360375+0.000609662\n",
      "[350]\ttrain-logloss:0.358831+0.000114342\ttest-logloss:0.35991+0.000626093\n",
      "[375]\ttrain-logloss:0.358383+0.000127788\ttest-logloss:0.359536+0.000610251\n",
      "[400]\ttrain-logloss:0.357903+0.000121531\ttest-logloss:0.359145+0.000601086\n",
      "[425]\ttrain-logloss:0.357395+0.000144396\ttest-logloss:0.358733+0.000584641\n",
      "[450]\ttrain-logloss:0.356924+0.000130328\ttest-logloss:0.358354+0.000578187\n",
      "[475]\ttrain-logloss:0.356499+0.000130993\ttest-logloss:0.358018+0.000589176\n",
      "[500]\ttrain-logloss:0.356093+0.000127431\ttest-logloss:0.357709+0.000568495\n",
      "[525]\ttrain-logloss:0.355721+0.000132934\ttest-logloss:0.357435+0.000556097\n",
      "[550]\ttrain-logloss:0.355386+0.0001157\ttest-logloss:0.357198+0.000562813\n",
      "[575]\ttrain-logloss:0.355023+0.000110715\ttest-logloss:0.356928+0.000563817\n",
      "[600]\ttrain-logloss:0.354687+9.99772e-05\ttest-logloss:0.356687+0.000571512\n",
      "[625]\ttrain-logloss:0.354395+0.00010512\ttest-logloss:0.35649+0.000561304\n",
      "[650]\ttrain-logloss:0.354098+0.000103955\ttest-logloss:0.356284+0.000570032\n",
      "[675]\ttrain-logloss:0.353809+0.000110489\ttest-logloss:0.356087+0.000553925\n",
      "[700]\ttrain-logloss:0.353548+9.60196e-05\ttest-logloss:0.355917+0.000564031\n",
      "[725]\ttrain-logloss:0.353285+0.000103183\ttest-logloss:0.355747+0.000554235\n",
      "[750]\ttrain-logloss:0.353047+9.05481e-05\ttest-logloss:0.355603+0.000560084\n",
      "[775]\ttrain-logloss:0.352803+8.01563e-05\ttest-logloss:0.355445+0.000573191\n",
      "[800]\ttrain-logloss:0.35259+7.29784e-05\ttest-logloss:0.355317+0.000577888\n",
      "[825]\ttrain-logloss:0.352375+8.11995e-05\ttest-logloss:0.355184+0.000573311\n",
      "[850]\ttrain-logloss:0.352159+7.44822e-05\ttest-logloss:0.355052+0.00058098\n",
      "[875]\ttrain-logloss:0.351946+8.32226e-05\ttest-logloss:0.354924+0.000577532\n",
      "[900]\ttrain-logloss:0.351761+9.51218e-05\ttest-logloss:0.35482+0.000562532\n",
      "[925]\ttrain-logloss:0.351579+9.9395e-05\ttest-logloss:0.354723+0.000567092\n",
      "[950]\ttrain-logloss:0.351373+0.000108411\ttest-logloss:0.3546+0.000555668\n",
      "[975]\ttrain-logloss:0.351196+9.83776e-05\ttest-logloss:0.35451+0.000561594\n",
      "[999]\ttrain-logloss:0.351016+9.59321e-05\ttest-logloss:0.354413+0.000560893\n",
      "best_model: test-logloss-mean     0.354413\n",
      "test-logloss-std      0.000561\n",
      "train-logloss-mean    0.351016\n",
      "train-logloss-std     0.000096\n",
      "Name: 999, dtype: float64\n"
     ]
    }
   ],
   "source": [
    "xgb_cv_res = xgb.cv(bst_paras, xg_train, num_boost_round, nfold=5, stratified=True, early_stopping_rounds=20, verbose_eval=25)\n",
    "best_round = np.argmin(xgb_cv_res['test-logloss-mean'])\n",
    "print('best_model:', xgb_cv_res.iloc[best_round])"
   ]
  },
  {
   "cell_type": "code",
   "execution_count": 27,
   "metadata": {
    "collapsed": false
   },
   "outputs": [
    {
     "name": "stdout",
     "output_type": "stream",
     "text": [
      "train_loss: 0.351536600247\n"
     ]
    }
   ],
   "source": [
    "# watchlist = [(xg_train, 'train'), (xg_train, 'valid')]\n",
    "# bst = xgb.train(bst_paras, xg_train, best_round, watchlist, verbose_eval=25)\n",
    "bst = xgb.train(bst_paras, xg_train, best_round)\n",
    "print('train_loss:', metrics.log_loss(y_train, bst.predict(xg_train), sample_weight=sample_weight))"
   ]
  },
  {
   "cell_type": "markdown",
   "metadata": {},
   "source": [
    "## 预测"
   ]
  },
  {
   "cell_type": "code",
   "execution_count": 28,
   "metadata": {
    "collapsed": true
   },
   "outputs": [],
   "source": [
    "# 选择模型 并预测\n",
    "model = bst\n",
    "pred_proba = model.predict(xgb.DMatrix(X_pred))\n",
    "\n",
    "# 结果df\n",
    "res_df = pd.DataFrame({\n",
    "    'test_id': full_df.loc['test']['test_id'].astype('int'),\n",
    "    'is_duplicate': pred_proba,\n",
    "}, columns=['test_id', 'is_duplicate'])\n",
    "\n",
    "# save as csv\n",
    "res_df.to_csv('./data/output/result.csv', index=False)\n",
    "\n",
    "# zip\n",
    "# import zipfile\n",
    "# with zipfile.ZipFile('./data/output/result.zip', 'w') as f:\n",
    "#     f.write('./data/output/result.csv')"
   ]
  },
  {
   "cell_type": "code",
   "execution_count": null,
   "metadata": {
    "collapsed": true
   },
   "outputs": [],
   "source": []
  }
 ],
 "metadata": {
  "kernelspec": {
   "display_name": "Python 3",
   "language": "python",
   "name": "python3"
  },
  "language_info": {
   "codemirror_mode": {
    "name": "ipython",
    "version": 3
   },
   "file_extension": ".py",
   "mimetype": "text/x-python",
   "name": "python",
   "nbconvert_exporter": "python",
   "pygments_lexer": "ipython3",
   "version": "3.5.1"
  }
 },
 "nbformat": 4,
 "nbformat_minor": 1
}
