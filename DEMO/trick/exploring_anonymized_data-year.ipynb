{
 "cells": [
  {
   "cell_type": "markdown",
   "metadata": {},
   "source": [
    "## 前言\n",
    "\n",
    "这个trick来自https://www.coursera.org/learn/competitive-data-science/home/welcome"
   ]
  },
  {
   "cell_type": "markdown",
   "metadata": {},
   "source": [
    "## Download Data\n",
    "\n",
    "download data from [this link](https://habrastorage.org/storage/stuff/special/beeline/00.beeline_bigdata.zip)"
   ]
  },
  {
   "cell_type": "markdown",
   "metadata": {},
   "source": [
    "download data shell script"
   ]
  },
  {
   "cell_type": "code",
   "execution_count": 13,
   "metadata": {
    "collapsed": true
   },
   "outputs": [],
   "source": [
    "# !mkdir -p ./data\n",
    "# !mkdir -p ./data/exploring_anonymized_data-year\n",
    "# !curl -L https://habrastorage.org/storage/stuff/special/beeline/00.beeline_bigdata.zip -o ./data/exploring_anonymized_data-year.zip\n",
    "# !unzip -u ./data/exploring_anonymized_data-year.zip -d ./data/exploring_anonymized_data-year/"
   ]
  },
  {
   "cell_type": "markdown",
   "metadata": {},
   "source": [
    "clean data shell script"
   ]
  },
  {
   "cell_type": "code",
   "execution_count": 21,
   "metadata": {
    "collapsed": true
   },
   "outputs": [],
   "source": [
    "# !rm ./data/exploring_anonymized_data-year.zip\n",
    "# !rm -r ./data/exploring_anonymized_data-year/"
   ]
  },
  {
   "cell_type": "code",
   "execution_count": 22,
   "metadata": {
    "collapsed": true
   },
   "outputs": [],
   "source": [
    "# coding: utf8\n",
    "import numpy as np\n",
    "import pandas as pd\n",
    "import matplotlib.pyplot as plt\n",
    "import seaborn as sns\n",
    "\n",
    "%matplotlib inline"
   ]
  },
  {
   "cell_type": "code",
   "execution_count": 23,
   "metadata": {
    "collapsed": true
   },
   "outputs": [],
   "source": [
    "df = pd.read_csv('./data/exploring_anonymized_data-year/train.csv')"
   ]
  },
  {
   "cell_type": "code",
   "execution_count": 25,
   "metadata": {},
   "outputs": [
    {
     "data": {
      "text/html": [
       "<div>\n",
       "<style>\n",
       "    .dataframe thead tr:only-child th {\n",
       "        text-align: right;\n",
       "    }\n",
       "\n",
       "    .dataframe thead th {\n",
       "        text-align: left;\n",
       "    }\n",
       "\n",
       "    .dataframe tbody tr th {\n",
       "        vertical-align: top;\n",
       "    }\n",
       "</style>\n",
       "<table border=\"1\" class=\"dataframe\">\n",
       "  <thead>\n",
       "    <tr style=\"text-align: right;\">\n",
       "      <th></th>\n",
       "      <th>x0</th>\n",
       "      <th>x1</th>\n",
       "      <th>x2</th>\n",
       "      <th>x3</th>\n",
       "      <th>x4</th>\n",
       "      <th>x5</th>\n",
       "      <th>x6</th>\n",
       "      <th>x7</th>\n",
       "      <th>x8</th>\n",
       "      <th>x9</th>\n",
       "      <th>...</th>\n",
       "      <th>x53</th>\n",
       "      <th>x54</th>\n",
       "      <th>x55</th>\n",
       "      <th>x56</th>\n",
       "      <th>x57</th>\n",
       "      <th>x58</th>\n",
       "      <th>x59</th>\n",
       "      <th>x60</th>\n",
       "      <th>x61</th>\n",
       "      <th>y</th>\n",
       "    </tr>\n",
       "  </thead>\n",
       "  <tbody>\n",
       "    <tr>\n",
       "      <th>0</th>\n",
       "      <td>b4d8a653ea</td>\n",
       "      <td>16a14a2d17</td>\n",
       "      <td>06330986ed</td>\n",
       "      <td>ca63304de0</td>\n",
       "      <td>a62168d626</td>\n",
       "      <td>1746600cb0</td>\n",
       "      <td>1</td>\n",
       "      <td>1</td>\n",
       "      <td>-0.688706</td>\n",
       "      <td>7e5c97705a</td>\n",
       "      <td>...</td>\n",
       "      <td>0.235333</td>\n",
       "      <td>0.264952</td>\n",
       "      <td>0.000000</td>\n",
       "      <td>0.333333</td>\n",
       "      <td>0.333333</td>\n",
       "      <td>0.333333</td>\n",
       "      <td>0.000000</td>\n",
       "      <td>0.000000</td>\n",
       "      <td>9.0</td>\n",
       "      <td>2</td>\n",
       "    </tr>\n",
       "    <tr>\n",
       "      <th>1</th>\n",
       "      <td>467f9617a3</td>\n",
       "      <td>16a14a2d17</td>\n",
       "      <td>06330986ed</td>\n",
       "      <td>ca63304de0</td>\n",
       "      <td>b7584c2d52</td>\n",
       "      <td>1746600cb0</td>\n",
       "      <td>1</td>\n",
       "      <td>1</td>\n",
       "      <td>0.870871</td>\n",
       "      <td>5624b8f759</td>\n",
       "      <td>...</td>\n",
       "      <td>1.782346</td>\n",
       "      <td>1.322409</td>\n",
       "      <td>0.011647</td>\n",
       "      <td>0.397671</td>\n",
       "      <td>0.239601</td>\n",
       "      <td>0.249584</td>\n",
       "      <td>0.068220</td>\n",
       "      <td>0.033278</td>\n",
       "      <td>601.0</td>\n",
       "      <td>4</td>\n",
       "    </tr>\n",
       "    <tr>\n",
       "      <th>2</th>\n",
       "      <td>190436e528</td>\n",
       "      <td>16a14a2d17</td>\n",
       "      <td>06330986ed</td>\n",
       "      <td>ca63304de0</td>\n",
       "      <td>b7584c2d52</td>\n",
       "      <td>1746600cb0</td>\n",
       "      <td>1</td>\n",
       "      <td>1</td>\n",
       "      <td>0.437655</td>\n",
       "      <td>5624b8f759</td>\n",
       "      <td>...</td>\n",
       "      <td>-0.586540</td>\n",
       "      <td>0.672436</td>\n",
       "      <td>0.000000</td>\n",
       "      <td>0.606061</td>\n",
       "      <td>0.121212</td>\n",
       "      <td>0.212121</td>\n",
       "      <td>0.060606</td>\n",
       "      <td>0.000000</td>\n",
       "      <td>33.0</td>\n",
       "      <td>3</td>\n",
       "    </tr>\n",
       "    <tr>\n",
       "      <th>3</th>\n",
       "      <td>43859085bc</td>\n",
       "      <td>16a14a2d17</td>\n",
       "      <td>06330986ed</td>\n",
       "      <td>ca63304de0</td>\n",
       "      <td>a62168d626</td>\n",
       "      <td>1746600cb0</td>\n",
       "      <td>1</td>\n",
       "      <td>1</td>\n",
       "      <td>0.004439</td>\n",
       "      <td>f67f142e40</td>\n",
       "      <td>...</td>\n",
       "      <td>-1.600326</td>\n",
       "      <td>-1.838680</td>\n",
       "      <td>0.000000</td>\n",
       "      <td>1.000000</td>\n",
       "      <td>0.000000</td>\n",
       "      <td>0.000000</td>\n",
       "      <td>0.000000</td>\n",
       "      <td>0.000000</td>\n",
       "      <td>1.0</td>\n",
       "      <td>4</td>\n",
       "    </tr>\n",
       "    <tr>\n",
       "      <th>4</th>\n",
       "      <td>a4c3095b75</td>\n",
       "      <td>16a14a2d17</td>\n",
       "      <td>06330986ed</td>\n",
       "      <td>ca63304de0</td>\n",
       "      <td>b7584c2d52</td>\n",
       "      <td>1746600cb0</td>\n",
       "      <td>1</td>\n",
       "      <td>1</td>\n",
       "      <td>0.480977</td>\n",
       "      <td>7e5c97705a</td>\n",
       "      <td>...</td>\n",
       "      <td>0.960991</td>\n",
       "      <td>0.790990</td>\n",
       "      <td>0.020161</td>\n",
       "      <td>0.645161</td>\n",
       "      <td>0.258065</td>\n",
       "      <td>0.036290</td>\n",
       "      <td>0.040323</td>\n",
       "      <td>0.000000</td>\n",
       "      <td>248.0</td>\n",
       "      <td>3</td>\n",
       "    </tr>\n",
       "  </tbody>\n",
       "</table>\n",
       "<p>5 rows × 63 columns</p>\n",
       "</div>"
      ],
      "text/plain": [
       "           x0          x1          x2          x3          x4          x5  x6  \\\n",
       "0  b4d8a653ea  16a14a2d17  06330986ed  ca63304de0  a62168d626  1746600cb0   1   \n",
       "1  467f9617a3  16a14a2d17  06330986ed  ca63304de0  b7584c2d52  1746600cb0   1   \n",
       "2  190436e528  16a14a2d17  06330986ed  ca63304de0  b7584c2d52  1746600cb0   1   \n",
       "3  43859085bc  16a14a2d17  06330986ed  ca63304de0  a62168d626  1746600cb0   1   \n",
       "4  a4c3095b75  16a14a2d17  06330986ed  ca63304de0  b7584c2d52  1746600cb0   1   \n",
       "\n",
       "   x7        x8          x9 ...       x53       x54       x55       x56  \\\n",
       "0   1 -0.688706  7e5c97705a ...  0.235333  0.264952  0.000000  0.333333   \n",
       "1   1  0.870871  5624b8f759 ...  1.782346  1.322409  0.011647  0.397671   \n",
       "2   1  0.437655  5624b8f759 ... -0.586540  0.672436  0.000000  0.606061   \n",
       "3   1  0.004439  f67f142e40 ... -1.600326 -1.838680  0.000000  1.000000   \n",
       "4   1  0.480977  7e5c97705a ...  0.960991  0.790990  0.020161  0.645161   \n",
       "\n",
       "        x57       x58       x59       x60    x61  y  \n",
       "0  0.333333  0.333333  0.000000  0.000000    9.0  2  \n",
       "1  0.239601  0.249584  0.068220  0.033278  601.0  4  \n",
       "2  0.121212  0.212121  0.060606  0.000000   33.0  3  \n",
       "3  0.000000  0.000000  0.000000  0.000000    1.0  4  \n",
       "4  0.258065  0.036290  0.040323  0.000000  248.0  3  \n",
       "\n",
       "[5 rows x 63 columns]"
      ]
     },
     "execution_count": 25,
     "metadata": {},
     "output_type": "execute_result"
    }
   ],
   "source": [
    "df.head()"
   ]
  },
  {
   "cell_type": "markdown",
   "metadata": {},
   "source": [
    "## Random Forest\n",
    "\n",
    "做一个简单的随机森林模型看看"
   ]
  },
  {
   "cell_type": "code",
   "execution_count": 32,
   "metadata": {
    "collapsed": true
   },
   "outputs": [],
   "source": [
    "X = df.iloc[:, :-1].copy()\n",
    "y = df['y']\n",
    "\n",
    "# fill na\n",
    "X = X.fillna(-999)\n",
    "\n",
    "# label encoding\n",
    "cat_feats = X.columns[X.dtypes == 'object']\n",
    "X[cat_feats] = X[cat_feats].apply(lambda x: x.factorize()[0])"
   ]
  },
  {
   "cell_type": "code",
   "execution_count": 33,
   "metadata": {},
   "outputs": [
    {
     "data": {
      "text/plain": [
       "RandomForestClassifier(bootstrap=True, class_weight=None, criterion='gini',\n",
       "            max_depth=None, max_features='auto', max_leaf_nodes=None,\n",
       "            min_impurity_decrease=0.0, min_impurity_split=None,\n",
       "            min_samples_leaf=1, min_samples_split=2,\n",
       "            min_weight_fraction_leaf=0.0, n_estimators=10, n_jobs=1,\n",
       "            oob_score=False, random_state=None, verbose=0,\n",
       "            warm_start=False)"
      ]
     },
     "execution_count": 33,
     "metadata": {},
     "output_type": "execute_result"
    }
   ],
   "source": [
    "from sklearn.ensemble import RandomForestClassifier\n",
    "clf = RandomForestClassifier()\n",
    "clf.fit(X, y)"
   ]
  },
  {
   "cell_type": "code",
   "execution_count": 39,
   "metadata": {},
   "outputs": [
    {
     "data": {
      "text/plain": [
       "x8     0.237504\n",
       "x57    0.044805\n",
       "x56    0.038837\n",
       "x58    0.033722\n",
       "x30    0.027581\n",
       "dtype: float64"
      ]
     },
     "execution_count": 39,
     "metadata": {},
     "output_type": "execute_result"
    }
   ],
   "source": [
    "pd.Series(clf.feature_importances_, index=X.columns).sort_values(ascending=False).head()"
   ]
  },
  {
   "cell_type": "markdown",
   "metadata": {},
   "source": [
    "可以看到x8的重要程度最高，所以下面我们研究一下x8"
   ]
  },
  {
   "cell_type": "code",
   "execution_count": 40,
   "metadata": {},
   "outputs": [
    {
     "data": {
      "text/plain": [
       "0   -0.688706\n",
       "1    0.870871\n",
       "2    0.437655\n",
       "3    0.004439\n",
       "4    0.480977\n",
       "Name: x8, dtype: float64"
      ]
     },
     "execution_count": 40,
     "metadata": {},
     "output_type": "execute_result"
    }
   ],
   "source": [
    "df['x8'].head()"
   ]
  },
  {
   "cell_type": "code",
   "execution_count": 42,
   "metadata": {},
   "outputs": [
    {
     "name": "stdout",
     "output_type": "stream",
     "text": [
      "x8 mean: -0.0002523520286219452\n",
      "x8 std: 1.0232816360125667\n"
     ]
    }
   ],
   "source": [
    "print('x8 mean:', df['x8'].mean())\n",
    "print('x8 std:', df['x8'].std())"
   ]
  },
  {
   "cell_type": "markdown",
   "metadata": {},
   "source": [
    "可以看到x8的平均值接近0，标准差接近1，估计这个指标应该是做过标准化了"
   ]
  },
  {
   "cell_type": "code",
   "execution_count": 43,
   "metadata": {
    "scrolled": true
   },
   "outputs": [
    {
     "data": {
      "text/plain": [
       "-2.984750     2770\n",
       " 0.480977     2569\n",
       " 0.610941     1828\n",
       " 0.654263     1759\n",
       " 0.567620     1746\n",
       " 0.697585     1691\n",
       " 0.524298     1639\n",
       " 0.740906     1628\n",
       " 0.394333     1610\n",
       " 0.437655     1513\n",
       " 0.351012     1450\n",
       " 0.264369     1429\n",
       " 0.307690     1401\n",
       " 0.221047     1372\n",
       " 0.784228     1293\n",
       " 0.047761     1290\n",
       " 0.177725     1276\n",
       " 0.091082     1250\n",
       " 0.134404     1213\n",
       "-0.038882     1085\n",
       " 0.004439     1080\n",
       "-0.082204     1006\n",
       "-0.168847      995\n",
       "-0.125526      976\n",
       "-0.212169      954\n",
       "-0.342134      923\n",
       "-0.385455      921\n",
       "-0.255490      906\n",
       " 0.827549      893\n",
       "-0.298812      881\n",
       "              ... \n",
       "-1.771746        3\n",
       " 1.130800        3\n",
       "-2.248283        3\n",
       " 1.087479        2\n",
       "-1.945032        2\n",
       "-2.118319        2\n",
       "-2.551534        2\n",
       "-1.988354        2\n",
       " 1.390730        2\n",
       " 1.607338        2\n",
       " 1.304087        2\n",
       " 1.434051        2\n",
       " 1.477373        2\n",
       " 1.347408        2\n",
       "-1.815068        2\n",
       " 1.823946        1\n",
       "-2.161640        1\n",
       "-2.031675        1\n",
       "-2.724821        1\n",
       " 1.564016        1\n",
       " 1.520695        1\n",
       "-2.334927        1\n",
       "-2.204962        1\n",
       "-85.252444       1\n",
       " 3.036950        1\n",
       "-2.768142        1\n",
       " 2.993629        1\n",
       "-2.074997        1\n",
       " 1.174122        1\n",
       " 3.426844        1\n",
       "Name: x8, Length: 99, dtype: int64"
      ]
     },
     "execution_count": 43,
     "metadata": {},
     "output_type": "execute_result"
    }
   ],
   "source": [
    "df['x8'].value_counts()"
   ]
  },
  {
   "cell_type": "code",
   "execution_count": 50,
   "metadata": {},
   "outputs": [
    {
     "data": {
      "text/plain": [
       "array([43.27826527, 38.98942817,  0.21660793,  0.04332159,  0.17328635,\n",
       "        0.21660793,  0.08664317,  0.04332159,  0.04332159,  0.04332159,\n",
       "        0.04332159,  0.04332159,  0.04332159,  0.04332159,  0.04332159,\n",
       "        0.04332159,  0.04332159,  0.04332159,  0.04332159,  0.04332159,\n",
       "        0.04332159,  0.04332159,  0.04332159,  0.04332159,  0.04332159,\n",
       "        0.04332159,  0.04332159,  0.04332159,  0.04332159,  0.04332159,\n",
       "        0.04332159,  0.04332159,  0.04332159,  0.04332159,  0.04332159,\n",
       "        0.04332159,  0.04332159,  0.04332159,  0.04332159,  0.04332159,\n",
       "        0.04332159,  0.04332159,  0.04332159,  0.04332159,  0.04332159,\n",
       "        0.04332159,  0.04332159,  0.04332159,  0.04332159,  0.04332159,\n",
       "        0.04332159,  0.04332159,  0.04332159,  0.04332159,  0.04332159,\n",
       "        0.04332159,  0.04332159,  0.04332159,  0.04332159,  0.04332159,\n",
       "        0.04332159,  0.04332159,  0.04332159,  0.04332159,  0.04332159,\n",
       "        0.04332159,  0.04332159,  0.04332159,  0.04332159,  0.04332159,\n",
       "        0.04332159,  0.04332159,  0.04332159,  0.04332159,  0.04332159,\n",
       "        0.04332159,  0.04332159,  0.04332159,  0.04332159,  0.04332159,\n",
       "        0.04332159,  0.04332159,  0.04332159,  0.04332159,  0.04332159,\n",
       "        0.04332159,  0.12996476,  0.04332159,  0.04332159,  0.04332159,\n",
       "        0.04332159,  0.04332159,  0.04332159,  0.04332159,  0.21660793,\n",
       "        1.16968285,  0.04332159,  0.38989428,         nan])"
      ]
     },
     "execution_count": 50,
     "metadata": {},
     "output_type": "execute_result"
    }
   ],
   "source": [
    "x8_unique = df['x8'].unique()\n",
    "x8_unique.sort()\n",
    "np.diff(x8_unique)"
   ]
  },
  {
   "cell_type": "markdown",
   "metadata": {},
   "source": [
    "提取x8所有的值，并做diff，查看两两之间的差\n",
    "\n",
    "可以看到中间部分两两之间的差基本都是0.04332159\n",
    "\n",
    "那么我们可以这个假设，这些值原本的间隔是1，进行标准化后变成0.04332159\n",
    "\n",
    "那么我们将这个间隔变回去"
   ]
  },
  {
   "cell_type": "code",
   "execution_count": 51,
   "metadata": {},
   "outputs": [
    {
     "data": {
      "text/plain": [
       "array([998.99992752, 899.9999347 ,   4.99999964,   0.99999993,\n",
       "         3.99999971,   4.99999964,   1.99999985,   0.99999993,\n",
       "         0.99999993,   0.99999993,   0.99999993,   0.99999993,\n",
       "         0.99999993,   0.99999993,   0.99999993,   0.99999993,\n",
       "         0.99999993,   0.99999993,   0.99999993,   0.99999993,\n",
       "         0.99999993,   0.99999993,   0.99999993,   0.99999993,\n",
       "         0.99999993,   0.99999993,   0.99999993,   0.99999993,\n",
       "         0.99999993,   0.99999993,   0.99999993,   0.99999993,\n",
       "         0.99999993,   0.99999993,   0.99999993,   0.99999993,\n",
       "         0.99999993,   0.99999993,   0.99999993,   0.99999993,\n",
       "         0.99999993,   0.99999993,   0.99999993,   0.99999993,\n",
       "         0.99999993,   0.99999993,   0.99999993,   0.99999993,\n",
       "         0.99999993,   0.99999993,   0.99999993,   0.99999993,\n",
       "         0.99999993,   0.99999993,   0.99999993,   0.99999993,\n",
       "         0.99999993,   0.99999993,   0.99999993,   0.99999993,\n",
       "         0.99999993,   0.99999993,   0.99999993,   0.99999993,\n",
       "         0.99999993,   0.99999993,   0.99999993,   0.99999993,\n",
       "         0.99999993,   0.99999993,   0.99999993,   0.99999993,\n",
       "         0.99999993,   0.99999993,   0.99999993,   0.99999993,\n",
       "         0.99999993,   0.99999993,   0.99999993,   0.99999993,\n",
       "         0.99999993,   0.99999993,   0.99999993,   0.99999993,\n",
       "         0.99999993,   0.99999993,   2.99999978,   0.99999993,\n",
       "         0.99999993,   0.99999993,   0.99999993,   0.99999993,\n",
       "         0.99999993,   0.99999993,   4.99999964,  26.99999804,\n",
       "         0.99999993,   8.99999935,          nan])"
      ]
     },
     "execution_count": 51,
     "metadata": {},
     "output_type": "execute_result"
    }
   ],
   "source": [
    "np.diff(x8_unique / 0.04332159)"
   ]
  },
  {
   "cell_type": "code",
   "execution_count": 52,
   "metadata": {
    "scrolled": true
   },
   "outputs": [
    {
     "data": {
      "text/plain": [
       "-68.897526      2770\n",
       " 11.102468      2569\n",
       " 14.102468      1828\n",
       " 15.102468      1759\n",
       " 13.102468      1746\n",
       " 16.102468      1691\n",
       " 12.102468      1639\n",
       " 17.102468      1628\n",
       " 9.102468       1610\n",
       " 10.102468      1513\n",
       " 8.102469       1450\n",
       " 6.102469       1429\n",
       " 7.102469       1401\n",
       " 5.102469       1372\n",
       " 18.102468      1293\n",
       " 1.102469       1290\n",
       " 4.102469       1276\n",
       " 2.102469       1250\n",
       " 3.102469       1213\n",
       "-0.897531       1085\n",
       " 0.102469       1080\n",
       "-1.897531       1006\n",
       "-3.897531        995\n",
       "-2.897531        976\n",
       "-4.897531        954\n",
       "-7.897530        923\n",
       "-8.897530        921\n",
       "-5.897530        906\n",
       " 19.102468       893\n",
       "-6.897530        881\n",
       "                ... \n",
       "-40.897528         3\n",
       "-39.897528         3\n",
       " 26.102467         3\n",
       " 32.102467         2\n",
       "-48.897527         2\n",
       "-44.897528         2\n",
       " 31.102467         2\n",
       "-45.897528         2\n",
       " 33.102467         2\n",
       " 30.102467         2\n",
       " 37.102466         2\n",
       "-41.897528         2\n",
       " 34.102467         2\n",
       "-58.897527         2\n",
       " 25.102467         2\n",
       " 27.102467         1\n",
       "-62.897526         1\n",
       " 70.102464         1\n",
       "-46.897527         1\n",
       "-50.897527         1\n",
       "-47.897527         1\n",
       " 36.102467         1\n",
       "-1967.897388       1\n",
       " 79.102463         1\n",
       "-53.897527         1\n",
       "-49.897527         1\n",
       " 69.102464         1\n",
       " 35.102467         1\n",
       "-63.897526         1\n",
       " 42.102466         1\n",
       "Name: x8, Length: 99, dtype: int64"
      ]
     },
     "execution_count": 52,
     "metadata": {},
     "output_type": "execute_result"
    }
   ],
   "source": [
    "(df['x8'] / 0.04332159).value_counts()"
   ]
  },
  {
   "cell_type": "markdown",
   "metadata": {},
   "source": [
    "观察上述数据，我们再将x8减去0.102469"
   ]
  },
  {
   "cell_type": "code",
   "execution_count": 53,
   "metadata": {
    "scrolled": true
   },
   "outputs": [
    {
     "data": {
      "text/plain": [
       "-6.899999e+01    2770\n",
       " 1.100000e+01    2569\n",
       " 1.400000e+01    1828\n",
       " 1.500000e+01    1759\n",
       " 1.300000e+01    1746\n",
       " 1.600000e+01    1691\n",
       " 1.200000e+01    1639\n",
       " 1.700000e+01    1628\n",
       " 8.999999e+00    1610\n",
       " 9.999999e+00    1513\n",
       " 8.000000e+00    1450\n",
       " 6.000000e+00    1429\n",
       " 7.000000e+00    1401\n",
       " 5.000000e+00    1372\n",
       " 1.800000e+01    1293\n",
       " 1.000000e+00    1290\n",
       " 4.000000e+00    1276\n",
       " 2.000000e+00    1250\n",
       " 3.000000e+00    1213\n",
       "-9.999998e-01    1085\n",
       " 1.277230e-07    1080\n",
       "-2.000000e+00    1006\n",
       "-4.000000e+00     995\n",
       "-3.000000e+00     976\n",
       "-5.000000e+00     954\n",
       "-7.999999e+00     923\n",
       "-8.999999e+00     921\n",
       "-5.999999e+00     906\n",
       " 1.900000e+01     893\n",
       "-6.999999e+00     881\n",
       "                 ... \n",
       "-4.100000e+01       3\n",
       "-4.000000e+01       3\n",
       "-5.200000e+01       3\n",
       " 3.200000e+01       2\n",
       " 2.500000e+01       2\n",
       "-4.900000e+01       2\n",
       "-4.600000e+01       2\n",
       " 3.400000e+01       2\n",
       "-4.200000e+01       2\n",
       " 3.300000e+01       2\n",
       " 3.100000e+01       2\n",
       " 3.000000e+01       2\n",
       " 3.700000e+01       2\n",
       "-4.500000e+01       2\n",
       "-5.900000e+01       2\n",
       "-6.300000e+01       1\n",
       "-5.100000e+01       1\n",
       " 7.000000e+01       1\n",
       " 3.500000e+01       1\n",
       "-4.700000e+01       1\n",
       " 2.700000e+01       1\n",
       "-6.400000e+01       1\n",
       " 4.200000e+01       1\n",
       " 7.899999e+01       1\n",
       "-5.400000e+01       1\n",
       "-1.968000e+03       1\n",
       "-5.000000e+01       1\n",
       " 6.900000e+01       1\n",
       " 3.600000e+01       1\n",
       "-4.800000e+01       1\n",
       "Name: x8, Length: 99, dtype: int64"
      ]
     },
     "execution_count": 53,
     "metadata": {},
     "output_type": "execute_result"
    }
   ],
   "source": [
    "(df['x8'] / 0.04332159 - 0.102469).value_counts()"
   ]
  },
  {
   "cell_type": "code",
   "execution_count": 54,
   "metadata": {
    "collapsed": true
   },
   "outputs": [],
   "source": [
    "new_x8 = df['x8'] / 0.04332159 - 0.102469"
   ]
  },
  {
   "cell_type": "code",
   "execution_count": 56,
   "metadata": {},
   "outputs": [
    {
     "data": {
      "text/plain": [
       "count    48793.000000\n",
       "mean        -0.108294\n",
       "std         23.620593\n",
       "min      -1967.999857\n",
       "25%         -5.999999\n",
       "50%          5.000000\n",
       "75%         12.999999\n",
       "max         78.999994\n",
       "Name: x8, dtype: float64"
      ]
     },
     "execution_count": 56,
     "metadata": {},
     "output_type": "execute_result"
    }
   ],
   "source": [
    "new_x8.describe()"
   ]
  },
  {
   "cell_type": "markdown",
   "metadata": {},
   "source": [
    "看到-1968这个值，感觉很像年进行平移后的值，再加个1968试试"
   ]
  },
  {
   "cell_type": "code",
   "execution_count": 59,
   "metadata": {},
   "outputs": [
    {
     "data": {
      "text/plain": [
       "0.000143          1\n",
       "999.000070        4\n",
       "1899.000005    2770\n",
       "1904.000005       1\n",
       "1905.000005       1\n",
       "1909.000004       2\n",
       "1914.000004       1\n",
       "1916.000004       3\n",
       "1917.000004       1\n",
       "1918.000004       1\n",
       "1919.000004       2\n",
       "1920.000004       1\n",
       "1921.000004       1\n",
       "1922.000003       2\n",
       "1923.000003       2\n",
       "1924.000003       4\n",
       "1925.000003       4\n",
       "1926.000003       2\n",
       "1927.000003       3\n",
       "1928.000003       3\n",
       "1929.000003       4\n",
       "1930.000003       4\n",
       "1931.000003      12\n",
       "1932.000003      10\n",
       "1933.000003       7\n",
       "1934.000003      13\n",
       "1935.000003      28\n",
       "1936.000002      35\n",
       "1937.000002      35\n",
       "1938.000002      45\n",
       "               ... \n",
       "1977.999999    1513\n",
       "1978.999999    2569\n",
       "1979.999999    1639\n",
       "1980.999999    1746\n",
       "1981.999999    1828\n",
       "1982.999999    1759\n",
       "1983.999999    1691\n",
       "1984.999999    1628\n",
       "1985.999999    1293\n",
       "1986.999999     893\n",
       "1987.999999     624\n",
       "1988.999999     434\n",
       "1989.999999     233\n",
       "1990.999998     110\n",
       "1991.999998      31\n",
       "1992.999998       2\n",
       "1993.999998       3\n",
       "1994.999998       1\n",
       "1997.999998       2\n",
       "1998.999998       2\n",
       "1999.999998       2\n",
       "2000.999998       2\n",
       "2001.999998       2\n",
       "2002.999998       1\n",
       "2003.999998       1\n",
       "2004.999997       2\n",
       "2009.999997       1\n",
       "2036.999995       1\n",
       "2037.999995       1\n",
       "2046.999994       1\n",
       "Name: x8, Length: 99, dtype: int64"
      ]
     },
     "execution_count": 59,
     "metadata": {},
     "output_type": "execute_result"
    }
   ],
   "source": [
    "(new_x8 + 1968).value_counts().sort_index()"
   ]
  },
  {
   "cell_type": "code",
   "execution_count": null,
   "metadata": {
    "collapsed": true
   },
   "outputs": [],
   "source": []
  }
 ],
 "metadata": {
  "kernelspec": {
   "display_name": "Python 3",
   "language": "python",
   "name": "python3"
  },
  "language_info": {
   "codemirror_mode": {
    "name": "ipython",
    "version": 3
   },
   "file_extension": ".py",
   "mimetype": "text/x-python",
   "name": "python",
   "nbconvert_exporter": "python",
   "pygments_lexer": "ipython3",
   "version": "3.5.1"
  }
 },
 "nbformat": 4,
 "nbformat_minor": 2
}
