{
 "cells": [
  {
   "cell_type": "code",
   "execution_count": 1,
   "metadata": {
    "collapsed": false
   },
   "outputs": [],
   "source": [
    "# -*- coding:utf8 -*-\n",
    "import re\n",
    "from collections import Counter\n",
    "\n",
    "import pandas as pd\n",
    "import numpy as np\n",
    "import matplotlib.pyplot as plt\n",
    "import seaborn as sns\n",
    "from scipy.stats import skew\n",
    "\n",
    "from sklearn import metrics\n",
    "from sklearn import model_selection\n",
    "from sklearn.model_selection import train_test_split\n",
    "from sklearn.model_selection import GridSearchCV\n",
    "from sklearn.model_selection import StratifiedKFold\n",
    "from sklearn import preprocessing\n",
    "from sklearn.feature_extraction.text import CountVectorizer, TfidfVectorizer\n",
    "\n",
    "from mydatools.plot import plot_grid_search_result\n",
    "\n",
    "% matplotlib inline"
   ]
  },
  {
   "cell_type": "markdown",
   "metadata": {},
   "source": [
    "## 获取数据"
   ]
  },
  {
   "cell_type": "code",
   "execution_count": 2,
   "metadata": {
    "collapsed": false
   },
   "outputs": [
    {
     "data": {
      "text/html": [
       "<div>\n",
       "<table border=\"1\" class=\"dataframe\">\n",
       "  <thead>\n",
       "    <tr style=\"text-align: right;\">\n",
       "      <th></th>\n",
       "      <th></th>\n",
       "      <th>0_13_all</th>\n",
       "      <th>0_13_female</th>\n",
       "      <th>0_13_male</th>\n",
       "      <th>0_17_all</th>\n",
       "      <th>0_17_female</th>\n",
       "      <th>0_17_male</th>\n",
       "      <th>0_6_all</th>\n",
       "      <th>0_6_female</th>\n",
       "      <th>0_6_male</th>\n",
       "      <th>16_29_all</th>\n",
       "      <th>...</th>\n",
       "      <th>water_km</th>\n",
       "      <th>water_treatment_km</th>\n",
       "      <th>work_all</th>\n",
       "      <th>work_female</th>\n",
       "      <th>work_male</th>\n",
       "      <th>workplaces_km</th>\n",
       "      <th>young_all</th>\n",
       "      <th>young_female</th>\n",
       "      <th>young_male</th>\n",
       "      <th>zd_vokzaly_avto_km</th>\n",
       "    </tr>\n",
       "  </thead>\n",
       "  <tbody>\n",
       "    <tr>\n",
       "      <th rowspan=\"5\" valign=\"top\">train</th>\n",
       "      <th>0</th>\n",
       "      <td>18654</td>\n",
       "      <td>8945</td>\n",
       "      <td>9709</td>\n",
       "      <td>23603</td>\n",
       "      <td>11317</td>\n",
       "      <td>12286</td>\n",
       "      <td>9576</td>\n",
       "      <td>4677</td>\n",
       "      <td>4899</td>\n",
       "      <td>17508</td>\n",
       "      <td>...</td>\n",
       "      <td>0.992631</td>\n",
       "      <td>23.683460</td>\n",
       "      <td>98207</td>\n",
       "      <td>45930</td>\n",
       "      <td>52277</td>\n",
       "      <td>0.884350</td>\n",
       "      <td>21154</td>\n",
       "      <td>10147</td>\n",
       "      <td>11007</td>\n",
       "      <td>14.231961</td>\n",
       "    </tr>\n",
       "    <tr>\n",
       "      <th>1</th>\n",
       "      <td>13729</td>\n",
       "      <td>6800</td>\n",
       "      <td>6929</td>\n",
       "      <td>17700</td>\n",
       "      <td>8702</td>\n",
       "      <td>8998</td>\n",
       "      <td>6880</td>\n",
       "      <td>3414</td>\n",
       "      <td>3466</td>\n",
       "      <td>15164</td>\n",
       "      <td>...</td>\n",
       "      <td>0.698081</td>\n",
       "      <td>1.317476</td>\n",
       "      <td>70194</td>\n",
       "      <td>34572</td>\n",
       "      <td>35622</td>\n",
       "      <td>0.686252</td>\n",
       "      <td>15727</td>\n",
       "      <td>7802</td>\n",
       "      <td>7925</td>\n",
       "      <td>9.242586</td>\n",
       "    </tr>\n",
       "    <tr>\n",
       "      <th>2</th>\n",
       "      <td>11252</td>\n",
       "      <td>5336</td>\n",
       "      <td>5916</td>\n",
       "      <td>14884</td>\n",
       "      <td>7063</td>\n",
       "      <td>7821</td>\n",
       "      <td>5879</td>\n",
       "      <td>2784</td>\n",
       "      <td>3095</td>\n",
       "      <td>19401</td>\n",
       "      <td>...</td>\n",
       "      <td>0.468265</td>\n",
       "      <td>4.912660</td>\n",
       "      <td>63388</td>\n",
       "      <td>31575</td>\n",
       "      <td>31813</td>\n",
       "      <td>1.510089</td>\n",
       "      <td>13028</td>\n",
       "      <td>6193</td>\n",
       "      <td>6835</td>\n",
       "      <td>9.540544</td>\n",
       "    </tr>\n",
       "    <tr>\n",
       "      <th>3</th>\n",
       "      <td>24934</td>\n",
       "      <td>12152</td>\n",
       "      <td>12782</td>\n",
       "      <td>32063</td>\n",
       "      <td>15550</td>\n",
       "      <td>16513</td>\n",
       "      <td>13087</td>\n",
       "      <td>6442</td>\n",
       "      <td>6645</td>\n",
       "      <td>3292</td>\n",
       "      <td>...</td>\n",
       "      <td>1.200336</td>\n",
       "      <td>15.623710</td>\n",
       "      <td>120381</td>\n",
       "      <td>60341</td>\n",
       "      <td>60040</td>\n",
       "      <td>0.622272</td>\n",
       "      <td>28563</td>\n",
       "      <td>13883</td>\n",
       "      <td>14680</td>\n",
       "      <td>17.478380</td>\n",
       "    </tr>\n",
       "    <tr>\n",
       "      <th>4</th>\n",
       "      <td>11631</td>\n",
       "      <td>5408</td>\n",
       "      <td>6223</td>\n",
       "      <td>15237</td>\n",
       "      <td>7124</td>\n",
       "      <td>8113</td>\n",
       "      <td>5706</td>\n",
       "      <td>2724</td>\n",
       "      <td>2982</td>\n",
       "      <td>5164</td>\n",
       "      <td>...</td>\n",
       "      <td>0.820294</td>\n",
       "      <td>10.683540</td>\n",
       "      <td>68043</td>\n",
       "      <td>33807</td>\n",
       "      <td>34236</td>\n",
       "      <td>0.892668</td>\n",
       "      <td>13368</td>\n",
       "      <td>6209</td>\n",
       "      <td>7159</td>\n",
       "      <td>1.595898</td>\n",
       "    </tr>\n",
       "  </tbody>\n",
       "</table>\n",
       "<p>5 rows × 292 columns</p>\n",
       "</div>"
      ],
      "text/plain": [
       "         0_13_all  0_13_female  0_13_male  0_17_all  0_17_female  0_17_male  \\\n",
       "train 0     18654         8945       9709     23603        11317      12286   \n",
       "      1     13729         6800       6929     17700         8702       8998   \n",
       "      2     11252         5336       5916     14884         7063       7821   \n",
       "      3     24934        12152      12782     32063        15550      16513   \n",
       "      4     11631         5408       6223     15237         7124       8113   \n",
       "\n",
       "         0_6_all  0_6_female  0_6_male  16_29_all         ...          \\\n",
       "train 0     9576        4677      4899      17508         ...           \n",
       "      1     6880        3414      3466      15164         ...           \n",
       "      2     5879        2784      3095      19401         ...           \n",
       "      3    13087        6442      6645       3292         ...           \n",
       "      4     5706        2724      2982       5164         ...           \n",
       "\n",
       "         water_km  water_treatment_km  work_all  work_female  work_male  \\\n",
       "train 0  0.992631           23.683460     98207        45930      52277   \n",
       "      1  0.698081            1.317476     70194        34572      35622   \n",
       "      2  0.468265            4.912660     63388        31575      31813   \n",
       "      3  1.200336           15.623710    120381        60341      60040   \n",
       "      4  0.820294           10.683540     68043        33807      34236   \n",
       "\n",
       "         workplaces_km  young_all  young_female  young_male  \\\n",
       "train 0       0.884350      21154         10147       11007   \n",
       "      1       0.686252      15727          7802        7925   \n",
       "      2       1.510089      13028          6193        6835   \n",
       "      3       0.622272      28563         13883       14680   \n",
       "      4       0.892668      13368          6209        7159   \n",
       "\n",
       "         zd_vokzaly_avto_km  \n",
       "train 0           14.231961  \n",
       "      1            9.242586  \n",
       "      2            9.540544  \n",
       "      3           17.478380  \n",
       "      4            1.595898  \n",
       "\n",
       "[5 rows x 292 columns]"
      ]
     },
     "execution_count": 2,
     "metadata": {},
     "output_type": "execute_result"
    }
   ],
   "source": [
    "train_df = pd.read_csv('./input/train.csv')\n",
    "test_df = pd.read_csv('./input/test.csv')\n",
    "full_df = pd.concat([train_df, test_df], keys=['train', 'test'])\n",
    "del(train_df)\n",
    "del(test_df)\n",
    "full_df.head()"
   ]
  },
  {
   "cell_type": "markdown",
   "metadata": {},
   "source": [
    "* 对price_doc进行log1p处理\n",
    "\n",
    "由于有了这个操作，score就是RMSE（而不是RMSLE）"
   ]
  },
  {
   "cell_type": "code",
   "execution_count": 3,
   "metadata": {
    "collapsed": true
   },
   "outputs": [],
   "source": [
    "full_df['price_doc'] = np.log1p(full_df['price_doc'])"
   ]
  },
  {
   "cell_type": "markdown",
   "metadata": {},
   "source": [
    "* macroeconomy"
   ]
  },
  {
   "cell_type": "code",
   "execution_count": 4,
   "metadata": {
    "collapsed": false
   },
   "outputs": [
    {
     "data": {
      "text/html": [
       "<div>\n",
       "<table border=\"1\" class=\"dataframe\">\n",
       "  <thead>\n",
       "    <tr style=\"text-align: right;\">\n",
       "      <th></th>\n",
       "      <th>timestamp</th>\n",
       "      <th>oil_urals</th>\n",
       "      <th>gdp_quart</th>\n",
       "      <th>gdp_quart_growth</th>\n",
       "      <th>cpi</th>\n",
       "      <th>ppi</th>\n",
       "      <th>gdp_deflator</th>\n",
       "      <th>balance_trade</th>\n",
       "      <th>balance_trade_growth</th>\n",
       "      <th>usdrub</th>\n",
       "      <th>...</th>\n",
       "      <th>provision_retail_space_modern_sqm</th>\n",
       "      <th>turnover_catering_per_cap</th>\n",
       "      <th>theaters_viewers_per_1000_cap</th>\n",
       "      <th>seats_theather_rfmin_per_100000_cap</th>\n",
       "      <th>museum_visitis_per_100_cap</th>\n",
       "      <th>bandwidth_sports</th>\n",
       "      <th>population_reg_sports_share</th>\n",
       "      <th>students_reg_sports_share</th>\n",
       "      <th>apartment_build</th>\n",
       "      <th>apartment_fund_sqm</th>\n",
       "    </tr>\n",
       "  </thead>\n",
       "  <tbody>\n",
       "    <tr>\n",
       "      <th>0</th>\n",
       "      <td>2010-01-01</td>\n",
       "      <td>76.1</td>\n",
       "      <td>NaN</td>\n",
       "      <td>NaN</td>\n",
       "      <td>NaN</td>\n",
       "      <td>NaN</td>\n",
       "      <td>NaN</td>\n",
       "      <td>NaN</td>\n",
       "      <td>NaN</td>\n",
       "      <td>NaN</td>\n",
       "      <td>...</td>\n",
       "      <td>690.0</td>\n",
       "      <td>6221.0</td>\n",
       "      <td>527.0</td>\n",
       "      <td>0.41</td>\n",
       "      <td>993.0</td>\n",
       "      <td>NaN</td>\n",
       "      <td>NaN</td>\n",
       "      <td>63.03</td>\n",
       "      <td>22825.0</td>\n",
       "      <td>NaN</td>\n",
       "    </tr>\n",
       "    <tr>\n",
       "      <th>1</th>\n",
       "      <td>2010-01-02</td>\n",
       "      <td>76.1</td>\n",
       "      <td>NaN</td>\n",
       "      <td>NaN</td>\n",
       "      <td>NaN</td>\n",
       "      <td>NaN</td>\n",
       "      <td>NaN</td>\n",
       "      <td>NaN</td>\n",
       "      <td>NaN</td>\n",
       "      <td>NaN</td>\n",
       "      <td>...</td>\n",
       "      <td>690.0</td>\n",
       "      <td>6221.0</td>\n",
       "      <td>527.0</td>\n",
       "      <td>0.41</td>\n",
       "      <td>993.0</td>\n",
       "      <td>NaN</td>\n",
       "      <td>NaN</td>\n",
       "      <td>63.03</td>\n",
       "      <td>22825.0</td>\n",
       "      <td>NaN</td>\n",
       "    </tr>\n",
       "    <tr>\n",
       "      <th>2</th>\n",
       "      <td>2010-01-03</td>\n",
       "      <td>76.1</td>\n",
       "      <td>NaN</td>\n",
       "      <td>NaN</td>\n",
       "      <td>NaN</td>\n",
       "      <td>NaN</td>\n",
       "      <td>NaN</td>\n",
       "      <td>NaN</td>\n",
       "      <td>NaN</td>\n",
       "      <td>NaN</td>\n",
       "      <td>...</td>\n",
       "      <td>690.0</td>\n",
       "      <td>6221.0</td>\n",
       "      <td>527.0</td>\n",
       "      <td>0.41</td>\n",
       "      <td>993.0</td>\n",
       "      <td>NaN</td>\n",
       "      <td>NaN</td>\n",
       "      <td>63.03</td>\n",
       "      <td>22825.0</td>\n",
       "      <td>NaN</td>\n",
       "    </tr>\n",
       "    <tr>\n",
       "      <th>3</th>\n",
       "      <td>2010-01-04</td>\n",
       "      <td>76.1</td>\n",
       "      <td>NaN</td>\n",
       "      <td>NaN</td>\n",
       "      <td>NaN</td>\n",
       "      <td>NaN</td>\n",
       "      <td>NaN</td>\n",
       "      <td>NaN</td>\n",
       "      <td>NaN</td>\n",
       "      <td>29.905</td>\n",
       "      <td>...</td>\n",
       "      <td>690.0</td>\n",
       "      <td>6221.0</td>\n",
       "      <td>527.0</td>\n",
       "      <td>0.41</td>\n",
       "      <td>993.0</td>\n",
       "      <td>NaN</td>\n",
       "      <td>NaN</td>\n",
       "      <td>63.03</td>\n",
       "      <td>22825.0</td>\n",
       "      <td>NaN</td>\n",
       "    </tr>\n",
       "    <tr>\n",
       "      <th>4</th>\n",
       "      <td>2010-01-05</td>\n",
       "      <td>76.1</td>\n",
       "      <td>NaN</td>\n",
       "      <td>NaN</td>\n",
       "      <td>NaN</td>\n",
       "      <td>NaN</td>\n",
       "      <td>NaN</td>\n",
       "      <td>NaN</td>\n",
       "      <td>NaN</td>\n",
       "      <td>29.836</td>\n",
       "      <td>...</td>\n",
       "      <td>690.0</td>\n",
       "      <td>6221.0</td>\n",
       "      <td>527.0</td>\n",
       "      <td>0.41</td>\n",
       "      <td>993.0</td>\n",
       "      <td>NaN</td>\n",
       "      <td>NaN</td>\n",
       "      <td>63.03</td>\n",
       "      <td>22825.0</td>\n",
       "      <td>NaN</td>\n",
       "    </tr>\n",
       "  </tbody>\n",
       "</table>\n",
       "<p>5 rows × 100 columns</p>\n",
       "</div>"
      ],
      "text/plain": [
       "    timestamp  oil_urals  gdp_quart  gdp_quart_growth  cpi  ppi  gdp_deflator  \\\n",
       "0  2010-01-01       76.1        NaN               NaN  NaN  NaN           NaN   \n",
       "1  2010-01-02       76.1        NaN               NaN  NaN  NaN           NaN   \n",
       "2  2010-01-03       76.1        NaN               NaN  NaN  NaN           NaN   \n",
       "3  2010-01-04       76.1        NaN               NaN  NaN  NaN           NaN   \n",
       "4  2010-01-05       76.1        NaN               NaN  NaN  NaN           NaN   \n",
       "\n",
       "   balance_trade  balance_trade_growth  usdrub         ...          \\\n",
       "0            NaN                   NaN     NaN         ...           \n",
       "1            NaN                   NaN     NaN         ...           \n",
       "2            NaN                   NaN     NaN         ...           \n",
       "3            NaN                   NaN  29.905         ...           \n",
       "4            NaN                   NaN  29.836         ...           \n",
       "\n",
       "   provision_retail_space_modern_sqm  turnover_catering_per_cap  \\\n",
       "0                              690.0                     6221.0   \n",
       "1                              690.0                     6221.0   \n",
       "2                              690.0                     6221.0   \n",
       "3                              690.0                     6221.0   \n",
       "4                              690.0                     6221.0   \n",
       "\n",
       "   theaters_viewers_per_1000_cap  seats_theather_rfmin_per_100000_cap  \\\n",
       "0                          527.0                                 0.41   \n",
       "1                          527.0                                 0.41   \n",
       "2                          527.0                                 0.41   \n",
       "3                          527.0                                 0.41   \n",
       "4                          527.0                                 0.41   \n",
       "\n",
       "   museum_visitis_per_100_cap  bandwidth_sports  population_reg_sports_share  \\\n",
       "0                       993.0               NaN                          NaN   \n",
       "1                       993.0               NaN                          NaN   \n",
       "2                       993.0               NaN                          NaN   \n",
       "3                       993.0               NaN                          NaN   \n",
       "4                       993.0               NaN                          NaN   \n",
       "\n",
       "   students_reg_sports_share  apartment_build  apartment_fund_sqm  \n",
       "0                      63.03          22825.0                 NaN  \n",
       "1                      63.03          22825.0                 NaN  \n",
       "2                      63.03          22825.0                 NaN  \n",
       "3                      63.03          22825.0                 NaN  \n",
       "4                      63.03          22825.0                 NaN  \n",
       "\n",
       "[5 rows x 100 columns]"
      ]
     },
     "execution_count": 4,
     "metadata": {},
     "output_type": "execute_result"
    }
   ],
   "source": [
    "macro_df = pd.read_csv('./input/macro.csv')\n",
    "macro_df.head()"
   ]
  },
  {
   "cell_type": "code",
   "execution_count": 5,
   "metadata": {
    "collapsed": false
   },
   "outputs": [],
   "source": [
    "# feats = macro_df.columns[macro_df.dtypes != 'object'].tolist()[40:60]\n",
    "# num_feat = len(feats)\n",
    "# num_row = int(np.ceil(num_feat / 3))\n",
    "# fig, ax = plt.subplots(num_row, 3, figsize=(15, 4*num_row))\n",
    "# for i in range(num_feat):\n",
    "#     feat = feats[i]\n",
    "#     cur_ax = ax[i//3][i%3] if num_row > 1 else ax[i]\n",
    "#     cur_ax.plot(pd.to_datetime(macro_df['timestamp']), macro_df[feat].fillna(0))\n",
    "# #     cur_ax.plot(pd.to_datetime(macro_df['timestamp']), macro_df[feat].fillna(macro_df[feat].mean()))\n",
    "#     cur_ax.plot(pd.to_datetime(macro_df['timestamp']), macro_df[feat].fillna(method='ffill').fillna(method='bfill'))\n",
    "#     cur_ax.set_title(feat)"
   ]
  },
  {
   "cell_type": "code",
   "execution_count": 6,
   "metadata": {
    "collapsed": false
   },
   "outputs": [],
   "source": [
    "# 缺失值\n",
    "numerical_columns = macro_df.columns[macro_df.dtypes != 'object']\n",
    "macro_df[numerical_columns] = macro_df[numerical_columns].fillna(method='ffill').fillna(method='bfill')"
   ]
  },
  {
   "cell_type": "code",
   "execution_count": 7,
   "metadata": {
    "collapsed": false
   },
   "outputs": [],
   "source": [
    "full_df = full_df.join(macro_df.set_index('timestamp'), on='timestamp')"
   ]
  },
  {
   "cell_type": "markdown",
   "metadata": {},
   "source": [
    "## 特征处理"
   ]
  },
  {
   "cell_type": "markdown",
   "metadata": {},
   "source": [
    "* 简单处理\n",
    "\n",
    "把数值型特征加进去"
   ]
  },
  {
   "cell_type": "code",
   "execution_count": 8,
   "metadata": {
    "collapsed": false
   },
   "outputs": [],
   "source": [
    "feature_list = []\n",
    "def add_feature(feats):\n",
    "    global feature_list\n",
    "    if type(feats) != list:\n",
    "        feats = [feats]\n",
    "    feature_list += [f for f in feats if f not in feature_list]\n",
    "def remove_feature(feats):\n",
    "    global feature_list\n",
    "    if type(feats) != list:\n",
    "        feats = [feats]\n",
    "    feature_list = [f for f in feature_list if f not in feats]"
   ]
  },
  {
   "cell_type": "code",
   "execution_count": 9,
   "metadata": {
    "collapsed": false
   },
   "outputs": [],
   "source": [
    "numeric_feat = full_df.dtypes[full_df.dtypes != 'object'].index.tolist()\n",
    "add_feature(numeric_feat)"
   ]
  },
  {
   "cell_type": "code",
   "execution_count": 10,
   "metadata": {
    "collapsed": false
   },
   "outputs": [],
   "source": [
    "remove_feature(['id', 'price_doc'])"
   ]
  },
  {
   "cell_type": "markdown",
   "metadata": {},
   "source": [
    "* 处理偏倚数据"
   ]
  },
  {
   "cell_type": "code",
   "execution_count": 11,
   "metadata": {
    "collapsed": false
   },
   "outputs": [],
   "source": [
    "# skew_value = full_df[feature_list].apply(lambda x: skew(x)) # compute skewness\n",
    "# min_value = full_df[feature_list].min()\n",
    "# skewed_feats = skew_value[(skew_value > 0.75) & (min_value >= 0)].index\n",
    "# full_df[skewed_feats] = np.log1p(full_df[skewed_feats])"
   ]
  },
  {
   "cell_type": "markdown",
   "metadata": {},
   "source": [
    "* 加入日期相关特征"
   ]
  },
  {
   "cell_type": "code",
   "execution_count": 12,
   "metadata": {
    "collapsed": false
   },
   "outputs": [],
   "source": [
    "dt_df = pd.to_datetime(full_df['timestamp'])\n",
    "full_df['timestamp_year'] = dt_df.apply(lambda x: x.year)\n",
    "full_df['timestamp_month'] = dt_df.apply(lambda x: x.month)\n",
    "full_df['timestamp_day'] = dt_df.apply(lambda x: x.day)\n",
    "full_df['timestamp_weekday'] = dt_df.apply(lambda x: x.weekday())\n",
    "add_feature(['timestamp_year', 'timestamp_month', 'timestamp_day', 'timestamp_weekday'])"
   ]
  },
  {
   "cell_type": "markdown",
   "metadata": {},
   "source": [
    "* 字符串类型特征处理"
   ]
  },
  {
   "cell_type": "code",
   "execution_count": 13,
   "metadata": {
    "collapsed": false
   },
   "outputs": [],
   "source": [
    "# yes/no\n",
    "yes_no_features = ['big_market_raion', 'big_road1_1line', 'culture_objects_top_25',\n",
    "        'detention_facility_raion', 'incineration_raion',\n",
    "        'nuclear_reactor_raion', 'oil_chemistry_raion', 'radiation_raion',\n",
    "        'railroad_1line', 'railroad_terminal_raion',\n",
    "        'thermal_power_plant_raion', 'water_1line',\n",
    "    ]\n",
    "full_df[yes_no_features] = full_df[yes_no_features].apply(lambda x: x.map({'yes': 1, 'no': 0}))\n",
    "add_feature(yes_no_features)"
   ]
  },
  {
   "cell_type": "code",
   "execution_count": 14,
   "metadata": {
    "collapsed": true
   },
   "outputs": [],
   "source": [
    "# ecology (excellent|good|satisfactory|poor|no data)\n",
    "full_df['ecology'] = full_df['ecology'].map({'excellent': 4, 'good': 3, 'satisfactory': 2, 'poor': 1, 'no data': np.nan})\n",
    "add_feature('ecology')"
   ]
  },
  {
   "cell_type": "code",
   "execution_count": 15,
   "metadata": {
    "collapsed": false
   },
   "outputs": [],
   "source": [
    "# dummy\n",
    "# product_type (Investment|OwnerOccupier|nan)\n",
    "dummy_features = [\n",
    "    'product_type', \n",
    "#     'sub_area',\n",
    "]\n",
    "dummy_df = pd.get_dummies(full_df[dummy_features])\n",
    "full_df[dummy_df.columns] = dummy_df\n",
    "add_feature(dummy_df.columns.tolist())"
   ]
  },
  {
   "cell_type": "code",
   "execution_count": 16,
   "metadata": {
    "collapsed": false
   },
   "outputs": [],
   "source": [
    "# to numeric\n",
    "# child_on_acc_pre_school (#!|7,311|3,013|16,765|nan)\n",
    "# modern_education_share (nan|90,92|93,08|95,4918)\n",
    "# old_education_build_share (nan|23,14|25,47|8,2517)\n",
    "tonum_feats = ['child_on_acc_pre_school', 'modern_education_share', 'old_education_build_share']\n",
    "# 先将,转化成. 然后再进行to_numeric\n",
    "full_df[tonum_feats] = full_df[tonum_feats].apply(lambda x: x.str.replace(',', '.'))\n",
    "full_df[tonum_feats] = full_df[tonum_feats].apply(lambda x: pd.to_numeric(x, errors='coerce'))\n",
    "add_feature(tonum_feats)"
   ]
  },
  {
   "cell_type": "markdown",
   "metadata": {},
   "source": [
    "* 一些占比相关的特征"
   ]
  },
  {
   "cell_type": "code",
   "execution_count": 17,
   "metadata": {
    "collapsed": false
   },
   "outputs": [],
   "source": [
    "# life_sq占比\n",
    "full_df['life_sq_ratio'] = full_df['life_sq'] / full_df['full_sq']\n",
    "\n",
    "# 很多max_floor < floor，不知道原因\n",
    "# full_df['floor_ratio'] = np.where(full_df['floor'] <= full_df['max_floor'], full_df['floor'] / full_df['max_floor'], np.nan)"
   ]
  },
  {
   "cell_type": "code",
   "execution_count": null,
   "metadata": {
    "collapsed": true
   },
   "outputs": [],
   "source": []
  },
  {
   "cell_type": "code",
   "execution_count": 18,
   "metadata": {
    "collapsed": true
   },
   "outputs": [],
   "source": [
    "def proc_limit_data(ser, upper_limit = 99.9, lower_limit = 0.1):\n",
    "    ser = ser.copy()\n",
    "    ulimit = np.percentile(ser.dropna().values, upper_limit)\n",
    "    llimit = np.percentile(ser.dropna().values, lower_limit)\n",
    "    ser[ser > ulimit] = ulimit\n",
    "    ser[ser < llimit] = llimit\n",
    "    return ser\n",
    "\n",
    "def plot_joint(df, x, y):\n",
    "    df = df.copy()\n",
    "    df[x] = proc_limit_data(df[x])\n",
    "    df[y] = proc_limit_data(df[y])\n",
    "    sns.jointplot(x, y, df)"
   ]
  },
  {
   "cell_type": "code",
   "execution_count": 19,
   "metadata": {
    "collapsed": false
   },
   "outputs": [
    {
     "data": {
      "image/png": "[encoded data removed]",
      "text/plain": [
       "<matplotlib.figure.Figure at 0x103ce8fd0>"
      ]
     },
     "metadata": {},
     "output_type": "display_data"
    }
   ],
   "source": [
    "plot_joint(full_df, 'build_year', 'price_doc')"
   ]
  },
  {
   "cell_type": "code",
   "execution_count": null,
   "metadata": {
    "collapsed": true
   },
   "outputs": [],
   "source": []
  },
  {
   "cell_type": "code",
   "execution_count": null,
   "metadata": {
    "collapsed": true
   },
   "outputs": [],
   "source": []
  },
  {
   "cell_type": "markdown",
   "metadata": {},
   "source": [
    "## 空值处理"
   ]
  },
  {
   "cell_type": "code",
   "execution_count": 21,
   "metadata": {
    "collapsed": false
   },
   "outputs": [],
   "source": [
    "full_df[feature_list] = preprocessing.Imputer().fit_transform(full_df[feature_list])\n",
    "# full_df[feature_list] = full_df[feature_list].fillna(0)"
   ]
  },
  {
   "cell_type": "markdown",
   "metadata": {},
   "source": [
    "## 预处理"
   ]
  },
  {
   "cell_type": "code",
   "execution_count": 22,
   "metadata": {
    "collapsed": false
   },
   "outputs": [],
   "source": [
    "X = full_df.loc['train'][feature_list]\n",
    "y = full_df.loc['train']['price_doc']\n",
    "\n",
    "X_pred = full_df.loc['test'][feature_list]\n",
    "\n",
    "# 标准化\n",
    "scaler = preprocessing.StandardScaler()\n",
    "X = scaler.fit_transform(X)\n",
    "X_pred = scaler.transform(X_pred)\n",
    "\n",
    "X_train = X\n",
    "y_train = y"
   ]
  },
  {
   "cell_type": "markdown",
   "metadata": {},
   "source": [
    "## Score"
   ]
  },
  {
   "cell_type": "code",
   "execution_count": 23,
   "metadata": {
    "collapsed": true
   },
   "outputs": [],
   "source": [
    "score_name = 'RMSE'\n",
    "score_func = lambda y, y_pred, **kwargs: metrics.mean_squared_error(y, y_pred, **kwargs) ** 0.5\n",
    "scorer = metrics.make_scorer(score_func, greater_is_better=False)"
   ]
  },
  {
   "cell_type": "markdown",
   "metadata": {},
   "source": [
    "## Lasso"
   ]
  },
  {
   "cell_type": "code",
   "execution_count": 24,
   "metadata": {
    "collapsed": true
   },
   "outputs": [],
   "source": [
    "# from sklearn.linear_model import Lasso, LassoCV"
   ]
  },
  {
   "cell_type": "code",
   "execution_count": 25,
   "metadata": {
    "collapsed": false,
    "scrolled": true
   },
   "outputs": [],
   "source": [
    "# # 对Lasso做网格化搜索\n",
    "# search_paras = {'alpha': np.logspace(-3,0,4)}\n",
    "# gs_lasso = GridSearchCV(Lasso(), search_paras, scoring=scorer).fit(X_train, y_train)\n",
    "# plot_grid_search_result(gs_lasso)"
   ]
  },
  {
   "cell_type": "code",
   "execution_count": 26,
   "metadata": {
    "collapsed": false
   },
   "outputs": [],
   "source": [
    "# # lasso = gs_lasso.best_estimator_\n",
    "# lasso = Lasso(**gs_lasso.best_params_).fit(X_train, y_train)"
   ]
  },
  {
   "cell_type": "code",
   "execution_count": 27,
   "metadata": {
    "collapsed": false
   },
   "outputs": [],
   "source": [
    "# coef = lasso.coef_\n",
    "# coef_df = pd.Series(coef, index=feature_list)\n",
    "# coef_df = coef_df.sort_values(ascending=False)\n",
    "# imp_coef_df = pd.concat([coef_df.head(10), coef_df.tail(5)])\n",
    "# imp_coef_df.plot(kind='barh')"
   ]
  },
  {
   "cell_type": "markdown",
   "metadata": {},
   "source": [
    "## XGBoost"
   ]
  },
  {
   "cell_type": "code",
   "execution_count": 28,
   "metadata": {
    "collapsed": true
   },
   "outputs": [],
   "source": [
    "import xgboost as xgb"
   ]
  },
  {
   "cell_type": "code",
   "execution_count": 29,
   "metadata": {
    "collapsed": true
   },
   "outputs": [],
   "source": [
    "xg_train = xgb.DMatrix(X_train, y_train, feature_names=feature_list)\n",
    "xg_pred = xgb.DMatrix(X_pred, feature_names=feature_list)"
   ]
  },
  {
   "cell_type": "code",
   "execution_count": 30,
   "metadata": {
    "collapsed": false
   },
   "outputs": [],
   "source": [
    "bst_paras = {\n",
    "    'objective': 'reg:linear',\n",
    "    'booster': 'gbtree',\n",
    "    'eval_metric': 'rmse',\n",
    "    'eta': 0.02,\n",
    "    'colsample_bytree': 0.7,\n",
    "    'subsample': 0.7,\n",
    "    'max_depth': 5,\n",
    "    'alpha': 0.1,\n",
    "    'lambda': 0,\n",
    "}\n",
    "num_boost_round = 1000"
   ]
  },
  {
   "cell_type": "code",
   "execution_count": 31,
   "metadata": {
    "collapsed": false
   },
   "outputs": [
    {
     "name": "stdout",
     "output_type": "stream",
     "text": [
      "[0]\ttrain-rmse:14.8195+0.0014768\ttest-rmse:14.8195+0.0060086\n",
      "[25]\ttrain-rmse:8.95147+0.000824125\ttest-rmse:8.95172+0.00547183\n",
      "[50]\ttrain-rmse:5.41503+0.000445696\ttest-rmse:5.41592+0.00519369\n",
      "[75]\ttrain-rmse:3.28839+0.000271832\ttest-rmse:3.29061+0.00490566\n",
      "[100]\ttrain-rmse:2.01718+0.000360026\ttest-rmse:2.02165+0.00438498\n",
      "[125]\ttrain-rmse:1.26825+0.000319842\ttest-rmse:1.27655+0.00383944\n",
      "[150]\ttrain-rmse:0.842231+0.000362041\ttest-rmse:0.856256+0.00312034\n",
      "[175]\ttrain-rmse:0.616004+0.000519186\ttest-rmse:0.637072+0.00270363\n",
      "[200]\ttrain-rmse:0.506815+0.000537024\ttest-rmse:0.534624+0.00291087\n",
      "[225]\ttrain-rmse:0.458335+0.000605548\ttest-rmse:0.491399+0.00333931\n",
      "[250]\ttrain-rmse:0.437235+0.00063536\ttest-rmse:0.474182+0.00361766\n",
      "[275]\ttrain-rmse:0.427198+0.000565336\ttest-rmse:0.467326+0.00377978\n",
      "[300]\ttrain-rmse:0.421571+0.000613444\ttest-rmse:0.464424+0.00389426\n",
      "[325]\ttrain-rmse:0.417728+0.000721647\ttest-rmse:0.463026+0.0039213\n",
      "[350]\ttrain-rmse:0.414628+0.000710008\ttest-rmse:0.462436+0.00390292\n",
      "[375]\ttrain-rmse:0.411635+0.000680377\ttest-rmse:0.462044+0.00396781\n",
      "[400]\ttrain-rmse:0.408952+0.0005669\ttest-rmse:0.461864+0.00398204\n",
      "[425]\ttrain-rmse:0.406409+0.000604447\ttest-rmse:0.461609+0.00402358\n",
      "[450]\ttrain-rmse:0.404083+0.000700401\ttest-rmse:0.461402+0.00402187\n",
      "[475]\ttrain-rmse:0.40153+0.000753866\ttest-rmse:0.461341+0.00400321\n",
      "[500]\ttrain-rmse:0.399111+0.000845552\ttest-rmse:0.461218+0.00395616\n",
      "[525]\ttrain-rmse:0.396912+0.000949463\ttest-rmse:0.461143+0.0040063\n",
      "[550]\ttrain-rmse:0.394635+0.00108659\ttest-rmse:0.46107+0.00398816\n",
      "[575]\ttrain-rmse:0.392418+0.00110319\ttest-rmse:0.46103+0.00401056\n",
      "best_model: test-rmse-mean     0.461013\n",
      "test-rmse-std      0.004027\n",
      "train-rmse-mean    0.394021\n",
      "train-rmse-std     0.001160\n",
      "Name: 557, dtype: float64\n"
     ]
    }
   ],
   "source": [
    "xgb_cv_res = xgb.cv(bst_paras, xg_train, num_boost_round, nfold=5, early_stopping_rounds=20, verbose_eval=25)\n",
    "best_round = np.argmin(xgb_cv_res['test-rmse-mean'])\n",
    "print('best_model:', xgb_cv_res.iloc[best_round])\n",
    "# best_round = 600"
   ]
  },
  {
   "cell_type": "code",
   "execution_count": 32,
   "metadata": {
    "collapsed": false
   },
   "outputs": [
    {
     "name": "stdout",
     "output_type": "stream",
     "text": [
      "[0]\ttrain-rmse:14.8195\tvalid-rmse:14.8195\n",
      "[25]\ttrain-rmse:8.95147\tvalid-rmse:8.95147\n",
      "[50]\ttrain-rmse:5.4152\tvalid-rmse:5.4152\n",
      "[75]\ttrain-rmse:3.2887\tvalid-rmse:3.2887\n",
      "[100]\ttrain-rmse:2.01779\tvalid-rmse:2.01779\n",
      "[125]\ttrain-rmse:1.2694\tvalid-rmse:1.2694\n",
      "[150]\ttrain-rmse:0.844314\tvalid-rmse:0.844314\n",
      "[175]\ttrain-rmse:0.61895\tvalid-rmse:0.61895\n",
      "[200]\ttrain-rmse:0.510918\tvalid-rmse:0.510918\n",
      "[225]\ttrain-rmse:0.463013\tvalid-rmse:0.463013\n",
      "[250]\ttrain-rmse:0.442348\tvalid-rmse:0.442348\n",
      "[275]\ttrain-rmse:0.432585\tvalid-rmse:0.432585\n",
      "[300]\ttrain-rmse:0.427216\tvalid-rmse:0.427216\n",
      "[325]\ttrain-rmse:0.423343\tvalid-rmse:0.423343\n",
      "[350]\ttrain-rmse:0.420623\tvalid-rmse:0.420623\n",
      "[375]\ttrain-rmse:0.417883\tvalid-rmse:0.417883\n",
      "[400]\ttrain-rmse:0.415555\tvalid-rmse:0.415555\n",
      "[425]\ttrain-rmse:0.413607\tvalid-rmse:0.413607\n",
      "[450]\ttrain-rmse:0.411666\tvalid-rmse:0.411666\n",
      "[475]\ttrain-rmse:0.409829\tvalid-rmse:0.409829\n",
      "[500]\ttrain-rmse:0.408085\tvalid-rmse:0.408085\n",
      "[525]\ttrain-rmse:0.406179\tvalid-rmse:0.406179\n",
      "[550]\ttrain-rmse:0.404075\tvalid-rmse:0.404075\n",
      "[556]\ttrain-rmse:0.403609\tvalid-rmse:0.403609\n",
      "train_loss: 0.403609527082\n"
     ]
    }
   ],
   "source": [
    "watchlist = [(xg_train, 'train'), (xg_train, 'valid')]\n",
    "bst = xgb.train(bst_paras, xg_train, best_round, watchlist, verbose_eval=25)\n",
    "# bst = xgb.train(bst_paras, xg_train, best_round)\n",
    "print('train_loss:', score_func(y_train, bst.predict(xg_train)))"
   ]
  },
  {
   "cell_type": "code",
   "execution_count": 33,
   "metadata": {
    "collapsed": false
   },
   "outputs": [
    {
     "data": {
      "text/plain": [
       "<matplotlib.axes._subplots.AxesSubplot at 0x109c13da0>"
      ]
     },
     "execution_count": 33,
     "metadata": {},
     "output_type": "execute_result"
    },
    {
     "data": {
      "image/png": "[encoded data removed]",
      "text/plain": [
       "<matplotlib.figure.Figure at 0x109bebfd0>"
      ]
     },
     "metadata": {},
     "output_type": "display_data"
    }
   ],
   "source": [
    "xgb.plot_importance(bst, max_num_features=10)"
   ]
  },
  {
   "cell_type": "markdown",
   "metadata": {},
   "source": [
    "## 预测"
   ]
  },
  {
   "cell_type": "code",
   "execution_count": 34,
   "metadata": {
    "collapsed": false
   },
   "outputs": [],
   "source": [
    "# 使用的模型\n",
    "# res_model = lasso\n",
    "res_model = bst\n",
    "\n",
    "# 预测\n",
    "if type(res_model) == xgb.core.Booster:\n",
    "    y_pred = res_model.predict(xg_pred)\n",
    "else:\n",
    "    y_pred = res_model.predict(X_pred)\n",
    "y_pred = np.expm1(y_pred)\n",
    "\n",
    "# 导出数据\n",
    "res_df = pd.DataFrame({'id': full_df.loc['test']['id'], 'price_doc': y_pred})\n",
    "res_df.to_csv('./output/result.csv', index=False)"
   ]
  },
  {
   "cell_type": "code",
   "execution_count": null,
   "metadata": {
    "collapsed": true
   },
   "outputs": [],
   "source": []
  }
 ],
 "metadata": {
  "kernelspec": {
   "display_name": "Python 3",
   "language": "python",
   "name": "python3"
  },
  "language_info": {
   "codemirror_mode": {
    "name": "ipython",
    "version": 3
   },
   "file_extension": ".py",
   "mimetype": "text/x-python",
   "name": "python",
   "nbconvert_exporter": "python",
   "pygments_lexer": "ipython3",
   "version": "3.5.1"
  }
 },
 "nbformat": 4,
 "nbformat_minor": 1
}
