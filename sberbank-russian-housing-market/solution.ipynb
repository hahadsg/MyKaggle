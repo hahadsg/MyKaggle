{
 "cells": [
  {
   "cell_type": "code",
   "execution_count": 1,
   "metadata": {
    "collapsed": false
   },
   "outputs": [],
   "source": [
    "# -*- coding:utf8 -*-\n",
    "import re\n",
    "from collections import Counter\n",
    "\n",
    "import pandas as pd\n",
    "import numpy as np\n",
    "import matplotlib.pyplot as plt\n",
    "import seaborn as sns\n",
    "from scipy.stats import skew\n",
    "\n",
    "from sklearn import metrics\n",
    "from sklearn import model_selection\n",
    "from sklearn.model_selection import train_test_split\n",
    "from sklearn.model_selection import GridSearchCV\n",
    "from sklearn.model_selection import StratifiedKFold\n",
    "from sklearn import preprocessing\n",
    "from sklearn.feature_extraction.text import CountVectorizer, TfidfVectorizer\n",
    "\n",
    "from mydatools.plot import plot_grid_search_result\n",
    "\n",
    "% matplotlib inline"
   ]
  },
  {
   "cell_type": "markdown",
   "metadata": {},
   "source": [
    "## 获取数据"
   ]
  },
  {
   "cell_type": "code",
   "execution_count": 2,
   "metadata": {
    "collapsed": false
   },
   "outputs": [
    {
     "data": {
      "text/html": [
       "<div>\n",
       "<table border=\"1\" class=\"dataframe\">\n",
       "  <thead>\n",
       "    <tr style=\"text-align: right;\">\n",
       "      <th></th>\n",
       "      <th></th>\n",
       "      <th>0_13_all</th>\n",
       "      <th>0_13_female</th>\n",
       "      <th>0_13_male</th>\n",
       "      <th>0_17_all</th>\n",
       "      <th>0_17_female</th>\n",
       "      <th>0_17_male</th>\n",
       "      <th>0_6_all</th>\n",
       "      <th>0_6_female</th>\n",
       "      <th>0_6_male</th>\n",
       "      <th>16_29_all</th>\n",
       "      <th>...</th>\n",
       "      <th>water_km</th>\n",
       "      <th>water_treatment_km</th>\n",
       "      <th>work_all</th>\n",
       "      <th>work_female</th>\n",
       "      <th>work_male</th>\n",
       "      <th>workplaces_km</th>\n",
       "      <th>young_all</th>\n",
       "      <th>young_female</th>\n",
       "      <th>young_male</th>\n",
       "      <th>zd_vokzaly_avto_km</th>\n",
       "    </tr>\n",
       "  </thead>\n",
       "  <tbody>\n",
       "    <tr>\n",
       "      <th rowspan=\"5\" valign=\"top\">train</th>\n",
       "      <th>0</th>\n",
       "      <td>18654</td>\n",
       "      <td>8945</td>\n",
       "      <td>9709</td>\n",
       "      <td>23603</td>\n",
       "      <td>11317</td>\n",
       "      <td>12286</td>\n",
       "      <td>9576</td>\n",
       "      <td>4677</td>\n",
       "      <td>4899</td>\n",
       "      <td>17508</td>\n",
       "      <td>...</td>\n",
       "      <td>0.992631</td>\n",
       "      <td>23.683460</td>\n",
       "      <td>98207</td>\n",
       "      <td>45930</td>\n",
       "      <td>52277</td>\n",
       "      <td>0.884350</td>\n",
       "      <td>21154</td>\n",
       "      <td>10147</td>\n",
       "      <td>11007</td>\n",
       "      <td>14.231961</td>\n",
       "    </tr>\n",
       "    <tr>\n",
       "      <th>1</th>\n",
       "      <td>13729</td>\n",
       "      <td>6800</td>\n",
       "      <td>6929</td>\n",
       "      <td>17700</td>\n",
       "      <td>8702</td>\n",
       "      <td>8998</td>\n",
       "      <td>6880</td>\n",
       "      <td>3414</td>\n",
       "      <td>3466</td>\n",
       "      <td>15164</td>\n",
       "      <td>...</td>\n",
       "      <td>0.698081</td>\n",
       "      <td>1.317476</td>\n",
       "      <td>70194</td>\n",
       "      <td>34572</td>\n",
       "      <td>35622</td>\n",
       "      <td>0.686252</td>\n",
       "      <td>15727</td>\n",
       "      <td>7802</td>\n",
       "      <td>7925</td>\n",
       "      <td>9.242586</td>\n",
       "    </tr>\n",
       "    <tr>\n",
       "      <th>2</th>\n",
       "      <td>11252</td>\n",
       "      <td>5336</td>\n",
       "      <td>5916</td>\n",
       "      <td>14884</td>\n",
       "      <td>7063</td>\n",
       "      <td>7821</td>\n",
       "      <td>5879</td>\n",
       "      <td>2784</td>\n",
       "      <td>3095</td>\n",
       "      <td>19401</td>\n",
       "      <td>...</td>\n",
       "      <td>0.468265</td>\n",
       "      <td>4.912660</td>\n",
       "      <td>63388</td>\n",
       "      <td>31575</td>\n",
       "      <td>31813</td>\n",
       "      <td>1.510089</td>\n",
       "      <td>13028</td>\n",
       "      <td>6193</td>\n",
       "      <td>6835</td>\n",
       "      <td>9.540544</td>\n",
       "    </tr>\n",
       "    <tr>\n",
       "      <th>3</th>\n",
       "      <td>24934</td>\n",
       "      <td>12152</td>\n",
       "      <td>12782</td>\n",
       "      <td>32063</td>\n",
       "      <td>15550</td>\n",
       "      <td>16513</td>\n",
       "      <td>13087</td>\n",
       "      <td>6442</td>\n",
       "      <td>6645</td>\n",
       "      <td>3292</td>\n",
       "      <td>...</td>\n",
       "      <td>1.200336</td>\n",
       "      <td>15.623710</td>\n",
       "      <td>120381</td>\n",
       "      <td>60341</td>\n",
       "      <td>60040</td>\n",
       "      <td>0.622272</td>\n",
       "      <td>28563</td>\n",
       "      <td>13883</td>\n",
       "      <td>14680</td>\n",
       "      <td>17.478380</td>\n",
       "    </tr>\n",
       "    <tr>\n",
       "      <th>4</th>\n",
       "      <td>11631</td>\n",
       "      <td>5408</td>\n",
       "      <td>6223</td>\n",
       "      <td>15237</td>\n",
       "      <td>7124</td>\n",
       "      <td>8113</td>\n",
       "      <td>5706</td>\n",
       "      <td>2724</td>\n",
       "      <td>2982</td>\n",
       "      <td>5164</td>\n",
       "      <td>...</td>\n",
       "      <td>0.820294</td>\n",
       "      <td>10.683540</td>\n",
       "      <td>68043</td>\n",
       "      <td>33807</td>\n",
       "      <td>34236</td>\n",
       "      <td>0.892668</td>\n",
       "      <td>13368</td>\n",
       "      <td>6209</td>\n",
       "      <td>7159</td>\n",
       "      <td>1.595898</td>\n",
       "    </tr>\n",
       "  </tbody>\n",
       "</table>\n",
       "<p>5 rows × 292 columns</p>\n",
       "</div>"
      ],
      "text/plain": [
       "         0_13_all  0_13_female  0_13_male  0_17_all  0_17_female  0_17_male  \\\n",
       "train 0     18654         8945       9709     23603        11317      12286   \n",
       "      1     13729         6800       6929     17700         8702       8998   \n",
       "      2     11252         5336       5916     14884         7063       7821   \n",
       "      3     24934        12152      12782     32063        15550      16513   \n",
       "      4     11631         5408       6223     15237         7124       8113   \n",
       "\n",
       "         0_6_all  0_6_female  0_6_male  16_29_all         ...          \\\n",
       "train 0     9576        4677      4899      17508         ...           \n",
       "      1     6880        3414      3466      15164         ...           \n",
       "      2     5879        2784      3095      19401         ...           \n",
       "      3    13087        6442      6645       3292         ...           \n",
       "      4     5706        2724      2982       5164         ...           \n",
       "\n",
       "         water_km  water_treatment_km  work_all  work_female  work_male  \\\n",
       "train 0  0.992631           23.683460     98207        45930      52277   \n",
       "      1  0.698081            1.317476     70194        34572      35622   \n",
       "      2  0.468265            4.912660     63388        31575      31813   \n",
       "      3  1.200336           15.623710    120381        60341      60040   \n",
       "      4  0.820294           10.683540     68043        33807      34236   \n",
       "\n",
       "         workplaces_km  young_all  young_female  young_male  \\\n",
       "train 0       0.884350      21154         10147       11007   \n",
       "      1       0.686252      15727          7802        7925   \n",
       "      2       1.510089      13028          6193        6835   \n",
       "      3       0.622272      28563         13883       14680   \n",
       "      4       0.892668      13368          6209        7159   \n",
       "\n",
       "         zd_vokzaly_avto_km  \n",
       "train 0           14.231961  \n",
       "      1            9.242586  \n",
       "      2            9.540544  \n",
       "      3           17.478380  \n",
       "      4            1.595898  \n",
       "\n",
       "[5 rows x 292 columns]"
      ]
     },
     "execution_count": 2,
     "metadata": {},
     "output_type": "execute_result"
    }
   ],
   "source": [
    "train_df = pd.read_csv('./input/train.csv')\n",
    "test_df = pd.read_csv('./input/test.csv')\n",
    "full_df = pd.concat([train_df, test_df], keys=['train', 'test'])\n",
    "del(train_df)\n",
    "del(test_df)\n",
    "full_df.head()"
   ]
  },
  {
   "cell_type": "markdown",
   "metadata": {},
   "source": [
    "* 对price_doc进行log1p处理\n",
    "\n",
    "由于有了这个操作，score就是RMSE（而不是RMSLE）"
   ]
  },
  {
   "cell_type": "code",
   "execution_count": 3,
   "metadata": {
    "collapsed": true
   },
   "outputs": [],
   "source": [
    "full_df['price_doc'] = np.log1p(full_df['price_doc'])"
   ]
  },
  {
   "cell_type": "markdown",
   "metadata": {},
   "source": [
    "* macroeconomy"
   ]
  },
  {
   "cell_type": "code",
   "execution_count": 4,
   "metadata": {
    "collapsed": false
   },
   "outputs": [
    {
     "data": {
      "text/html": [
       "<div>\n",
       "<table border=\"1\" class=\"dataframe\">\n",
       "  <thead>\n",
       "    <tr style=\"text-align: right;\">\n",
       "      <th></th>\n",
       "      <th>timestamp</th>\n",
       "      <th>oil_urals</th>\n",
       "      <th>gdp_quart</th>\n",
       "      <th>gdp_quart_growth</th>\n",
       "      <th>cpi</th>\n",
       "      <th>ppi</th>\n",
       "      <th>gdp_deflator</th>\n",
       "      <th>balance_trade</th>\n",
       "      <th>balance_trade_growth</th>\n",
       "      <th>usdrub</th>\n",
       "      <th>...</th>\n",
       "      <th>provision_retail_space_modern_sqm</th>\n",
       "      <th>turnover_catering_per_cap</th>\n",
       "      <th>theaters_viewers_per_1000_cap</th>\n",
       "      <th>seats_theather_rfmin_per_100000_cap</th>\n",
       "      <th>museum_visitis_per_100_cap</th>\n",
       "      <th>bandwidth_sports</th>\n",
       "      <th>population_reg_sports_share</th>\n",
       "      <th>students_reg_sports_share</th>\n",
       "      <th>apartment_build</th>\n",
       "      <th>apartment_fund_sqm</th>\n",
       "    </tr>\n",
       "  </thead>\n",
       "  <tbody>\n",
       "    <tr>\n",
       "      <th>0</th>\n",
       "      <td>2010-01-01</td>\n",
       "      <td>76.1</td>\n",
       "      <td>NaN</td>\n",
       "      <td>NaN</td>\n",
       "      <td>NaN</td>\n",
       "      <td>NaN</td>\n",
       "      <td>NaN</td>\n",
       "      <td>NaN</td>\n",
       "      <td>NaN</td>\n",
       "      <td>NaN</td>\n",
       "      <td>...</td>\n",
       "      <td>690.0</td>\n",
       "      <td>6221.0</td>\n",
       "      <td>527.0</td>\n",
       "      <td>0.41</td>\n",
       "      <td>993.0</td>\n",
       "      <td>NaN</td>\n",
       "      <td>NaN</td>\n",
       "      <td>63.03</td>\n",
       "      <td>22825.0</td>\n",
       "      <td>NaN</td>\n",
       "    </tr>\n",
       "    <tr>\n",
       "      <th>1</th>\n",
       "      <td>2010-01-02</td>\n",
       "      <td>76.1</td>\n",
       "      <td>NaN</td>\n",
       "      <td>NaN</td>\n",
       "      <td>NaN</td>\n",
       "      <td>NaN</td>\n",
       "      <td>NaN</td>\n",
       "      <td>NaN</td>\n",
       "      <td>NaN</td>\n",
       "      <td>NaN</td>\n",
       "      <td>...</td>\n",
       "      <td>690.0</td>\n",
       "      <td>6221.0</td>\n",
       "      <td>527.0</td>\n",
       "      <td>0.41</td>\n",
       "      <td>993.0</td>\n",
       "      <td>NaN</td>\n",
       "      <td>NaN</td>\n",
       "      <td>63.03</td>\n",
       "      <td>22825.0</td>\n",
       "      <td>NaN</td>\n",
       "    </tr>\n",
       "    <tr>\n",
       "      <th>2</th>\n",
       "      <td>2010-01-03</td>\n",
       "      <td>76.1</td>\n",
       "      <td>NaN</td>\n",
       "      <td>NaN</td>\n",
       "      <td>NaN</td>\n",
       "      <td>NaN</td>\n",
       "      <td>NaN</td>\n",
       "      <td>NaN</td>\n",
       "      <td>NaN</td>\n",
       "      <td>NaN</td>\n",
       "      <td>...</td>\n",
       "      <td>690.0</td>\n",
       "      <td>6221.0</td>\n",
       "      <td>527.0</td>\n",
       "      <td>0.41</td>\n",
       "      <td>993.0</td>\n",
       "      <td>NaN</td>\n",
       "      <td>NaN</td>\n",
       "      <td>63.03</td>\n",
       "      <td>22825.0</td>\n",
       "      <td>NaN</td>\n",
       "    </tr>\n",
       "    <tr>\n",
       "      <th>3</th>\n",
       "      <td>2010-01-04</td>\n",
       "      <td>76.1</td>\n",
       "      <td>NaN</td>\n",
       "      <td>NaN</td>\n",
       "      <td>NaN</td>\n",
       "      <td>NaN</td>\n",
       "      <td>NaN</td>\n",
       "      <td>NaN</td>\n",
       "      <td>NaN</td>\n",
       "      <td>29.905</td>\n",
       "      <td>...</td>\n",
       "      <td>690.0</td>\n",
       "      <td>6221.0</td>\n",
       "      <td>527.0</td>\n",
       "      <td>0.41</td>\n",
       "      <td>993.0</td>\n",
       "      <td>NaN</td>\n",
       "      <td>NaN</td>\n",
       "      <td>63.03</td>\n",
       "      <td>22825.0</td>\n",
       "      <td>NaN</td>\n",
       "    </tr>\n",
       "    <tr>\n",
       "      <th>4</th>\n",
       "      <td>2010-01-05</td>\n",
       "      <td>76.1</td>\n",
       "      <td>NaN</td>\n",
       "      <td>NaN</td>\n",
       "      <td>NaN</td>\n",
       "      <td>NaN</td>\n",
       "      <td>NaN</td>\n",
       "      <td>NaN</td>\n",
       "      <td>NaN</td>\n",
       "      <td>29.836</td>\n",
       "      <td>...</td>\n",
       "      <td>690.0</td>\n",
       "      <td>6221.0</td>\n",
       "      <td>527.0</td>\n",
       "      <td>0.41</td>\n",
       "      <td>993.0</td>\n",
       "      <td>NaN</td>\n",
       "      <td>NaN</td>\n",
       "      <td>63.03</td>\n",
       "      <td>22825.0</td>\n",
       "      <td>NaN</td>\n",
       "    </tr>\n",
       "  </tbody>\n",
       "</table>\n",
       "<p>5 rows × 100 columns</p>\n",
       "</div>"
      ],
      "text/plain": [
       "    timestamp  oil_urals  gdp_quart  gdp_quart_growth  cpi  ppi  gdp_deflator  \\\n",
       "0  2010-01-01       76.1        NaN               NaN  NaN  NaN           NaN   \n",
       "1  2010-01-02       76.1        NaN               NaN  NaN  NaN           NaN   \n",
       "2  2010-01-03       76.1        NaN               NaN  NaN  NaN           NaN   \n",
       "3  2010-01-04       76.1        NaN               NaN  NaN  NaN           NaN   \n",
       "4  2010-01-05       76.1        NaN               NaN  NaN  NaN           NaN   \n",
       "\n",
       "   balance_trade  balance_trade_growth  usdrub         ...          \\\n",
       "0            NaN                   NaN     NaN         ...           \n",
       "1            NaN                   NaN     NaN         ...           \n",
       "2            NaN                   NaN     NaN         ...           \n",
       "3            NaN                   NaN  29.905         ...           \n",
       "4            NaN                   NaN  29.836         ...           \n",
       "\n",
       "   provision_retail_space_modern_sqm  turnover_catering_per_cap  \\\n",
       "0                              690.0                     6221.0   \n",
       "1                              690.0                     6221.0   \n",
       "2                              690.0                     6221.0   \n",
       "3                              690.0                     6221.0   \n",
       "4                              690.0                     6221.0   \n",
       "\n",
       "   theaters_viewers_per_1000_cap  seats_theather_rfmin_per_100000_cap  \\\n",
       "0                          527.0                                 0.41   \n",
       "1                          527.0                                 0.41   \n",
       "2                          527.0                                 0.41   \n",
       "3                          527.0                                 0.41   \n",
       "4                          527.0                                 0.41   \n",
       "\n",
       "   museum_visitis_per_100_cap  bandwidth_sports  population_reg_sports_share  \\\n",
       "0                       993.0               NaN                          NaN   \n",
       "1                       993.0               NaN                          NaN   \n",
       "2                       993.0               NaN                          NaN   \n",
       "3                       993.0               NaN                          NaN   \n",
       "4                       993.0               NaN                          NaN   \n",
       "\n",
       "   students_reg_sports_share  apartment_build  apartment_fund_sqm  \n",
       "0                      63.03          22825.0                 NaN  \n",
       "1                      63.03          22825.0                 NaN  \n",
       "2                      63.03          22825.0                 NaN  \n",
       "3                      63.03          22825.0                 NaN  \n",
       "4                      63.03          22825.0                 NaN  \n",
       "\n",
       "[5 rows x 100 columns]"
      ]
     },
     "execution_count": 4,
     "metadata": {},
     "output_type": "execute_result"
    }
   ],
   "source": [
    "macro_df = pd.read_csv('./input/macro.csv')\n",
    "macro_df.head()"
   ]
  },
  {
   "cell_type": "code",
   "execution_count": 5,
   "metadata": {
    "collapsed": false
   },
   "outputs": [],
   "source": [
    "# feats = macro_df.columns[macro_df.dtypes != 'object'].tolist()[40:60]\n",
    "# num_feat = len(feats)\n",
    "# num_row = int(np.ceil(num_feat / 3))\n",
    "# fig, ax = plt.subplots(num_row, 3, figsize=(15, 4*num_row))\n",
    "# for i in range(num_feat):\n",
    "#     feat = feats[i]\n",
    "#     cur_ax = ax[i//3][i%3] if num_row > 1 else ax[i]\n",
    "#     cur_ax.plot(pd.to_datetime(macro_df['timestamp']), macro_df[feat].fillna(0))\n",
    "# #     cur_ax.plot(pd.to_datetime(macro_df['timestamp']), macro_df[feat].fillna(macro_df[feat].mean()))\n",
    "#     cur_ax.plot(pd.to_datetime(macro_df['timestamp']), macro_df[feat].fillna(method='ffill').fillna(method='bfill'))\n",
    "#     cur_ax.set_title(feat)"
   ]
  },
  {
   "cell_type": "code",
   "execution_count": 6,
   "metadata": {
    "collapsed": false
   },
   "outputs": [],
   "source": [
    "# 缺失值\n",
    "numerical_columns = macro_df.columns[macro_df.dtypes != 'object']\n",
    "macro_df[numerical_columns] = macro_df[numerical_columns].fillna(method='ffill').fillna(method='bfill')"
   ]
  },
  {
   "cell_type": "code",
   "execution_count": 7,
   "metadata": {
    "collapsed": false
   },
   "outputs": [],
   "source": [
    "full_df = full_df.join(macro_df.set_index('timestamp'), on='timestamp')"
   ]
  },
  {
   "cell_type": "markdown",
   "metadata": {},
   "source": [
    "## 特征处理"
   ]
  },
  {
   "cell_type": "markdown",
   "metadata": {},
   "source": [
    "* 简单处理\n",
    "\n",
    "把数值型特征加进去"
   ]
  },
  {
   "cell_type": "code",
   "execution_count": 8,
   "metadata": {
    "collapsed": false
   },
   "outputs": [],
   "source": [
    "feature_list = []\n",
    "def add_feature(feats):\n",
    "    global feature_list\n",
    "    if type(feats) != list:\n",
    "        feats = [feats]\n",
    "    feature_list += [f for f in feats if f not in feature_list]\n",
    "def remove_feature(feats):\n",
    "    global feature_list\n",
    "    if type(feats) != list:\n",
    "        feats = [feats]\n",
    "    feature_list = [f for f in feature_list if f not in feats]"
   ]
  },
  {
   "cell_type": "code",
   "execution_count": 9,
   "metadata": {
    "collapsed": false
   },
   "outputs": [],
   "source": [
    "numeric_feat = full_df.dtypes[full_df.dtypes != 'object'].index.tolist()\n",
    "add_feature(numeric_feat)"
   ]
  },
  {
   "cell_type": "code",
   "execution_count": 10,
   "metadata": {
    "collapsed": false
   },
   "outputs": [],
   "source": [
    "remove_feature(['id', 'price_doc'])"
   ]
  },
  {
   "cell_type": "markdown",
   "metadata": {},
   "source": [
    "* 数据清洗"
   ]
  },
  {
   "cell_type": "code",
   "execution_count": 11,
   "metadata": {
    "collapsed": false
   },
   "outputs": [],
   "source": [
    "# build_year\n",
    "full_df.loc[(full_df['build_year'] < 1000) | (full_df['build_year'] > 2100), 'build_year'] = np.nan"
   ]
  },
  {
   "cell_type": "markdown",
   "metadata": {},
   "source": [
    "* 处理偏倚数据"
   ]
  },
  {
   "cell_type": "code",
   "execution_count": 12,
   "metadata": {
    "collapsed": false
   },
   "outputs": [],
   "source": [
    "# skew_value = full_df[feature_list].apply(lambda x: skew(x)) # compute skewness\n",
    "# min_value = full_df[feature_list].min()\n",
    "# skewed_feats = skew_value[(skew_value > 0.75) & (min_value >= 0)].index\n",
    "# full_df[skewed_feats] = np.log1p(full_df[skewed_feats])"
   ]
  },
  {
   "cell_type": "markdown",
   "metadata": {},
   "source": [
    "* 加入日期相关特征"
   ]
  },
  {
   "cell_type": "code",
   "execution_count": 13,
   "metadata": {
    "collapsed": false
   },
   "outputs": [],
   "source": [
    "dt_df = pd.to_datetime(full_df['timestamp'])\n",
    "full_df['timestamp_year'] = dt_df.apply(lambda x: x.year)\n",
    "full_df['timestamp_month'] = dt_df.apply(lambda x: x.month)\n",
    "full_df['timestamp_day'] = dt_df.apply(lambda x: x.day)\n",
    "full_df['timestamp_weekday'] = dt_df.apply(lambda x: x.weekday())\n",
    "add_feature(['timestamp_year', 'timestamp_month', 'timestamp_day', 'timestamp_weekday'])"
   ]
  },
  {
   "cell_type": "markdown",
   "metadata": {},
   "source": [
    "* 字符串类型特征处理"
   ]
  },
  {
   "cell_type": "code",
   "execution_count": 14,
   "metadata": {
    "collapsed": false
   },
   "outputs": [],
   "source": [
    "# yes/no\n",
    "yes_no_features = ['big_market_raion', 'big_road1_1line', 'culture_objects_top_25',\n",
    "        'detention_facility_raion', 'incineration_raion',\n",
    "        'nuclear_reactor_raion', 'oil_chemistry_raion', 'radiation_raion',\n",
    "        'railroad_1line', 'railroad_terminal_raion',\n",
    "        'thermal_power_plant_raion', 'water_1line',\n",
    "    ]\n",
    "full_df[yes_no_features] = full_df[yes_no_features].apply(lambda x: x.map({'yes': 1, 'no': 0}))\n",
    "add_feature(yes_no_features)"
   ]
  },
  {
   "cell_type": "code",
   "execution_count": 15,
   "metadata": {
    "collapsed": true
   },
   "outputs": [],
   "source": [
    "# ecology (excellent|good|satisfactory|poor|no data)\n",
    "full_df['ecology'] = full_df['ecology'].map({'excellent': 4, 'good': 3, 'satisfactory': 2, 'poor': 1, 'no data': np.nan})\n",
    "add_feature('ecology')"
   ]
  },
  {
   "cell_type": "code",
   "execution_count": 16,
   "metadata": {
    "collapsed": false
   },
   "outputs": [],
   "source": [
    "# dummy\n",
    "# product_type (Investment|OwnerOccupier|nan)\n",
    "dummy_features = [\n",
    "    'product_type', \n",
    "    'sub_area',\n",
    "]\n",
    "dummy_df = pd.get_dummies(full_df[dummy_features])\n",
    "full_df[dummy_df.columns] = dummy_df\n",
    "add_feature(dummy_df.columns.tolist())"
   ]
  },
  {
   "cell_type": "code",
   "execution_count": 17,
   "metadata": {
    "collapsed": false
   },
   "outputs": [],
   "source": [
    "# to numeric\n",
    "# child_on_acc_pre_school (#!|7,311|3,013|16,765|nan)\n",
    "# modern_education_share (nan|90,92|93,08|95,4918)\n",
    "# old_education_build_share (nan|23,14|25,47|8,2517)\n",
    "tonum_feats = ['child_on_acc_pre_school', 'modern_education_share', 'old_education_build_share']\n",
    "# 先将,转化成. 然后再进行to_numeric\n",
    "full_df[tonum_feats] = full_df[tonum_feats].apply(lambda x: x.str.replace(',', '.'))\n",
    "full_df[tonum_feats] = full_df[tonum_feats].apply(lambda x: pd.to_numeric(x, errors='coerce'))\n",
    "add_feature(tonum_feats)"
   ]
  },
  {
   "cell_type": "markdown",
   "metadata": {},
   "source": [
    "* 一些占比相关的特征"
   ]
  },
  {
   "cell_type": "code",
   "execution_count": 18,
   "metadata": {
    "collapsed": false
   },
   "outputs": [],
   "source": [
    "# sq\n",
    "full_df['derive_life_sq_ratio'] = full_df['life_sq'] / full_df['full_sq']\n",
    "full_df['derive_kitch_sq_ratio'] = full_df['kitch_sq'] / full_df['full_sq']\n",
    "\n",
    "# children_preschool\n",
    "full_df['derive_children_preschool_ratio'] = full_df['children_preschool'] / full_df['raion_popul']\n",
    "full_df['derive_preschool_quota_prepopul'] = full_df['preschool_quota'] / full_df['children_preschool']\n",
    "full_df['derive_preschool_education_centers_raion_prepopul'] = full_df['preschool_education_centers_raion'] / full_df['children_preschool']\n",
    "\n",
    "# children_school\n",
    "full_df['derive_children_school_ratio'] = full_df['children_school'] / full_df['raion_popul']\n",
    "full_df['derive_school_quota_prepopul'] = full_df['school_quota'] / full_df['children_school']\n",
    "full_df['derive_school_education_centers_raion_prepopul'] = full_df['school_education_centers_raion'] / full_df['children_school']\n",
    "full_df['derive_school_education_centers_top_20_raion_prepopul'] = full_df['school_education_centers_top_20_raion'] / full_df['children_school']\n",
    "\n",
    "# raion_pre_popul\n",
    "full_df['derive_hospital_beds_raion_prepopul'] = full_df['hospital_beds_raion'] / full_df['raion_popul']\n",
    "full_df['derive_healthcare_centers_raion_prepopul'] = full_df['healthcare_centers_raion'] / full_df['raion_popul']\n",
    "full_df['derive_university_top_20_raion_prepopul'] = full_df['university_top_20_raion'] / full_df['raion_popul']\n",
    "full_df['derive_sport_objects_raion_prepopul'] = full_df['sport_objects_raion'] / full_df['raion_popul']\n",
    "full_df['derive_additional_education_raion_prepopul'] = full_df['additional_education_raion'] / full_df['raion_popul']\n",
    "full_df['derive_culture_objects_top_25_raion_prepopul'] = full_df['culture_objects_top_25_raion'] / full_df['raion_popul']\n",
    "full_df['derive_shopping_centers_raion_prepopul'] = full_df['shopping_centers_raion'] / full_df['raion_popul']\n",
    "full_df['derive_office_raion_prepopul'] = full_df['office_raion'] / full_df['raion_popul']\n",
    "\n",
    "# total popul\n",
    "full_df['derive_male_f_ratio'] = full_df['male_f'] / full_df['full_all']\n",
    "full_df['derive_female_f_ratio'] = full_df['female_f'] / full_df['full_all']\n",
    "full_df['derive_young_all_ratio'] = full_df['young_all'] / full_df['full_all']\n",
    "full_df['derive_young_male_ratio'] = full_df['young_male'] / full_df['full_all']\n",
    "full_df['derive_young_female_ratio'] = full_df['young_female'] / full_df['full_all']\n",
    "full_df['derive_work_all_ratio'] = full_df['work_all'] / full_df['full_all']\n",
    "full_df['derive_work_male_ratio'] = full_df['work_male'] / full_df['full_all']\n",
    "full_df['derive_work_female_ratio'] = full_df['work_female'] / full_df['full_all']\n",
    "full_df['derive_ekder_all_ratio'] = full_df['ekder_all'] / full_df['full_all']\n",
    "full_df['derive_ekder_male_ratio'] = full_df['ekder_male'] / full_df['full_all']\n",
    "full_df['derive_ekder_female_ratio'] = full_df['ekder_female'] / full_df['full_all']\n",
    "full_df['derive_0_6_all_ratio'] = full_df['0_6_all'] / full_df['full_all']\n",
    "full_df['derive_0_6_male_ratio'] = full_df['0_6_male'] / full_df['full_all']\n",
    "full_df['derive_0_6_female_ratio'] = full_df['0_6_female'] / full_df['full_all']\n",
    "full_df['derive_7_14_all_ratio'] = full_df['7_14_all'] / full_df['full_all']\n",
    "full_df['derive_7_14_male_ratio'] = full_df['7_14_male'] / full_df['full_all']\n",
    "full_df['derive_7_14_female_ratio'] = full_df['7_14_female'] / full_df['full_all']\n",
    "full_df['derive_0_17_all_ratio'] = full_df['0_17_all'] / full_df['full_all']\n",
    "full_df['derive_0_17_male_ratio'] = full_df['0_17_male'] / full_df['full_all']\n",
    "full_df['derive_0_17_female_ratio'] = full_df['0_17_female'] / full_df['full_all']\n",
    "full_df['derive_16_29_all_ratio'] = full_df['16_29_all'] / full_df['full_all']\n",
    "full_df['derive_16_29_male_ratio'] = full_df['16_29_male'] / full_df['full_all']\n",
    "full_df['derive_16_29_female_ratio'] = full_df['16_29_female'] / full_df['full_all']\n",
    "full_df['derive_0_13_all_ratio'] = full_df['0_13_all'] / full_df['full_all']\n",
    "full_df['derive_0_13_male_ratio'] = full_df['0_13_male'] / full_df['full_all']\n",
    "full_df['derive_0_13_female_ratio'] = full_df['0_13_female'] / full_df['full_all']\n",
    "full_df['derive_young_female_ratio_female'] = full_df['young_female'] / full_df['female_f']\n",
    "full_df['derive_work_female_ratio_female'] = full_df['work_female'] / full_df['female_f']\n",
    "full_df['derive_ekder_female_ratio_female'] = full_df['ekder_female'] / full_df['female_f']\n",
    "full_df['derive_0_6_female_ratio_female'] = full_df['0_6_female'] / full_df['female_f']\n",
    "full_df['derive_7_14_female_ratio_female'] = full_df['7_14_female'] / full_df['female_f']\n",
    "full_df['derive_0_17_female_ratio_female'] = full_df['0_17_female'] / full_df['female_f']\n",
    "full_df['derive_16_29_female_ratio_female'] = full_df['16_29_female'] / full_df['female_f']\n",
    "full_df['derive_0_13_female_ratio_female'] = full_df['0_13_female'] / full_df['female_f']\n",
    "full_df['derive_young_male_ratio_male'] = full_df['young_male'] / full_df['male_f']\n",
    "full_df['derive_work_male_ratio_male'] = full_df['work_male'] / full_df['male_f']\n",
    "full_df['derive_ekder_male_ratio_male'] = full_df['ekder_male'] / full_df['male_f']\n",
    "full_df['derive_0_6_male_ratio_male'] = full_df['0_6_male'] / full_df['male_f']\n",
    "full_df['derive_7_14_male_ratio_male'] = full_df['7_14_male'] / full_df['male_f']\n",
    "full_df['derive_0_17_male_ratio_male'] = full_df['0_17_male'] / full_df['male_f']\n",
    "full_df['derive_16_29_male_ratio_male'] = full_df['16_29_male'] / full_df['male_f']\n",
    "full_df['derive_0_13_male_ratio_male'] = full_df['0_13_male'] / full_df['male_f']\n",
    "\n",
    "# build_with_material\n",
    "full_df['derive_build_count_block_ratio'] = full_df['build_count_block'] / full_df['raion_build_count_with_material_info']\n",
    "full_df['derive_build_count_wood_ratio'] = full_df['build_count_wood'] / full_df['raion_build_count_with_material_info']\n",
    "full_df['derive_build_count_frame_ratio'] = full_df['build_count_frame'] / full_df['raion_build_count_with_material_info']\n",
    "full_df['derive_build_count_brick_ratio'] = full_df['build_count_brick'] / full_df['raion_build_count_with_material_info']\n",
    "full_df['derive_build_count_monolith_ratio'] = full_df['build_count_monolith'] / full_df['raion_build_count_with_material_info']\n",
    "full_df['derive_build_count_panel_ratio'] = full_df['build_count_panel'] / full_df['raion_build_count_with_material_info']\n",
    "full_df['derive_build_count_foam_ratio'] = full_df['build_count_foam'] / full_df['raion_build_count_with_material_info']\n",
    "full_df['derive_build_count_slag_ratio'] = full_df['build_count_slag'] / full_df['raion_build_count_with_material_info']\n",
    "full_df['derive_build_count_mix_ratio'] = full_df['build_count_mix'] / full_df['raion_build_count_with_material_info']\n",
    "\n",
    "# build_with_builddate\n",
    "full_df['derive_build_count_before_1920_ratio'] = full_df['build_count_before_1920'] / full_df['raion_build_count_with_builddate_info']\n",
    "full_df['derive_build_count_1921-1945_ratio'] = full_df['build_count_1921-1945'] / full_df['raion_build_count_with_builddate_info']\n",
    "full_df['derive_build_count_1946-1970_ratio'] = full_df['build_count_1946-1970'] / full_df['raion_build_count_with_builddate_info']\n",
    "full_df['derive_build_count_1971-1995_ratio'] = full_df['build_count_1971-1995'] / full_df['raion_build_count_with_builddate_info']\n",
    "full_df['derive_build_count_after_1995_ratio'] = full_df['build_count_after_1995'] / full_df['raion_build_count_with_builddate_info']\n",
    "\n",
    "\n",
    "# 很多max_floor < floor，不知道原因\n",
    "# full_df['derive_floor_ratio'] = np.where(full_df['floor'] <= full_df['max_floor'], full_df['floor'] / full_df['max_floor'], np.nan)\n",
    "\n",
    "# 加入到feature_list中\n",
    "derive_features = [f for f in full_df.columns.tolist() if f.startswith('derive')]\n",
    "add_feature(derive_features)\n",
    "\n",
    "# 用0取代inf\n",
    "temp_df = full_df[derive_features].copy()\n",
    "temp_df[temp_df == np.inf] = 0\n",
    "full_df[derive_features] = temp_df[derive_features]"
   ]
  },
  {
   "cell_type": "code",
   "execution_count": 19,
   "metadata": {
    "collapsed": false
   },
   "outputs": [
    {
     "name": "stdout",
     "output_type": "stream",
     "text": [
      "full_df['derive_build_count_before_1920_ratio'] = full_df['build_count_before_1920'] / full_df['raion_build_count_with_builddate_info']\n",
      "full_df['derive_build_count_1921-1945_ratio'] = full_df['build_count_1921-1945'] / full_df['raion_build_count_with_builddate_info']\n",
      "full_df['derive_build_count_1946-1970_ratio'] = full_df['build_count_1946-1970'] / full_df['raion_build_count_with_builddate_info']\n",
      "full_df['derive_build_count_1971-1995_ratio'] = full_df['build_count_1971-1995'] / full_df['raion_build_count_with_builddate_info']\n",
      "full_df['derive_build_count_after_1995_ratio'] = full_df['build_count_after_1995'] / full_df['raion_build_count_with_builddate_info']\n"
     ]
    }
   ],
   "source": [
    "# tools\n",
    "s = \"\"\"\n",
    "\n",
    "build_count_before_1920_ratio = build_count_before_1920 / raion_build_count_with_builddate_info \n",
    "build_count_1921-1945_ratio = build_count_1921-1945 / raion_build_count_with_builddate_info \n",
    "build_count_1946-1970_ratio = build_count_1946-1970 / raion_build_count_with_builddate_info \n",
    "build_count_1971-1995_ratio = build_count_1971-1995 / raion_build_count_with_builddate_info \n",
    "build_count_after_1995_ratio = build_count_after_1995 / raion_build_count_with_builddate_info \n",
    "\n",
    "\"\"\"\n",
    "\n",
    "for row in s.split('\\n'):\n",
    "    if len(row) <= 0:\n",
    "        continue\n",
    "    a = row.split('=')[0].strip()\n",
    "    b = row.split('=')[1].split('/')[0].strip()\n",
    "    c = row.split('/')[1].strip()\n",
    "    print(\"\"\"full_df['derive_%s'] = full_df['%s'] / full_df['%s']\"\"\" % (a,b,c))\n"
   ]
  },
  {
   "cell_type": "code",
   "execution_count": 20,
   "metadata": {
    "collapsed": true
   },
   "outputs": [],
   "source": [
    "def proc_limit_data(ser, upper_limit = 99.9, lower_limit = 0.1):\n",
    "    ser = ser.copy()\n",
    "    ulimit = np.percentile(ser.dropna().values, upper_limit)\n",
    "    llimit = np.percentile(ser.dropna().values, lower_limit)\n",
    "    ser[ser > ulimit] = ulimit\n",
    "    ser[ser < llimit] = llimit\n",
    "    return ser\n",
    "\n",
    "def plot_joint(df, x, y):\n",
    "    df = df.copy()\n",
    "    df[x] = proc_limit_data(df[x])\n",
    "    df[y] = proc_limit_data(df[y])\n",
    "    sns.jointplot(x, y, df)"
   ]
  },
  {
   "cell_type": "code",
   "execution_count": 21,
   "metadata": {
    "collapsed": false,
    "scrolled": false
   },
   "outputs": [
    {
     "data": {
      "image/png": "[encoded data removed]",
      "text/plain": [
       "<matplotlib.figure.Figure at 0x103c19dd8>"
      ]
     },
     "metadata": {},
     "output_type": "display_data"
    }
   ],
   "source": [
    "plot_joint(full_df, 'ecology', 'price_doc')"
   ]
  },
  {
   "cell_type": "code",
   "execution_count": null,
   "metadata": {
    "collapsed": true
   },
   "outputs": [],
   "source": []
  },
  {
   "cell_type": "markdown",
   "metadata": {},
   "source": [
    "## 空值处理"
   ]
  },
  {
   "cell_type": "code",
   "execution_count": 22,
   "metadata": {
    "collapsed": false
   },
   "outputs": [],
   "source": [
    "full_df[feature_list] = preprocessing.Imputer(strategy='median').fit_transform(full_df[feature_list])\n",
    "# full_df[feature_list] = full_df[feature_list].fillna(0)"
   ]
  },
  {
   "cell_type": "markdown",
   "metadata": {},
   "source": [
    "## 预处理"
   ]
  },
  {
   "cell_type": "code",
   "execution_count": 23,
   "metadata": {
    "collapsed": false
   },
   "outputs": [],
   "source": [
    "X = full_df.loc['train'][feature_list]\n",
    "y = full_df.loc['train']['price_doc']\n",
    "\n",
    "X_pred = full_df.loc['test'][feature_list]\n",
    "\n",
    "# 标准化\n",
    "scaler = preprocessing.StandardScaler()\n",
    "X = scaler.fit_transform(X)\n",
    "X_pred = scaler.transform(X_pred)\n",
    "\n",
    "X_train = X\n",
    "y_train = y"
   ]
  },
  {
   "cell_type": "markdown",
   "metadata": {},
   "source": [
    "## Score"
   ]
  },
  {
   "cell_type": "code",
   "execution_count": 24,
   "metadata": {
    "collapsed": true
   },
   "outputs": [],
   "source": [
    "score_name = 'RMSE'\n",
    "score_func = lambda y, y_pred, **kwargs: metrics.mean_squared_error(y, y_pred, **kwargs) ** 0.5\n",
    "scorer = metrics.make_scorer(score_func, greater_is_better=False)"
   ]
  },
  {
   "cell_type": "markdown",
   "metadata": {},
   "source": [
    "## Lasso"
   ]
  },
  {
   "cell_type": "code",
   "execution_count": 25,
   "metadata": {
    "collapsed": true
   },
   "outputs": [],
   "source": [
    "# from sklearn.linear_model import Lasso, LassoCV"
   ]
  },
  {
   "cell_type": "code",
   "execution_count": 26,
   "metadata": {
    "collapsed": false,
    "scrolled": true
   },
   "outputs": [],
   "source": [
    "# # 对Lasso做网格化搜索\n",
    "# search_paras = {'alpha': np.logspace(-3,0,4)}\n",
    "# gs_lasso = GridSearchCV(Lasso(), search_paras, scoring=scorer).fit(X_train, y_train)\n",
    "# plot_grid_search_result(gs_lasso)"
   ]
  },
  {
   "cell_type": "code",
   "execution_count": 27,
   "metadata": {
    "collapsed": false
   },
   "outputs": [],
   "source": [
    "# # lasso = gs_lasso.best_estimator_\n",
    "# lasso = Lasso(**gs_lasso.best_params_).fit(X_train, y_train)"
   ]
  },
  {
   "cell_type": "code",
   "execution_count": 28,
   "metadata": {
    "collapsed": false
   },
   "outputs": [],
   "source": [
    "# coef = lasso.coef_\n",
    "# coef_df = pd.Series(coef, index=feature_list)\n",
    "# coef_df = coef_df.sort_values(ascending=False)\n",
    "# imp_coef_df = pd.concat([coef_df.head(10), coef_df.tail(5)])\n",
    "# imp_coef_df.plot(kind='barh')"
   ]
  },
  {
   "cell_type": "markdown",
   "metadata": {},
   "source": [
    "## XGBoost"
   ]
  },
  {
   "cell_type": "code",
   "execution_count": 29,
   "metadata": {
    "collapsed": true
   },
   "outputs": [],
   "source": [
    "import xgboost as xgb"
   ]
  },
  {
   "cell_type": "code",
   "execution_count": 30,
   "metadata": {
    "collapsed": false
   },
   "outputs": [],
   "source": [
    "# 由于待预测数据是最近的数据，训练数据是历史数据，所以用前80%时间的数据train，后20%数据validation\n",
    "split_train_rate = 0.8\n",
    "split_train_num = int(split_train_rate * len(X_train))\n",
    "xg_tra = xgb.DMatrix(X_train[:split_train_num], y_train[:split_train_num], feature_names=feature_list)\n",
    "xg_val = xgb.DMatrix(X_train[split_train_num:], y_train[split_train_num:], feature_names=feature_list)\n",
    "\n",
    "xg_train = xgb.DMatrix(X_train, y_train, feature_names=feature_list)\n",
    "xg_pred = xgb.DMatrix(X_pred, feature_names=feature_list)"
   ]
  },
  {
   "cell_type": "code",
   "execution_count": 31,
   "metadata": {
    "collapsed": false
   },
   "outputs": [],
   "source": [
    "bst_paras = {\n",
    "    'objective': 'reg:linear',\n",
    "    'booster': 'gbtree',\n",
    "    'eval_metric': 'rmse',\n",
    "    'eta': 0.02,\n",
    "    'colsample_bytree': 0.7,\n",
    "    'subsample': 0.7,\n",
    "    'max_depth': 5,\n",
    "#     'alpha': 0.1,\n",
    "#     'lambda': 0,\n",
    "}\n",
    "num_boost_round = 1000"
   ]
  },
  {
   "cell_type": "code",
   "execution_count": 32,
   "metadata": {
    "collapsed": false
   },
   "outputs": [],
   "source": [
    "# xgb_cv_res = xgb.cv(bst_paras, xg_train, num_boost_round, nfold=5, early_stopping_rounds=20, verbose_eval=25)\n",
    "# best_round = np.argmin(xgb_cv_res['test-rmse-mean'])\n",
    "# print('best_model:', xgb_cv_res.iloc[best_round])\n",
    "# # best_round = 600"
   ]
  },
  {
   "cell_type": "code",
   "execution_count": 33,
   "metadata": {
    "collapsed": false
   },
   "outputs": [
    {
     "name": "stdout",
     "output_type": "stream",
     "text": [
      "[0]\ttra-rmse:14.7927\tval-rmse:14.9292\n",
      "Multiple eval metrics have been passed: 'val-rmse' will be used for early stopping.\n",
      "\n",
      "Will train until val-rmse hasn't improved in 20 rounds.\n",
      "[25]\ttra-rmse:8.93768\tval-rmse:9.06253\n",
      "[50]\ttra-rmse:5.4098\tval-rmse:5.52653\n",
      "[75]\ttra-rmse:3.28879\tval-rmse:3.40032\n",
      "[100]\ttra-rmse:2.02189\tval-rmse:2.12198\n",
      "[125]\ttra-rmse:1.27727\tval-rmse:1.36396\n",
      "[150]\ttra-rmse:0.855117\tval-rmse:0.924844\n",
      "[175]\ttra-rmse:0.63226\tval-rmse:0.682291\n",
      "[200]\ttra-rmse:0.525469\tval-rmse:0.555425\n",
      "[225]\ttra-rmse:0.478034\tval-rmse:0.492656\n",
      "[250]\ttra-rmse:0.457069\tval-rmse:0.461511\n",
      "[275]\ttra-rmse:0.446836\tval-rmse:0.446667\n",
      "[300]\ttra-rmse:0.44095\tval-rmse:0.4385\n",
      "[325]\ttra-rmse:0.436747\tval-rmse:0.433533\n",
      "[350]\ttra-rmse:0.433172\tval-rmse:0.431038\n",
      "[375]\ttra-rmse:0.430269\tval-rmse:0.428481\n",
      "[400]\ttra-rmse:0.42713\tval-rmse:0.427336\n",
      "[425]\ttra-rmse:0.424238\tval-rmse:0.426544\n",
      "[450]\ttra-rmse:0.421444\tval-rmse:0.42584\n",
      "[475]\ttra-rmse:0.418889\tval-rmse:0.42507\n",
      "Stopping. Best iteration:\n",
      "[473]\ttra-rmse:0.419181\tval-rmse:0.424725\n",
      "\n",
      "best_round: 473\n"
     ]
    }
   ],
   "source": [
    "evals = [(xg_tra, 'tra'), (xg_val, 'val')]\n",
    "bst = xgb.train(bst_paras, xg_tra, num_boost_round, evals, early_stopping_rounds=20, verbose_eval=25)\n",
    "print('best_round:', bst.best_iteration)\n",
    "best_round = bst.best_iteration"
   ]
  },
  {
   "cell_type": "code",
   "execution_count": 34,
   "metadata": {
    "collapsed": false
   },
   "outputs": [
    {
     "name": "stdout",
     "output_type": "stream",
     "text": [
      "[0]\ttrain-rmse:14.8196\n",
      "[25]\ttrain-rmse:8.95363\n",
      "[50]\ttrain-rmse:5.41879\n",
      "[75]\ttrain-rmse:3.29382\n",
      "[100]\ttrain-rmse:2.02366\n",
      "[125]\ttrain-rmse:1.27603\n",
      "[150]\ttrain-rmse:0.851604\n",
      "[175]\ttrain-rmse:0.626669\n",
      "[200]\ttrain-rmse:0.518788\n",
      "[225]\ttrain-rmse:0.470923\n",
      "[250]\ttrain-rmse:0.450031\n",
      "[275]\ttrain-rmse:0.439841\n",
      "[300]\ttrain-rmse:0.434139\n",
      "[325]\ttrain-rmse:0.430021\n",
      "[350]\ttrain-rmse:0.426602\n",
      "[375]\ttrain-rmse:0.424002\n",
      "[400]\ttrain-rmse:0.421364\n",
      "[425]\ttrain-rmse:0.419018\n",
      "[450]\ttrain-rmse:0.416848\n",
      "[472]\ttrain-rmse:0.414686\n",
      "train_loss: 0.414685676548\n"
     ]
    }
   ],
   "source": [
    "evals = [(xg_train, 'train')]\n",
    "bst = xgb.train(bst_paras, xg_train, best_round, evals, verbose_eval=25)\n",
    "# bst = xgb.train(bst_paras, xg_train, best_round)\n",
    "print('train_loss:', score_func(y_train, bst.predict(xg_train)))"
   ]
  },
  {
   "cell_type": "code",
   "execution_count": 35,
   "metadata": {
    "collapsed": false
   },
   "outputs": [
    {
     "data": {
      "text/plain": [
       "<matplotlib.axes._subplots.AxesSubplot at 0x1643b5550>"
      ]
     },
     "execution_count": 35,
     "metadata": {},
     "output_type": "execute_result"
    },
    {
     "data": {
      "image/png": "[encoded data removed]",
      "text/plain": [
       "<matplotlib.figure.Figure at 0x1643a8cc0>"
      ]
     },
     "metadata": {},
     "output_type": "display_data"
    }
   ],
   "source": [
    "xgb.plot_importance(bst, max_num_features=10)"
   ]
  },
  {
   "cell_type": "markdown",
   "metadata": {},
   "source": [
    "## 预测"
   ]
  },
  {
   "cell_type": "code",
   "execution_count": 36,
   "metadata": {
    "collapsed": false
   },
   "outputs": [],
   "source": [
    "# 使用的模型\n",
    "# res_model = lasso\n",
    "res_model = bst\n",
    "\n",
    "# 预测\n",
    "if type(res_model) == xgb.core.Booster:\n",
    "    y_pred = res_model.predict(xg_pred)\n",
    "else:\n",
    "    y_pred = res_model.predict(X_pred)\n",
    "y_pred = np.expm1(y_pred)\n",
    "\n",
    "# 导出数据\n",
    "res_df = pd.DataFrame({'id': full_df.loc['test']['id'], 'price_doc': y_pred})\n",
    "res_df.to_csv('./output/result.csv', index=False)"
   ]
  }
 ],
 "metadata": {
  "kernelspec": {
   "display_name": "Python 3",
   "language": "python",
   "name": "python3"
  },
  "language_info": {
   "codemirror_mode": {
    "name": "ipython",
    "version": 3
   },
   "file_extension": ".py",
   "mimetype": "text/x-python",
   "name": "python",
   "nbconvert_exporter": "python",
   "pygments_lexer": "ipython3",
   "version": "3.5.1"
  }
 },
 "nbformat": 4,
 "nbformat_minor": 1
}
