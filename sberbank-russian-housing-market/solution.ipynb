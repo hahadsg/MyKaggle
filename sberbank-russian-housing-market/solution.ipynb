{
 "cells": [
  {
   "cell_type": "code",
   "execution_count": 1,
   "metadata": {
    "collapsed": false
   },
   "outputs": [],
   "source": [
    "# -*- coding:utf8 -*-\n",
    "import re\n",
    "from collections import Counter\n",
    "\n",
    "import pandas as pd\n",
    "import numpy as np\n",
    "import matplotlib.pyplot as plt\n",
    "import seaborn as sns\n",
    "from nltk.stem.porter import PorterStemmer\n",
    "from bs4 import BeautifulSoup\n",
    "\n",
    "from sklearn import metrics\n",
    "from sklearn import model_selection\n",
    "from sklearn.model_selection import train_test_split\n",
    "from sklearn.model_selection import GridSearchCV\n",
    "from sklearn.model_selection import StratifiedKFold\n",
    "from sklearn import preprocessing\n",
    "from sklearn.feature_extraction.text import CountVectorizer, TfidfVectorizer\n",
    "\n",
    "from mydatools.plot import plot_grid_search_result\n",
    "\n",
    "% matplotlib inline"
   ]
  },
  {
   "cell_type": "markdown",
   "metadata": {},
   "source": [
    "## 获取数据"
   ]
  },
  {
   "cell_type": "code",
   "execution_count": 2,
   "metadata": {
    "collapsed": false
   },
   "outputs": [
    {
     "data": {
      "text/html": [
       "<div>\n",
       "<table border=\"1\" class=\"dataframe\">\n",
       "  <thead>\n",
       "    <tr style=\"text-align: right;\">\n",
       "      <th></th>\n",
       "      <th></th>\n",
       "      <th>0_13_all</th>\n",
       "      <th>0_13_female</th>\n",
       "      <th>0_13_male</th>\n",
       "      <th>0_17_all</th>\n",
       "      <th>0_17_female</th>\n",
       "      <th>0_17_male</th>\n",
       "      <th>0_6_all</th>\n",
       "      <th>0_6_female</th>\n",
       "      <th>0_6_male</th>\n",
       "      <th>16_29_all</th>\n",
       "      <th>...</th>\n",
       "      <th>water_km</th>\n",
       "      <th>water_treatment_km</th>\n",
       "      <th>work_all</th>\n",
       "      <th>work_female</th>\n",
       "      <th>work_male</th>\n",
       "      <th>workplaces_km</th>\n",
       "      <th>young_all</th>\n",
       "      <th>young_female</th>\n",
       "      <th>young_male</th>\n",
       "      <th>zd_vokzaly_avto_km</th>\n",
       "    </tr>\n",
       "  </thead>\n",
       "  <tbody>\n",
       "    <tr>\n",
       "      <th rowspan=\"5\" valign=\"top\">train</th>\n",
       "      <th>0</th>\n",
       "      <td>18654</td>\n",
       "      <td>8945</td>\n",
       "      <td>9709</td>\n",
       "      <td>23603</td>\n",
       "      <td>11317</td>\n",
       "      <td>12286</td>\n",
       "      <td>9576</td>\n",
       "      <td>4677</td>\n",
       "      <td>4899</td>\n",
       "      <td>17508</td>\n",
       "      <td>...</td>\n",
       "      <td>0.992631</td>\n",
       "      <td>23.683460</td>\n",
       "      <td>98207</td>\n",
       "      <td>45930</td>\n",
       "      <td>52277</td>\n",
       "      <td>0.884350</td>\n",
       "      <td>21154</td>\n",
       "      <td>10147</td>\n",
       "      <td>11007</td>\n",
       "      <td>14.231961</td>\n",
       "    </tr>\n",
       "    <tr>\n",
       "      <th>1</th>\n",
       "      <td>13729</td>\n",
       "      <td>6800</td>\n",
       "      <td>6929</td>\n",
       "      <td>17700</td>\n",
       "      <td>8702</td>\n",
       "      <td>8998</td>\n",
       "      <td>6880</td>\n",
       "      <td>3414</td>\n",
       "      <td>3466</td>\n",
       "      <td>15164</td>\n",
       "      <td>...</td>\n",
       "      <td>0.698081</td>\n",
       "      <td>1.317476</td>\n",
       "      <td>70194</td>\n",
       "      <td>34572</td>\n",
       "      <td>35622</td>\n",
       "      <td>0.686252</td>\n",
       "      <td>15727</td>\n",
       "      <td>7802</td>\n",
       "      <td>7925</td>\n",
       "      <td>9.242586</td>\n",
       "    </tr>\n",
       "    <tr>\n",
       "      <th>2</th>\n",
       "      <td>11252</td>\n",
       "      <td>5336</td>\n",
       "      <td>5916</td>\n",
       "      <td>14884</td>\n",
       "      <td>7063</td>\n",
       "      <td>7821</td>\n",
       "      <td>5879</td>\n",
       "      <td>2784</td>\n",
       "      <td>3095</td>\n",
       "      <td>19401</td>\n",
       "      <td>...</td>\n",
       "      <td>0.468265</td>\n",
       "      <td>4.912660</td>\n",
       "      <td>63388</td>\n",
       "      <td>31575</td>\n",
       "      <td>31813</td>\n",
       "      <td>1.510089</td>\n",
       "      <td>13028</td>\n",
       "      <td>6193</td>\n",
       "      <td>6835</td>\n",
       "      <td>9.540544</td>\n",
       "    </tr>\n",
       "    <tr>\n",
       "      <th>3</th>\n",
       "      <td>24934</td>\n",
       "      <td>12152</td>\n",
       "      <td>12782</td>\n",
       "      <td>32063</td>\n",
       "      <td>15550</td>\n",
       "      <td>16513</td>\n",
       "      <td>13087</td>\n",
       "      <td>6442</td>\n",
       "      <td>6645</td>\n",
       "      <td>3292</td>\n",
       "      <td>...</td>\n",
       "      <td>1.200336</td>\n",
       "      <td>15.623710</td>\n",
       "      <td>120381</td>\n",
       "      <td>60341</td>\n",
       "      <td>60040</td>\n",
       "      <td>0.622272</td>\n",
       "      <td>28563</td>\n",
       "      <td>13883</td>\n",
       "      <td>14680</td>\n",
       "      <td>17.478380</td>\n",
       "    </tr>\n",
       "    <tr>\n",
       "      <th>4</th>\n",
       "      <td>11631</td>\n",
       "      <td>5408</td>\n",
       "      <td>6223</td>\n",
       "      <td>15237</td>\n",
       "      <td>7124</td>\n",
       "      <td>8113</td>\n",
       "      <td>5706</td>\n",
       "      <td>2724</td>\n",
       "      <td>2982</td>\n",
       "      <td>5164</td>\n",
       "      <td>...</td>\n",
       "      <td>0.820294</td>\n",
       "      <td>10.683540</td>\n",
       "      <td>68043</td>\n",
       "      <td>33807</td>\n",
       "      <td>34236</td>\n",
       "      <td>0.892668</td>\n",
       "      <td>13368</td>\n",
       "      <td>6209</td>\n",
       "      <td>7159</td>\n",
       "      <td>1.595898</td>\n",
       "    </tr>\n",
       "  </tbody>\n",
       "</table>\n",
       "<p>5 rows × 292 columns</p>\n",
       "</div>"
      ],
      "text/plain": [
       "         0_13_all  0_13_female  0_13_male  0_17_all  0_17_female  0_17_male  \\\n",
       "train 0     18654         8945       9709     23603        11317      12286   \n",
       "      1     13729         6800       6929     17700         8702       8998   \n",
       "      2     11252         5336       5916     14884         7063       7821   \n",
       "      3     24934        12152      12782     32063        15550      16513   \n",
       "      4     11631         5408       6223     15237         7124       8113   \n",
       "\n",
       "         0_6_all  0_6_female  0_6_male  16_29_all         ...          \\\n",
       "train 0     9576        4677      4899      17508         ...           \n",
       "      1     6880        3414      3466      15164         ...           \n",
       "      2     5879        2784      3095      19401         ...           \n",
       "      3    13087        6442      6645       3292         ...           \n",
       "      4     5706        2724      2982       5164         ...           \n",
       "\n",
       "         water_km  water_treatment_km  work_all  work_female  work_male  \\\n",
       "train 0  0.992631           23.683460     98207        45930      52277   \n",
       "      1  0.698081            1.317476     70194        34572      35622   \n",
       "      2  0.468265            4.912660     63388        31575      31813   \n",
       "      3  1.200336           15.623710    120381        60341      60040   \n",
       "      4  0.820294           10.683540     68043        33807      34236   \n",
       "\n",
       "         workplaces_km  young_all  young_female  young_male  \\\n",
       "train 0       0.884350      21154         10147       11007   \n",
       "      1       0.686252      15727          7802        7925   \n",
       "      2       1.510089      13028          6193        6835   \n",
       "      3       0.622272      28563         13883       14680   \n",
       "      4       0.892668      13368          6209        7159   \n",
       "\n",
       "         zd_vokzaly_avto_km  \n",
       "train 0           14.231961  \n",
       "      1            9.242586  \n",
       "      2            9.540544  \n",
       "      3           17.478380  \n",
       "      4            1.595898  \n",
       "\n",
       "[5 rows x 292 columns]"
      ]
     },
     "execution_count": 2,
     "metadata": {},
     "output_type": "execute_result"
    }
   ],
   "source": [
    "train_df = pd.read_csv('./input/train.csv')\n",
    "test_df = pd.read_csv('./input/test.csv')\n",
    "full_df = pd.concat([train_df, test_df], keys=['train', 'test'])\n",
    "del(train_df)\n",
    "del(test_df)\n",
    "full_df.head()"
   ]
  },
  {
   "cell_type": "markdown",
   "metadata": {},
   "source": [
    "* 对price_doc进行log1p处理\n",
    "\n",
    "由于有了这个操作，score就是RMSE（而不是RMSLE）"
   ]
  },
  {
   "cell_type": "code",
   "execution_count": 3,
   "metadata": {
    "collapsed": true
   },
   "outputs": [],
   "source": [
    "full_df['price_doc'] = np.log1p(full_df['price_doc'])"
   ]
  },
  {
   "cell_type": "markdown",
   "metadata": {},
   "source": [
    "## 特征处理"
   ]
  },
  {
   "cell_type": "code",
   "execution_count": 4,
   "metadata": {
    "collapsed": false
   },
   "outputs": [],
   "source": [
    "feature_list = []\n",
    "def add_feature(feats):\n",
    "    global feature_list\n",
    "    if type(feats) != list:\n",
    "        feats = [feats]\n",
    "    feature_list += [f for f in feats if f not in feature_list]\n",
    "def remove_feature(feats):\n",
    "    global feature_list\n",
    "    if type(feats) != list:\n",
    "        feats = [feats]\n",
    "    feature_list = [f for f in feature_list if f not in feats]"
   ]
  },
  {
   "cell_type": "code",
   "execution_count": 5,
   "metadata": {
    "collapsed": false
   },
   "outputs": [],
   "source": [
    "numerical_feat = full_df.dtypes[full_df.dtypes != 'object'].index.tolist()\n",
    "add_feature(numerical_feat)"
   ]
  },
  {
   "cell_type": "code",
   "execution_count": 6,
   "metadata": {
    "collapsed": false
   },
   "outputs": [],
   "source": [
    "remove_feature(['id', 'price_doc'])"
   ]
  },
  {
   "cell_type": "code",
   "execution_count": 7,
   "metadata": {
    "collapsed": false
   },
   "outputs": [
    {
     "data": {
      "text/plain": [
       "<matplotlib.axes._subplots.AxesSubplot at 0x103ed97b8>"
      ]
     },
     "execution_count": 7,
     "metadata": {},
     "output_type": "execute_result"
    },
    {
     "data": {
      "image/png": "[encoded data removed]",
      "text/plain": [
       "<matplotlib.figure.Figure at 0x103ed9278>"
      ]
     },
     "metadata": {},
     "output_type": "display_data"
    }
   ],
   "source": [
    "full_df.loc['train']['price_doc'].hist()"
   ]
  },
  {
   "cell_type": "markdown",
   "metadata": {},
   "source": [
    "## 空值处理"
   ]
  },
  {
   "cell_type": "code",
   "execution_count": 8,
   "metadata": {
    "collapsed": false
   },
   "outputs": [],
   "source": [
    "full_df[feature_list] = preprocessing.Imputer().fit_transform(full_df[feature_list])\n",
    "# full_df[feature_list] = full_df[feature_list].fillna(0)"
   ]
  },
  {
   "cell_type": "markdown",
   "metadata": {},
   "source": [
    "## 预处理"
   ]
  },
  {
   "cell_type": "code",
   "execution_count": 9,
   "metadata": {
    "collapsed": false
   },
   "outputs": [],
   "source": [
    "X = full_df.loc['train'][feature_list]\n",
    "y = full_df.loc['train']['price_doc']\n",
    "\n",
    "X_pred = full_df.loc['test'][feature_list]\n",
    "\n",
    "# 标准化\n",
    "scaler = preprocessing.StandardScaler()\n",
    "X = scaler.fit_transform(X)\n",
    "X_pred = scaler.transform(X_pred)\n",
    "\n",
    "X_train = X\n",
    "y_train = y"
   ]
  },
  {
   "cell_type": "markdown",
   "metadata": {},
   "source": [
    "## Score"
   ]
  },
  {
   "cell_type": "code",
   "execution_count": 10,
   "metadata": {
    "collapsed": true
   },
   "outputs": [],
   "source": [
    "score_name = 'RMSE'\n",
    "score_func = lambda y, y_pred, **kwargs: metrics.mean_squared_error(y, y_pred, **kwargs) ** 0.5\n",
    "scorer = metrics.make_scorer(score_func, greater_is_better=False)"
   ]
  },
  {
   "cell_type": "markdown",
   "metadata": {},
   "source": [
    "## Lasso"
   ]
  },
  {
   "cell_type": "code",
   "execution_count": 11,
   "metadata": {
    "collapsed": true
   },
   "outputs": [],
   "source": [
    "from sklearn.linear_model import Lasso"
   ]
  },
  {
   "cell_type": "code",
   "execution_count": 12,
   "metadata": {
    "collapsed": false,
    "scrolled": true
   },
   "outputs": [
    {
     "name": "stderr",
     "output_type": "stream",
     "text": [
      "/Library/Frameworks/Python.framework/Versions/3.5/lib/python3.5/site-packages/sklearn/linear_model/coordinate_descent.py:484: ConvergenceWarning: Objective did not converge. You might want to increase the number of iterations. Fitting data with very small alpha may cause precision problems.\n",
      "  ConvergenceWarning)\n",
      "/Library/Frameworks/Python.framework/Versions/3.5/lib/python3.5/site-packages/sklearn/linear_model/coordinate_descent.py:484: ConvergenceWarning: Objective did not converge. You might want to increase the number of iterations. Fitting data with very small alpha may cause precision problems.\n",
      "  ConvergenceWarning)\n"
     ]
    }
   ],
   "source": [
    "# 对Lasso做网格化搜索\n",
    "search_paras = {'alpha': np.logspace(-3,0,4)}\n",
    "gs_lasso = GridSearchCV(Lasso(), search_paras, scoring=scorer).fit(X_train, y_train)"
   ]
  },
  {
   "cell_type": "code",
   "execution_count": 13,
   "metadata": {
    "collapsed": true
   },
   "outputs": [],
   "source": [
    "lasso = gs_lasso.best_estimator_"
   ]
  },
  {
   "cell_type": "code",
   "execution_count": 14,
   "metadata": {
    "collapsed": false
   },
   "outputs": [
    {
     "name": "stdout",
     "output_type": "stream",
     "text": [
      "Best params: {'alpha': 0.10000000000000001}\n",
      "Best score: -0.576438371051\n"
     ]
    },
    {
     "data": {
      "image/png": "[encoded data removed]",
      "text/plain": [
       "<matplotlib.figure.Figure at 0x102789898>"
      ]
     },
     "metadata": {},
     "output_type": "display_data"
    }
   ],
   "source": [
    "plot_grid_search_result(gs_lasso)"
   ]
  },
  {
   "cell_type": "markdown",
   "metadata": {},
   "source": [
    "## 预测"
   ]
  },
  {
   "cell_type": "code",
   "execution_count": 15,
   "metadata": {
    "collapsed": false
   },
   "outputs": [],
   "source": [
    "# 使用的模型\n",
    "res_model = lasso\n",
    "\n",
    "# 预测\n",
    "y_pred = res_model.predict(X_pred)\n",
    "y_pred = np.expm1(y_pred)\n",
    "\n",
    "# 导出数据\n",
    "res_df = pd.DataFrame({'id': full_df.loc['test']['id'], 'price_doc': y_pred})\n",
    "res_df.to_csv('./output/result.csv', index=False)"
   ]
  },
  {
   "cell_type": "code",
   "execution_count": null,
   "metadata": {
    "collapsed": true
   },
   "outputs": [],
   "source": []
  }
 ],
 "metadata": {
  "kernelspec": {
   "display_name": "Python 3",
   "language": "python",
   "name": "python3"
  },
  "language_info": {
   "codemirror_mode": {
    "name": "ipython",
    "version": 3
   },
   "file_extension": ".py",
   "mimetype": "text/x-python",
   "name": "python",
   "nbconvert_exporter": "python",
   "pygments_lexer": "ipython3",
   "version": "3.5.1"
  }
 },
 "nbformat": 4,
 "nbformat_minor": 1
}
