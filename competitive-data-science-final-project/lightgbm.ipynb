{
 "cells": [
  {
   "cell_type": "markdown",
   "metadata": {},
   "source": [
    "Creating all pair in (shop_id, item_id) for each date_block_num. And if row has not item_count from origin sales data, item_count will fill 0."
   ]
  },
  {
   "cell_type": "code",
   "execution_count": 1,
   "metadata": {
    "collapsed": true
   },
   "outputs": [],
   "source": [
    "# coding: utf-8\n",
    "import os\n",
    "from itertools import product\n",
    "\n",
    "import pandas as pd\n",
    "import numpy as np\n",
    "import scipy\n",
    "import lightgbm as lgb\n",
    "import matplotlib.pyplot as plt\n",
    "import seaborn as sns\n",
    "from sklearn import metrics\n",
    "from sklearn import model_selection\n",
    "from sklearn.model_selection import train_test_split\n",
    "from sklearn.model_selection import GridSearchCV\n",
    "from sklearn import preprocessing\n",
    "from sklearn.linear_model import ElasticNet, ElasticNetCV\n",
    "from sklearn.linear_model import LinearRegression\n",
    "from sklearn.model_selection import KFold\n",
    "from IPython.display import display\n",
    "\n",
    "from mydatools.features_generate import features_read\n",
    "\n",
    "% matplotlib inline"
   ]
  },
  {
   "cell_type": "markdown",
   "metadata": {},
   "source": [
    "## Config"
   ]
  },
  {
   "cell_type": "code",
   "execution_count": 2,
   "metadata": {
    "collapsed": true
   },
   "outputs": [],
   "source": [
    "id_col = 'ID'\n",
    "label_col = 'item_cnt_month'\n",
    "\n",
    "submission_path = './data/output/submission/lightgbm.csv'\n",
    "output_id_col = id_col\n",
    "output_label_col = label_col"
   ]
  },
  {
   "cell_type": "markdown",
   "metadata": {},
   "source": [
    "## Load Data"
   ]
  },
  {
   "cell_type": "code",
   "execution_count": 3,
   "metadata": {},
   "outputs": [
    {
     "name": "stderr",
     "output_type": "stream",
     "text": [
      "/Library/Frameworks/Python.framework/Versions/3.5/lib/python3.5/site-packages/numpy/lib/arraysetops.py:472: FutureWarning: elementwise comparison failed; returning scalar instead, but in the future will perform elementwise comparison\n",
      "  mask |= (ar1 == a)\n"
     ]
    }
   ],
   "source": [
    "full_df, feature_columns = features_read()"
   ]
  },
  {
   "cell_type": "markdown",
   "metadata": {},
   "source": [
    "## LightGBM"
   ]
  },
  {
   "cell_type": "markdown",
   "metadata": {},
   "source": [
    "**Valdation**"
   ]
  },
  {
   "cell_type": "code",
   "execution_count": 4,
   "metadata": {
    "collapsed": true
   },
   "outputs": [],
   "source": [
    "dates = full_df['date_block_num'].copy()\n",
    "\n",
    "dates_trn = dates[dates <= 33]\n",
    "dates_tst = dates[dates == 34]\n",
    "\n",
    "trn_df = full_df[dates <= 33]\n",
    "tst_df = full_df[dates == 34]\n",
    "\n",
    "X_trn = trn_df[feature_columns]\n",
    "y_trn = trn_df[label_col]\n",
    "X_tst = tst_df[feature_columns]"
   ]
  },
  {
   "cell_type": "markdown",
   "metadata": {},
   "source": [
    "**Score**"
   ]
  },
  {
   "cell_type": "code",
   "execution_count": 5,
   "metadata": {
    "collapsed": true
   },
   "outputs": [],
   "source": [
    "# score\n",
    "def rmse(y, y_pred):\n",
    "    return np.sqrt(metrics.mean_squared_error(y, y_pred))"
   ]
  },
  {
   "cell_type": "markdown",
   "metadata": {},
   "source": [
    "**lightgbm parameters tuning**"
   ]
  },
  {
   "cell_type": "code",
   "execution_count": 6,
   "metadata": {
    "collapsed": true
   },
   "outputs": [],
   "source": [
    "XX_trn = full_df[dates <= 32][feature_columns]\n",
    "yy_trn = full_df[dates <= 32][label_col]\n",
    "XX_val = full_df[dates == 33][feature_columns]\n",
    "yy_val = full_df[dates == 33][label_col]"
   ]
  },
  {
   "cell_type": "code",
   "execution_count": 7,
   "metadata": {
    "scrolled": true
   },
   "outputs": [
    {
     "name": "stdout",
     "output_type": "stream",
     "text": [
      "[1]\ttraining's rmse: 1.13594\tvalid_1's rmse: 1.10206\n",
      "Training until validation scores don't improve for 20 rounds.\n",
      "[2]\ttraining's rmse: 1.09227\tvalid_1's rmse: 1.07449\n",
      "[3]\ttraining's rmse: 1.05461\tvalid_1's rmse: 1.05277\n",
      "[4]\ttraining's rmse: 1.02425\tvalid_1's rmse: 1.03684\n",
      "[5]\ttraining's rmse: 0.995863\tvalid_1's rmse: 1.02167\n",
      "[6]\ttraining's rmse: 0.971607\tvalid_1's rmse: 1.01151\n",
      "[7]\ttraining's rmse: 0.950417\tvalid_1's rmse: 0.995365\n",
      "[8]\ttraining's rmse: 0.932646\tvalid_1's rmse: 0.987992\n",
      "[9]\ttraining's rmse: 0.918201\tvalid_1's rmse: 0.982883\n",
      "[10]\ttraining's rmse: 0.905477\tvalid_1's rmse: 0.978697\n",
      "[11]\ttraining's rmse: 0.89423\tvalid_1's rmse: 0.975032\n",
      "[12]\ttraining's rmse: 0.884321\tvalid_1's rmse: 0.969497\n",
      "[13]\ttraining's rmse: 0.874834\tvalid_1's rmse: 0.962554\n",
      "[14]\ttraining's rmse: 0.868036\tvalid_1's rmse: 0.960084\n",
      "[15]\ttraining's rmse: 0.861739\tvalid_1's rmse: 0.958868\n",
      "[16]\ttraining's rmse: 0.856649\tvalid_1's rmse: 0.958455\n",
      "[17]\ttraining's rmse: 0.851659\tvalid_1's rmse: 0.950863\n",
      "[18]\ttraining's rmse: 0.847236\tvalid_1's rmse: 0.945158\n",
      "[19]\ttraining's rmse: 0.844074\tvalid_1's rmse: 0.943834\n",
      "[20]\ttraining's rmse: 0.840027\tvalid_1's rmse: 0.940177\n",
      "[21]\ttraining's rmse: 0.836373\tvalid_1's rmse: 0.936622\n",
      "[22]\ttraining's rmse: 0.833243\tvalid_1's rmse: 0.932874\n",
      "[23]\ttraining's rmse: 0.830933\tvalid_1's rmse: 0.93111\n",
      "[24]\ttraining's rmse: 0.829027\tvalid_1's rmse: 0.931292\n",
      "[25]\ttraining's rmse: 0.827566\tvalid_1's rmse: 0.930748\n",
      "[26]\ttraining's rmse: 0.825571\tvalid_1's rmse: 0.929736\n",
      "[27]\ttraining's rmse: 0.824189\tvalid_1's rmse: 0.929143\n",
      "[28]\ttraining's rmse: 0.822529\tvalid_1's rmse: 0.9289\n",
      "[29]\ttraining's rmse: 0.821259\tvalid_1's rmse: 0.929514\n",
      "[30]\ttraining's rmse: 0.819626\tvalid_1's rmse: 0.927713\n",
      "[31]\ttraining's rmse: 0.817681\tvalid_1's rmse: 0.926525\n",
      "[32]\ttraining's rmse: 0.816069\tvalid_1's rmse: 0.925486\n",
      "[33]\ttraining's rmse: 0.815067\tvalid_1's rmse: 0.925108\n",
      "[34]\ttraining's rmse: 0.813135\tvalid_1's rmse: 0.920141\n",
      "[35]\ttraining's rmse: 0.81201\tvalid_1's rmse: 0.920044\n",
      "[36]\ttraining's rmse: 0.811118\tvalid_1's rmse: 0.920042\n",
      "[37]\ttraining's rmse: 0.810161\tvalid_1's rmse: 0.919903\n",
      "[38]\ttraining's rmse: 0.808712\tvalid_1's rmse: 0.920227\n",
      "[39]\ttraining's rmse: 0.807634\tvalid_1's rmse: 0.920603\n",
      "[40]\ttraining's rmse: 0.806361\tvalid_1's rmse: 0.919331\n",
      "[41]\ttraining's rmse: 0.80587\tvalid_1's rmse: 0.918995\n",
      "[42]\ttraining's rmse: 0.804699\tvalid_1's rmse: 0.918269\n",
      "[43]\ttraining's rmse: 0.803884\tvalid_1's rmse: 0.918236\n",
      "[44]\ttraining's rmse: 0.803405\tvalid_1's rmse: 0.917948\n",
      "[45]\ttraining's rmse: 0.801971\tvalid_1's rmse: 0.917043\n",
      "[46]\ttraining's rmse: 0.801389\tvalid_1's rmse: 0.916444\n",
      "[47]\ttraining's rmse: 0.799872\tvalid_1's rmse: 0.916493\n",
      "[48]\ttraining's rmse: 0.799201\tvalid_1's rmse: 0.916539\n",
      "[49]\ttraining's rmse: 0.798797\tvalid_1's rmse: 0.916558\n",
      "[50]\ttraining's rmse: 0.798015\tvalid_1's rmse: 0.915\n",
      "[51]\ttraining's rmse: 0.79682\tvalid_1's rmse: 0.915254\n",
      "[52]\ttraining's rmse: 0.795806\tvalid_1's rmse: 0.914611\n",
      "[53]\ttraining's rmse: 0.794885\tvalid_1's rmse: 0.912707\n",
      "[54]\ttraining's rmse: 0.794245\tvalid_1's rmse: 0.912354\n",
      "[55]\ttraining's rmse: 0.793049\tvalid_1's rmse: 0.910848\n",
      "[56]\ttraining's rmse: 0.7926\tvalid_1's rmse: 0.91084\n",
      "[57]\ttraining's rmse: 0.792203\tvalid_1's rmse: 0.910674\n",
      "[58]\ttraining's rmse: 0.791585\tvalid_1's rmse: 0.910031\n",
      "[59]\ttraining's rmse: 0.791113\tvalid_1's rmse: 0.909463\n",
      "[60]\ttraining's rmse: 0.79073\tvalid_1's rmse: 0.909021\n",
      "[61]\ttraining's rmse: 0.789805\tvalid_1's rmse: 0.908655\n",
      "[62]\ttraining's rmse: 0.789541\tvalid_1's rmse: 0.908024\n",
      "[63]\ttraining's rmse: 0.78929\tvalid_1's rmse: 0.907733\n",
      "[64]\ttraining's rmse: 0.788376\tvalid_1's rmse: 0.905283\n",
      "[65]\ttraining's rmse: 0.787743\tvalid_1's rmse: 0.90457\n",
      "[66]\ttraining's rmse: 0.787477\tvalid_1's rmse: 0.904812\n",
      "[67]\ttraining's rmse: 0.786736\tvalid_1's rmse: 0.904913\n",
      "[68]\ttraining's rmse: 0.786427\tvalid_1's rmse: 0.904879\n",
      "[69]\ttraining's rmse: 0.785899\tvalid_1's rmse: 0.904878\n",
      "[70]\ttraining's rmse: 0.785193\tvalid_1's rmse: 0.904667\n",
      "[71]\ttraining's rmse: 0.784729\tvalid_1's rmse: 0.904422\n",
      "[72]\ttraining's rmse: 0.784382\tvalid_1's rmse: 0.904124\n",
      "[73]\ttraining's rmse: 0.783967\tvalid_1's rmse: 0.904258\n",
      "[74]\ttraining's rmse: 0.783501\tvalid_1's rmse: 0.903935\n",
      "[75]\ttraining's rmse: 0.783245\tvalid_1's rmse: 0.903627\n",
      "[76]\ttraining's rmse: 0.782668\tvalid_1's rmse: 0.903004\n",
      "[77]\ttraining's rmse: 0.782231\tvalid_1's rmse: 0.901971\n",
      "[78]\ttraining's rmse: 0.782051\tvalid_1's rmse: 0.901782\n",
      "[79]\ttraining's rmse: 0.781768\tvalid_1's rmse: 0.90161\n",
      "[80]\ttraining's rmse: 0.781532\tvalid_1's rmse: 0.901696\n",
      "[81]\ttraining's rmse: 0.781158\tvalid_1's rmse: 0.901715\n",
      "[82]\ttraining's rmse: 0.780906\tvalid_1's rmse: 0.901694\n",
      "[83]\ttraining's rmse: 0.780507\tvalid_1's rmse: 0.901308\n",
      "[84]\ttraining's rmse: 0.779879\tvalid_1's rmse: 0.900947\n",
      "[85]\ttraining's rmse: 0.779482\tvalid_1's rmse: 0.900761\n",
      "[86]\ttraining's rmse: 0.779014\tvalid_1's rmse: 0.900218\n",
      "[87]\ttraining's rmse: 0.778741\tvalid_1's rmse: 0.900097\n",
      "[88]\ttraining's rmse: 0.778332\tvalid_1's rmse: 0.900243\n",
      "[89]\ttraining's rmse: 0.77813\tvalid_1's rmse: 0.899578\n",
      "[90]\ttraining's rmse: 0.777616\tvalid_1's rmse: 0.899614\n",
      "[91]\ttraining's rmse: 0.777296\tvalid_1's rmse: 0.89924\n",
      "[92]\ttraining's rmse: 0.776603\tvalid_1's rmse: 0.898797\n",
      "[93]\ttraining's rmse: 0.776231\tvalid_1's rmse: 0.899033\n",
      "[94]\ttraining's rmse: 0.776092\tvalid_1's rmse: 0.898874\n",
      "[95]\ttraining's rmse: 0.775883\tvalid_1's rmse: 0.898715\n",
      "[96]\ttraining's rmse: 0.775681\tvalid_1's rmse: 0.898421\n",
      "[97]\ttraining's rmse: 0.775493\tvalid_1's rmse: 0.898461\n",
      "[98]\ttraining's rmse: 0.775185\tvalid_1's rmse: 0.89839\n",
      "[99]\ttraining's rmse: 0.77481\tvalid_1's rmse: 0.897941\n",
      "[100]\ttraining's rmse: 0.774604\tvalid_1's rmse: 0.898005\n",
      "Did not meet early stopping. Best iteration is:\n",
      "[100]\ttraining's rmse: 0.774604\tvalid_1's rmse: 0.898005\n"
     ]
    }
   ],
   "source": [
    "trn_lgb = lgb.Dataset(XX_trn, yy_trn)\n",
    "val_lgb = lgb.Dataset(XX_val, yy_val)\n",
    "\n",
    "lgb_params = {\n",
    "    'application': 'regression',\n",
    "    'metric': 'rmse',\n",
    "    'learning_rate': 0.1,\n",
    "    'max_depth': 5,\n",
    "    'num_leaves': 20,\n",
    "    'feature_fraction': 0.8,\n",
    "    'bagging_fraction': 0.5,\n",
    "    'bagging_freq': 1,\n",
    "    'seed': 0,\n",
    "}\n",
    "train_round = 100\n",
    "\n",
    "bst = lgb.train(lgb_params, trn_lgb, train_round, valid_sets=[trn_lgb, val_lgb], early_stopping_rounds=20)"
   ]
  },
  {
   "cell_type": "markdown",
   "metadata": {},
   "source": [
    "**trian use all data**"
   ]
  },
  {
   "cell_type": "code",
   "execution_count": 8,
   "metadata": {
    "collapsed": true
   },
   "outputs": [],
   "source": [
    "lgb_model = lgb.train(lgb_params, lgb.Dataset(X_trn, y_trn), train_round)\n",
    "predictions = lgb_model.predict(X_tst)"
   ]
  },
  {
   "cell_type": "markdown",
   "metadata": {},
   "source": [
    "## Predict"
   ]
  },
  {
   "cell_type": "code",
   "execution_count": 9,
   "metadata": {
    "collapsed": true
   },
   "outputs": [],
   "source": [
    "res_df = pd.DataFrame(predictions.clip(0,20), columns=[output_label_col])\n",
    "res_df[output_id_col] = tst_df[output_id_col].astype(int).values\n",
    "res_df.sort_values('ID')[[output_id_col, output_label_col]].to_csv(submission_path, index=False)"
   ]
  },
  {
   "cell_type": "code",
   "execution_count": null,
   "metadata": {
    "collapsed": true
   },
   "outputs": [],
   "source": []
  }
 ],
 "metadata": {
  "kernelspec": {
   "display_name": "Python 3",
   "language": "python",
   "name": "python3"
  },
  "language_info": {
   "codemirror_mode": {
    "name": "ipython",
    "version": 3
   },
   "file_extension": ".py",
   "mimetype": "text/x-python",
   "name": "python",
   "nbconvert_exporter": "python",
   "pygments_lexer": "ipython3",
   "version": "3.5.1"
  }
 },
 "nbformat": 4,
 "nbformat_minor": 2
}
