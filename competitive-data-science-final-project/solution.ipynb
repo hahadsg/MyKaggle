{
 "cells": [
  {
   "cell_type": "code",
   "execution_count": 1,
   "metadata": {
    "collapsed": true
   },
   "outputs": [],
   "source": [
    "# coding: utf-8\n",
    "import os\n",
    "\n",
    "import pandas as pd\n",
    "import numpy as np\n",
    "import scipy\n",
    "import lightgbm as lgb\n",
    "import matplotlib.pyplot as plt\n",
    "import seaborn as sns\n",
    "from sklearn import metrics\n",
    "from sklearn import model_selection\n",
    "from sklearn.model_selection import train_test_split\n",
    "from sklearn.model_selection import GridSearchCV\n",
    "from sklearn import preprocessing\n",
    "from sklearn.linear_model import ElasticNet, ElasticNetCV\n",
    "\n",
    "from mydatools.plot import plot_grid_search_result\n",
    "\n",
    "% matplotlib inline"
   ]
  },
  {
   "cell_type": "markdown",
   "metadata": {},
   "source": [
    "## Config"
   ]
  },
  {
   "cell_type": "code",
   "execution_count": 2,
   "metadata": {
    "collapsed": true
   },
   "outputs": [],
   "source": [
    "# trn_path = './data/input/train.csv'\n",
    "tst_path = './data/input/test.csv'\n",
    "id_col = 'ID'\n",
    "label_col = 'item_cnt_month'\n",
    "\n",
    "submission_path = './data/output/submission/submission.csv'\n",
    "output_id_col = id_col\n",
    "output_label_col = label_col"
   ]
  },
  {
   "cell_type": "markdown",
   "metadata": {},
   "source": [
    "## Load Data"
   ]
  },
  {
   "cell_type": "code",
   "execution_count": 3,
   "metadata": {
    "collapsed": true
   },
   "outputs": [],
   "source": [
    "item_cate_df = pd.read_csv('./data/input/item_categories.csv')\n",
    "item_df = pd.read_csv('./data/input/items.csv')\n",
    "sales_df = pd.read_csv('./data/input/sales_train.csv')\n",
    "shop_df = pd.read_csv('./data/input/shops.csv')"
   ]
  },
  {
   "cell_type": "code",
   "execution_count": 4,
   "metadata": {
    "scrolled": true
   },
   "outputs": [
    {
     "data": {
      "text/html": [
       "<div>\n",
       "<style>\n",
       "    .dataframe thead tr:only-child th {\n",
       "        text-align: right;\n",
       "    }\n",
       "\n",
       "    .dataframe thead th {\n",
       "        text-align: left;\n",
       "    }\n",
       "\n",
       "    .dataframe tbody tr th {\n",
       "        vertical-align: top;\n",
       "    }\n",
       "</style>\n",
       "<table border=\"1\" class=\"dataframe\">\n",
       "  <thead>\n",
       "    <tr style=\"text-align: right;\">\n",
       "      <th></th>\n",
       "      <th>ID</th>\n",
       "      <th>date_block_num</th>\n",
       "      <th>ds_type</th>\n",
       "      <th>item_cnt_month</th>\n",
       "      <th>item_id</th>\n",
       "      <th>shop_id</th>\n",
       "    </tr>\n",
       "  </thead>\n",
       "  <tbody>\n",
       "    <tr>\n",
       "      <th>0</th>\n",
       "      <td>0</td>\n",
       "      <td>1</td>\n",
       "      <td>trn</td>\n",
       "      <td>31.0</td>\n",
       "      <td>30</td>\n",
       "      <td>0</td>\n",
       "    </tr>\n",
       "    <tr>\n",
       "      <th>1</th>\n",
       "      <td>0</td>\n",
       "      <td>1</td>\n",
       "      <td>trn</td>\n",
       "      <td>11.0</td>\n",
       "      <td>31</td>\n",
       "      <td>0</td>\n",
       "    </tr>\n",
       "    <tr>\n",
       "      <th>2</th>\n",
       "      <td>0</td>\n",
       "      <td>0</td>\n",
       "      <td>trn</td>\n",
       "      <td>6.0</td>\n",
       "      <td>32</td>\n",
       "      <td>0</td>\n",
       "    </tr>\n",
       "    <tr>\n",
       "      <th>3</th>\n",
       "      <td>0</td>\n",
       "      <td>1</td>\n",
       "      <td>trn</td>\n",
       "      <td>10.0</td>\n",
       "      <td>32</td>\n",
       "      <td>0</td>\n",
       "    </tr>\n",
       "    <tr>\n",
       "      <th>4</th>\n",
       "      <td>0</td>\n",
       "      <td>0</td>\n",
       "      <td>trn</td>\n",
       "      <td>3.0</td>\n",
       "      <td>33</td>\n",
       "      <td>0</td>\n",
       "    </tr>\n",
       "  </tbody>\n",
       "</table>\n",
       "</div>"
      ],
      "text/plain": [
       "   ID  date_block_num ds_type  item_cnt_month  item_id  shop_id\n",
       "0   0               1     trn            31.0       30        0\n",
       "1   0               1     trn            11.0       31        0\n",
       "2   0               0     trn             6.0       32        0\n",
       "3   0               1     trn            10.0       32        0\n",
       "4   0               0     trn             3.0       33        0"
      ]
     },
     "execution_count": 4,
     "metadata": {},
     "output_type": "execute_result"
    }
   ],
   "source": [
    "sales_df['revenue'] = sales_df['item_price'] * sales_df['item_cnt_day']\n",
    "trn_df = sales_df.groupby(['shop_id', 'item_id', 'date_block_num'])['item_cnt_day'].sum().reset_index()\n",
    "trn_df = trn_df.rename(columns={'item_cnt_day': 'item_cnt_month'})\n",
    "trn_df['ID'] = 0\n",
    "trn_df['ds_type'] = 'trn'\n",
    "\n",
    "tst_df = pd.read_csv(tst_path)\n",
    "tst_df['date_block_num'] = 34\n",
    "tst_df['item_cnt_month'] = 0\n",
    "tst_df['ds_type'] = 'tst'\n",
    "\n",
    "full_df = pd.concat([trn_df, tst_df])\n",
    "full_df.head()"
   ]
  },
  {
   "cell_type": "code",
   "execution_count": 5,
   "metadata": {
    "collapsed": true
   },
   "outputs": [],
   "source": [
    "# dataset type\n",
    "is_trn = full_df['ds_type'] == 'trn'\n",
    "is_tst = full_df['ds_type'] == 'tst'"
   ]
  },
  {
   "cell_type": "markdown",
   "metadata": {},
   "source": [
    "## Features"
   ]
  },
  {
   "cell_type": "code",
   "execution_count": 6,
   "metadata": {
    "collapsed": true
   },
   "outputs": [],
   "source": [
    "feature_columns = []\n",
    "\n",
    "def add_features(features):\n",
    "    if not isinstance(features, list):\n",
    "        features = [features]\n",
    "    global feature_columns\n",
    "    feature_columns.extend([f for f in features if f not in feature_columns])\n",
    "    \n",
    "def remove_features(features):\n",
    "    if not isinstance(features, list):\n",
    "        features = [features]\n",
    "    global feature_columns\n",
    "    feature_columns = [f for f in feature_columns if f not in features]"
   ]
  },
  {
   "cell_type": "markdown",
   "metadata": {},
   "source": [
    "**shop_id, item_id**"
   ]
  },
  {
   "cell_type": "code",
   "execution_count": 7,
   "metadata": {
    "collapsed": true
   },
   "outputs": [],
   "source": [
    "# add_features(['shop_id', 'item_id'])"
   ]
  },
  {
   "cell_type": "markdown",
   "metadata": {},
   "source": [
    "**datetime info**"
   ]
  },
  {
   "cell_type": "code",
   "execution_count": 8,
   "metadata": {},
   "outputs": [],
   "source": [
    "full_df['dt_year'] = full_df['date_block_num'] // 12 + 2013\n",
    "full_df['dt_month'] = full_df['date_block_num'] % 12 + 1\n",
    "add_features(['dt_year', 'dt_month'])"
   ]
  },
  {
   "cell_type": "markdown",
   "metadata": {},
   "source": [
    "**aggragation data**"
   ]
  },
  {
   "cell_type": "code",
   "execution_count": 9,
   "metadata": {},
   "outputs": [],
   "source": [
    "def get_aggragation_feature(df, groupby_cols, agg_col):\n",
    "    gb = df[df['ds_type'] == 'trn'].groupby(groupby_cols)[agg_col]\n",
    "    fname_fmt = '-'.join(groupby_cols+[agg_col]) + ':%s'\n",
    "    agg_df = pd.DataFrame({\n",
    "            fname_fmt%'mean': gb.mean(),\n",
    "            fname_fmt%'median': gb.median(),\n",
    "            fname_fmt%'max': gb.max(),\n",
    "            fname_fmt%'min': gb.min(),\n",
    "        })\n",
    "    new_df = df.join(agg_df, on=groupby_cols).fillna(0)\n",
    "    return new_df, agg_df.columns.tolist()"
   ]
  },
  {
   "cell_type": "code",
   "execution_count": 10,
   "metadata": {},
   "outputs": [],
   "source": [
    "groupby_cols_list = [\n",
    "    ['shop_id', 'item_id'],\n",
    "    ['shop_id'],\n",
    "    ['item_id'],\n",
    "    ['date_block_num'],\n",
    "]\n",
    "for groupby_cols in groupby_cols_list:\n",
    "    full_df, new_feats = get_aggragation_feature(full_df, groupby_cols, 'item_cnt_month')\n",
    "    add_features(new_feats)"
   ]
  },
  {
   "cell_type": "markdown",
   "metadata": {},
   "source": [
    "## ElasticNet"
   ]
  },
  {
   "cell_type": "code",
   "execution_count": 11,
   "metadata": {},
   "outputs": [],
   "source": [
    "trn_df = full_df[is_trn]\n",
    "tst_df = full_df[is_tst]\n",
    "\n",
    "X = trn_df[feature_columns]\n",
    "y = trn_df[label_col]\n",
    "# X_trn, X_val, y_trn, y_val = train_test_split(X, y, test_size=0.2, random_state=0)\n",
    "\n",
    "X_tst = tst_df[feature_columns]"
   ]
  },
  {
   "cell_type": "code",
   "execution_count": 12,
   "metadata": {
    "collapsed": true
   },
   "outputs": [],
   "source": [
    "# scale\n",
    "scaler = preprocessing.StandardScaler()\n",
    "X = scaler.fit_transform(X)\n",
    "X_tst = scaler.transform(X_tst)"
   ]
  },
  {
   "cell_type": "code",
   "execution_count": 21,
   "metadata": {
    "collapsed": true
   },
   "outputs": [],
   "source": [
    "param_grid = {\n",
    "    'alpha': [0.001, 0.01, 0.1, 1, 10],\n",
    "#     'l1_ratio': [0, 0.25, 0.5, 0.75, 1],\n",
    "    'l1_ratio': [0.5],\n",
    "}\n",
    "\n",
    "clf = ElasticNet()\n",
    "def rmse(y, y_pred):\n",
    "    return np.sqrt(metrics.mean_squared_error(y, y_pred))\n",
    "scoring = metrics.make_scorer(rmse, greater_is_better=False)\n",
    "model = GridSearchCV(clf, param_grid, scoring=scoring, cv=3, verbose=1)"
   ]
  },
  {
   "cell_type": "code",
   "execution_count": 22,
   "metadata": {},
   "outputs": [
    {
     "name": "stdout",
     "output_type": "stream",
     "text": [
      "Fitting 3 folds for each of 5 candidates, totalling 15 fits\n"
     ]
    },
    {
     "name": "stderr",
     "output_type": "stream",
     "text": [
      "[Parallel(n_jobs=1)]: Done  15 out of  15 | elapsed:  2.4min finished\n"
     ]
    },
    {
     "data": {
      "text/plain": [
       "GridSearchCV(cv=3, error_score='raise',\n",
       "       estimator=ElasticNet(alpha=1.0, copy_X=True, fit_intercept=True, l1_ratio=0.5,\n",
       "      max_iter=1000, normalize=False, positive=False, precompute=False,\n",
       "      random_state=None, selection='cyclic', tol=0.0001, warm_start=False),\n",
       "       fit_params=None, iid=True, n_jobs=1,\n",
       "       param_grid={'alpha': [0.001, 0.01, 0.1, 1, 10], 'l1_ratio': [0.5]},\n",
       "       pre_dispatch='2*n_jobs', refit=True, return_train_score='warn',\n",
       "       scoring=make_scorer(rmse, greater_is_better=False), verbose=1)"
      ]
     },
     "execution_count": 22,
     "metadata": {},
     "output_type": "execute_result"
    }
   ],
   "source": [
    "model.fit(X, y)"
   ]
  },
  {
   "cell_type": "code",
   "execution_count": 23,
   "metadata": {},
   "outputs": [
    {
     "name": "stdout",
     "output_type": "stream",
     "text": [
      "Best params: {'alpha': 0.001, 'l1_ratio': 0.5}\n",
      "Best score: -5.581130131338463\n"
     ]
    },
    {
     "data": {
      "image/png": "[encoded data removed]",
      "text/plain": [
       "<matplotlib.figure.Figure at 0x10bea8828>"
      ]
     },
     "metadata": {},
     "output_type": "display_data"
    }
   ],
   "source": [
    "plot_grid_search_result(model)"
   ]
  },
  {
   "cell_type": "markdown",
   "metadata": {},
   "source": [
    "## Predict"
   ]
  },
  {
   "cell_type": "code",
   "execution_count": 24,
   "metadata": {},
   "outputs": [],
   "source": [
    "res_df = pd.DataFrame(model.predict(X_tst).clip(0,20), columns=[output_label_col])\n",
    "res_df[output_id_col] = tst_df[output_id_col].values\n",
    "res_df[[output_id_col, output_label_col]].to_csv(submission_path, index=False)"
   ]
  },
  {
   "cell_type": "code",
   "execution_count": null,
   "metadata": {
    "collapsed": true
   },
   "outputs": [],
   "source": []
  }
 ],
 "metadata": {
  "kernelspec": {
   "display_name": "Python 3",
   "language": "python",
   "name": "python3"
  },
  "language_info": {
   "codemirror_mode": {
    "name": "ipython",
    "version": 3
   },
   "file_extension": ".py",
   "mimetype": "text/x-python",
   "name": "python",
   "nbconvert_exporter": "python",
   "pygments_lexer": "ipython3",
   "version": "3.5.1"
  }
 },
 "nbformat": 4,
 "nbformat_minor": 2
}
