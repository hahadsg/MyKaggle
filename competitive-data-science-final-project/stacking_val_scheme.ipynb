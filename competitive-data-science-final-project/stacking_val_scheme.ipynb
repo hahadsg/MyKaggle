{
 "cells": [
  {
   "cell_type": "markdown",
   "metadata": {},
   "source": [
    "Creating all pair in (shop_id, item_id) for each date_block_num. And if row has not item_count from origin sales data, item_count will fill 0."
   ]
  },
  {
   "cell_type": "code",
   "execution_count": 1,
   "metadata": {
    "collapsed": true
   },
   "outputs": [],
   "source": [
    "# coding: utf-8\n",
    "import os\n",
    "from itertools import product\n",
    "\n",
    "import pandas as pd\n",
    "import numpy as np\n",
    "import scipy\n",
    "import lightgbm as lgb\n",
    "import matplotlib.pyplot as plt\n",
    "import seaborn as sns\n",
    "from sklearn import metrics\n",
    "from sklearn import model_selection\n",
    "from sklearn.model_selection import train_test_split\n",
    "from sklearn.model_selection import GridSearchCV\n",
    "from sklearn.model_selection import KFold\n",
    "from sklearn import preprocessing\n",
    "from sklearn.linear_model import ElasticNet, ElasticNetCV\n",
    "from sklearn.linear_model import LinearRegression\n",
    "from sklearn.ensemble import RandomForestRegressor\n",
    "from IPython.display import display\n",
    "\n",
    "from mydatools.features_generate import features_read\n",
    "\n",
    "% matplotlib inline"
   ]
  },
  {
   "cell_type": "markdown",
   "metadata": {},
   "source": [
    "## Config"
   ]
  },
  {
   "cell_type": "code",
   "execution_count": 2,
   "metadata": {
    "collapsed": true
   },
   "outputs": [],
   "source": [
    "id_col = 'ID'\n",
    "label_col = 'item_cnt_month'\n",
    "\n",
    "submission_path = './data/output/submission/stacking_val_scheme.csv'\n",
    "output_id_col = id_col\n",
    "output_label_col = label_col"
   ]
  },
  {
   "cell_type": "markdown",
   "metadata": {},
   "source": [
    "## Load Data"
   ]
  },
  {
   "cell_type": "code",
   "execution_count": 3,
   "metadata": {},
   "outputs": [
    {
     "name": "stderr",
     "output_type": "stream",
     "text": [
      "/Library/Frameworks/Python.framework/Versions/3.5/lib/python3.5/site-packages/numpy/lib/arraysetops.py:472: FutureWarning: elementwise comparison failed; returning scalar instead, but in the future will perform elementwise comparison\n",
      "  mask |= (ar1 == a)\n"
     ]
    }
   ],
   "source": [
    "full_df, feature_columns = features_read()"
   ]
  },
  {
   "cell_type": "markdown",
   "metadata": {},
   "source": [
    "## Level1 Ensemble"
   ]
  },
  {
   "cell_type": "markdown",
   "metadata": {},
   "source": [
    "**Valdation**"
   ]
  },
  {
   "cell_type": "code",
   "execution_count": 4,
   "metadata": {
    "collapsed": true
   },
   "outputs": [],
   "source": [
    "dates = full_df['date_block_num'].copy()\n",
    "\n",
    "dates_trn = dates[dates <= 33]\n",
    "dates_tst = dates[dates == 34]\n",
    "\n",
    "trn_df = full_df[dates <= 33]\n",
    "tst_df = full_df[dates == 34]\n",
    "\n",
    "X_trn = trn_df[feature_columns]\n",
    "y_trn = trn_df[label_col]\n",
    "X_tst = tst_df[feature_columns]"
   ]
  },
  {
   "cell_type": "markdown",
   "metadata": {},
   "source": [
    "**Score**"
   ]
  },
  {
   "cell_type": "code",
   "execution_count": 5,
   "metadata": {
    "collapsed": true
   },
   "outputs": [],
   "source": [
    "# score\n",
    "def rmse(y, y_pred):\n",
    "    return np.sqrt(metrics.mean_squared_error(y, y_pred))"
   ]
  },
  {
   "cell_type": "markdown",
   "metadata": {},
   "source": [
    "**ElasticNet parameters tuning**"
   ]
  },
  {
   "cell_type": "code",
   "execution_count": 6,
   "metadata": {
    "collapsed": true
   },
   "outputs": [],
   "source": [
    "en_params = {\n",
    "    'alpha': 0.01,\n",
    "    'l1_ratio': 0.5,\n",
    "}"
   ]
  },
  {
   "cell_type": "markdown",
   "metadata": {},
   "source": [
    "**LightGBM parameters tuning**"
   ]
  },
  {
   "cell_type": "code",
   "execution_count": 7,
   "metadata": {
    "collapsed": true
   },
   "outputs": [],
   "source": [
    "lgb_params = {\n",
    "    'application': 'regression',\n",
    "    'metric': 'rmse',\n",
    "    'learning_rate': 0.1,\n",
    "    'max_depth': 5,\n",
    "    'num_leaves': 20,\n",
    "    'feature_fraction': 0.8,\n",
    "    'bagging_fraction': 0.5,\n",
    "    'bagging_freq': 1,\n",
    "    'seed': 0,\n",
    "}"
   ]
  },
  {
   "cell_type": "code",
   "execution_count": 8,
   "metadata": {
    "collapsed": true
   },
   "outputs": [],
   "source": [
    "rfr_params = {\n",
    "    'n_estimators': 100,\n",
    "    'max_depth': 6,\n",
    "}"
   ]
  },
  {
   "cell_type": "markdown",
   "metadata": {},
   "source": [
    "**Get level2 train data**"
   ]
  },
  {
   "cell_type": "code",
   "execution_count": null,
   "metadata": {
    "collapsed": true
   },
   "outputs": [],
   "source": [
    "level2_block_num = [28, 29, 30, 31, 32, 33]\n",
    "dates_trn_level2 = dates_trn[dates_trn.isin(level2_block_num)]\n",
    "y_trn_level2 = y_trn[dates_trn.isin(level2_block_num)]"
   ]
  },
  {
   "cell_type": "code",
   "execution_count": null,
   "metadata": {
    "scrolled": false
   },
   "outputs": [
    {
     "name": "stdout",
     "output_type": "stream",
     "text": [
      "28\n",
      "0 LigbtGBM\n",
      "1 RandomForestRegressor\n"
     ]
    }
   ],
   "source": [
    "X_trn_level2 = np.zeros([y_trn_level2.shape[0], 4])\n",
    "\n",
    "for cur_block_num in level2_block_num:\n",
    "    print(cur_block_num)\n",
    "\n",
    "    X_trn_i = X_trn[dates_trn < cur_block_num]\n",
    "    y_trn_i = y_trn[dates_trn < cur_block_num]\n",
    "    X_tst_i = X_trn[dates_trn == cur_block_num]\n",
    "    \n",
    "    ii = 0\n",
    "    \n",
    "#     en = ElasticNet(**en_params)\n",
    "#     en.fit(X_trn_i, y_trn_i)\n",
    "#     X_trn_level2[dates_trn_level2 == cur_block_num, ii] = en.predict(X_tst_i)\n",
    "#     ii += 1\n",
    "    \n",
    "    print(ii, 'LigbtGBM')\n",
    "    lgb_model = lgb.train(lgb_params, lgb.Dataset(X_trn_i, label=y_trn_i), 100)\n",
    "    X_trn_level2[dates_trn_level2 == cur_block_num, ii] = lgb_model.predict(X_tst_i)\n",
    "    ii += 1\n",
    "    \n",
    "    print(ii, 'RandomForestRegressor')\n",
    "    rfr = RandomForestRegressor()\n",
    "    rfr.fit(X_trn_i, y_trn_i)\n",
    "    X_trn_level2[dates_trn_level2 == cur_block_num, ii] = rfr.predict(X_tst_i)\n",
    "    ii += 1\n",
    "    \n",
    "    print(ii, 'LinearRegression')\n",
    "    lr1 = LinearRegression(normalize=False)\n",
    "    lr1.fit(X_trn_id, y_trn_i)\n",
    "    X_trn_level2[dates_trn_level2 == cur_block_num, ii] = lr1.predict(X_tst_i)\n",
    "    ii += 1\n",
    "\n",
    "    print(ii, 'LinearRegression normalized')\n",
    "    lr1 = LinearRegression(normalize=True)\n",
    "    lr1.fit(X_trn_id, y_trn_i)\n",
    "    X_trn_level2[dates_trn_level2 == cur_block_num, ii] = lr2.predict(X_tst_i)\n",
    "    ii += 1\n",
    "    "
   ]
  },
  {
   "cell_type": "markdown",
   "metadata": {},
   "source": [
    "**Get level2 test data**"
   ]
  },
  {
   "cell_type": "code",
   "execution_count": null,
   "metadata": {
    "collapsed": true
   },
   "outputs": [],
   "source": [
    "en = ElasticNet(**en_params)\n",
    "en.fit(X_trn, y_trn)\n",
    "X_tst_level2_en = en.predict(X_tst)\n",
    "\n",
    "lgb = lgb.train(lgb_params, lgb.Dataset(X_trn, label=y_trn), 100)\n",
    "X_tst_level2_lgb = lgb.predict(X_tst)\n",
    "\n",
    "X_tst_level2 = np.c_[X_tst_level2_en, X_tst_level2_lgb]"
   ]
  },
  {
   "cell_type": "markdown",
   "metadata": {},
   "source": [
    "## Level2 Ensemble: Stacking"
   ]
  },
  {
   "cell_type": "code",
   "execution_count": null,
   "metadata": {
    "collapsed": true
   },
   "outputs": [],
   "source": [
    "# XX_trn_level2 = X_trn_level2[dates_trn_level2 < 33]\n",
    "# yy_trn_level2 = y_trn_level2[dates_trn_level2 < 33]\n",
    "# XX_val_level2 = X_trn_level2[dates_trn_level2 == 33]\n",
    "# yy_val_level2 = y_trn_level2[dates_trn_level2 == 33]\n",
    "\n",
    "# lr = LinearRegression()\n",
    "# lr.fit(XX_trn_level2, yy_trn_level2)\n",
    "\n",
    "# rmse(yy_val_level2, lr.predict(XX_val_level2))"
   ]
  },
  {
   "cell_type": "code",
   "execution_count": null,
   "metadata": {
    "collapsed": true,
    "scrolled": true
   },
   "outputs": [],
   "source": [
    "lr = LinearRegression()\n",
    "lr.fit(X_trn_level2, y_trn_level2)\n",
    "predictions = lr.predict(X_tst_level2)"
   ]
  },
  {
   "cell_type": "code",
   "execution_count": null,
   "metadata": {
    "collapsed": true
   },
   "outputs": [],
   "source": [
    "rmse(y_trn_level2, lr.predict(X_trn_level2).clip(0,20))"
   ]
  },
  {
   "cell_type": "markdown",
   "metadata": {},
   "source": [
    "## Predict"
   ]
  },
  {
   "cell_type": "code",
   "execution_count": null,
   "metadata": {
    "collapsed": true
   },
   "outputs": [],
   "source": [
    "res_df = pd.DataFrame(predictions.clip(0,20), columns=[output_label_col])\n",
    "res_df[output_id_col] = tst_df[output_id_col].astype(int).values\n",
    "res_df.sort_values('ID')[[output_id_col, output_label_col]].to_csv(submission_path, index=False)"
   ]
  },
  {
   "cell_type": "code",
   "execution_count": null,
   "metadata": {
    "collapsed": true
   },
   "outputs": [],
   "source": []
  }
 ],
 "metadata": {
  "kernelspec": {
   "display_name": "Python 3",
   "language": "python",
   "name": "python3"
  },
  "language_info": {
   "codemirror_mode": {
    "name": "ipython",
    "version": 3
   },
   "file_extension": ".py",
   "mimetype": "text/x-python",
   "name": "python",
   "nbconvert_exporter": "python",
   "pygments_lexer": "ipython3",
   "version": "3.5.1"
  }
 },
 "nbformat": 4,
 "nbformat_minor": 2
}
