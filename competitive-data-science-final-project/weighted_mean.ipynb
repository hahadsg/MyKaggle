{
 "cells": [
  {
   "cell_type": "code",
   "execution_count": 1,
   "metadata": {
    "collapsed": true
   },
   "outputs": [],
   "source": [
    "# coding: utf-8\n",
    "import os\n",
    "\n",
    "import pandas as pd\n",
    "import numpy as np\n",
    "import scipy\n",
    "import lightgbm as lgb\n",
    "import matplotlib.pyplot as plt\n",
    "import seaborn as sns\n",
    "from sklearn import metrics\n",
    "from sklearn import model_selection\n",
    "from sklearn.model_selection import train_test_split\n",
    "from sklearn.model_selection import GridSearchCV\n",
    "from sklearn import preprocessing\n",
    "from sklearn.linear_model import ElasticNet, ElasticNetCV\n",
    "\n",
    "from mydatools.plot import plot_grid_search_result\n",
    "\n",
    "% matplotlib inline"
   ]
  },
  {
   "cell_type": "markdown",
   "metadata": {},
   "source": [
    "## Config"
   ]
  },
  {
   "cell_type": "code",
   "execution_count": 2,
   "metadata": {
    "collapsed": true
   },
   "outputs": [],
   "source": [
    "# trn_path = './data/input/train.csv'\n",
    "tst_path = './data/input/test.csv'\n",
    "id_col = 'ID'\n",
    "label_col = 'item_cnt_month'\n",
    "\n",
    "submission_path = './data/output/submission/submission_weights_mean.csv'\n",
    "output_id_col = id_col\n",
    "output_label_col = label_col"
   ]
  },
  {
   "cell_type": "markdown",
   "metadata": {},
   "source": [
    "## Load Data"
   ]
  },
  {
   "cell_type": "code",
   "execution_count": 3,
   "metadata": {
    "collapsed": true
   },
   "outputs": [],
   "source": [
    "item_cate_df = pd.read_csv('./data/input/item_categories.csv')\n",
    "item_df = pd.read_csv('./data/input/items.csv')\n",
    "sales_df = pd.read_csv('./data/input/sales_train.csv')\n",
    "shop_df = pd.read_csv('./data/input/shops.csv')"
   ]
  },
  {
   "cell_type": "code",
   "execution_count": 4,
   "metadata": {
    "scrolled": true
   },
   "outputs": [
    {
     "data": {
      "text/html": [
       "<div>\n",
       "<style>\n",
       "    .dataframe thead tr:only-child th {\n",
       "        text-align: right;\n",
       "    }\n",
       "\n",
       "    .dataframe thead th {\n",
       "        text-align: left;\n",
       "    }\n",
       "\n",
       "    .dataframe tbody tr th {\n",
       "        vertical-align: top;\n",
       "    }\n",
       "</style>\n",
       "<table border=\"1\" class=\"dataframe\">\n",
       "  <thead>\n",
       "    <tr style=\"text-align: right;\">\n",
       "      <th></th>\n",
       "      <th>ID</th>\n",
       "      <th>date_block_num</th>\n",
       "      <th>ds_type</th>\n",
       "      <th>item_cnt_month</th>\n",
       "      <th>item_id</th>\n",
       "      <th>shop_id</th>\n",
       "    </tr>\n",
       "  </thead>\n",
       "  <tbody>\n",
       "    <tr>\n",
       "      <th>0</th>\n",
       "      <td>0</td>\n",
       "      <td>1</td>\n",
       "      <td>trn</td>\n",
       "      <td>31.0</td>\n",
       "      <td>30</td>\n",
       "      <td>0</td>\n",
       "    </tr>\n",
       "    <tr>\n",
       "      <th>1</th>\n",
       "      <td>0</td>\n",
       "      <td>1</td>\n",
       "      <td>trn</td>\n",
       "      <td>11.0</td>\n",
       "      <td>31</td>\n",
       "      <td>0</td>\n",
       "    </tr>\n",
       "    <tr>\n",
       "      <th>2</th>\n",
       "      <td>0</td>\n",
       "      <td>0</td>\n",
       "      <td>trn</td>\n",
       "      <td>6.0</td>\n",
       "      <td>32</td>\n",
       "      <td>0</td>\n",
       "    </tr>\n",
       "    <tr>\n",
       "      <th>3</th>\n",
       "      <td>0</td>\n",
       "      <td>1</td>\n",
       "      <td>trn</td>\n",
       "      <td>10.0</td>\n",
       "      <td>32</td>\n",
       "      <td>0</td>\n",
       "    </tr>\n",
       "    <tr>\n",
       "      <th>4</th>\n",
       "      <td>0</td>\n",
       "      <td>0</td>\n",
       "      <td>trn</td>\n",
       "      <td>3.0</td>\n",
       "      <td>33</td>\n",
       "      <td>0</td>\n",
       "    </tr>\n",
       "  </tbody>\n",
       "</table>\n",
       "</div>"
      ],
      "text/plain": [
       "   ID  date_block_num ds_type  item_cnt_month  item_id  shop_id\n",
       "0   0               1     trn            31.0       30        0\n",
       "1   0               1     trn            11.0       31        0\n",
       "2   0               0     trn             6.0       32        0\n",
       "3   0               1     trn            10.0       32        0\n",
       "4   0               0     trn             3.0       33        0"
      ]
     },
     "execution_count": 4,
     "metadata": {},
     "output_type": "execute_result"
    }
   ],
   "source": [
    "sales_df['revenue'] = sales_df['item_price'] * sales_df['item_cnt_day']\n",
    "trn_df = sales_df.groupby(['shop_id', 'item_id', 'date_block_num'])['item_cnt_day'].sum().reset_index()\n",
    "trn_df = trn_df.rename(columns={'item_cnt_day': 'item_cnt_month'})\n",
    "trn_df['ID'] = 0\n",
    "trn_df['ds_type'] = 'trn'\n",
    "\n",
    "tst_df = pd.read_csv(tst_path)\n",
    "tst_df['date_block_num'] = 34\n",
    "tst_df['item_cnt_month'] = np.nan\n",
    "tst_df['ds_type'] = 'tst'\n",
    "\n",
    "full_df = pd.concat([trn_df, tst_df])\n",
    "full_df.head()"
   ]
  },
  {
   "cell_type": "code",
   "execution_count": 5,
   "metadata": {
    "collapsed": true
   },
   "outputs": [],
   "source": [
    "# dataset type\n",
    "is_trn = full_df['ds_type'] == 'trn'\n",
    "is_tst = full_df['ds_type'] == 'tst'"
   ]
  },
  {
   "cell_type": "markdown",
   "metadata": {},
   "source": [
    "## Weighted mean\n",
    "\n",
    "用历史的趋势来估计下一个月的销售情况\n",
    "\n",
    "具体的，设置每个月的权重（越后面的月份权重越大），加权估计下一个月的销量"
   ]
  },
  {
   "cell_type": "code",
   "execution_count": 6,
   "metadata": {},
   "outputs": [
    {
     "data": {
      "text/plain": [
       "0     2.200926e-08\n",
       "1     7.042963e-07\n",
       "2     5.348250e-06\n",
       "3     2.253748e-05\n",
       "4     6.877893e-05\n",
       "5     1.711440e-04\n",
       "6     3.699096e-04\n",
       "7     7.211994e-04\n",
       "8     1.299625e-03\n",
       "9     2.200926e-03\n",
       "10    3.544613e-03\n",
       "11    5.476608e-03\n",
       "12    8.171884e-03\n",
       "13    1.183711e-02\n",
       "14    1.671328e-02\n",
       "15    2.307838e-02\n",
       "16    3.125000e-02\n",
       "17    4.158799e-02\n",
       "18    5.449710e-02\n",
       "19    7.042963e-02\n",
       "20    8.988804e-02\n",
       "21    1.134276e-01\n",
       "22    1.416591e-01\n",
       "23    1.752515e-01\n",
       "24    2.149342e-01\n",
       "25    2.615003e-01\n",
       "26    3.158088e-01\n",
       "27    3.787874e-01\n",
       "28    4.514352e-01\n",
       "29    5.348250e-01\n",
       "30    6.301064e-01\n",
       "31    7.385082e-01\n",
       "32    8.613410e-01\n",
       "33    1.000000e+00\n",
       "Name: weights, dtype: float64"
      ]
     },
     "execution_count": 6,
     "metadata": {},
     "output_type": "execute_result"
    }
   ],
   "source": [
    "N = 34\n",
    "# weights = (np.arange(1, N+1) / N) ** 2 # LB 1.63549\n",
    "weights = (np.arange(1, N+1) / N) ** 5 # LB \n",
    "weights = pd.Series(weights, index=range(N), name='weights')\n",
    "# weights = weights / weights.sum()\n",
    "weights"
   ]
  },
  {
   "cell_type": "code",
   "execution_count": 7,
   "metadata": {},
   "outputs": [],
   "source": [
    "full_df = full_df.join(weights, on='date_block_num')"
   ]
  },
  {
   "cell_type": "code",
   "execution_count": 8,
   "metadata": {
    "collapsed": true
   },
   "outputs": [],
   "source": [
    "wmean = lambda x: (x.item_cnt_month * x.weights).sum() / x.weights.sum()\n",
    "def fill_target(tst_df, trn_df, join_key):\n",
    "    new_df = pd.DataFrame({'v': trn_df.groupby(join_key).apply(wmean)})\n",
    "    tst_df = tst_df.join(new_df, on=join_key)\n",
    "    is_missing = tst_df['item_cnt_month'].isnull()\n",
    "    tst_df.loc[is_missing, 'item_cnt_month'] = tst_df.loc[is_missing, 'v']\n",
    "    tst_df.drop('v', axis=1, inplace=True)\n",
    "    return tst_df"
   ]
  },
  {
   "cell_type": "code",
   "execution_count": 9,
   "metadata": {
    "collapsed": true
   },
   "outputs": [],
   "source": [
    "tst_df = full_df[is_tst]\n",
    "trn_df = full_df[is_trn]"
   ]
  },
  {
   "cell_type": "code",
   "execution_count": 10,
   "metadata": {},
   "outputs": [],
   "source": [
    "tst_df = fill_target(tst_df, trn_df, ['shop_id', 'item_id'])"
   ]
  },
  {
   "cell_type": "code",
   "execution_count": 11,
   "metadata": {},
   "outputs": [
    {
     "data": {
      "text/plain": [
       "102796"
      ]
     },
     "execution_count": 11,
     "metadata": {},
     "output_type": "execute_result"
    }
   ],
   "source": [
    "# 未填充值数量\n",
    "tst_df['item_cnt_month'].isnull().sum()"
   ]
  },
  {
   "cell_type": "code",
   "execution_count": 12,
   "metadata": {
    "collapsed": true
   },
   "outputs": [],
   "source": [
    "tst_df = tst_df.fillna(0)"
   ]
  },
  {
   "cell_type": "markdown",
   "metadata": {},
   "source": [
    "save to file"
   ]
  },
  {
   "cell_type": "code",
   "execution_count": 13,
   "metadata": {},
   "outputs": [],
   "source": [
    "res_df = tst_df[['ID', 'item_cnt_month']].copy()\n",
    "res_df['ID'] = res_df['ID'].astype('int')\n",
    "res_df['item_cnt_month'] = res_df['item_cnt_month'].clip(0,20)\n",
    "res_df.to_csv(submission_path, index=False)"
   ]
  },
  {
   "cell_type": "code",
   "execution_count": null,
   "metadata": {
    "collapsed": true
   },
   "outputs": [],
   "source": []
  }
 ],
 "metadata": {
  "kernelspec": {
   "display_name": "Python 3",
   "language": "python",
   "name": "python3"
  },
  "language_info": {
   "codemirror_mode": {
    "name": "ipython",
    "version": 3
   },
   "file_extension": ".py",
   "mimetype": "text/x-python",
   "name": "python",
   "nbconvert_exporter": "python",
   "pygments_lexer": "ipython3",
   "version": "3.5.1"
  }
 },
 "nbformat": 4,
 "nbformat_minor": 2
}
