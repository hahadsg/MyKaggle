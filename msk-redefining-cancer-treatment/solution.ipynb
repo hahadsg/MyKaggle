{
 "cells": [
  {
   "cell_type": "code",
   "execution_count": 1,
   "metadata": {
    "collapsed": true
   },
   "outputs": [],
   "source": [
    "# coding: utf-8\n",
    "import pandas as pd\n",
    "import numpy as np\n",
    "import matplotlib.pyplot as plt\n",
    "import seaborn as sns\n",
    "import lightgbm as lgb\n",
    "from sklearn import metrics\n",
    "from sklearn import model_selection\n",
    "from sklearn.model_selection import train_test_split\n",
    "from sklearn.model_selection import GridSearchCV\n",
    "from sklearn import preprocessing\n",
    "from sklearn.decomposition import PCA, TruncatedSVD\n",
    "from sklearn.feature_extraction.text import TfidfVectorizer\n",
    "\n",
    "from mydatools.features_analyze import get_top_k_corr\n",
    "\n",
    "% matplotlib inline"
   ]
  },
  {
   "cell_type": "code",
   "execution_count": 2,
   "metadata": {
    "collapsed": true
   },
   "outputs": [],
   "source": [
    "# pc memory is small, can't compute svd\n",
    "is_in_pc = True"
   ]
  },
  {
   "cell_type": "code",
   "execution_count": 3,
   "metadata": {
    "scrolled": true
   },
   "outputs": [
    {
     "data": {
      "text/html": [
       "<div>\n",
       "<style>\n",
       "    .dataframe thead tr:only-child th {\n",
       "        text-align: right;\n",
       "    }\n",
       "\n",
       "    .dataframe thead th {\n",
       "        text-align: left;\n",
       "    }\n",
       "\n",
       "    .dataframe tbody tr th {\n",
       "        vertical-align: top;\n",
       "    }\n",
       "</style>\n",
       "<table border=\"1\" class=\"dataframe\">\n",
       "  <thead>\n",
       "    <tr style=\"text-align: right;\">\n",
       "      <th></th>\n",
       "      <th>Class</th>\n",
       "      <th>Gene</th>\n",
       "      <th>ID</th>\n",
       "      <th>Text</th>\n",
       "      <th>Variation</th>\n",
       "      <th>train_or_test</th>\n",
       "    </tr>\n",
       "  </thead>\n",
       "  <tbody>\n",
       "    <tr>\n",
       "      <th>0</th>\n",
       "      <td>1.0</td>\n",
       "      <td>FAM58A</td>\n",
       "      <td>0</td>\n",
       "      <td>Cyclin-dependent kinases (CDKs) regulate a var...</td>\n",
       "      <td>Truncating Mutations</td>\n",
       "      <td>train</td>\n",
       "    </tr>\n",
       "    <tr>\n",
       "      <th>1</th>\n",
       "      <td>2.0</td>\n",
       "      <td>CBL</td>\n",
       "      <td>1</td>\n",
       "      <td>Abstract Background  Non-small cell lung canc...</td>\n",
       "      <td>W802*</td>\n",
       "      <td>train</td>\n",
       "    </tr>\n",
       "    <tr>\n",
       "      <th>2</th>\n",
       "      <td>2.0</td>\n",
       "      <td>CBL</td>\n",
       "      <td>2</td>\n",
       "      <td>Abstract Background  Non-small cell lung canc...</td>\n",
       "      <td>Q249E</td>\n",
       "      <td>train</td>\n",
       "    </tr>\n",
       "    <tr>\n",
       "      <th>3</th>\n",
       "      <td>3.0</td>\n",
       "      <td>CBL</td>\n",
       "      <td>3</td>\n",
       "      <td>Recent evidence has demonstrated that acquired...</td>\n",
       "      <td>N454D</td>\n",
       "      <td>train</td>\n",
       "    </tr>\n",
       "    <tr>\n",
       "      <th>4</th>\n",
       "      <td>4.0</td>\n",
       "      <td>CBL</td>\n",
       "      <td>4</td>\n",
       "      <td>Oncogenic mutations in the monomeric Casitas B...</td>\n",
       "      <td>L399V</td>\n",
       "      <td>train</td>\n",
       "    </tr>\n",
       "  </tbody>\n",
       "</table>\n",
       "</div>"
      ],
      "text/plain": [
       "   Class    Gene  ID                                               Text  \\\n",
       "0    1.0  FAM58A   0  Cyclin-dependent kinases (CDKs) regulate a var...   \n",
       "1    2.0     CBL   1   Abstract Background  Non-small cell lung canc...   \n",
       "2    2.0     CBL   2   Abstract Background  Non-small cell lung canc...   \n",
       "3    3.0     CBL   3  Recent evidence has demonstrated that acquired...   \n",
       "4    4.0     CBL   4  Oncogenic mutations in the monomeric Casitas B...   \n",
       "\n",
       "              Variation train_or_test  \n",
       "0  Truncating Mutations         train  \n",
       "1                 W802*         train  \n",
       "2                 Q249E         train  \n",
       "3                 N454D         train  \n",
       "4                 L399V         train  "
      ]
     },
     "execution_count": 3,
     "metadata": {},
     "output_type": "execute_result"
    }
   ],
   "source": [
    "train_text_df = pd.read_csv('./data/input/training_text', sep=\"\\|\\|\", engine='python', header=None, skiprows=1, names=[\"ID\",\"Text\"])\n",
    "train_variants_df = pd.read_csv('./data/input/training_variants')\n",
    "train_df = train_variants_df.merge(train_text_df, how='left', on='ID')\n",
    "train_df['train_or_test'] = 'train'\n",
    "\n",
    "test_text_df = pd.read_csv('./data/input/test_text', sep=\"\\|\\|\", engine='python', header=None, skiprows=1, names=[\"ID\",\"Text\"])\n",
    "test_variants_df = pd.read_csv('./data/input/test_variants')\n",
    "test_df = test_variants_df.merge(test_text_df, how='left', on='ID')\n",
    "test_df['train_or_test'] = 'test'\n",
    "\n",
    "full_df = pd.concat([train_df, test_df])\n",
    "\n",
    "del(train_text_df)\n",
    "del(train_variants_df)\n",
    "del(train_df)\n",
    "del(test_text_df)\n",
    "del(test_variants_df)\n",
    "del(test_df)\n",
    "\n",
    "full_df.head()"
   ]
  },
  {
   "cell_type": "code",
   "execution_count": 4,
   "metadata": {
    "collapsed": true
   },
   "outputs": [],
   "source": [
    "is_train = full_df['train_or_test'] == 'train'\n",
    "is_test = full_df['train_or_test'] == 'test'"
   ]
  },
  {
   "cell_type": "code",
   "execution_count": 5,
   "metadata": {},
   "outputs": [],
   "source": [
    "# replace null\n",
    "full_df.loc[full_df['Text'] == 'null', 'Text'] = ''"
   ]
  },
  {
   "cell_type": "markdown",
   "metadata": {},
   "source": [
    "## feature"
   ]
  },
  {
   "cell_type": "code",
   "execution_count": 6,
   "metadata": {
    "collapsed": true
   },
   "outputs": [],
   "source": [
    "feature_columns = []\n",
    "\n",
    "def add_features(features):\n",
    "    if type(features) != list:\n",
    "        features = [features]\n",
    "    global feature_columns\n",
    "    feature_columns.extend([f for f in features if f not in feature_columns])"
   ]
  },
  {
   "cell_type": "markdown",
   "metadata": {},
   "source": [
    "* Text length"
   ]
  },
  {
   "cell_type": "code",
   "execution_count": 7,
   "metadata": {
    "collapsed": true
   },
   "outputs": [],
   "source": [
    "full_df['text_nb_chars'] = full_df['Text'].str.len()\n",
    "full_df['text_nb_words'] = full_df['Text'].apply(lambda x: len(x.split()))\n",
    "add_features(['text_nb_chars', 'text_nb_words'])"
   ]
  },
  {
   "cell_type": "code",
   "execution_count": 8,
   "metadata": {},
   "outputs": [
    {
     "data": {
      "text/plain": [
       "<matplotlib.text.Text at 0x1321ba9b0>"
      ]
     },
     "execution_count": 8,
     "metadata": {},
     "output_type": "execute_result"
    },
    {
     "data": {
      "image/png": "[encoded data removed]",
      "text/plain": [
       "<matplotlib.figure.Figure at 0x13c0b8518>"
      ]
     },
     "metadata": {},
     "output_type": "display_data"
    }
   ],
   "source": [
    "fig, ax = plt.subplots(1,2,figsize=(12,5))\n",
    "\n",
    "plt.subplot(121)\n",
    "full_df['text_nb_chars'].hist()\n",
    "plt.title('text_nb_chars')\n",
    "\n",
    "plt.subplot(122)\n",
    "full_df['text_nb_words'].hist()\n",
    "plt.title('text_nb_words')"
   ]
  },
  {
   "cell_type": "markdown",
   "metadata": {},
   "source": [
    "* text tfidf"
   ]
  },
  {
   "cell_type": "code",
   "execution_count": 9,
   "metadata": {},
   "outputs": [
    {
     "name": "stdout",
     "output_type": "stream",
     "text": [
      "CPU times: user 1min 52s, sys: 1.69 s, total: 1min 54s\n",
      "Wall time: 1min 55s\n"
     ]
    }
   ],
   "source": [
    "%%time\n",
    "tfidf_solver = TfidfVectorizer(stop_words='english', ngram_range=(1,1))\n",
    "tfidf_solver.fit(full_df[is_train]['Text'])\n",
    "text_tfidf_res = tfidf_solver.transform(full_df['Text'])"
   ]
  },
  {
   "cell_type": "code",
   "execution_count": 10,
   "metadata": {},
   "outputs": [],
   "source": [
    "# dimensionality reduction\n",
    "nb_dr_dim = 100\n",
    "if not is_in_pc:\n",
    "    dr_res = TruncatedSVD(nb_dr_dim).fit_transform(text_tfidf_res)\n",
    "else:\n",
    "    dr_res = TruncatedSVD(nb_dr_dim).fit_transform(text_tfidf_res[:, :(2*nb_dr_dim)])"
   ]
  },
  {
   "cell_type": "code",
   "execution_count": 11,
   "metadata": {},
   "outputs": [],
   "source": [
    "feats = ['text_word_%03d'%i for i in range(nb_dr_dim)]\n",
    "for f in feats: full_df[f] = 0\n",
    "full_df[feats] = dr_res\n",
    "add_features(feats)"
   ]
  },
  {
   "cell_type": "markdown",
   "metadata": {},
   "source": [
    "* gene/variation labelencode"
   ]
  },
  {
   "cell_type": "code",
   "execution_count": 12,
   "metadata": {},
   "outputs": [],
   "source": [
    "nb_dr_dim = 100\n",
    "for feat in ['Gene', 'Variation']:\n",
    "    # label dummy\n",
    "    encode_res = pd.get_dummies(full_df[feat]).values\n",
    "    \n",
    "    # dimensionality reduction\n",
    "    if not is_in_pc:\n",
    "        dr_res = TruncatedSVD(nb_dr_dim).fit_transform(encode_res)\n",
    "    else:\n",
    "        dr_res = TruncatedSVD(nb_dr_dim).fit_transform(encode_res[:, :(2*nb_dr_dim)])\n",
    "        \n",
    "    # add features\n",
    "    feats = [feat+'_encode_%03d'%i for i in range(nb_dr_dim)]\n",
    "    for f in feats: full_df[f] = 0\n",
    "    full_df[feats] = dr_res\n",
    "    add_features(feats)"
   ]
  },
  {
   "cell_type": "markdown",
   "metadata": {},
   "source": [
    "## LightGBM"
   ]
  },
  {
   "cell_type": "code",
   "execution_count": 13,
   "metadata": {},
   "outputs": [],
   "source": [
    "trn_df = full_df[is_train]\n",
    "tst_df = full_df[is_test]\n",
    "\n",
    "X = trn_df[feature_columns]\n",
    "y = trn_df['Class']\n",
    "X_trn, X_val, y_trn, y_val = train_test_split(X, y, test_size=0.2, random_state=0)\n",
    "\n",
    "X_tst = tst_df[feature_columns]\n",
    "\n",
    "trn_lgb = lgb.Dataset(X_trn, y_trn, free_raw_data=False)\n",
    "val_lgb = lgb.Dataset(X_val, y_val, free_raw_data=False, reference=trn_lgb)"
   ]
  },
  {
   "cell_type": "code",
   "execution_count": 24,
   "metadata": {
    "scrolled": true
   },
   "outputs": [
    {
     "name": "stdout",
     "output_type": "stream",
     "text": [
      "[1]\ttraining's multi_logloss: 2.0233\tvalid_1's multi_logloss: 2.07094\n",
      "Train until valid scores didn't improve in 20 rounds.\n",
      "[2]\ttraining's multi_logloss: 1.9031\tvalid_1's multi_logloss: 1.97976\n",
      "[3]\ttraining's multi_logloss: 1.80043\tvalid_1's multi_logloss: 1.90523\n",
      "[4]\ttraining's multi_logloss: 1.71313\tvalid_1's multi_logloss: 1.84306\n",
      "[5]\ttraining's multi_logloss: 1.63574\tvalid_1's multi_logloss: 1.78697\n",
      "[6]\ttraining's multi_logloss: 1.56714\tvalid_1's multi_logloss: 1.73947\n",
      "[7]\ttraining's multi_logloss: 1.50622\tvalid_1's multi_logloss: 1.69946\n",
      "[8]\ttraining's multi_logloss: 1.44898\tvalid_1's multi_logloss: 1.66194\n",
      "[9]\ttraining's multi_logloss: 1.39832\tvalid_1's multi_logloss: 1.62904\n",
      "[10]\ttraining's multi_logloss: 1.35145\tvalid_1's multi_logloss: 1.60084\n",
      "[11]\ttraining's multi_logloss: 1.30752\tvalid_1's multi_logloss: 1.57343\n",
      "[12]\ttraining's multi_logloss: 1.26765\tvalid_1's multi_logloss: 1.54775\n",
      "[13]\ttraining's multi_logloss: 1.23063\tvalid_1's multi_logloss: 1.5257\n",
      "[14]\ttraining's multi_logloss: 1.1964\tvalid_1's multi_logloss: 1.5054\n",
      "[15]\ttraining's multi_logloss: 1.16347\tvalid_1's multi_logloss: 1.48634\n",
      "[16]\ttraining's multi_logloss: 1.13342\tvalid_1's multi_logloss: 1.47124\n",
      "[17]\ttraining's multi_logloss: 1.105\tvalid_1's multi_logloss: 1.45519\n",
      "[18]\ttraining's multi_logloss: 1.07905\tvalid_1's multi_logloss: 1.44243\n",
      "[19]\ttraining's multi_logloss: 1.05431\tvalid_1's multi_logloss: 1.43035\n",
      "[20]\ttraining's multi_logloss: 1.03098\tvalid_1's multi_logloss: 1.41903\n",
      "[21]\ttraining's multi_logloss: 1.00903\tvalid_1's multi_logloss: 1.40977\n",
      "[22]\ttraining's multi_logloss: 0.988244\tvalid_1's multi_logloss: 1.40103\n",
      "[23]\ttraining's multi_logloss: 0.968016\tvalid_1's multi_logloss: 1.39109\n",
      "[24]\ttraining's multi_logloss: 0.949494\tvalid_1's multi_logloss: 1.38492\n",
      "[25]\ttraining's multi_logloss: 0.932555\tvalid_1's multi_logloss: 1.37762\n",
      "[26]\ttraining's multi_logloss: 0.91538\tvalid_1's multi_logloss: 1.37149\n",
      "[27]\ttraining's multi_logloss: 0.899474\tvalid_1's multi_logloss: 1.36453\n",
      "[28]\ttraining's multi_logloss: 0.88407\tvalid_1's multi_logloss: 1.3591\n",
      "[29]\ttraining's multi_logloss: 0.870251\tvalid_1's multi_logloss: 1.35466\n",
      "[30]\ttraining's multi_logloss: 0.856227\tvalid_1's multi_logloss: 1.34908\n",
      "[31]\ttraining's multi_logloss: 0.842442\tvalid_1's multi_logloss: 1.3449\n",
      "[32]\ttraining's multi_logloss: 0.829365\tvalid_1's multi_logloss: 1.34185\n",
      "[33]\ttraining's multi_logloss: 0.816518\tvalid_1's multi_logloss: 1.33945\n",
      "[34]\ttraining's multi_logloss: 0.804403\tvalid_1's multi_logloss: 1.33689\n",
      "[35]\ttraining's multi_logloss: 0.792369\tvalid_1's multi_logloss: 1.33355\n",
      "[36]\ttraining's multi_logloss: 0.781429\tvalid_1's multi_logloss: 1.33066\n",
      "[37]\ttraining's multi_logloss: 0.771105\tvalid_1's multi_logloss: 1.33028\n",
      "[38]\ttraining's multi_logloss: 0.761215\tvalid_1's multi_logloss: 1.32872\n",
      "[39]\ttraining's multi_logloss: 0.75116\tvalid_1's multi_logloss: 1.32763\n",
      "[40]\ttraining's multi_logloss: 0.742204\tvalid_1's multi_logloss: 1.32699\n",
      "[41]\ttraining's multi_logloss: 0.733531\tvalid_1's multi_logloss: 1.32414\n",
      "[42]\ttraining's multi_logloss: 0.724633\tvalid_1's multi_logloss: 1.32376\n",
      "[43]\ttraining's multi_logloss: 0.716471\tvalid_1's multi_logloss: 1.32196\n",
      "[44]\ttraining's multi_logloss: 0.708707\tvalid_1's multi_logloss: 1.32185\n",
      "[45]\ttraining's multi_logloss: 0.700921\tvalid_1's multi_logloss: 1.32337\n",
      "[46]\ttraining's multi_logloss: 0.692583\tvalid_1's multi_logloss: 1.32199\n",
      "[47]\ttraining's multi_logloss: 0.685844\tvalid_1's multi_logloss: 1.32176\n",
      "[48]\ttraining's multi_logloss: 0.679056\tvalid_1's multi_logloss: 1.32215\n",
      "[49]\ttraining's multi_logloss: 0.672364\tvalid_1's multi_logloss: 1.32221\n",
      "[50]\ttraining's multi_logloss: 0.665953\tvalid_1's multi_logloss: 1.3217\n",
      "[51]\ttraining's multi_logloss: 0.660097\tvalid_1's multi_logloss: 1.32208\n",
      "[52]\ttraining's multi_logloss: 0.65384\tvalid_1's multi_logloss: 1.32227\n",
      "[53]\ttraining's multi_logloss: 0.64803\tvalid_1's multi_logloss: 1.32136\n",
      "[54]\ttraining's multi_logloss: 0.641458\tvalid_1's multi_logloss: 1.31942\n",
      "[55]\ttraining's multi_logloss: 0.635865\tvalid_1's multi_logloss: 1.3187\n",
      "[56]\ttraining's multi_logloss: 0.629589\tvalid_1's multi_logloss: 1.31885\n",
      "[57]\ttraining's multi_logloss: 0.624589\tvalid_1's multi_logloss: 1.31965\n",
      "[58]\ttraining's multi_logloss: 0.619208\tvalid_1's multi_logloss: 1.32088\n",
      "[59]\ttraining's multi_logloss: 0.613618\tvalid_1's multi_logloss: 1.32039\n",
      "[60]\ttraining's multi_logloss: 0.608591\tvalid_1's multi_logloss: 1.32196\n",
      "[61]\ttraining's multi_logloss: 0.604197\tvalid_1's multi_logloss: 1.32454\n",
      "[62]\ttraining's multi_logloss: 0.599278\tvalid_1's multi_logloss: 1.32428\n",
      "[63]\ttraining's multi_logloss: 0.594528\tvalid_1's multi_logloss: 1.32529\n",
      "[64]\ttraining's multi_logloss: 0.589717\tvalid_1's multi_logloss: 1.32666\n",
      "[65]\ttraining's multi_logloss: 0.585137\tvalid_1's multi_logloss: 1.32888\n",
      "[66]\ttraining's multi_logloss: 0.579463\tvalid_1's multi_logloss: 1.32976\n",
      "[67]\ttraining's multi_logloss: 0.574774\tvalid_1's multi_logloss: 1.32946\n",
      "[68]\ttraining's multi_logloss: 0.570637\tvalid_1's multi_logloss: 1.33179\n",
      "[69]\ttraining's multi_logloss: 0.56698\tvalid_1's multi_logloss: 1.33328\n",
      "[70]\ttraining's multi_logloss: 0.562119\tvalid_1's multi_logloss: 1.33624\n",
      "[71]\ttraining's multi_logloss: 0.55791\tvalid_1's multi_logloss: 1.33809\n",
      "[72]\ttraining's multi_logloss: 0.553957\tvalid_1's multi_logloss: 1.33885\n",
      "[73]\ttraining's multi_logloss: 0.549649\tvalid_1's multi_logloss: 1.34066\n",
      "[74]\ttraining's multi_logloss: 0.545793\tvalid_1's multi_logloss: 1.34238\n",
      "[75]\ttraining's multi_logloss: 0.541995\tvalid_1's multi_logloss: 1.34345\n",
      "Early stopping, best iteration is:\n",
      "[55]\ttraining's multi_logloss: 0.635865\tvalid_1's multi_logloss: 1.3187\n"
     ]
    }
   ],
   "source": [
    "params = {\n",
    "    'application': 'multiclass',\n",
    "    'metric': 'multi_logloss',\n",
    "    'num_class': 10,\n",
    "    'learning_rate': 0.1,\n",
    "    'seed': 0,\n",
    "}\n",
    "bst = lgb.train(params, trn_lgb, 1000, valid_sets=[trn_lgb, val_lgb], early_stopping_rounds=20)"
   ]
  },
  {
   "cell_type": "code",
   "execution_count": 25,
   "metadata": {
    "scrolled": true
   },
   "outputs": [
    {
     "name": "stdout",
     "output_type": "stream",
     "text": [
      "[56]\ttraining's multi_logloss: 0.712063\tvalid_1's multi_logloss: 1.38178\n",
      "Train until valid scores didn't improve in 20 rounds.\n",
      "[57]\ttraining's multi_logloss: 0.698787\tvalid_1's multi_logloss: 1.37467\n",
      "[58]\ttraining's multi_logloss: 0.686828\tvalid_1's multi_logloss: 1.37\n",
      "[59]\ttraining's multi_logloss: 0.676638\tvalid_1's multi_logloss: 1.36574\n",
      "[60]\ttraining's multi_logloss: 0.667235\tvalid_1's multi_logloss: 1.36196\n",
      "[61]\ttraining's multi_logloss: 0.658267\tvalid_1's multi_logloss: 1.36008\n",
      "[62]\ttraining's multi_logloss: 0.649874\tvalid_1's multi_logloss: 1.35789\n",
      "[63]\ttraining's multi_logloss: 0.642412\tvalid_1's multi_logloss: 1.35781\n",
      "[64]\ttraining's multi_logloss: 0.635349\tvalid_1's multi_logloss: 1.35683\n",
      "[65]\ttraining's multi_logloss: 0.628524\tvalid_1's multi_logloss: 1.35609\n",
      "[66]\ttraining's multi_logloss: 0.622139\tvalid_1's multi_logloss: 1.35459\n",
      "[67]\ttraining's multi_logloss: 0.615875\tvalid_1's multi_logloss: 1.3525\n",
      "[68]\ttraining's multi_logloss: 0.610338\tvalid_1's multi_logloss: 1.35359\n",
      "[69]\ttraining's multi_logloss: 0.605095\tvalid_1's multi_logloss: 1.35354\n",
      "[70]\ttraining's multi_logloss: 0.59987\tvalid_1's multi_logloss: 1.35191\n",
      "[71]\ttraining's multi_logloss: 0.595331\tvalid_1's multi_logloss: 1.35238\n",
      "[72]\ttraining's multi_logloss: 0.590366\tvalid_1's multi_logloss: 1.3509\n",
      "[73]\ttraining's multi_logloss: 0.585543\tvalid_1's multi_logloss: 1.3527\n",
      "[74]\ttraining's multi_logloss: 0.580057\tvalid_1's multi_logloss: 1.35363\n",
      "[75]\ttraining's multi_logloss: 0.576061\tvalid_1's multi_logloss: 1.35509\n",
      "[76]\ttraining's multi_logloss: 0.572298\tvalid_1's multi_logloss: 1.35729\n",
      "[77]\ttraining's multi_logloss: 0.568379\tvalid_1's multi_logloss: 1.35908\n",
      "[78]\ttraining's multi_logloss: 0.564959\tvalid_1's multi_logloss: 1.36061\n",
      "[79]\ttraining's multi_logloss: 0.560886\tvalid_1's multi_logloss: 1.361\n",
      "[80]\ttraining's multi_logloss: 0.55718\tvalid_1's multi_logloss: 1.36229\n",
      "[81]\ttraining's multi_logloss: 0.553916\tvalid_1's multi_logloss: 1.36237\n",
      "[82]\ttraining's multi_logloss: 0.550882\tvalid_1's multi_logloss: 1.363\n",
      "[83]\ttraining's multi_logloss: 0.547983\tvalid_1's multi_logloss: 1.36478\n",
      "[84]\ttraining's multi_logloss: 0.544399\tvalid_1's multi_logloss: 1.36618\n",
      "[85]\ttraining's multi_logloss: 0.541498\tvalid_1's multi_logloss: 1.36716\n",
      "[86]\ttraining's multi_logloss: 0.538897\tvalid_1's multi_logloss: 1.36822\n",
      "[87]\ttraining's multi_logloss: 0.535865\tvalid_1's multi_logloss: 1.36929\n",
      "[88]\ttraining's multi_logloss: 0.533083\tvalid_1's multi_logloss: 1.3699\n",
      "[89]\ttraining's multi_logloss: 0.53025\tvalid_1's multi_logloss: 1.371\n",
      "[90]\ttraining's multi_logloss: 0.527351\tvalid_1's multi_logloss: 1.37124\n",
      "[91]\ttraining's multi_logloss: 0.524818\tvalid_1's multi_logloss: 1.37221\n",
      "[92]\ttraining's multi_logloss: 0.522153\tvalid_1's multi_logloss: 1.37273\n",
      "Early stopping, best iteration is:\n",
      "[72]\ttraining's multi_logloss: 0.590366\tvalid_1's multi_logloss: 1.3509\n"
     ]
    }
   ],
   "source": [
    "bst = lgb.train(params, trn_lgb, 1000, valid_sets=[trn_lgb, val_lgb], early_stopping_rounds=20,\n",
    "                init_model=bst, \n",
    "                learning_rates=lambda iter: 0.1 * (0.99 ** iter))"
   ]
  },
  {
   "cell_type": "code",
   "execution_count": null,
   "metadata": {
    "collapsed": true
   },
   "outputs": [],
   "source": [
    "imp_df = pd.DataFrame([bst.feature_importance()], columns=feature_columns, index=['importance']).T.sort_values(by='importance', ascending=False)\n",
    "imp_df"
   ]
  },
  {
   "cell_type": "markdown",
   "metadata": {},
   "source": [
    "## predict"
   ]
  },
  {
   "cell_type": "code",
   "execution_count": null,
   "metadata": {
    "collapsed": true
   },
   "outputs": [],
   "source": [
    "res_df = pd.DataFrame({\n",
    "    'ID': tst_df['ID'],\n",
    "    'Class': bst.predict(X_tst),\n",
    "})\n",
    "res_df.to_csv('./data/output/submission.csv', index=False)"
   ]
  }
 ],
 "metadata": {
  "kernelspec": {
   "display_name": "Python 3",
   "language": "python",
   "name": "python3"
  },
  "language_info": {
   "codemirror_mode": {
    "name": "ipython",
    "version": 3
   },
   "file_extension": ".py",
   "mimetype": "text/x-python",
   "name": "python",
   "nbconvert_exporter": "python",
   "pygments_lexer": "ipython3",
   "version": "3.5.1"
  }
 },
 "nbformat": 4,
 "nbformat_minor": 2
}
