{
 "cells": [
  {
   "cell_type": "code",
   "execution_count": 1,
   "metadata": {
    "collapsed": false
   },
   "outputs": [],
   "source": [
    "# -*- coding:utf8 -*-\n",
    "import re\n",
    "import os\n",
    "\n",
    "import pandas as pd\n",
    "import numpy as np\n",
    "import matplotlib.pyplot as plt\n",
    "% matplotlib inline\n",
    "import seaborn as sns\n",
    "sns.set_style('whitegrid')\n",
    "\n",
    "from sklearn.ensemble import RandomForestClassifier\n",
    "from sklearn.linear_model import LogisticRegression\n",
    "from sklearn.svm import SVC\n",
    "from sklearn.model_selection import train_test_split, GridSearchCV\n",
    "\n",
    "os.chdir('/Users/hahadsg/MyProjects/MyKaggle/Titanic')"
   ]
  },
  {
   "cell_type": "markdown",
   "metadata": {},
   "source": [
    "### 数据概况"
   ]
  },
  {
   "cell_type": "code",
   "execution_count": 2,
   "metadata": {
    "collapsed": false,
    "scrolled": false
   },
   "outputs": [
    {
     "data": {
      "text/html": [
       "<div>\n",
       "<table border=\"1\" class=\"dataframe\">\n",
       "  <thead>\n",
       "    <tr style=\"text-align: right;\">\n",
       "      <th></th>\n",
       "      <th></th>\n",
       "      <th>Age</th>\n",
       "      <th>Cabin</th>\n",
       "      <th>Embarked</th>\n",
       "      <th>Fare</th>\n",
       "      <th>Name</th>\n",
       "      <th>Parch</th>\n",
       "      <th>PassengerId</th>\n",
       "      <th>Pclass</th>\n",
       "      <th>Sex</th>\n",
       "      <th>SibSp</th>\n",
       "      <th>Survived</th>\n",
       "      <th>Ticket</th>\n",
       "    </tr>\n",
       "  </thead>\n",
       "  <tbody>\n",
       "    <tr>\n",
       "      <th rowspan=\"5\" valign=\"top\">train</th>\n",
       "      <th>0</th>\n",
       "      <td>22.0</td>\n",
       "      <td>NaN</td>\n",
       "      <td>S</td>\n",
       "      <td>7.2500</td>\n",
       "      <td>Braund, Mr. Owen Harris</td>\n",
       "      <td>0</td>\n",
       "      <td>1</td>\n",
       "      <td>3</td>\n",
       "      <td>male</td>\n",
       "      <td>1</td>\n",
       "      <td>0.0</td>\n",
       "      <td>A/5 21171</td>\n",
       "    </tr>\n",
       "    <tr>\n",
       "      <th>1</th>\n",
       "      <td>38.0</td>\n",
       "      <td>C85</td>\n",
       "      <td>C</td>\n",
       "      <td>71.2833</td>\n",
       "      <td>Cumings, Mrs. John Bradley (Florence Briggs Th...</td>\n",
       "      <td>0</td>\n",
       "      <td>2</td>\n",
       "      <td>1</td>\n",
       "      <td>female</td>\n",
       "      <td>1</td>\n",
       "      <td>1.0</td>\n",
       "      <td>PC 17599</td>\n",
       "    </tr>\n",
       "    <tr>\n",
       "      <th>2</th>\n",
       "      <td>26.0</td>\n",
       "      <td>NaN</td>\n",
       "      <td>S</td>\n",
       "      <td>7.9250</td>\n",
       "      <td>Heikkinen, Miss. Laina</td>\n",
       "      <td>0</td>\n",
       "      <td>3</td>\n",
       "      <td>3</td>\n",
       "      <td>female</td>\n",
       "      <td>0</td>\n",
       "      <td>1.0</td>\n",
       "      <td>STON/O2. 3101282</td>\n",
       "    </tr>\n",
       "    <tr>\n",
       "      <th>3</th>\n",
       "      <td>35.0</td>\n",
       "      <td>C123</td>\n",
       "      <td>S</td>\n",
       "      <td>53.1000</td>\n",
       "      <td>Futrelle, Mrs. Jacques Heath (Lily May Peel)</td>\n",
       "      <td>0</td>\n",
       "      <td>4</td>\n",
       "      <td>1</td>\n",
       "      <td>female</td>\n",
       "      <td>1</td>\n",
       "      <td>1.0</td>\n",
       "      <td>113803</td>\n",
       "    </tr>\n",
       "    <tr>\n",
       "      <th>4</th>\n",
       "      <td>35.0</td>\n",
       "      <td>NaN</td>\n",
       "      <td>S</td>\n",
       "      <td>8.0500</td>\n",
       "      <td>Allen, Mr. William Henry</td>\n",
       "      <td>0</td>\n",
       "      <td>5</td>\n",
       "      <td>3</td>\n",
       "      <td>male</td>\n",
       "      <td>0</td>\n",
       "      <td>0.0</td>\n",
       "      <td>373450</td>\n",
       "    </tr>\n",
       "  </tbody>\n",
       "</table>\n",
       "</div>"
      ],
      "text/plain": [
       "          Age Cabin Embarked     Fare  \\\n",
       "train 0  22.0   NaN        S   7.2500   \n",
       "      1  38.0   C85        C  71.2833   \n",
       "      2  26.0   NaN        S   7.9250   \n",
       "      3  35.0  C123        S  53.1000   \n",
       "      4  35.0   NaN        S   8.0500   \n",
       "\n",
       "                                                      Name  Parch  \\\n",
       "train 0                            Braund, Mr. Owen Harris      0   \n",
       "      1  Cumings, Mrs. John Bradley (Florence Briggs Th...      0   \n",
       "      2                             Heikkinen, Miss. Laina      0   \n",
       "      3       Futrelle, Mrs. Jacques Heath (Lily May Peel)      0   \n",
       "      4                           Allen, Mr. William Henry      0   \n",
       "\n",
       "         PassengerId  Pclass     Sex  SibSp  Survived            Ticket  \n",
       "train 0            1       3    male      1       0.0         A/5 21171  \n",
       "      1            2       1  female      1       1.0          PC 17599  \n",
       "      2            3       3  female      0       1.0  STON/O2. 3101282  \n",
       "      3            4       1  female      1       1.0            113803  \n",
       "      4            5       3    male      0       0.0            373450  "
      ]
     },
     "execution_count": 2,
     "metadata": {},
     "output_type": "execute_result"
    }
   ],
   "source": [
    "train_df = pd.read_csv('./data/train.csv')\n",
    "test_df = pd.read_csv('./data/test.csv')\n",
    "\n",
    "full_df = pd.concat([train_df, test_df], keys=['train', 'test'])\n",
    "full_df.head()"
   ]
  },
  {
   "cell_type": "code",
   "execution_count": 3,
   "metadata": {
    "collapsed": false,
    "scrolled": false
   },
   "outputs": [
    {
     "name": "stdout",
     "output_type": "stream",
     "text": [
      "<class 'pandas.core.frame.DataFrame'>\n",
      "MultiIndex: 1309 entries, (train, 0) to (test, 417)\n",
      "Data columns (total 12 columns):\n",
      "Age            1046 non-null float64\n",
      "Cabin          295 non-null object\n",
      "Embarked       1307 non-null object\n",
      "Fare           1308 non-null float64\n",
      "Name           1309 non-null object\n",
      "Parch          1309 non-null int64\n",
      "PassengerId    1309 non-null int64\n",
      "Pclass         1309 non-null int64\n",
      "Sex            1309 non-null object\n",
      "SibSp          1309 non-null int64\n",
      "Survived       891 non-null float64\n",
      "Ticket         1309 non-null object\n",
      "dtypes: float64(3), int64(4), object(5)\n",
      "memory usage: 133.6+ KB\n"
     ]
    }
   ],
   "source": [
    "full_df.info()"
   ]
  },
  {
   "cell_type": "markdown",
   "metadata": {},
   "source": [
    "### Name\n",
    "* 提取出Title 再将Title分类 做哑变量"
   ]
  },
  {
   "cell_type": "code",
   "execution_count": 4,
   "metadata": {
    "collapsed": false
   },
   "outputs": [
    {
     "name": "stdout",
     "output_type": "stream",
     "text": [
      "处理前Title-Sex分布\n",
      "\n",
      "Title   Capt  Col  Don  Dona   Dr  Jonkheer  Lady  Major  Master   Miss  Mlle  \\\n",
      "Sex                                                                             \n",
      "female   0.0  0.0  0.0   1.0  1.0       0.0   1.0    0.0     0.0  260.0   2.0   \n",
      "male     1.0  4.0  1.0   0.0  7.0       1.0   0.0    2.0    61.0    0.0   0.0   \n",
      "\n",
      "Title   Mme     Mr    Mrs   Ms  Rev  Sir  the Countess  \n",
      "Sex                                                     \n",
      "female  1.0    0.0  197.0  2.0  0.0  0.0           1.0  \n",
      "male    0.0  757.0    0.0  0.0  8.0  1.0           0.0  \n",
      "----------------------------------------\n",
      "处理后Title-Sex分布\n",
      "\n",
      "Title   Master   Miss     Mr    Mrs  Rare Title\n",
      "Sex                                            \n",
      "female     0.0  264.0    0.0  198.0         4.0\n",
      "male      61.0    0.0  757.0    0.0        25.0\n",
      "----------------------------------------\n",
      "          Age Cabin Embarked     Fare  Parch  PassengerId  Pclass     Sex  \\\n",
      "train 0  22.0   NaN        S   7.2500      0            1       3    male   \n",
      "      1  38.0   C85        C  71.2833      0            2       1  female   \n",
      "      2  26.0   NaN        S   7.9250      0            3       3  female   \n",
      "      3  35.0  C123        S  53.1000      0            4       1  female   \n",
      "      4  35.0   NaN        S   8.0500      0            5       3    male   \n",
      "\n",
      "         SibSp  Survived            Ticket  Master  Miss  Mr  Mrs  \n",
      "train 0      1       0.0         A/5 21171       0     0   1    0  \n",
      "      1      1       1.0          PC 17599       0     0   0    1  \n",
      "      2      0       1.0  STON/O2. 3101282       0     1   0    0  \n",
      "      3      1       1.0            113803       0     0   0    1  \n",
      "      4      0       0.0            373450       0     0   1    0  \n"
     ]
    }
   ],
   "source": [
    "# Name\n",
    "# 获取Title\n",
    "title_pattern = re.compile(r'(.*, )|(\\..*)')\n",
    "full_df['Title'] = full_df['Name'].apply(lambda x: title_pattern.sub('', x))\n",
    "\n",
    "\n",
    "# 显示Title-Sex分布\n",
    "print('处理前Title-Sex分布\\n')\n",
    "print(full_df.pivot_table(index='Sex', columns='Title', values='Name', aggfunc=len).fillna(0))\n",
    "print('----------------------------------------')\n",
    "\n",
    "# 将Title分类\n",
    "rare_title_list = ['Dona', 'Lady', 'the Countess','Capt', 'Col', 'Don', 'Dr', 'Major', 'Rev', 'Sir', 'Jonkheer']\n",
    "full_df.loc[full_df['Title'].isin(rare_title_list), 'Title'] = 'Rare Title'\n",
    "full_df.loc[full_df['Title'] == 'Mlle', 'Title'] = 'Miss'\n",
    "full_df.loc[full_df['Title'] == 'Ms', 'Title'] = 'Miss'\n",
    "full_df.loc[full_df['Title'] == 'Mme', 'Title'] = 'Mrs'\n",
    "\n",
    "# 显示Title-Sex分布\n",
    "print('处理后Title-Sex分布\\n')\n",
    "print(full_df.pivot_table(index='Sex', columns='Title', values='Name', aggfunc=len).fillna(0))\n",
    "print('----------------------------------------')\n",
    "\n",
    "# 生成哑变量\n",
    "full_df = full_df.join( pd.get_dummies(full_df['Title']).drop(['Rare Title'], axis=1) )\n",
    "full_df.drop(['Title', 'Name'], axis=1, inplace=True)\n",
    "print(full_df.head())\n"
   ]
  },
  {
   "cell_type": "markdown",
   "metadata": {},
   "source": [
    "### SibSp, Parch\n",
    "* 提取出家庭人数 进而对家庭人数分类得到家庭规模 做哑变量"
   ]
  },
  {
   "cell_type": "code",
   "execution_count": 5,
   "metadata": {
    "collapsed": false
   },
   "outputs": [
    {
     "data": {
      "image/png": "[encoded data removed]",
      "text/plain": [
       "<matplotlib.figure.Figure at 0x109c66518>"
      ]
     },
     "metadata": {},
     "output_type": "display_data"
    },
    {
     "data": {
      "image/png": "[encoded data removed]",
      "text/plain": [
       "<matplotlib.figure.Figure at 0x109b3fb70>"
      ]
     },
     "metadata": {},
     "output_type": "display_data"
    }
   ],
   "source": [
    "# 家庭人数\n",
    "full_df['Family Size'] = full_df['SibSp'] + full_df['Parch'] + 1\n",
    "\n",
    "# 展示家庭人数概要\n",
    "fig, ax = plt.subplots(1,2,figsize=(15,5))\n",
    "sns.countplot(x='Family Size', data=full_df, ax=ax[0])\n",
    "sns.barplot(x='Family Size', y='Survived', data=full_df.loc['train'], ax=ax[1])\n",
    "\n",
    "# 分为单人、2~4人、4人及以上（这么分 生存几率区分明显）\n",
    "full_df.loc[full_df['Family Size'] == 1, 'Family Size Category'] = 'Singleton'\n",
    "full_df.loc[full_df['Family Size'].isin([2,3,4]), 'Family Size Category'] = 'Small Family'\n",
    "full_df.loc[full_df['Family Size'] >= 5, 'Family Size Category'] = 'Large Family'\n",
    "\n",
    "# 展示家庭规模概要\n",
    "fig, ax = plt.subplots(1,2,figsize=(15,5))\n",
    "sns.countplot(x='Family Size Category', data=full_df, ax=ax[0])\n",
    "sns.barplot(x='Family Size Category', y='Survived', data=full_df.loc['train'], ax=ax[1])\n",
    "\n",
    "# 生成哑变量\n",
    "full_df = full_df.join( pd.get_dummies(full_df['Family Size Category']).drop(['Large Family'], axis=1) )\n",
    "full_df.drop(['SibSp', 'Parch', 'Family Size', 'Family Size Category'], axis=1, inplace=True)\n"
   ]
  },
  {
   "cell_type": "markdown",
   "metadata": {},
   "source": [
    "### Embarked\n",
    "* 由于就train_df有两个缺失值 就把缺失值填补为S(最多)"
   ]
  },
  {
   "cell_type": "code",
   "execution_count": 6,
   "metadata": {
    "collapsed": false,
    "scrolled": false
   },
   "outputs": [
    {
     "data": {
      "image/png": "[encoded data removed]",
      "text/plain": [
       "<matplotlib.figure.Figure at 0x103cb7630>"
      ]
     },
     "metadata": {},
     "output_type": "display_data"
    }
   ],
   "source": [
    "# 用众数填补缺失值\n",
    "fig, (ax1, ax2) = plt.subplots(1,2,figsize=(15,5))\n",
    "full_df['Embarked'].fillna( full_df['Embarked'].dropna().mode()[0], inplace=True )\n",
    "\n",
    "# 分布\n",
    "sns.countplot(x='Embarked', data=full_df, ax=ax1)\n",
    "# 集中情况\n",
    "sns.pointplot(x='Embarked', y='Survived', data=full_df.loc['train'], ax=ax2)\n",
    "\n",
    "# 设置哑变量\n",
    "full_df = full_df.join( pd.get_dummies(full_df['Embarked'], prefix='Embarked').drop(['Embarked_S'], axis=1) )\n",
    "full_df.drop(['Embarked'], axis=1, inplace=True)\n"
   ]
  },
  {
   "cell_type": "markdown",
   "metadata": {},
   "source": [
    "### Sex\n",
    "* 分为Male, Female, Child（Age<16的为Child）"
   ]
  },
  {
   "cell_type": "code",
   "execution_count": 7,
   "metadata": {
    "collapsed": false
   },
   "outputs": [
    {
     "data": {
      "image/png": "[encoded data removed]",
      "text/plain": [
       "<matplotlib.figure.Figure at 0x10a33af60>"
      ]
     },
     "metadata": {},
     "output_type": "display_data"
    }
   ],
   "source": [
    "def get_person(passenger):\n",
    "    age, sex = passenger\n",
    "    return 'Child' if age < 16 else sex.capitalize()\n",
    "\n",
    "# 获得人的类别\n",
    "full_df['Person'] = full_df[['Age', 'Sex']].apply(get_person, axis=1)\n",
    "\n",
    "# 查看数据\n",
    "sns.pointplot(x='Person', y='Survived', data=full_df)\n",
    "\n",
    "# 设置哑变量\n",
    "full_df = full_df.join( pd.get_dummies(full_df['Person']).drop(['Male'], axis=1) )\n",
    "full_df.drop(['Person', 'Sex'], axis=1, inplace=True)"
   ]
  },
  {
   "cell_type": "markdown",
   "metadata": {},
   "source": [
    "### Age\n",
    "* 缺失值填补(mean-std) between (mean+std)"
   ]
  },
  {
   "cell_type": "code",
   "execution_count": 8,
   "metadata": {
    "collapsed": false
   },
   "outputs": [
    {
     "data": {
      "text/plain": [
       "<matplotlib.axes._subplots.AxesSubplot at 0x109b24278>"
      ]
     },
     "execution_count": 8,
     "metadata": {},
     "output_type": "execute_result"
    },
    {
     "data": {
      "image/png": "[encoded data removed]",
      "text/plain": [
       "<matplotlib.figure.Figure at 0x109b80748>"
      ]
     },
     "metadata": {},
     "output_type": "display_data"
    }
   ],
   "source": [
    "fig, ax = plt.subplots(1,2,figsize=(15,5))\n",
    "ax1.set_title('Age - original')\n",
    "ax2.set_title('Age - new')\n",
    "\n",
    "# 处理前\n",
    "full_df['Age'].hist(bins=70, ax=ax[0])\n",
    "\n",
    "# 获取均值 标准差 空值数量\n",
    "age_mean = full_df['Age'].mean()\n",
    "age_std = full_df['Age'].std()\n",
    "age_nan_cnt = full_df['Age'].isnull().sum()\n",
    "\n",
    "# 生成随机值\n",
    "age_rand = np.random.randint(age_mean - age_std, age_mean + age_std, size=age_nan_cnt)\n",
    "\n",
    "# 填补\n",
    "full_df.loc[full_df['Age'].isnull(), 'Age'] = age_rand\n",
    "\n",
    "# 处理后\n",
    "full_df['Age'].hist(bins=70, ax=ax[1])"
   ]
  },
  {
   "cell_type": "markdown",
   "metadata": {},
   "source": [
    "### Fare\n",
    "* 由于缺失值很少，直接填充均值"
   ]
  },
  {
   "cell_type": "code",
   "execution_count": 9,
   "metadata": {
    "collapsed": false,
    "scrolled": true
   },
   "outputs": [
    {
     "name": "stdout",
     "output_type": "stream",
     "text": [
      "dataset null value num: 1\n"
     ]
    },
    {
     "data": {
      "text/plain": [
       "<matplotlib.axes._subplots.AxesSubplot at 0x109b86710>"
      ]
     },
     "execution_count": 9,
     "metadata": {},
     "output_type": "execute_result"
    },
    {
     "data": {
      "image/png": "[encoded data removed]",
      "text/plain": [
       "<matplotlib.figure.Figure at 0x109faef60>"
      ]
     },
     "metadata": {},
     "output_type": "display_data"
    }
   ],
   "source": [
    "# 由于缺失值很少，直接填充均值\n",
    "print('dataset null value num:', full_df['Fare'].isnull().sum()) # output: 1\n",
    "\n",
    "# 填充均值\n",
    "full_df['Fare'].fillna( full_df['Fare'].mean(), inplace=True )\n",
    "\n",
    "fig, ax = plt.subplots(1,1,figsize=(7,5))\n",
    "full_df['Fare'].hist(bins=50, ax=ax)"
   ]
  },
  {
   "cell_type": "markdown",
   "metadata": {},
   "source": [
    "### Cabin"
   ]
  },
  {
   "cell_type": "code",
   "execution_count": 10,
   "metadata": {
    "collapsed": false
   },
   "outputs": [],
   "source": [
    "full_df['Deck'] = full_df.loc[~full_df['Cabin'].isnull(), 'Cabin'].apply(lambda x: x[0])"
   ]
  },
  {
   "cell_type": "code",
   "execution_count": 11,
   "metadata": {
    "collapsed": false,
    "scrolled": true
   },
   "outputs": [
    {
     "data": {
      "image/png": "[encoded data removed]",
      "text/plain": [
       "<matplotlib.figure.Figure at 0x109faec50>"
      ]
     },
     "metadata": {},
     "output_type": "display_data"
    }
   ],
   "source": [
    "# 显示概况\n",
    "fig, ax = plt.subplots(1,2,figsize=(15,5))\n",
    "sns.countplot(x='Deck', data=full_df, ax=ax[0])\n",
    "sns.pointplot(x='Deck', y='Survived', data=full_df.loc['train'], ax=ax[1])\n",
    "\n",
    "# 生成哑变量\n",
    "full_df = full_df.join( pd.get_dummies(full_df['Deck'], prefix='Deck').drop(['Deck_T'], axis=1) )\n",
    "full_df.drop(['Deck', 'Cabin'], axis=1, inplace=True)"
   ]
  },
  {
   "cell_type": "markdown",
   "metadata": {},
   "source": [
    "### 查看进行特征工程后数据的概况"
   ]
  },
  {
   "cell_type": "code",
   "execution_count": 12,
   "metadata": {
    "collapsed": false
   },
   "outputs": [
    {
     "name": "stdout",
     "output_type": "stream",
     "text": [
      "<class 'pandas.core.frame.DataFrame'>\n",
      "MultiIndex: 1309 entries, (train, 0) to (test, 417)\n",
      "Data columns (total 23 columns):\n",
      "Age             1309 non-null float64\n",
      "Fare            1309 non-null float64\n",
      "PassengerId     1309 non-null int64\n",
      "Pclass          1309 non-null int64\n",
      "Survived        891 non-null float64\n",
      "Ticket          1309 non-null object\n",
      "Master          1309 non-null uint8\n",
      "Miss            1309 non-null uint8\n",
      "Mr              1309 non-null uint8\n",
      "Mrs             1309 non-null uint8\n",
      "Singleton       1309 non-null uint8\n",
      "Small Family    1309 non-null uint8\n",
      "Embarked_C      1309 non-null uint8\n",
      "Embarked_Q      1309 non-null uint8\n",
      "Child           1309 non-null uint8\n",
      "Female          1309 non-null uint8\n",
      "Deck_A          1309 non-null uint8\n",
      "Deck_B          1309 non-null uint8\n",
      "Deck_C          1309 non-null uint8\n",
      "Deck_D          1309 non-null uint8\n",
      "Deck_E          1309 non-null uint8\n",
      "Deck_F          1309 non-null uint8\n",
      "Deck_G          1309 non-null uint8\n",
      "dtypes: float64(3), int64(2), object(1), uint8(17)\n",
      "memory usage: 93.9+ KB\n"
     ]
    }
   ],
   "source": [
    "full_df.info()"
   ]
  },
  {
   "cell_type": "code",
   "execution_count": 13,
   "metadata": {
    "collapsed": false
   },
   "outputs": [
    {
     "data": {
      "text/html": [
       "<div>\n",
       "<table border=\"1\" class=\"dataframe\">\n",
       "  <thead>\n",
       "    <tr style=\"text-align: right;\">\n",
       "      <th></th>\n",
       "      <th></th>\n",
       "      <th>Age</th>\n",
       "      <th>Fare</th>\n",
       "      <th>PassengerId</th>\n",
       "      <th>Pclass</th>\n",
       "      <th>Survived</th>\n",
       "      <th>Ticket</th>\n",
       "      <th>Master</th>\n",
       "      <th>Miss</th>\n",
       "      <th>Mr</th>\n",
       "      <th>Mrs</th>\n",
       "      <th>...</th>\n",
       "      <th>Embarked_Q</th>\n",
       "      <th>Child</th>\n",
       "      <th>Female</th>\n",
       "      <th>Deck_A</th>\n",
       "      <th>Deck_B</th>\n",
       "      <th>Deck_C</th>\n",
       "      <th>Deck_D</th>\n",
       "      <th>Deck_E</th>\n",
       "      <th>Deck_F</th>\n",
       "      <th>Deck_G</th>\n",
       "    </tr>\n",
       "  </thead>\n",
       "  <tbody>\n",
       "    <tr>\n",
       "      <th rowspan=\"5\" valign=\"top\">train</th>\n",
       "      <th>0</th>\n",
       "      <td>22.0</td>\n",
       "      <td>7.2500</td>\n",
       "      <td>1</td>\n",
       "      <td>3</td>\n",
       "      <td>0.0</td>\n",
       "      <td>A/5 21171</td>\n",
       "      <td>0</td>\n",
       "      <td>0</td>\n",
       "      <td>1</td>\n",
       "      <td>0</td>\n",
       "      <td>...</td>\n",
       "      <td>0</td>\n",
       "      <td>0</td>\n",
       "      <td>0</td>\n",
       "      <td>0</td>\n",
       "      <td>0</td>\n",
       "      <td>0</td>\n",
       "      <td>0</td>\n",
       "      <td>0</td>\n",
       "      <td>0</td>\n",
       "      <td>0</td>\n",
       "    </tr>\n",
       "    <tr>\n",
       "      <th>1</th>\n",
       "      <td>38.0</td>\n",
       "      <td>71.2833</td>\n",
       "      <td>2</td>\n",
       "      <td>1</td>\n",
       "      <td>1.0</td>\n",
       "      <td>PC 17599</td>\n",
       "      <td>0</td>\n",
       "      <td>0</td>\n",
       "      <td>0</td>\n",
       "      <td>1</td>\n",
       "      <td>...</td>\n",
       "      <td>0</td>\n",
       "      <td>0</td>\n",
       "      <td>1</td>\n",
       "      <td>0</td>\n",
       "      <td>0</td>\n",
       "      <td>1</td>\n",
       "      <td>0</td>\n",
       "      <td>0</td>\n",
       "      <td>0</td>\n",
       "      <td>0</td>\n",
       "    </tr>\n",
       "    <tr>\n",
       "      <th>2</th>\n",
       "      <td>26.0</td>\n",
       "      <td>7.9250</td>\n",
       "      <td>3</td>\n",
       "      <td>3</td>\n",
       "      <td>1.0</td>\n",
       "      <td>STON/O2. 3101282</td>\n",
       "      <td>0</td>\n",
       "      <td>1</td>\n",
       "      <td>0</td>\n",
       "      <td>0</td>\n",
       "      <td>...</td>\n",
       "      <td>0</td>\n",
       "      <td>0</td>\n",
       "      <td>1</td>\n",
       "      <td>0</td>\n",
       "      <td>0</td>\n",
       "      <td>0</td>\n",
       "      <td>0</td>\n",
       "      <td>0</td>\n",
       "      <td>0</td>\n",
       "      <td>0</td>\n",
       "    </tr>\n",
       "    <tr>\n",
       "      <th>3</th>\n",
       "      <td>35.0</td>\n",
       "      <td>53.1000</td>\n",
       "      <td>4</td>\n",
       "      <td>1</td>\n",
       "      <td>1.0</td>\n",
       "      <td>113803</td>\n",
       "      <td>0</td>\n",
       "      <td>0</td>\n",
       "      <td>0</td>\n",
       "      <td>1</td>\n",
       "      <td>...</td>\n",
       "      <td>0</td>\n",
       "      <td>0</td>\n",
       "      <td>1</td>\n",
       "      <td>0</td>\n",
       "      <td>0</td>\n",
       "      <td>1</td>\n",
       "      <td>0</td>\n",
       "      <td>0</td>\n",
       "      <td>0</td>\n",
       "      <td>0</td>\n",
       "    </tr>\n",
       "    <tr>\n",
       "      <th>4</th>\n",
       "      <td>35.0</td>\n",
       "      <td>8.0500</td>\n",
       "      <td>5</td>\n",
       "      <td>3</td>\n",
       "      <td>0.0</td>\n",
       "      <td>373450</td>\n",
       "      <td>0</td>\n",
       "      <td>0</td>\n",
       "      <td>1</td>\n",
       "      <td>0</td>\n",
       "      <td>...</td>\n",
       "      <td>0</td>\n",
       "      <td>0</td>\n",
       "      <td>0</td>\n",
       "      <td>0</td>\n",
       "      <td>0</td>\n",
       "      <td>0</td>\n",
       "      <td>0</td>\n",
       "      <td>0</td>\n",
       "      <td>0</td>\n",
       "      <td>0</td>\n",
       "    </tr>\n",
       "  </tbody>\n",
       "</table>\n",
       "<p>5 rows × 23 columns</p>\n",
       "</div>"
      ],
      "text/plain": [
       "          Age     Fare  PassengerId  Pclass  Survived            Ticket  \\\n",
       "train 0  22.0   7.2500            1       3       0.0         A/5 21171   \n",
       "      1  38.0  71.2833            2       1       1.0          PC 17599   \n",
       "      2  26.0   7.9250            3       3       1.0  STON/O2. 3101282   \n",
       "      3  35.0  53.1000            4       1       1.0            113803   \n",
       "      4  35.0   8.0500            5       3       0.0            373450   \n",
       "\n",
       "         Master  Miss  Mr  Mrs   ...    Embarked_Q  Child  Female  Deck_A  \\\n",
       "train 0       0     0   1    0   ...             0      0       0       0   \n",
       "      1       0     0   0    1   ...             0      0       1       0   \n",
       "      2       0     1   0    0   ...             0      0       1       0   \n",
       "      3       0     0   0    1   ...             0      0       1       0   \n",
       "      4       0     0   1    0   ...             0      0       0       0   \n",
       "\n",
       "         Deck_B  Deck_C  Deck_D  Deck_E  Deck_F  Deck_G  \n",
       "train 0       0       0       0       0       0       0  \n",
       "      1       0       1       0       0       0       0  \n",
       "      2       0       0       0       0       0       0  \n",
       "      3       0       1       0       0       0       0  \n",
       "      4       0       0       0       0       0       0  \n",
       "\n",
       "[5 rows x 23 columns]"
      ]
     },
     "execution_count": 13,
     "metadata": {},
     "output_type": "execute_result"
    }
   ],
   "source": [
    "full_df.head()"
   ]
  },
  {
   "cell_type": "markdown",
   "metadata": {},
   "source": [
    "### 获取训练/测试数据"
   ]
  },
  {
   "cell_type": "code",
   "execution_count": 14,
   "metadata": {
    "collapsed": false
   },
   "outputs": [],
   "source": [
    "# 删除没用的字段\n",
    "full_df = full_df.drop(['Ticket'], axis=1)\n",
    "\n",
    "# 训练数据\n",
    "train_df = full_df.loc['train'].drop(['PassengerId'], axis=1)\n",
    "X_train = train_df.drop(['Survived'], axis=1)\n",
    "y_train = train_df['Survived']\n",
    "\n",
    "# 需要预测的数据\n",
    "test_df = full_df.loc['test']\n",
    "# X_train, X_test, y_train, y_test = train_test_split(X_train, y_train, test_size=0.2, random_state=1)\n",
    "X_test = test_df.drop(['PassengerId', 'Survived'], axis=1)"
   ]
  },
  {
   "cell_type": "markdown",
   "metadata": {},
   "source": [
    "### 调参"
   ]
  },
  {
   "cell_type": "code",
   "execution_count": 15,
   "metadata": {
    "collapsed": false
   },
   "outputs": [
    {
     "data": {
      "text/plain": [
       "GridSearchCV(cv=None, error_score='raise',\n",
       "       estimator=RandomForestClassifier(bootstrap=True, class_weight=None, criterion='gini',\n",
       "            max_depth=None, max_features='auto', max_leaf_nodes=None,\n",
       "            min_impurity_split=1e-07, min_samples_leaf=1,\n",
       "            min_samples_split=2, min_weight_fraction_leaf=0.0,\n",
       "            n_estimators=10, n_jobs=1, oob_score=False, random_state=None,\n",
       "            verbose=0, warm_start=False),\n",
       "       fit_params={}, iid=True, n_jobs=1,\n",
       "       param_grid={'max_depth': array([ 5, 10, 15]), 'n_estimators': [100, 500, 1000, 2000]},\n",
       "       pre_dispatch='2*n_jobs', refit=True, return_train_score=True,\n",
       "       scoring=None, verbose=0)"
      ]
     },
     "execution_count": 15,
     "metadata": {},
     "output_type": "execute_result"
    }
   ],
   "source": [
    "# 对树的数量、最大深度进行调参\n",
    "parameters = {'n_estimators': [100,500,1000,2000], 'max_depth': np.linspace(5,15,3).astype(int)}\n",
    "clf = GridSearchCV(RandomForestClassifier(), parameters)\n",
    "clf.fit(X_train, y_train)"
   ]
  },
  {
   "cell_type": "code",
   "execution_count": 16,
   "metadata": {
    "collapsed": false
   },
   "outputs": [
    {
     "name": "stdout",
     "output_type": "stream",
     "text": [
      "Best params:\n",
      "{'max_depth': 10, 'n_estimators': 500}\n",
      "Best score:\n",
      "0.820426487093\n"
     ]
    }
   ],
   "source": [
    "# 最优参数情况\n",
    "print('Best params:')\n",
    "print(clf.best_params_)\n",
    "print('Best score:')\n",
    "print(clf.best_score_)"
   ]
  },
  {
   "cell_type": "markdown",
   "metadata": {},
   "source": [
    "### 训练"
   ]
  },
  {
   "cell_type": "code",
   "execution_count": 17,
   "metadata": {
    "collapsed": false,
    "scrolled": false
   },
   "outputs": [
    {
     "name": "stdout",
     "output_type": "stream",
     "text": [
      "Accuracy:\n",
      "0.939393939394\n"
     ]
    }
   ],
   "source": [
    "# random forest\n",
    "rfc = RandomForestClassifier(**clf.best_params_)\n",
    "rfc.fit(X_train, y_train)\n",
    "y_pred = rfc.predict(X_test)\n",
    "print('Accuracy:')\n",
    "print(rfc.score(X_train, y_train))"
   ]
  },
  {
   "cell_type": "code",
   "execution_count": 18,
   "metadata": {
    "collapsed": false
   },
   "outputs": [
    {
     "data": {
      "text/html": [
       "<div>\n",
       "<table border=\"1\" class=\"dataframe\">\n",
       "  <thead>\n",
       "    <tr style=\"text-align: right;\">\n",
       "      <th></th>\n",
       "      <th>Fare</th>\n",
       "      <th>Mr</th>\n",
       "      <th>Age</th>\n",
       "      <th>Female</th>\n",
       "      <th>Pclass</th>\n",
       "      <th>Miss</th>\n",
       "      <th>Mrs</th>\n",
       "      <th>Small Family</th>\n",
       "      <th>Singleton</th>\n",
       "      <th>Embarked_C</th>\n",
       "      <th>Deck_E</th>\n",
       "      <th>Child</th>\n",
       "      <th>Embarked_Q</th>\n",
       "      <th>Deck_B</th>\n",
       "      <th>Deck_D</th>\n",
       "      <th>Master</th>\n",
       "      <th>Deck_C</th>\n",
       "      <th>Deck_A</th>\n",
       "      <th>Deck_F</th>\n",
       "      <th>Deck_G</th>\n",
       "    </tr>\n",
       "  </thead>\n",
       "  <tbody>\n",
       "    <tr>\n",
       "      <th>0</th>\n",
       "      <td>0.18777</td>\n",
       "      <td>0.162888</td>\n",
       "      <td>0.159505</td>\n",
       "      <td>0.117956</td>\n",
       "      <td>0.089502</td>\n",
       "      <td>0.055601</td>\n",
       "      <td>0.046711</td>\n",
       "      <td>0.043964</td>\n",
       "      <td>0.021634</td>\n",
       "      <td>0.020696</td>\n",
       "      <td>0.016301</td>\n",
       "      <td>0.015602</td>\n",
       "      <td>0.014314</td>\n",
       "      <td>0.01086</td>\n",
       "      <td>0.010333</td>\n",
       "      <td>0.009938</td>\n",
       "      <td>0.008725</td>\n",
       "      <td>0.003174</td>\n",
       "      <td>0.002484</td>\n",
       "      <td>0.00204</td>\n",
       "    </tr>\n",
       "  </tbody>\n",
       "</table>\n",
       "</div>"
      ],
      "text/plain": [
       "      Fare        Mr       Age    Female    Pclass      Miss       Mrs  \\\n",
       "0  0.18777  0.162888  0.159505  0.117956  0.089502  0.055601  0.046711   \n",
       "\n",
       "   Small Family  Singleton  Embarked_C    Deck_E     Child  Embarked_Q  \\\n",
       "0      0.043964   0.021634    0.020696  0.016301  0.015602    0.014314   \n",
       "\n",
       "    Deck_B    Deck_D    Master    Deck_C    Deck_A    Deck_F   Deck_G  \n",
       "0  0.01086  0.010333  0.009938  0.008725  0.003174  0.002484  0.00204  "
      ]
     },
     "execution_count": 18,
     "metadata": {},
     "output_type": "execute_result"
    }
   ],
   "source": [
    "feature_importances_df = pd.DataFrame(data=[rfc.feature_importances_], columns=X_train.columns)\n",
    "feature_importances_df.sort_values(by=0, axis=1, ascending=False)"
   ]
  },
  {
   "cell_type": "markdown",
   "metadata": {},
   "source": [
    "### 将预测结果导出"
   ]
  },
  {
   "cell_type": "code",
   "execution_count": 20,
   "metadata": {
    "collapsed": true
   },
   "outputs": [],
   "source": [
    "result = pd.DataFrame({\n",
    "        'PassengerId': test_df['PassengerId'],\n",
    "        'Survived': y_pred.astype(int),\n",
    "    }\n",
    ")\n",
    "result.to_csv('./data/result.csv', index=False)"
   ]
  },
  {
   "cell_type": "code",
   "execution_count": null,
   "metadata": {
    "collapsed": true
   },
   "outputs": [],
   "source": []
  }
 ],
 "metadata": {
  "kernelspec": {
   "display_name": "Python 3",
   "language": "python",
   "name": "python3"
  },
  "language_info": {
   "codemirror_mode": {
    "name": "ipython",
    "version": 3
   },
   "file_extension": ".py",
   "mimetype": "text/x-python",
   "name": "python",
   "nbconvert_exporter": "python",
   "pygments_lexer": "ipython3",
   "version": "3.5.1"
  }
 },
 "nbformat": 4,
 "nbformat_minor": 1
}
