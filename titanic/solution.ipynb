{
 "cells": [
  {
   "cell_type": "code",
   "execution_count": 1,
   "metadata": {
    "collapsed": false
   },
   "outputs": [],
   "source": [
    "# -*- coding:utf8 -*-\n",
    "import re\n",
    "import os\n",
    "\n",
    "import pandas as pd\n",
    "import numpy as np\n",
    "import matplotlib.pyplot as plt\n",
    "% matplotlib inline\n",
    "import seaborn as sns\n",
    "sns.set_style('whitegrid')\n",
    "\n",
    "from sklearn.ensemble import RandomForestClassifier\n",
    "from sklearn.linear_model import LogisticRegression\n",
    "from sklearn.svm import SVC\n",
    "from sklearn.model_selection import train_test_split\n",
    "\n",
    "os.chdir('/Users/hahadsg/MyProjects/MyKaggle/Titanic')"
   ]
  },
  {
   "cell_type": "code",
   "execution_count": 2,
   "metadata": {
    "collapsed": false,
    "scrolled": false
   },
   "outputs": [
    {
     "data": {
      "text/html": [
       "<div>\n",
       "<table border=\"1\" class=\"dataframe\">\n",
       "  <thead>\n",
       "    <tr style=\"text-align: right;\">\n",
       "      <th></th>\n",
       "      <th>PassengerId</th>\n",
       "      <th>Survived</th>\n",
       "      <th>Pclass</th>\n",
       "      <th>Name</th>\n",
       "      <th>Sex</th>\n",
       "      <th>Age</th>\n",
       "      <th>SibSp</th>\n",
       "      <th>Parch</th>\n",
       "      <th>Ticket</th>\n",
       "      <th>Fare</th>\n",
       "      <th>Cabin</th>\n",
       "      <th>Embarked</th>\n",
       "    </tr>\n",
       "  </thead>\n",
       "  <tbody>\n",
       "    <tr>\n",
       "      <th>0</th>\n",
       "      <td>1</td>\n",
       "      <td>0</td>\n",
       "      <td>3</td>\n",
       "      <td>Braund, Mr. Owen Harris</td>\n",
       "      <td>male</td>\n",
       "      <td>22.0</td>\n",
       "      <td>1</td>\n",
       "      <td>0</td>\n",
       "      <td>A/5 21171</td>\n",
       "      <td>7.2500</td>\n",
       "      <td>NaN</td>\n",
       "      <td>S</td>\n",
       "    </tr>\n",
       "    <tr>\n",
       "      <th>1</th>\n",
       "      <td>2</td>\n",
       "      <td>1</td>\n",
       "      <td>1</td>\n",
       "      <td>Cumings, Mrs. John Bradley (Florence Briggs Th...</td>\n",
       "      <td>female</td>\n",
       "      <td>38.0</td>\n",
       "      <td>1</td>\n",
       "      <td>0</td>\n",
       "      <td>PC 17599</td>\n",
       "      <td>71.2833</td>\n",
       "      <td>C85</td>\n",
       "      <td>C</td>\n",
       "    </tr>\n",
       "    <tr>\n",
       "      <th>2</th>\n",
       "      <td>3</td>\n",
       "      <td>1</td>\n",
       "      <td>3</td>\n",
       "      <td>Heikkinen, Miss. Laina</td>\n",
       "      <td>female</td>\n",
       "      <td>26.0</td>\n",
       "      <td>0</td>\n",
       "      <td>0</td>\n",
       "      <td>STON/O2. 3101282</td>\n",
       "      <td>7.9250</td>\n",
       "      <td>NaN</td>\n",
       "      <td>S</td>\n",
       "    </tr>\n",
       "    <tr>\n",
       "      <th>3</th>\n",
       "      <td>4</td>\n",
       "      <td>1</td>\n",
       "      <td>1</td>\n",
       "      <td>Futrelle, Mrs. Jacques Heath (Lily May Peel)</td>\n",
       "      <td>female</td>\n",
       "      <td>35.0</td>\n",
       "      <td>1</td>\n",
       "      <td>0</td>\n",
       "      <td>113803</td>\n",
       "      <td>53.1000</td>\n",
       "      <td>C123</td>\n",
       "      <td>S</td>\n",
       "    </tr>\n",
       "    <tr>\n",
       "      <th>4</th>\n",
       "      <td>5</td>\n",
       "      <td>0</td>\n",
       "      <td>3</td>\n",
       "      <td>Allen, Mr. William Henry</td>\n",
       "      <td>male</td>\n",
       "      <td>35.0</td>\n",
       "      <td>0</td>\n",
       "      <td>0</td>\n",
       "      <td>373450</td>\n",
       "      <td>8.0500</td>\n",
       "      <td>NaN</td>\n",
       "      <td>S</td>\n",
       "    </tr>\n",
       "  </tbody>\n",
       "</table>\n",
       "</div>"
      ],
      "text/plain": [
       "   PassengerId  Survived  Pclass  \\\n",
       "0            1         0       3   \n",
       "1            2         1       1   \n",
       "2            3         1       3   \n",
       "3            4         1       1   \n",
       "4            5         0       3   \n",
       "\n",
       "                                                Name     Sex   Age  SibSp  \\\n",
       "0                            Braund, Mr. Owen Harris    male  22.0      1   \n",
       "1  Cumings, Mrs. John Bradley (Florence Briggs Th...  female  38.0      1   \n",
       "2                             Heikkinen, Miss. Laina  female  26.0      0   \n",
       "3       Futrelle, Mrs. Jacques Heath (Lily May Peel)  female  35.0      1   \n",
       "4                           Allen, Mr. William Henry    male  35.0      0   \n",
       "\n",
       "   Parch            Ticket     Fare Cabin Embarked  \n",
       "0      0         A/5 21171   7.2500   NaN        S  \n",
       "1      0          PC 17599  71.2833   C85        C  \n",
       "2      0  STON/O2. 3101282   7.9250   NaN        S  \n",
       "3      0            113803  53.1000  C123        S  \n",
       "4      0            373450   8.0500   NaN        S  "
      ]
     },
     "execution_count": 2,
     "metadata": {},
     "output_type": "execute_result"
    }
   ],
   "source": [
    "train_df = pd.read_csv('./data/train.csv')\n",
    "test_df = pd.read_csv('./data/test.csv')\n",
    "\n",
    "train_df.head()"
   ]
  },
  {
   "cell_type": "code",
   "execution_count": 3,
   "metadata": {
    "collapsed": false,
    "scrolled": false
   },
   "outputs": [
    {
     "name": "stdout",
     "output_type": "stream",
     "text": [
      "<class 'pandas.core.frame.DataFrame'>\n",
      "RangeIndex: 891 entries, 0 to 890\n",
      "Data columns (total 12 columns):\n",
      "PassengerId    891 non-null int64\n",
      "Survived       891 non-null int64\n",
      "Pclass         891 non-null int64\n",
      "Name           891 non-null object\n",
      "Sex            891 non-null object\n",
      "Age            714 non-null float64\n",
      "SibSp          891 non-null int64\n",
      "Parch          891 non-null int64\n",
      "Ticket         891 non-null object\n",
      "Fare           891 non-null float64\n",
      "Cabin          204 non-null object\n",
      "Embarked       889 non-null object\n",
      "dtypes: float64(2), int64(5), object(5)\n",
      "memory usage: 83.6+ KB\n",
      "----------------------------------------\n",
      "<class 'pandas.core.frame.DataFrame'>\n",
      "RangeIndex: 418 entries, 0 to 417\n",
      "Data columns (total 11 columns):\n",
      "PassengerId    418 non-null int64\n",
      "Pclass         418 non-null int64\n",
      "Name           418 non-null object\n",
      "Sex            418 non-null object\n",
      "Age            332 non-null float64\n",
      "SibSp          418 non-null int64\n",
      "Parch          418 non-null int64\n",
      "Ticket         418 non-null object\n",
      "Fare           417 non-null float64\n",
      "Cabin          91 non-null object\n",
      "Embarked       418 non-null object\n",
      "dtypes: float64(2), int64(4), object(5)\n",
      "memory usage: 36.0+ KB\n"
     ]
    }
   ],
   "source": [
    "train_df.info()\n",
    "print('----------------------------------------')\n",
    "test_df.info()"
   ]
  },
  {
   "cell_type": "code",
   "execution_count": 4,
   "metadata": {
    "collapsed": false,
    "scrolled": false
   },
   "outputs": [],
   "source": [
    "# 删除没用的字段\n",
    "train_df = train_df.drop(['PassengerId', 'Ticket', 'Cabin'], axis=1)\n",
    "test_df = test_df.drop(['Ticket', 'Cabin'], axis=1)"
   ]
  },
  {
   "cell_type": "code",
   "execution_count": 5,
   "metadata": {
    "collapsed": false
   },
   "outputs": [
    {
     "name": "stdout",
     "output_type": "stream",
     "text": [
      "处理前Title-Sex分布\n",
      "\n",
      "Title   Capt  Col  Don   Dr  Jonkheer  Lady  Major  Master   Miss  Mlle  Mme  \\\n",
      "Sex                                                                            \n",
      "female   0.0  0.0  0.0  1.0       0.0   1.0    0.0     0.0  182.0   2.0  1.0   \n",
      "male     1.0  2.0  1.0  6.0       1.0   0.0    2.0    40.0    0.0   0.0  0.0   \n",
      "\n",
      "Title      Mr    Mrs   Ms  Rev  Sir  the Countess  \n",
      "Sex                                                \n",
      "female    0.0  125.0  1.0  0.0  0.0           1.0  \n",
      "male    517.0    0.0  0.0  6.0  1.0           0.0  \n",
      "----------------------------------------\n",
      "处理后Title-Sex分布\n",
      "\n",
      "Title   Master   Miss     Mr    Mrs  Rare Title\n",
      "Sex                                            \n",
      "female     0.0  185.0    0.0  126.0         3.0\n",
      "male      40.0    0.0  517.0    0.0        20.0\n",
      "----------------------------------------\n",
      "   Survived  Pclass     Sex   Age  SibSp  Parch     Fare Embarked  Master  \\\n",
      "0         0       3    male  22.0      1      0   7.2500        S       0   \n",
      "1         1       1  female  38.0      1      0  71.2833        C       0   \n",
      "2         1       3  female  26.0      0      0   7.9250        S       0   \n",
      "3         1       1  female  35.0      1      0  53.1000        S       0   \n",
      "4         0       3    male  35.0      0      0   8.0500        S       0   \n",
      "\n",
      "   Miss  Mr  Mrs  \n",
      "0     0   1    0  \n",
      "1     0   0    1  \n",
      "2     1   0    0  \n",
      "3     0   0    1  \n",
      "4     0   1    0  \n",
      "----------------------------------------\n",
      "   PassengerId  Pclass     Sex   Age  SibSp  Parch     Fare Embarked  Master  \\\n",
      "0          892       3    male  34.5      0      0   7.8292        Q       0   \n",
      "1          893       3  female  47.0      1      0   7.0000        S       0   \n",
      "2          894       2    male  62.0      0      0   9.6875        Q       0   \n",
      "3          895       3    male  27.0      0      0   8.6625        S       0   \n",
      "4          896       3  female  22.0      1      1  12.2875        S       0   \n",
      "\n",
      "   Miss  Mr  Mrs  \n",
      "0     0   1    0  \n",
      "1     0   0    1  \n",
      "2     0   1    0  \n",
      "3     0   1    0  \n",
      "4     0   0    1  \n"
     ]
    }
   ],
   "source": [
    "# Name\n",
    "# 获取Title\n",
    "title_pattern = re.compile(r'(.*, )|(\\..*)')\n",
    "train_df['Title'] = train_df['Name'].apply(lambda x: title_pattern.sub('', x))\n",
    "test_df['Title'] = test_df['Name'].apply(lambda x: title_pattern.sub('', x))\n",
    "\n",
    "# 显示Title-Sex分布\n",
    "print('处理前Title-Sex分布\\n')\n",
    "print(train_df.pivot_table(index='Sex', columns='Title', values='Name', aggfunc=len).fillna(0))\n",
    "print('----------------------------------------')\n",
    "\n",
    "# 将Title分类\n",
    "rare_title_list = ['Dona', 'Lady', 'the Countess','Capt', 'Col', 'Don', 'Dr', 'Major', 'Rev', 'Sir', 'Jonkheer']\n",
    "train_df.loc[train_df['Title'].isin(rare_title_list), 'Title'] = 'Rare Title'\n",
    "train_df.loc[train_df['Title'] == 'Mlle', 'Title'] = 'Miss'\n",
    "train_df.loc[train_df['Title'] == 'Ms', 'Title'] = 'Miss'\n",
    "train_df.loc[train_df['Title'] == 'Mme', 'Title'] = 'Mrs'\n",
    "test_df.loc[test_df['Title'].isin(rare_title_list), 'Title'] = 'Rare Title'\n",
    "test_df.loc[test_df['Title'] == 'Mlle', 'Title'] = 'Miss'\n",
    "test_df.loc[test_df['Title'] == 'Ms', 'Title'] = 'Miss'\n",
    "test_df.loc[test_df['Title'] == 'Mme', 'Title'] = 'Mrs'\n",
    "\n",
    "# 显示Title-Sex分布\n",
    "print('处理后Title-Sex分布\\n')\n",
    "print(train_df.pivot_table(index='Sex', columns='Title', values='Name', aggfunc=len).fillna(0))\n",
    "print('----------------------------------------')\n",
    "\n",
    "# 生成哑变量\n",
    "train_df = train_df.join( pd.get_dummies(train_df['Title']).drop(['Rare Title'], axis=1) )\n",
    "test_df = test_df.join( pd.get_dummies(test_df['Title']).drop(['Rare Title'], axis=1) )\n",
    "train_df.drop(['Title', 'Name'], axis=1, inplace=True)\n",
    "test_df.drop(['Title', 'Name'], axis=1, inplace=True)\n",
    "print(train_df.head())\n",
    "print('----------------------------------------')\n",
    "print(test_df.head())"
   ]
  },
  {
   "cell_type": "code",
   "execution_count": 6,
   "metadata": {
    "collapsed": false,
    "scrolled": false
   },
   "outputs": [
    {
     "data": {
      "image/png": "[encoded data removed]",
      "text/plain": [
       "<matplotlib.figure.Figure at 0x103eab390>"
      ]
     },
     "metadata": {},
     "output_type": "display_data"
    }
   ],
   "source": [
    "# Embarked\n",
    "# 处理：由于就train_df有两个缺失值 就把缺失值填补为S(最多)\n",
    "fig, (ax1, ax2) = plt.subplots(1,2,figsize=(15,5))\n",
    "train_df['Embarked'].fillna( train_df['Embarked'].dropna().mode()[0], inplace=True )\n",
    "\n",
    "# 分布\n",
    "sns.countplot(x='Embarked', data=train_df, ax=ax1)\n",
    "# 集中情况\n",
    "sns.pointplot(x='Embarked', y='Survived', data=train_df, ax=ax2)\n",
    "\n",
    "# 设置哑变量\n",
    "train_df = train_df.join( pd.get_dummies(train_df['Embarked']).drop(['S'], axis=1) )\n",
    "test_df = test_df.join( pd.get_dummies(test_df['Embarked']).drop(['S'], axis=1) )\n",
    "train_df.drop(['Embarked'], axis=1, inplace=True)\n",
    "test_df.drop(['Embarked'], axis=1, inplace=True)\n"
   ]
  },
  {
   "cell_type": "code",
   "execution_count": 7,
   "metadata": {
    "collapsed": false
   },
   "outputs": [
    {
     "data": {
      "text/html": [
       "<div>\n",
       "<table border=\"1\" class=\"dataframe\">\n",
       "  <thead>\n",
       "    <tr style=\"text-align: right;\">\n",
       "      <th></th>\n",
       "      <th>Survived</th>\n",
       "      <th>Pclass</th>\n",
       "      <th>Sex</th>\n",
       "      <th>Age</th>\n",
       "      <th>SibSp</th>\n",
       "      <th>Parch</th>\n",
       "      <th>Fare</th>\n",
       "      <th>Master</th>\n",
       "      <th>Miss</th>\n",
       "      <th>Mr</th>\n",
       "      <th>Mrs</th>\n",
       "      <th>C</th>\n",
       "      <th>Q</th>\n",
       "    </tr>\n",
       "  </thead>\n",
       "  <tbody>\n",
       "    <tr>\n",
       "      <th>0</th>\n",
       "      <td>0</td>\n",
       "      <td>3</td>\n",
       "      <td>male</td>\n",
       "      <td>22.0</td>\n",
       "      <td>1</td>\n",
       "      <td>0</td>\n",
       "      <td>7.2500</td>\n",
       "      <td>0</td>\n",
       "      <td>0</td>\n",
       "      <td>1</td>\n",
       "      <td>0</td>\n",
       "      <td>0</td>\n",
       "      <td>0</td>\n",
       "    </tr>\n",
       "    <tr>\n",
       "      <th>1</th>\n",
       "      <td>1</td>\n",
       "      <td>1</td>\n",
       "      <td>female</td>\n",
       "      <td>38.0</td>\n",
       "      <td>1</td>\n",
       "      <td>0</td>\n",
       "      <td>71.2833</td>\n",
       "      <td>0</td>\n",
       "      <td>0</td>\n",
       "      <td>0</td>\n",
       "      <td>1</td>\n",
       "      <td>1</td>\n",
       "      <td>0</td>\n",
       "    </tr>\n",
       "    <tr>\n",
       "      <th>2</th>\n",
       "      <td>1</td>\n",
       "      <td>3</td>\n",
       "      <td>female</td>\n",
       "      <td>26.0</td>\n",
       "      <td>0</td>\n",
       "      <td>0</td>\n",
       "      <td>7.9250</td>\n",
       "      <td>0</td>\n",
       "      <td>1</td>\n",
       "      <td>0</td>\n",
       "      <td>0</td>\n",
       "      <td>0</td>\n",
       "      <td>0</td>\n",
       "    </tr>\n",
       "    <tr>\n",
       "      <th>3</th>\n",
       "      <td>1</td>\n",
       "      <td>1</td>\n",
       "      <td>female</td>\n",
       "      <td>35.0</td>\n",
       "      <td>1</td>\n",
       "      <td>0</td>\n",
       "      <td>53.1000</td>\n",
       "      <td>0</td>\n",
       "      <td>0</td>\n",
       "      <td>0</td>\n",
       "      <td>1</td>\n",
       "      <td>0</td>\n",
       "      <td>0</td>\n",
       "    </tr>\n",
       "    <tr>\n",
       "      <th>4</th>\n",
       "      <td>0</td>\n",
       "      <td>3</td>\n",
       "      <td>male</td>\n",
       "      <td>35.0</td>\n",
       "      <td>0</td>\n",
       "      <td>0</td>\n",
       "      <td>8.0500</td>\n",
       "      <td>0</td>\n",
       "      <td>0</td>\n",
       "      <td>1</td>\n",
       "      <td>0</td>\n",
       "      <td>0</td>\n",
       "      <td>0</td>\n",
       "    </tr>\n",
       "  </tbody>\n",
       "</table>\n",
       "</div>"
      ],
      "text/plain": [
       "   Survived  Pclass     Sex   Age  SibSp  Parch     Fare  Master  Miss  Mr  \\\n",
       "0         0       3    male  22.0      1      0   7.2500       0     0   1   \n",
       "1         1       1  female  38.0      1      0  71.2833       0     0   0   \n",
       "2         1       3  female  26.0      0      0   7.9250       0     1   0   \n",
       "3         1       1  female  35.0      1      0  53.1000       0     0   0   \n",
       "4         0       3    male  35.0      0      0   8.0500       0     0   1   \n",
       "\n",
       "   Mrs  C  Q  \n",
       "0    0  0  0  \n",
       "1    1  1  0  \n",
       "2    0  0  0  \n",
       "3    1  0  0  \n",
       "4    0  0  0  "
      ]
     },
     "execution_count": 7,
     "metadata": {},
     "output_type": "execute_result"
    }
   ],
   "source": [
    "train_df.head()"
   ]
  },
  {
   "cell_type": "code",
   "execution_count": 8,
   "metadata": {
    "collapsed": false
   },
   "outputs": [
    {
     "data": {
      "image/png": "[encoded data removed]",
      "text/plain": [
       "<matplotlib.figure.Figure at 0x109395e10>"
      ]
     },
     "metadata": {},
     "output_type": "display_data"
    }
   ],
   "source": [
    "# Sex\n",
    "# 处理：分为Male, Female, Child（Age<16的为Child）\n",
    "def get_person(passenger):\n",
    "    age, sex = passenger\n",
    "    return 'Child' if age < 16 else sex.capitalize()\n",
    "\n",
    "train_df['Person'] = train_df[['Age', 'Sex']].apply(get_person, axis=1)\n",
    "test_df['Person'] = test_df[['Age', 'Sex']].apply(get_person, axis=1)\n",
    "\n",
    "# Sex字段没有用了 去掉\n",
    "train_df.drop(['Sex'], axis=1, inplace=True)\n",
    "test_df.drop(['Sex'], axis=1, inplace=True)\n",
    "\n",
    "# 查看数据\n",
    "sns.pointplot(x='Person', y='Survived', data=train_df)\n",
    "\n",
    "# 设置哑变量\n",
    "train_df = train_df.join( pd.get_dummies(train_df['Person']).drop(['Male'], axis=1) )\n",
    "test_df = test_df.join( pd.get_dummies(test_df['Person']).drop(['Male'], axis=1) )\n",
    "train_df.drop(['Person'], axis=1, inplace=True)\n",
    "test_df.drop(['Person'], axis=1, inplace=True)"
   ]
  },
  {
   "cell_type": "code",
   "execution_count": 9,
   "metadata": {
    "collapsed": false
   },
   "outputs": [
    {
     "data": {
      "text/html": [
       "<div>\n",
       "<table border=\"1\" class=\"dataframe\">\n",
       "  <thead>\n",
       "    <tr style=\"text-align: right;\">\n",
       "      <th></th>\n",
       "      <th>Survived</th>\n",
       "      <th>Pclass</th>\n",
       "      <th>Age</th>\n",
       "      <th>SibSp</th>\n",
       "      <th>Parch</th>\n",
       "      <th>Fare</th>\n",
       "      <th>Master</th>\n",
       "      <th>Miss</th>\n",
       "      <th>Mr</th>\n",
       "      <th>Mrs</th>\n",
       "      <th>C</th>\n",
       "      <th>Q</th>\n",
       "      <th>Child</th>\n",
       "      <th>Female</th>\n",
       "    </tr>\n",
       "  </thead>\n",
       "  <tbody>\n",
       "    <tr>\n",
       "      <th>0</th>\n",
       "      <td>0</td>\n",
       "      <td>3</td>\n",
       "      <td>22.0</td>\n",
       "      <td>1</td>\n",
       "      <td>0</td>\n",
       "      <td>7.2500</td>\n",
       "      <td>0</td>\n",
       "      <td>0</td>\n",
       "      <td>1</td>\n",
       "      <td>0</td>\n",
       "      <td>0</td>\n",
       "      <td>0</td>\n",
       "      <td>0</td>\n",
       "      <td>0</td>\n",
       "    </tr>\n",
       "    <tr>\n",
       "      <th>1</th>\n",
       "      <td>1</td>\n",
       "      <td>1</td>\n",
       "      <td>38.0</td>\n",
       "      <td>1</td>\n",
       "      <td>0</td>\n",
       "      <td>71.2833</td>\n",
       "      <td>0</td>\n",
       "      <td>0</td>\n",
       "      <td>0</td>\n",
       "      <td>1</td>\n",
       "      <td>1</td>\n",
       "      <td>0</td>\n",
       "      <td>0</td>\n",
       "      <td>1</td>\n",
       "    </tr>\n",
       "    <tr>\n",
       "      <th>2</th>\n",
       "      <td>1</td>\n",
       "      <td>3</td>\n",
       "      <td>26.0</td>\n",
       "      <td>0</td>\n",
       "      <td>0</td>\n",
       "      <td>7.9250</td>\n",
       "      <td>0</td>\n",
       "      <td>1</td>\n",
       "      <td>0</td>\n",
       "      <td>0</td>\n",
       "      <td>0</td>\n",
       "      <td>0</td>\n",
       "      <td>0</td>\n",
       "      <td>1</td>\n",
       "    </tr>\n",
       "    <tr>\n",
       "      <th>3</th>\n",
       "      <td>1</td>\n",
       "      <td>1</td>\n",
       "      <td>35.0</td>\n",
       "      <td>1</td>\n",
       "      <td>0</td>\n",
       "      <td>53.1000</td>\n",
       "      <td>0</td>\n",
       "      <td>0</td>\n",
       "      <td>0</td>\n",
       "      <td>1</td>\n",
       "      <td>0</td>\n",
       "      <td>0</td>\n",
       "      <td>0</td>\n",
       "      <td>1</td>\n",
       "    </tr>\n",
       "    <tr>\n",
       "      <th>4</th>\n",
       "      <td>0</td>\n",
       "      <td>3</td>\n",
       "      <td>35.0</td>\n",
       "      <td>0</td>\n",
       "      <td>0</td>\n",
       "      <td>8.0500</td>\n",
       "      <td>0</td>\n",
       "      <td>0</td>\n",
       "      <td>1</td>\n",
       "      <td>0</td>\n",
       "      <td>0</td>\n",
       "      <td>0</td>\n",
       "      <td>0</td>\n",
       "      <td>0</td>\n",
       "    </tr>\n",
       "  </tbody>\n",
       "</table>\n",
       "</div>"
      ],
      "text/plain": [
       "   Survived  Pclass   Age  SibSp  Parch     Fare  Master  Miss  Mr  Mrs  C  Q  \\\n",
       "0         0       3  22.0      1      0   7.2500       0     0   1    0  0  0   \n",
       "1         1       1  38.0      1      0  71.2833       0     0   0    1  1  0   \n",
       "2         1       3  26.0      0      0   7.9250       0     1   0    0  0  0   \n",
       "3         1       1  35.0      1      0  53.1000       0     0   0    1  0  0   \n",
       "4         0       3  35.0      0      0   8.0500       0     0   1    0  0  0   \n",
       "\n",
       "   Child  Female  \n",
       "0      0       0  \n",
       "1      0       1  \n",
       "2      0       1  \n",
       "3      0       1  \n",
       "4      0       0  "
      ]
     },
     "execution_count": 9,
     "metadata": {},
     "output_type": "execute_result"
    }
   ],
   "source": [
    "train_df.head()"
   ]
  },
  {
   "cell_type": "code",
   "execution_count": 10,
   "metadata": {
    "collapsed": false
   },
   "outputs": [
    {
     "name": "stderr",
     "output_type": "stream",
     "text": [
      "/Library/Frameworks/Python.framework/Versions/3.5/lib/python3.5/site-packages/ipykernel/__main__.py:27: SettingWithCopyWarning: \n",
      "A value is trying to be set on a copy of a slice from a DataFrame\n",
      "\n",
      "See the caveats in the documentation: http://pandas.pydata.org/pandas-docs/stable/indexing.html#indexing-view-versus-copy\n",
      "/Library/Frameworks/Python.framework/Versions/3.5/lib/python3.5/site-packages/ipykernel/__main__.py:28: SettingWithCopyWarning: \n",
      "A value is trying to be set on a copy of a slice from a DataFrame\n",
      "\n",
      "See the caveats in the documentation: http://pandas.pydata.org/pandas-docs/stable/indexing.html#indexing-view-versus-copy\n"
     ]
    },
    {
     "data": {
      "text/plain": [
       "<matplotlib.axes._subplots.AxesSubplot at 0x1098fecc0>"
      ]
     },
     "execution_count": 10,
     "metadata": {},
     "output_type": "execute_result"
    },
    {
     "data": {
      "image/png": "[encoded data removed]",
      "text/plain": [
       "<matplotlib.figure.Figure at 0x109399358>"
      ]
     },
     "metadata": {},
     "output_type": "display_data"
    }
   ],
   "source": [
    "# Age\n",
    "# 处理：填补(mean-std) between (mean+std)\n",
    "fig, ((ax1, ax2), (ax3, ax4)) = plt.subplots(2,2,figsize=(15,10))\n",
    "ax1.set_title('Age - train - original')\n",
    "ax2.set_title('Age - train - new')\n",
    "ax3.set_title('Age - test - original')\n",
    "ax4.set_title('Age - test - new')\n",
    "\n",
    "# 处理前\n",
    "train_df['Age'].hist(bins=70, ax=ax1)\n",
    "test_df['Age'].hist(bins=70, ax=ax3)\n",
    "\n",
    "# 获取均值 标准差 空值数量\n",
    "train_age_mean = train_df['Age'].mean()\n",
    "train_age_std = train_df['Age'].std()\n",
    "train_age_nan_cnt = train_df['Age'].isnull().sum()\n",
    "\n",
    "test_age_mean = test_df['Age'].mean()\n",
    "test_age_std = test_df['Age'].std()\n",
    "test_age_nan_cnt = test_df['Age'].isnull().sum()\n",
    "\n",
    "# 生成随机值\n",
    "train_rand = np.random.randint(train_age_mean - train_age_std, train_age_mean + train_age_std, size=train_age_nan_cnt)\n",
    "test_rand = np.random.randint(test_age_mean - test_age_std, test_age_mean + test_age_std, size=test_age_nan_cnt)\n",
    "\n",
    "# 填补\n",
    "train_df['Age'][train_df['Age'].isnull()] = train_rand\n",
    "test_df['Age'][test_df['Age'].isnull()] = test_rand\n",
    "\n",
    "# 处理后\n",
    "train_df['Age'].hist(bins=70, ax=ax2)\n",
    "test_df['Age'].hist(bins=70, ax=ax4)"
   ]
  },
  {
   "cell_type": "code",
   "execution_count": 11,
   "metadata": {
    "collapsed": false
   },
   "outputs": [
    {
     "name": "stdout",
     "output_type": "stream",
     "text": [
      "train dataset null value num: 0\n",
      "test dataset null value num: 1\n"
     ]
    },
    {
     "data": {
      "text/plain": [
       "<matplotlib.axes._subplots.AxesSubplot at 0x10a12fda0>"
      ]
     },
     "execution_count": 11,
     "metadata": {},
     "output_type": "execute_result"
    },
    {
     "data": {
      "image/png": "[encoded data removed]",
      "text/plain": [
       "<matplotlib.figure.Figure at 0x109991320>"
      ]
     },
     "metadata": {},
     "output_type": "display_data"
    }
   ],
   "source": [
    "# Fare\n",
    "# 处理：由于缺失值很少，直接填充均值\n",
    "print('train dataset null value num:', train_df['Fare'].isnull().sum()) # output: 0\n",
    "print('test dataset null value num:', test_df['Fare'].isnull().sum()) # output: 1\n",
    "\n",
    "# 填充均值\n",
    "train_df['Fare'].fillna( train_df['Fare'].mean(), inplace=True )\n",
    "test_df['Fare'].fillna( test_df['Fare'].mean(), inplace=True )\n",
    "\n",
    "fig, (ax1, ax2) = plt.subplots(1,2,figsize=(15,5))\n",
    "train_df['Fare'].hist(bins=50, ax=ax1)\n",
    "test_df['Fare'].hist(bins=50, ax=ax2)"
   ]
  },
  {
   "cell_type": "code",
   "execution_count": 12,
   "metadata": {
    "collapsed": false
   },
   "outputs": [],
   "source": [
    "# 训练数据\n",
    "X_train = train_df.drop(['Survived'], axis=1)\n",
    "y_train = train_df['Survived']\n",
    "\n",
    "# X_train, X_test, y_train, y_test = train_test_split(X_train, y_train, test_size=0.2, random_state=1)\n",
    "X_test = test_df.drop(['PassengerId'], axis=1)"
   ]
  },
  {
   "cell_type": "code",
   "execution_count": 13,
   "metadata": {
    "collapsed": false,
    "scrolled": false
   },
   "outputs": [
    {
     "name": "stdout",
     "output_type": "stream",
     "text": [
      "0.94051627385\n"
     ]
    }
   ],
   "source": [
    "# random forest\n",
    "random_forest = RandomForestClassifier(n_estimators=100, max_depth=10)\n",
    "random_forest.fit(X_train, y_train)\n",
    "y_pred = random_forest.predict(X_test)\n",
    "print(random_forest.score(X_train, y_train))\n",
    "# print(random_forest.score(X_test, y_test))"
   ]
  },
  {
   "cell_type": "code",
   "execution_count": 14,
   "metadata": {
    "collapsed": false
   },
   "outputs": [
    {
     "data": {
      "text/html": [
       "<div>\n",
       "<table border=\"1\" class=\"dataframe\">\n",
       "  <thead>\n",
       "    <tr style=\"text-align: right;\">\n",
       "      <th></th>\n",
       "      <th>Fare</th>\n",
       "      <th>Age</th>\n",
       "      <th>Mr</th>\n",
       "      <th>Female</th>\n",
       "      <th>Pclass</th>\n",
       "      <th>SibSp</th>\n",
       "      <th>Miss</th>\n",
       "      <th>Mrs</th>\n",
       "      <th>Parch</th>\n",
       "      <th>Child</th>\n",
       "      <th>C</th>\n",
       "      <th>Q</th>\n",
       "      <th>Master</th>\n",
       "    </tr>\n",
       "  </thead>\n",
       "  <tbody>\n",
       "    <tr>\n",
       "      <th>0</th>\n",
       "      <td>0.201967</td>\n",
       "      <td>0.164391</td>\n",
       "      <td>0.154645</td>\n",
       "      <td>0.137814</td>\n",
       "      <td>0.094726</td>\n",
       "      <td>0.06245</td>\n",
       "      <td>0.04843</td>\n",
       "      <td>0.039756</td>\n",
       "      <td>0.035208</td>\n",
       "      <td>0.021263</td>\n",
       "      <td>0.016889</td>\n",
       "      <td>0.012818</td>\n",
       "      <td>0.009645</td>\n",
       "    </tr>\n",
       "  </tbody>\n",
       "</table>\n",
       "</div>"
      ],
      "text/plain": [
       "       Fare       Age        Mr    Female    Pclass    SibSp     Miss  \\\n",
       "0  0.201967  0.164391  0.154645  0.137814  0.094726  0.06245  0.04843   \n",
       "\n",
       "        Mrs     Parch     Child         C         Q    Master  \n",
       "0  0.039756  0.035208  0.021263  0.016889  0.012818  0.009645  "
      ]
     },
     "execution_count": 14,
     "metadata": {},
     "output_type": "execute_result"
    }
   ],
   "source": [
    "feature_importances_df = pd.DataFrame(data=[random_forest.feature_importances_], columns=X_train.columns)\n",
    "feature_importances_df.sort_values(by=0, axis=1, ascending=False)"
   ]
  },
  {
   "cell_type": "code",
   "execution_count": 15,
   "metadata": {
    "collapsed": false
   },
   "outputs": [],
   "source": [
    "# Logistic Regression\n",
    "# logistic_regression = LogisticRegression()\n",
    "# logistic_regression.fit(X_train, y_train)\n",
    "# # y_pred = logistic_regression.predict(X_test)\n",
    "# print(logistic_regression.score(X_train, y_train))\n",
    "# print(logistic_regression.score(X_test, y_test))"
   ]
  },
  {
   "cell_type": "code",
   "execution_count": 16,
   "metadata": {
    "collapsed": false
   },
   "outputs": [],
   "source": [
    "# SVM\n",
    "# svc = SVC()\n",
    "# svc.fit(X_train, y_train)\n",
    "# # y_pred = svc.predict(X_test)\n",
    "# print(svc.score(X_train, y_train))\n",
    "# print(svc.score(X_test, y_test))"
   ]
  },
  {
   "cell_type": "code",
   "execution_count": 17,
   "metadata": {
    "collapsed": true
   },
   "outputs": [],
   "source": [
    "result = pd.DataFrame({\n",
    "        'PassengerId': test_df['PassengerId'],\n",
    "        'Survived': y_pred,\n",
    "    }\n",
    ")\n",
    "result.to_csv('./data/result.csv', index=False)"
   ]
  },
  {
   "cell_type": "code",
   "execution_count": 18,
   "metadata": {
    "collapsed": false
   },
   "outputs": [
    {
     "name": "stdout",
     "output_type": "stream",
     "text": [
      "<class 'pandas.core.frame.DataFrame'>\n",
      "RangeIndex: 891 entries, 0 to 890\n",
      "Data columns (total 14 columns):\n",
      "Survived    891 non-null int64\n",
      "Pclass      891 non-null int64\n",
      "Age         891 non-null float64\n",
      "SibSp       891 non-null int64\n",
      "Parch       891 non-null int64\n",
      "Fare        891 non-null float64\n",
      "Master      891 non-null uint8\n",
      "Miss        891 non-null uint8\n",
      "Mr          891 non-null uint8\n",
      "Mrs         891 non-null uint8\n",
      "C           891 non-null uint8\n",
      "Q           891 non-null uint8\n",
      "Child       891 non-null uint8\n",
      "Female      891 non-null uint8\n",
      "dtypes: float64(2), int64(4), uint8(8)\n",
      "memory usage: 48.8 KB\n",
      "----------------------------------------\n",
      "<class 'pandas.core.frame.DataFrame'>\n",
      "RangeIndex: 418 entries, 0 to 417\n",
      "Data columns (total 14 columns):\n",
      "PassengerId    418 non-null int64\n",
      "Pclass         418 non-null int64\n",
      "Age            418 non-null float64\n",
      "SibSp          418 non-null int64\n",
      "Parch          418 non-null int64\n",
      "Fare           418 non-null float64\n",
      "Master         418 non-null uint8\n",
      "Miss           418 non-null uint8\n",
      "Mr             418 non-null uint8\n",
      "Mrs            418 non-null uint8\n",
      "C              418 non-null uint8\n",
      "Q              418 non-null uint8\n",
      "Child          418 non-null uint8\n",
      "Female         418 non-null uint8\n",
      "dtypes: float64(2), int64(4), uint8(8)\n",
      "memory usage: 22.9 KB\n"
     ]
    }
   ],
   "source": [
    "train_df.info()\n",
    "print('----------------------------------------')\n",
    "test_df.info()"
   ]
  },
  {
   "cell_type": "code",
   "execution_count": null,
   "metadata": {
    "collapsed": true
   },
   "outputs": [],
   "source": []
  }
 ],
 "metadata": {
  "kernelspec": {
   "display_name": "Python 3",
   "language": "python",
   "name": "python3"
  },
  "language_info": {
   "codemirror_mode": {
    "name": "ipython",
    "version": 3
   },
   "file_extension": ".py",
   "mimetype": "text/x-python",
   "name": "python",
   "nbconvert_exporter": "python",
   "pygments_lexer": "ipython3",
   "version": "3.5.1"
  }
 },
 "nbformat": 4,
 "nbformat_minor": 1
}
